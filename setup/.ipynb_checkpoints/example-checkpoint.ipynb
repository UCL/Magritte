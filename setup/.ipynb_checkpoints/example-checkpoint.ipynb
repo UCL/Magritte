{
 "cells": [
  {
   "cell_type": "markdown",
   "metadata": {},
   "source": [
    "## 0) Setup"
   ]
  },
  {
   "cell_type": "markdown",
   "metadata": {},
   "source": [
    "Define paths to relevant folders."
   ]
  },
  {
   "cell_type": "code",
   "execution_count": 1,
   "metadata": {},
   "outputs": [],
   "source": [
    "MagritteFolder = '/home/frederik/Dropbox/Astro/Magritte/modules/Magritte/'\n",
    "ProjectFolder  = '/home/frederik/MagritteProjects/Lines_1D_LTE/'\n",
    "DataFolder     = '/home/frederik/Dropbox/Astro/Data/'"
   ]
  },
  {
   "cell_type": "markdown",
   "metadata": {},
   "source": [
    "Add Magritte's `/setup/` and `/bin/` directories to the Python path."
   ]
  },
  {
   "cell_type": "code",
   "execution_count": 2,
   "metadata": {},
   "outputs": [],
   "source": [
    "from sys import path\n",
    "path.insert (0, f'{MagritteFolder}setup/')\n",
    "path.insert (0, f'{MagritteFolder}bin/')"
   ]
  },
  {
   "cell_type": "markdown",
   "metadata": {},
   "source": [
    "Import Magritte's Python modules and setup."
   ]
  },
  {
   "cell_type": "code",
   "execution_count": 3,
   "metadata": {},
   "outputs": [],
   "source": [
    "from pyMagritte import Model, Long1, Long2, Double1, Double2, String1\n",
    "\n",
    "from setup import Setup, linedata_from_LAMDA_file"
   ]
  },
  {
   "cell_type": "markdown",
   "metadata": {},
   "source": [
    "## 1) Define model"
   ]
  },
  {
   "cell_type": "markdown",
   "metadata": {},
   "source": [
    "Define helper quantities for model."
   ]
  },
  {
   "cell_type": "code",
   "execution_count": 4,
   "metadata": {},
   "outputs": [],
   "source": [
    "dimension = 1\n",
    "ncells    = 20\n",
    "nrays     = 2\n",
    "nspecs    = 5\n",
    "nlspecs   = 1\n",
    "nquads    = 39\n",
    "\n",
    "dens = 1.0E+12   # [m^-3]\n",
    "abun = 1.0E+4    # [m^-3]\n",
    "temp = 1.0E+02   # [K]\n",
    "turb = 0.0E+00   # [m/s]\n",
    "dx   = 1.0E4     # [m]\n",
    "bx   = 1.3E0\n",
    "dT   = 0.0E0     # [K]\n",
    "dv   = 0.0E0     # [m/s]"
   ]
  },
  {
   "cell_type": "code",
   "execution_count": 5,
   "metadata": {},
   "outputs": [],
   "source": [
    "setup = Setup (dimension = dimension)"
   ]
  },
  {
   "cell_type": "markdown",
   "metadata": {},
   "source": [
    "Create a Magritte model object."
   ]
  },
  {
   "cell_type": "code",
   "execution_count": 6,
   "metadata": {},
   "outputs": [],
   "source": [
    "model = Model ()"
   ]
  },
  {
   "cell_type": "markdown",
   "metadata": {},
   "source": [
    "Define model parameters."
   ]
  },
  {
   "cell_type": "code",
   "execution_count": 7,
   "metadata": {},
   "outputs": [],
   "source": [
    "model.parameters.set_ncells  (ncells)\n",
    "model.parameters.set_nrays   (nrays)\n",
    "model.parameters.set_nspecs  (nspecs)\n",
    "model.parameters.set_nlspecs (nlspecs)\n",
    "model.parameters.set_nquads  (nquads)"
   ]
  },
  {
   "cell_type": "markdown",
   "metadata": {},
   "source": [
    "Define geometry. First define cells."
   ]
  },
  {
   "cell_type": "code",
   "execution_count": 8,
   "metadata": {},
   "outputs": [],
   "source": [
    "model.geometry.cells.x  = Double1 ([i*dx for i in range(ncells)])\n",
    "model.geometry.cells.y  = Double1 ([0.0  for i in range(ncells)])\n",
    "model.geometry.cells.z  = Double1 ([0.0  for i in range(ncells)])\n",
    "\n",
    "model.geometry.cells.vx = Double1 ([0.0  for i in range(ncells)])\n",
    "model.geometry.cells.vy = Double1 ([0.0  for i in range(ncells)])\n",
    "model.geometry.cells.vz = Double1 ([0.0  for i in range(ncells)])\n",
    "\n",
    "# Note that the points need to be specified before neighbors can be found\n",
    "model.geometry.cells = setup.neighborLists (model.geometry.cells)"
   ]
  },
  {
   "cell_type": "markdown",
   "metadata": {},
   "source": [
    "Then define the boundary of the geometry."
   ]
  },
  {
   "cell_type": "code",
   "execution_count": 9,
   "metadata": {},
   "outputs": [],
   "source": [
    "model.geometry.boundary.boundary2cell_nr = Long1 ([0, ncells-1])"
   ]
  },
  {
   "cell_type": "markdown",
   "metadata": {},
   "source": [
    "Finally, define the rays for the geometry."
   ]
  },
  {
   "cell_type": "code",
   "execution_count": 10,
   "metadata": {},
   "outputs": [],
   "source": [
    "model.geometry.rays = setup.rays (nrays=nrays)"
   ]
  },
  {
   "cell_type": "markdown",
   "metadata": {},
   "source": [
    "Define thermodynamics."
   ]
  },
  {
   "cell_type": "code",
   "execution_count": 11,
   "metadata": {},
   "outputs": [],
   "source": [
    "model.thermodynamics.temperature.gas   = Double1 ([temp for _ in range(ncells)])\n",
    "model.thermodynamics.turbulence.vturb2 = Double1 ([turb for _ in range(ncells)])"
   ]
  },
  {
   "cell_type": "markdown",
   "metadata": {},
   "source": [
    "Define the chemical species involved."
   ]
  },
  {
   "cell_type": "code",
   "execution_count": 12,
   "metadata": {},
   "outputs": [],
   "source": [
    "model.chemistry.species.abundance = Double2 ([ Double1 ([0.0, abun, dens, 0.0, 1.0]) for _ in range(ncells)])\n",
    "model.chemistry.species.sym       = String1 (['dummy0', 'HCO+', 'H2', 'e-', 'dummy1'])"
   ]
  },
  {
   "cell_type": "markdown",
   "metadata": {},
   "source": [
    "Define the folder containing the linedata."
   ]
  },
  {
   "cell_type": "code",
   "execution_count": 13,
   "metadata": {},
   "outputs": [],
   "source": [
    "linedataFolder = f'{DataFolder}Linedata/hco+.dat'"
   ]
  },
  {
   "cell_type": "markdown",
   "metadata": {},
   "source": [
    "Define the linedata."
   ]
  },
  {
   "cell_type": "code",
   "execution_count": 14,
   "metadata": {},
   "outputs": [],
   "source": [
    "model.lines.linedata.append (linedata_from_LAMDA_file (linedataFolder, model.chemistry.species))"
   ]
  },
  {
   "cell_type": "markdown",
   "metadata": {},
   "source": [
    "Define the quadrature roots and weights."
   ]
  },
  {
   "cell_type": "code",
   "execution_count": 15,
   "metadata": {},
   "outputs": [],
   "source": [
    "import quadrature\n",
    "\n",
    "model.lines.quadrature_roots   = Double1 (quadrature.H_roots   (nquads))\n",
    "model.lines.quadrature_weights = Double1 (quadrature.H_weights (nquads))"
   ]
  },
  {
   "cell_type": "markdown",
   "metadata": {},
   "source": [
    "## 2) Write input file"
   ]
  },
  {
   "cell_type": "code",
   "execution_count": 16,
   "metadata": {},
   "outputs": [],
   "source": [
    "from ioMagritte import IoPython\n",
    "from setup      import model_name"
   ]
  },
  {
   "cell_type": "code",
   "execution_count": 17,
   "metadata": {},
   "outputs": [],
   "source": [
    "modelName = f'{ProjectFolder}{model_name()}.hdf5'"
   ]
  },
  {
   "cell_type": "markdown",
   "metadata": {},
   "source": [
    "Define an io object to handle input and output. (In this case via Python using HDF5.)"
   ]
  },
  {
   "cell_type": "code",
   "execution_count": 18,
   "metadata": {},
   "outputs": [
    {
     "data": {
      "text/plain": [
       "0"
      ]
     },
     "execution_count": 18,
     "metadata": {},
     "output_type": "execute_result"
    }
   ],
   "source": [
    "io = IoPython (\"io_hdf5\", modelName)\n",
    "\n",
    "model.write (io)"
   ]
  },
  {
   "cell_type": "markdown",
   "metadata": {},
   "source": [
    "## 3) Run the model\n",
    "### Option 1: in the notebook"
   ]
  },
  {
   "cell_type": "code",
   "execution_count": 19,
   "metadata": {},
   "outputs": [],
   "source": [
    "from pyMagritte import Simulation, Parameters"
   ]
  },
  {
   "cell_type": "code",
   "execution_count": 20,
   "metadata": {},
   "outputs": [],
   "source": [
    "simulation = Simulation ()\n",
    "parameters = Parameters ()"
   ]
  },
  {
   "cell_type": "code",
   "execution_count": 21,
   "metadata": {},
   "outputs": [
    {
     "data": {
      "text/plain": [
       "0"
      ]
     },
     "execution_count": 21,
     "metadata": {},
     "output_type": "execute_result"
    }
   ],
   "source": [
    "simulation.read (io)"
   ]
  },
  {
   "cell_type": "code",
   "execution_count": 22,
   "metadata": {},
   "outputs": [
    {
     "data": {
      "text/plain": [
       "0"
      ]
     },
     "execution_count": 22,
     "metadata": {},
     "output_type": "execute_result"
    }
   ],
   "source": [
    "simulation.compute_spectral_discretisation ()"
   ]
  },
  {
   "cell_type": "code",
   "execution_count": 23,
   "metadata": {},
   "outputs": [
    {
     "data": {
      "text/plain": [
       "0"
      ]
     },
     "execution_count": 23,
     "metadata": {},
     "output_type": "execute_result"
    }
   ],
   "source": [
    "simulation.compute_boundary_intensities ()"
   ]
  },
  {
   "cell_type": "code",
   "execution_count": 24,
   "metadata": {},
   "outputs": [
    {
     "data": {
      "text/plain": [
       "0"
      ]
     },
     "execution_count": 24,
     "metadata": {},
     "output_type": "execute_result"
    }
   ],
   "source": [
    "simulation.compute_LTE_level_populations ()"
   ]
  },
  {
   "cell_type": "code",
   "execution_count": 25,
   "metadata": {},
   "outputs": [
    {
     "data": {
      "text/plain": [
       "0"
      ]
     },
     "execution_count": 25,
     "metadata": {},
     "output_type": "execute_result"
    }
   ],
   "source": [
    "simulation.compute_radiation_field ()"
   ]
  },
  {
   "cell_type": "code",
   "execution_count": 26,
   "metadata": {},
   "outputs": [
    {
     "data": {
      "text/plain": [
       "0"
      ]
     },
     "execution_count": 26,
     "metadata": {},
     "output_type": "execute_result"
    }
   ],
   "source": [
    "simulation.radiation.write (io)"
   ]
  },
  {
   "cell_type": "markdown",
   "metadata": {},
   "source": [
    "### Option 2: in the shell"
   ]
  },
  {
   "cell_type": "code",
   "execution_count": 27,
   "metadata": {},
   "outputs": [],
   "source": [
    "from subprocess import Popen, PIPE\n",
    "\n",
    "def run(command):\n",
    "    # Run command pipe output\n",
    "    process = Popen(command, stdout=PIPE, shell=True)\n",
    "    # Continuously read output and print\n",
    "    while True:\n",
    "        # Extract output\n",
    "        line = process.stdout.readline().rstrip()\n",
    "        # Break if there is no more line\n",
    "        if not line:\n",
    "            break\n",
    "        # Convert bytelike object to string\n",
    "        line = line.decode(\"utf-8\")\n",
    "        # Output line\n",
    "        print(line)"
   ]
  },
  {
   "cell_type": "code",
   "execution_count": 28,
   "metadata": {},
   "outputs": [],
   "source": [
    "#run(f'{MagritteFolder}bin/example_1.exe {modelName}')"
   ]
  },
  {
   "cell_type": "markdown",
   "metadata": {},
   "source": [
    "## 4) Plot the output"
   ]
  },
  {
   "cell_type": "code",
   "execution_count": 27,
   "metadata": {},
   "outputs": [],
   "source": [
    "def u (r, p, f):\n",
    "    index = simulation.radiation.index (p, f)\n",
    "    return simulation.radiation.u[r][index]"
   ]
  },
  {
   "cell_type": "code",
   "execution_count": 28,
   "metadata": {},
   "outputs": [
    {
     "data": {
      "text/html": [
       "\n",
       "    <div class=\"bk-root\">\n",
       "        <a href=\"https://bokeh.pydata.org\" target=\"_blank\" class=\"bk-logo bk-logo-small bk-logo-notebook\"></a>\n",
       "        <span id=\"1001\">Loading BokehJS ...</span>\n",
       "    </div>"
      ]
     },
     "metadata": {},
     "output_type": "display_data"
    },
    {
     "data": {
      "application/javascript": [
       "\n",
       "(function(root) {\n",
       "  function now() {\n",
       "    return new Date();\n",
       "  }\n",
       "\n",
       "  var force = true;\n",
       "\n",
       "  if (typeof (root._bokeh_onload_callbacks) === \"undefined\" || force === true) {\n",
       "    root._bokeh_onload_callbacks = [];\n",
       "    root._bokeh_is_loading = undefined;\n",
       "  }\n",
       "\n",
       "  var JS_MIME_TYPE = 'application/javascript';\n",
       "  var HTML_MIME_TYPE = 'text/html';\n",
       "  var EXEC_MIME_TYPE = 'application/vnd.bokehjs_exec.v0+json';\n",
       "  var CLASS_NAME = 'output_bokeh rendered_html';\n",
       "\n",
       "  /**\n",
       "   * Render data to the DOM node\n",
       "   */\n",
       "  function render(props, node) {\n",
       "    var script = document.createElement(\"script\");\n",
       "    node.appendChild(script);\n",
       "  }\n",
       "\n",
       "  /**\n",
       "   * Handle when an output is cleared or removed\n",
       "   */\n",
       "  function handleClearOutput(event, handle) {\n",
       "    var cell = handle.cell;\n",
       "\n",
       "    var id = cell.output_area._bokeh_element_id;\n",
       "    var server_id = cell.output_area._bokeh_server_id;\n",
       "    // Clean up Bokeh references\n",
       "    if (id != null && id in Bokeh.index) {\n",
       "      Bokeh.index[id].model.document.clear();\n",
       "      delete Bokeh.index[id];\n",
       "    }\n",
       "\n",
       "    if (server_id !== undefined) {\n",
       "      // Clean up Bokeh references\n",
       "      var cmd = \"from bokeh.io.state import curstate; print(curstate().uuid_to_server['\" + server_id + \"'].get_sessions()[0].document.roots[0]._id)\";\n",
       "      cell.notebook.kernel.execute(cmd, {\n",
       "        iopub: {\n",
       "          output: function(msg) {\n",
       "            var id = msg.content.text.trim();\n",
       "            if (id in Bokeh.index) {\n",
       "              Bokeh.index[id].model.document.clear();\n",
       "              delete Bokeh.index[id];\n",
       "            }\n",
       "          }\n",
       "        }\n",
       "      });\n",
       "      // Destroy server and session\n",
       "      var cmd = \"import bokeh.io.notebook as ion; ion.destroy_server('\" + server_id + \"')\";\n",
       "      cell.notebook.kernel.execute(cmd);\n",
       "    }\n",
       "  }\n",
       "\n",
       "  /**\n",
       "   * Handle when a new output is added\n",
       "   */\n",
       "  function handleAddOutput(event, handle) {\n",
       "    var output_area = handle.output_area;\n",
       "    var output = handle.output;\n",
       "\n",
       "    // limit handleAddOutput to display_data with EXEC_MIME_TYPE content only\n",
       "    if ((output.output_type != \"display_data\") || (!output.data.hasOwnProperty(EXEC_MIME_TYPE))) {\n",
       "      return\n",
       "    }\n",
       "\n",
       "    var toinsert = output_area.element.find(\".\" + CLASS_NAME.split(' ')[0]);\n",
       "\n",
       "    if (output.metadata[EXEC_MIME_TYPE][\"id\"] !== undefined) {\n",
       "      toinsert[toinsert.length - 1].firstChild.textContent = output.data[JS_MIME_TYPE];\n",
       "      // store reference to embed id on output_area\n",
       "      output_area._bokeh_element_id = output.metadata[EXEC_MIME_TYPE][\"id\"];\n",
       "    }\n",
       "    if (output.metadata[EXEC_MIME_TYPE][\"server_id\"] !== undefined) {\n",
       "      var bk_div = document.createElement(\"div\");\n",
       "      bk_div.innerHTML = output.data[HTML_MIME_TYPE];\n",
       "      var script_attrs = bk_div.children[0].attributes;\n",
       "      for (var i = 0; i < script_attrs.length; i++) {\n",
       "        toinsert[toinsert.length - 1].firstChild.setAttribute(script_attrs[i].name, script_attrs[i].value);\n",
       "      }\n",
       "      // store reference to server id on output_area\n",
       "      output_area._bokeh_server_id = output.metadata[EXEC_MIME_TYPE][\"server_id\"];\n",
       "    }\n",
       "  }\n",
       "\n",
       "  function register_renderer(events, OutputArea) {\n",
       "\n",
       "    function append_mime(data, metadata, element) {\n",
       "      // create a DOM node to render to\n",
       "      var toinsert = this.create_output_subarea(\n",
       "        metadata,\n",
       "        CLASS_NAME,\n",
       "        EXEC_MIME_TYPE\n",
       "      );\n",
       "      this.keyboard_manager.register_events(toinsert);\n",
       "      // Render to node\n",
       "      var props = {data: data, metadata: metadata[EXEC_MIME_TYPE]};\n",
       "      render(props, toinsert[toinsert.length - 1]);\n",
       "      element.append(toinsert);\n",
       "      return toinsert\n",
       "    }\n",
       "\n",
       "    /* Handle when an output is cleared or removed */\n",
       "    events.on('clear_output.CodeCell', handleClearOutput);\n",
       "    events.on('delete.Cell', handleClearOutput);\n",
       "\n",
       "    /* Handle when a new output is added */\n",
       "    events.on('output_added.OutputArea', handleAddOutput);\n",
       "\n",
       "    /**\n",
       "     * Register the mime type and append_mime function with output_area\n",
       "     */\n",
       "    OutputArea.prototype.register_mime_type(EXEC_MIME_TYPE, append_mime, {\n",
       "      /* Is output safe? */\n",
       "      safe: true,\n",
       "      /* Index of renderer in `output_area.display_order` */\n",
       "      index: 0\n",
       "    });\n",
       "  }\n",
       "\n",
       "  // register the mime type if in Jupyter Notebook environment and previously unregistered\n",
       "  if (root.Jupyter !== undefined) {\n",
       "    var events = require('base/js/events');\n",
       "    var OutputArea = require('notebook/js/outputarea').OutputArea;\n",
       "\n",
       "    if (OutputArea.prototype.mime_types().indexOf(EXEC_MIME_TYPE) == -1) {\n",
       "      register_renderer(events, OutputArea);\n",
       "    }\n",
       "  }\n",
       "\n",
       "  \n",
       "  if (typeof (root._bokeh_timeout) === \"undefined\" || force === true) {\n",
       "    root._bokeh_timeout = Date.now() + 5000;\n",
       "    root._bokeh_failed_load = false;\n",
       "  }\n",
       "\n",
       "  var NB_LOAD_WARNING = {'data': {'text/html':\n",
       "     \"<div style='background-color: #fdd'>\\n\"+\n",
       "     \"<p>\\n\"+\n",
       "     \"BokehJS does not appear to have successfully loaded. If loading BokehJS from CDN, this \\n\"+\n",
       "     \"may be due to a slow or bad network connection. Possible fixes:\\n\"+\n",
       "     \"</p>\\n\"+\n",
       "     \"<ul>\\n\"+\n",
       "     \"<li>re-rerun `output_notebook()` to attempt to load from CDN again, or</li>\\n\"+\n",
       "     \"<li>use INLINE resources instead, as so:</li>\\n\"+\n",
       "     \"</ul>\\n\"+\n",
       "     \"<code>\\n\"+\n",
       "     \"from bokeh.resources import INLINE\\n\"+\n",
       "     \"output_notebook(resources=INLINE)\\n\"+\n",
       "     \"</code>\\n\"+\n",
       "     \"</div>\"}};\n",
       "\n",
       "  function display_loaded() {\n",
       "    var el = document.getElementById(\"1001\");\n",
       "    if (el != null) {\n",
       "      el.textContent = \"BokehJS is loading...\";\n",
       "    }\n",
       "    if (root.Bokeh !== undefined) {\n",
       "      if (el != null) {\n",
       "        el.textContent = \"BokehJS \" + root.Bokeh.version + \" successfully loaded.\";\n",
       "      }\n",
       "    } else if (Date.now() < root._bokeh_timeout) {\n",
       "      setTimeout(display_loaded, 100)\n",
       "    }\n",
       "  }\n",
       "\n",
       "\n",
       "  function run_callbacks() {\n",
       "    try {\n",
       "      root._bokeh_onload_callbacks.forEach(function(callback) { callback() });\n",
       "    }\n",
       "    finally {\n",
       "      delete root._bokeh_onload_callbacks\n",
       "    }\n",
       "    console.info(\"Bokeh: all callbacks have finished\");\n",
       "  }\n",
       "\n",
       "  function load_libs(js_urls, callback) {\n",
       "    root._bokeh_onload_callbacks.push(callback);\n",
       "    if (root._bokeh_is_loading > 0) {\n",
       "      console.log(\"Bokeh: BokehJS is being loaded, scheduling callback at\", now());\n",
       "      return null;\n",
       "    }\n",
       "    if (js_urls == null || js_urls.length === 0) {\n",
       "      run_callbacks();\n",
       "      return null;\n",
       "    }\n",
       "    console.log(\"Bokeh: BokehJS not loaded, scheduling load and callback at\", now());\n",
       "    root._bokeh_is_loading = js_urls.length;\n",
       "    for (var i = 0; i < js_urls.length; i++) {\n",
       "      var url = js_urls[i];\n",
       "      var s = document.createElement('script');\n",
       "      s.src = url;\n",
       "      s.async = false;\n",
       "      s.onreadystatechange = s.onload = function() {\n",
       "        root._bokeh_is_loading--;\n",
       "        if (root._bokeh_is_loading === 0) {\n",
       "          console.log(\"Bokeh: all BokehJS libraries loaded\");\n",
       "          run_callbacks()\n",
       "        }\n",
       "      };\n",
       "      s.onerror = function() {\n",
       "        console.warn(\"failed to load library \" + url);\n",
       "      };\n",
       "      console.log(\"Bokeh: injecting script tag for BokehJS library: \", url);\n",
       "      document.getElementsByTagName(\"head\")[0].appendChild(s);\n",
       "    }\n",
       "  };var element = document.getElementById(\"1001\");\n",
       "  if (element == null) {\n",
       "    console.log(\"Bokeh: ERROR: autoload.js configured with elementid '1001' but no matching script tag was found. \")\n",
       "    return false;\n",
       "  }\n",
       "\n",
       "  var js_urls = [\"https://cdn.pydata.org/bokeh/release/bokeh-1.0.0.min.js\", \"https://cdn.pydata.org/bokeh/release/bokeh-widgets-1.0.0.min.js\", \"https://cdn.pydata.org/bokeh/release/bokeh-tables-1.0.0.min.js\", \"https://cdn.pydata.org/bokeh/release/bokeh-gl-1.0.0.min.js\"];\n",
       "\n",
       "  var inline_js = [\n",
       "    function(Bokeh) {\n",
       "      Bokeh.set_log_level(\"info\");\n",
       "    },\n",
       "    \n",
       "    function(Bokeh) {\n",
       "      \n",
       "    },\n",
       "    function(Bokeh) {\n",
       "      console.log(\"Bokeh: injecting CSS: https://cdn.pydata.org/bokeh/release/bokeh-1.0.0.min.css\");\n",
       "      Bokeh.embed.inject_css(\"https://cdn.pydata.org/bokeh/release/bokeh-1.0.0.min.css\");\n",
       "      console.log(\"Bokeh: injecting CSS: https://cdn.pydata.org/bokeh/release/bokeh-widgets-1.0.0.min.css\");\n",
       "      Bokeh.embed.inject_css(\"https://cdn.pydata.org/bokeh/release/bokeh-widgets-1.0.0.min.css\");\n",
       "      console.log(\"Bokeh: injecting CSS: https://cdn.pydata.org/bokeh/release/bokeh-tables-1.0.0.min.css\");\n",
       "      Bokeh.embed.inject_css(\"https://cdn.pydata.org/bokeh/release/bokeh-tables-1.0.0.min.css\");\n",
       "    }\n",
       "  ];\n",
       "\n",
       "  function run_inline_js() {\n",
       "    \n",
       "    if ((root.Bokeh !== undefined) || (force === true)) {\n",
       "      for (var i = 0; i < inline_js.length; i++) {\n",
       "        inline_js[i].call(root, root.Bokeh);\n",
       "      }if (force === true) {\n",
       "        display_loaded();\n",
       "      }} else if (Date.now() < root._bokeh_timeout) {\n",
       "      setTimeout(run_inline_js, 100);\n",
       "    } else if (!root._bokeh_failed_load) {\n",
       "      console.log(\"Bokeh: BokehJS failed to load within specified timeout.\");\n",
       "      root._bokeh_failed_load = true;\n",
       "    } else if (force !== true) {\n",
       "      var cell = $(document.getElementById(\"1001\")).parents('.cell').data().cell;\n",
       "      cell.output_area.append_execute_result(NB_LOAD_WARNING)\n",
       "    }\n",
       "\n",
       "  }\n",
       "\n",
       "  if (root._bokeh_is_loading === 0) {\n",
       "    console.log(\"Bokeh: BokehJS loaded, going straight to plotting\");\n",
       "    run_inline_js();\n",
       "  } else {\n",
       "    load_libs(js_urls, function() {\n",
       "      console.log(\"Bokeh: BokehJS plotting callback run at\", now());\n",
       "      run_inline_js();\n",
       "    });\n",
       "  }\n",
       "}(window));"
      ],
      "application/vnd.bokehjs_load.v0+json": "\n(function(root) {\n  function now() {\n    return new Date();\n  }\n\n  var force = true;\n\n  if (typeof (root._bokeh_onload_callbacks) === \"undefined\" || force === true) {\n    root._bokeh_onload_callbacks = [];\n    root._bokeh_is_loading = undefined;\n  }\n\n  \n\n  \n  if (typeof (root._bokeh_timeout) === \"undefined\" || force === true) {\n    root._bokeh_timeout = Date.now() + 5000;\n    root._bokeh_failed_load = false;\n  }\n\n  var NB_LOAD_WARNING = {'data': {'text/html':\n     \"<div style='background-color: #fdd'>\\n\"+\n     \"<p>\\n\"+\n     \"BokehJS does not appear to have successfully loaded. If loading BokehJS from CDN, this \\n\"+\n     \"may be due to a slow or bad network connection. Possible fixes:\\n\"+\n     \"</p>\\n\"+\n     \"<ul>\\n\"+\n     \"<li>re-rerun `output_notebook()` to attempt to load from CDN again, or</li>\\n\"+\n     \"<li>use INLINE resources instead, as so:</li>\\n\"+\n     \"</ul>\\n\"+\n     \"<code>\\n\"+\n     \"from bokeh.resources import INLINE\\n\"+\n     \"output_notebook(resources=INLINE)\\n\"+\n     \"</code>\\n\"+\n     \"</div>\"}};\n\n  function display_loaded() {\n    var el = document.getElementById(\"1001\");\n    if (el != null) {\n      el.textContent = \"BokehJS is loading...\";\n    }\n    if (root.Bokeh !== undefined) {\n      if (el != null) {\n        el.textContent = \"BokehJS \" + root.Bokeh.version + \" successfully loaded.\";\n      }\n    } else if (Date.now() < root._bokeh_timeout) {\n      setTimeout(display_loaded, 100)\n    }\n  }\n\n\n  function run_callbacks() {\n    try {\n      root._bokeh_onload_callbacks.forEach(function(callback) { callback() });\n    }\n    finally {\n      delete root._bokeh_onload_callbacks\n    }\n    console.info(\"Bokeh: all callbacks have finished\");\n  }\n\n  function load_libs(js_urls, callback) {\n    root._bokeh_onload_callbacks.push(callback);\n    if (root._bokeh_is_loading > 0) {\n      console.log(\"Bokeh: BokehJS is being loaded, scheduling callback at\", now());\n      return null;\n    }\n    if (js_urls == null || js_urls.length === 0) {\n      run_callbacks();\n      return null;\n    }\n    console.log(\"Bokeh: BokehJS not loaded, scheduling load and callback at\", now());\n    root._bokeh_is_loading = js_urls.length;\n    for (var i = 0; i < js_urls.length; i++) {\n      var url = js_urls[i];\n      var s = document.createElement('script');\n      s.src = url;\n      s.async = false;\n      s.onreadystatechange = s.onload = function() {\n        root._bokeh_is_loading--;\n        if (root._bokeh_is_loading === 0) {\n          console.log(\"Bokeh: all BokehJS libraries loaded\");\n          run_callbacks()\n        }\n      };\n      s.onerror = function() {\n        console.warn(\"failed to load library \" + url);\n      };\n      console.log(\"Bokeh: injecting script tag for BokehJS library: \", url);\n      document.getElementsByTagName(\"head\")[0].appendChild(s);\n    }\n  };var element = document.getElementById(\"1001\");\n  if (element == null) {\n    console.log(\"Bokeh: ERROR: autoload.js configured with elementid '1001' but no matching script tag was found. \")\n    return false;\n  }\n\n  var js_urls = [\"https://cdn.pydata.org/bokeh/release/bokeh-1.0.0.min.js\", \"https://cdn.pydata.org/bokeh/release/bokeh-widgets-1.0.0.min.js\", \"https://cdn.pydata.org/bokeh/release/bokeh-tables-1.0.0.min.js\", \"https://cdn.pydata.org/bokeh/release/bokeh-gl-1.0.0.min.js\"];\n\n  var inline_js = [\n    function(Bokeh) {\n      Bokeh.set_log_level(\"info\");\n    },\n    \n    function(Bokeh) {\n      \n    },\n    function(Bokeh) {\n      console.log(\"Bokeh: injecting CSS: https://cdn.pydata.org/bokeh/release/bokeh-1.0.0.min.css\");\n      Bokeh.embed.inject_css(\"https://cdn.pydata.org/bokeh/release/bokeh-1.0.0.min.css\");\n      console.log(\"Bokeh: injecting CSS: https://cdn.pydata.org/bokeh/release/bokeh-widgets-1.0.0.min.css\");\n      Bokeh.embed.inject_css(\"https://cdn.pydata.org/bokeh/release/bokeh-widgets-1.0.0.min.css\");\n      console.log(\"Bokeh: injecting CSS: https://cdn.pydata.org/bokeh/release/bokeh-tables-1.0.0.min.css\");\n      Bokeh.embed.inject_css(\"https://cdn.pydata.org/bokeh/release/bokeh-tables-1.0.0.min.css\");\n    }\n  ];\n\n  function run_inline_js() {\n    \n    if ((root.Bokeh !== undefined) || (force === true)) {\n      for (var i = 0; i < inline_js.length; i++) {\n        inline_js[i].call(root, root.Bokeh);\n      }if (force === true) {\n        display_loaded();\n      }} else if (Date.now() < root._bokeh_timeout) {\n      setTimeout(run_inline_js, 100);\n    } else if (!root._bokeh_failed_load) {\n      console.log(\"Bokeh: BokehJS failed to load within specified timeout.\");\n      root._bokeh_failed_load = true;\n    } else if (force !== true) {\n      var cell = $(document.getElementById(\"1001\")).parents('.cell').data().cell;\n      cell.output_area.append_execute_result(NB_LOAD_WARNING)\n    }\n\n  }\n\n  if (root._bokeh_is_loading === 0) {\n    console.log(\"Bokeh: BokehJS loaded, going straight to plotting\");\n    run_inline_js();\n  } else {\n    load_libs(js_urls, function() {\n      console.log(\"Bokeh: BokehJS plotting callback run at\", now());\n      run_inline_js();\n    });\n  }\n}(window));"
     },
     "metadata": {},
     "output_type": "display_data"
    }
   ],
   "source": [
    "from bokeh.plotting import figure, show, gridplot\n",
    "from bokeh.palettes import cividis\n",
    "from bokeh.io       import output_notebook\n",
    "output_notebook()"
   ]
  },
  {
   "cell_type": "code",
   "execution_count": 29,
   "metadata": {},
   "outputs": [],
   "source": [
    "def color(s):\n",
    "    ns = int((s_max-s_min) / s_step + 1)\n",
    "    es = int((s    -s_min) / s_step)\n",
    "    return cividis(ns)[es]\n",
    "\n",
    "def legend(s):\n",
    "    return f'{s}'"
   ]
  },
  {
   "cell_type": "code",
   "execution_count": 30,
   "metadata": {},
   "outputs": [],
   "source": [
    "s_min  = 0\n",
    "s_max  = ncells\n",
    "s_step = 2"
   ]
  },
  {
   "cell_type": "markdown",
   "metadata": {},
   "source": [
    "#### Plot of the spectrum"
   ]
  },
  {
   "cell_type": "code",
   "execution_count": 31,
   "metadata": {},
   "outputs": [
    {
     "data": {
      "text/html": [
       "\n",
       "\n",
       "\n",
       "\n",
       "\n",
       "\n",
       "  <div class=\"bk-root\" id=\"cbe7467e-8c65-4456-b2a3-9334c7d8d960\"></div>\n"
      ]
     },
     "metadata": {},
     "output_type": "display_data"
    },
    {
     "data": {
      "application/javascript": [
       "(function(root) {\n",
       "  function embed_document(root) {\n",
       "    \n",
       "  var docs_json = {\"8f6f005a-48a2-4788-8f26-5f51b1fc0e8d\":{\"roots\":{\"references\":[{\"attributes\":{\"below\":[{\"id\":\"1011\",\"type\":\"LinearAxis\"}],\"left\":[{\"id\":\"1016\",\"type\":\"LogAxis\"}],\"plot_height\":500,\"plot_width\":700,\"renderers\":[{\"id\":\"1011\",\"type\":\"LinearAxis\"},{\"id\":\"1015\",\"type\":\"Grid\"},{\"id\":\"1016\",\"type\":\"LogAxis\"},{\"id\":\"1020\",\"type\":\"Grid\"},{\"id\":\"1029\",\"type\":\"BoxAnnotation\"},{\"id\":\"1048\",\"type\":\"Legend\"},{\"id\":\"1039\",\"type\":\"GlyphRenderer\"},{\"id\":\"1053\",\"type\":\"GlyphRenderer\"},{\"id\":\"1068\",\"type\":\"GlyphRenderer\"},{\"id\":\"1085\",\"type\":\"GlyphRenderer\"},{\"id\":\"1104\",\"type\":\"GlyphRenderer\"},{\"id\":\"1125\",\"type\":\"GlyphRenderer\"},{\"id\":\"1148\",\"type\":\"GlyphRenderer\"},{\"id\":\"1173\",\"type\":\"GlyphRenderer\"},{\"id\":\"1200\",\"type\":\"GlyphRenderer\"},{\"id\":\"1229\",\"type\":\"GlyphRenderer\"}],\"title\":{\"id\":\"1041\",\"type\":\"Title\"},\"toolbar\":{\"id\":\"1027\",\"type\":\"Toolbar\"},\"x_range\":{\"id\":\"1003\",\"type\":\"DataRange1d\"},\"x_scale\":{\"id\":\"1007\",\"type\":\"LinearScale\"},\"y_range\":{\"id\":\"1005\",\"type\":\"DataRange1d\"},\"y_scale\":{\"id\":\"1009\",\"type\":\"LogScale\"}},\"id\":\"1002\",\"subtype\":\"Figure\",\"type\":\"Plot\"},{\"attributes\":{\"callback\":null,\"data\":{\"x\":[89185458945.30998,89185722850.1516,89185942335.43849,89186139071.3327,89186321324.60689,89186493356.39754,89186657728.15976,89186816134.9098,89186969775.93051,89187119543.36707,89187266127.74292,89187410081.38301,89187551858.76454,89187691843.42485,89187830366.6522,89187967720.9619,89188104170.1701,89188239957.21043,89188375310.44925,89188510449.02515,89188645587.60104,89188780940.83986,89188916727.88019,89189053177.0884,89189190531.39809,89189329054.62544,89189469039.28575,89189610816.66728,89189754770.30737,89189901354.68323,89190051122.11978,89190204763.14049,89190363169.89053,89190527541.65276,89190699573.4434,89190881826.71759,89191078562.6118,89191298047.8987,89191561952.74031,178368940557.2012,178369468361.0334,178369907326.741,178370300794.16757,178370665296.6752,178371009356.44235,178371338096.3225,178371654906.31058,178371962184.9456,178372261716.4982,178372554882.0,178372842786.0886,178373126337.70828,178373406303.9253,178373683347.3088,178373958052.8829,178374230948.27408,178374502519.3442,178374773222.82092,178375043496.97656,178375313771.1322,178375584474.60892,178375856045.67905,178376128941.07022,178376403646.64432,178376680690.02783,178376960656.24484,178377244207.86453,178377532111.95312,178377825277.45493,178378124809.00754,178378432087.64255,178378748897.6306,178379077637.51077,178379421697.27792,178379786199.78555,178380179667.21213,178380618632.91974,178381146436.75192,267548467652.14603,267549259343.26712,267549917779.66336,267550507969.89896,267551054713.55887,267551570793.6746,267552063894.38437,267552539100.5866,267553000010.02344,267553449299.0514,267553889039.17947,267554320887.33362,267554746206.90503,267555166148.47177,267555581705.8693,267555993756.6174,267556403092.1414,267556810441.22046,267557216488.93344,267557621892.67673,267558027296.42,267558433344.133,267558840693.21207,267559250028.73605,267559662079.48416,267560077636.88168,267560497578.44843,267560922898.01984,267561354746.17398,267561794486.30206,267562243775.33002,267562704684.76685,267563179890.9691,267563672991.67886,267564189071.7946,267564735815.4545,267565326005.6901,267565984442.08633,267566776133.20743,356722062836.7694,356723118397.6266,356723996290.11304,356724783190.0723,356725512162.76245,356726200251.78455,356726857702.39124,356727491294.2717,356728105824.29144,356728704860.8333,356729291165.83813,356729866948.48315,356730434026.57635,356730993934.1822,356731547996.3802,356732097383.1666,356732643149.74786,356733186267.8044,356733727650.75104,356734268175.0936,356734808699.4362,356735350082.3829,356735893200.4394,356736438967.0206,356736988353.80707,356737542416.00507,356738102323.6109,356738669401.7041,356739245184.3491,356739831489.35394,356740430525.8958,356741045055.9155,356741678647.796,356742336098.4027,356743024187.4248,356743753160.1149,356744540060.0742,356745417952.56067,356746473513.41785,445887748807.6304,445889068214.8198,445890165543.9319,445891149136.1678,445892060321.72546,445892920404.39764,445893742190.32434,445894534153.8351,445895302290.81226,445896051061.58636,445896783918.4683,445897503622.838,445898212446.8799,445898912308.1105,445899604862.8244,445900291573.46826,445900973759.00604,445901652633.99805,445902329340.17487,445903004973.13226,445903680606.08966,445904357312.2665,445905036187.2585,445905718372.79626,445906405083.4401,445907097638.15405,445907797499.38464,445908506323.4265,445909226027.7962,445909958884.67816,445910707655.4523,445911475792.42944,445912267755.9402,445913089541.8669,445913949624.53906,445914860810.09674,445915844402.33264,445916941731.4447,445918261138.63416,535043548411.18024,535045131635.4476,535046448376.8549,535047628639.55896,535048722017.781,535049754075.0333,535050740178.059,535051690495.64044,535052612222.54376,535053510710.94806,535054390103.45807,535055253713.5949,535056104267.869,535056944067.207,535057775099.08124,535058599118.35645,535059417707.72516,535060232324.60046,535061044339.00323,535061855065.59515,535062665792.1871,535063477806.58984,535064292423.46515,535065111012.83386,535065935032.1091,535066766063.98334,535067605863.3213,535068456417.5954,535069320027.73224,535070199420.24225,535071097908.64655,535072019635.54987,535072969953.1313,535073956056.157,535074988113.4093,535076081491.63135,535077261754.3354,535078578495.74274,535080161720.0101,624187484164.1082,624189331170.3477,624190867294.8535,624192244201.8549,624193519748.4972,624194723757.4451,624195874155.7045,624196982806.2844,624198058102.6759,624199106288.7877,624200132197.4264,624201139694.181,624202131959.8276,624203111678.6515,624204081169.259,624205042478.8943,624205997453.9427,624206947794.6383,624207895099.2618,624208840901.5115,624209786703.7611,624210734008.3846,624211684349.0802,624212639324.1287,624213600633.7639,624214570124.3715,624215549843.1953,624216542108.8419,624217549605.5966,624218575514.2352,624219623700.347,624220698996.7385,624221807647.3185,624222958045.5779,624224162054.5258,624225437601.1681,624226814508.1694,624228350632.6753,624230197638.9148,713317578942.8441,713319689690.0995,713321445163.6411,713323018684.4078,713324476371.1859,713325852305.1313,713327166973.1149,713328433932.1099,713329662774.1455,713330860634.7218,713332033036.7404,713333184397.7722,713334318352.7883,713335437969.3734,713336545897.2166,713337644475.8951,713338735815.4475,713339821858.8901,713340904432.7284,713341985289.6632,713343066146.598,713344148720.4363,713345234763.8789,713346326103.4313,713347424682.1099,713348532609.953,713349652226.5381,713350786181.5542,713351937542.586,713353109944.6046,713354307805.1809,713355536647.2166,713356803606.2115,713358118274.1951,713359494208.1405,713360951894.9186,713362525415.6853,713364280889.2269,713366391636.4823,802431855354.012,802434229795.4758,802436204579.1241,802437974678.7622,802439614473.3507,802441162301.7812,802442641210.3352,802444066449.6494,802445448810.0785,802446796318.5559,802448115187.9554,802449410387.7322,802450686006.9716,802451945496.4894,802453191836.9989,802454427660.3591,802455655340.2141,802456877062.32,802458094881.3661,802459310769.0172,802460526656.6683,802461744475.7145,802462966197.8203,802464193877.6753,802465429701.0355,802466676041.545,802467935531.0629,802469211150.3022,802470506350.079,802471825219.4785,802473172727.9559,802474555088.385,802475980327.6992,802477459236.2532,802479007064.6837,802480646859.2722,802482416958.9103,802484391742.5586,802486766184.0225,891528336124.15,891530974207.164,891533168257.124,891535134896.3777,891536956762.4108,891538676450.9999,891540319567.3264,891541903055.352,891543438903.518,891544936030.0126,891546401337.5442,891547840347.3419,891549257602.515,891550656937.0339,891552041662.5695,891553414703.2043,891554778696.1354,891556136069.81,891557489107.0565,891558839998.459,891560190889.8615,891561543927.1079,891562901300.7826,891564265293.7136,891565638334.3485,891567023059.884,891568422394.403,891569839649.576,891571278659.3738,891572743966.9054,891574241093.4,891575776941.5659,891577360429.5916,891579003545.9181,891580723234.5072,891582545100.5403,891584511739.794,891586705789.754,891589343872.768,980605043979.7953,980607945645.8502,980610358913.4609,980612522048.7126,980614525945.7837,980616417456.3911,980618224744.048,980619966445.6654,980621655747.505,980623302458.8125,980624914171.9778,980626496959.8812,980628055819.5552,980629594968.0397,980631118047.8899,980632628275.3472,980634128551.1028,980635621546.2417,980637109771.6796,980638595636.8726,980640081502.0656,980641569727.5034,980643062722.6423,980644562998.398,980646073225.8552,980647596305.7054,980649135454.19,980650694313.8639,980652277101.7673,980653888814.9326,980655535526.2401,980657224828.0797,980658966529.6971,980660773817.354,980662665327.9614,980664669225.0325,980666832360.2842,980669245627.8949,980672147293.9498,1069660001617.5104,1069663166802.2461,1069665799233.9801,1069668158817.2507,1069670344700.9125,1069672407991.5837,1069674379410.4845,1069676279287.0621,1069678122005.1061,1069679918264.7018,1069681676347.7522,1069683402878.6544,1069685103308.253,1069686782236.5642,1069688443636.9467,1069690091017.7289,1069691727543.0323,1069693356126.5201,1069694979507.1403,1069696600313.1665,1069698221119.1927,1069699844499.8129,1069701473083.3007,1069703109608.6041,1069704756989.3864,1069706418389.7688,1069708097318.08,1069709797747.6786,1069711524278.5808,1069713282361.6312,1069715078621.2269,1069716921339.2709,1069718821215.8485,1069720792634.7493,1069722855925.4205,1069725041809.0823,1069727401392.3529,1069730033824.0869,1069733199008.8226,1158691231763.8252,1158694660397.0308,1158697511934.4949,1158700067913.4436,1158702435735.208,1158704670760.1746,1158706806266.5889,1158708864275.9832,1158710860369.3555,1158712806137.3943,1158714710551.3315,1158716580786.9343,1158718422748.7383,1158720241419.6335,1158722041103.6946,1158723825601.259,1158725598339.8086,1158727362475.5195,1158729120975.3115,1158730876686.218,1158732632397.1245,1158734390896.9165,1158736155032.6274,1158737927771.177,1158739712268.7415,1158741511952.8025,1158743330623.6978,1158745172585.5017,1158747042821.1045,1158748947235.0417,1158750893003.0806,1158752889096.453,1158754947105.8472,1158757082612.2615,1158759317637.228,1158761685458.9924,1158764241437.9412,1158767092975.4053,1158770521608.6108,1247696757085.3298,1247700449090.943,1247703519670.8777,1247706271988.8015,1247708821696.1404,1247711228405.8196,1247713527952.3726,1247715744048.9275,1247717893473.3467,1247719988706.6628,1247722039409.2388,1247724053308.052,1247726036761.1985,1247727995134.332,1247729933062.1467,1247731854636.9055,1247733763549.374,1247735663198.1719,1247737556778.1245,1247739447354.962,1247741337931.7993,1247743231511.752,1247745131160.5498,1247747040073.0183,1247748961647.777,1247750899575.5918,1247752857948.7253,1247754841401.8718,1247756855300.685,1247758906003.261,1247761001236.5771,1247763150660.9963,1247765366757.5513,1247767666304.1042,1247770073013.7834,1247772622721.1223,1247775375039.0461,1247778445618.9807,1247782137624.594,1336674600338.5334,1336678555634.6418,1336681845188.9216,1336684793784.756,1336687525321.0999,1336690103662.0955,1336692567197.7678,1336694941332.3164,1336697244040.0938,1336699488692.2014,1336701685637.918,1336703843155.2603,1336705968055.7434,1336708066087.6655,1336710142216.238,1336712200825.558,1336714245869.5933,1336716280989.3315,1336718309607.433,1336720335008.2559,1336722360409.0786,1336724389027.1802,1336726424146.9185,1336728469190.9536,1336730527800.2737,1336732603928.8462,1336734701960.7683,1336736826861.2515,1336738984378.5938,1336741181324.3103,1336743425976.418,1336745728684.1953,1336748102818.744,1336750566354.4163,1336753144695.4119,1336755876231.7556,1336758824827.59,1336762114381.8699,1336766069677.9783,1425622784160.046,1425627002658.8853,1425630511114.518,1425633655922.8372,1425636569227.576,1425639319142.677,1425641946612.8057,1425644478732.6682,1425646934672.709,1425649328693.8018,1425651671833.9111,1425653972921.9092,1425656239222.5796,1425658476866.7373,1425660691150.0005,1425662886748.2034,1425665067878.4277,1425667238423.9492,1425669402035.1865,1425671562215.0532,1425673722394.92,1425675886006.1572,1425678056551.6787,1425680237681.903,1425682433280.106,1425684647563.3691,1425686885207.5269,1425689151508.1973,1425691452596.1953,1425693795736.3047,1425696189757.3975,1425698645697.4382,1425701177817.3008,1425703805287.4294,1425706555202.5305,1425709468507.2693,1425712613315.5884,1425716121771.2212,1425720340270.0605,1514539331366.3335,1514543812974.2893,1514547540253.4175,1514550881204.4333,1514553976212.9167,1514556897641.0986,1514559688987.3765,1514562379036.3613,1514564988154.1648,1514567531491.116,1514570020773.62,1514572465381.21,1514574873031.775,1514577250238.5117,1514579602627.3274,1514581935165.6895,1514584252333.7012,1514586558256.8381,1514588856813.1975,1514591151724.1707,1514593446635.1438,1514595745191.5032,1514598051114.6401,1514600368282.6519,1514602700821.014,1514605053209.8296,1514607430416.5664,1514609838067.1313,1514612282674.7212,1514614771957.2253,1514617315294.1765,1514619924411.98,1514622614460.9648,1514625405807.2427,1514628327235.4246,1514631422243.908,1514634763194.9238,1514638490474.052,1514642972082.0078,1603422264594.0015,1603427009211.6082,1603430955231.508,1603434492251.0708,1603437768894.6077,1603440861771.0317,1603443816931.5066,1603446664849.9106,1603449427087.5696,1603452119683.9316,1603454755053.5833,1603457343126.5083,1603459892073.5322,1603462408790.088,1603464899232.2466,1603467368658.9995,1603469821813.37,1603472263062.9448,1603474696513.4116,1603477126104.5576,1603479555695.7036,1603481989146.1704,1603484430395.745,1603486883550.1157,1603489352976.8687,1603491843419.0273,1603494360135.583,1603496909082.607,1603499497155.532,1603502132525.1836,1603504825121.5457,1603507587359.2046,1603510435277.6086,1603513390438.0835,1603516483314.5076,1603519759958.0444,1603523296977.6072,1603527242997.507,1603531987615.1138,1692269606509.6301,1692274614031.5708,1692278778704.652,1692282511714.2505,1692285969920.1086,1692289234176.122,1692292353085.1982,1692295358809.8057,1692298274106.0066,1692301115902.0115,1692303897300.3132,1692306628781.126,1692309318968.0295,1692311975138.54,1692314603578.7615,1692317209839.0908,1692319798925.368,1692322375447.1917,1692324943737.7502,1692327507955.1392,1692330072172.528,1692332640463.0867,1692335216984.9104,1692337806071.1875,1692340412331.5168,1692343040771.7383,1692345696942.2488,1692348387129.1523,1692351118609.965,1692353900008.2668,1692356741804.2717,1692359657100.4727,1692362662825.08,1692365781734.1562,1692369045990.1697,1692372504196.0278,1692376237205.6262,1692380401878.7075,1692385409400.6482,1781079379899.72,1781084650214.8274,1781089033448.6338,1781092962365.3945,1781096602056.8018,1781100037619.9375,1781103320208.375,1781106483672.4587,1781109551962.4817,1781112542895.0415,1781115470260.2458,1781118345088.3074,1781121176455.3682,1781123972020.8665,1781126738400.7988,1781129481436.8455,1781132206397.551,1781134918134.4246,1781137621208.0588,1781140319994.765,1781143018781.471,1781145721855.1052,1781148433591.9788,1781151158552.6843,1781153901588.731,1781156667968.6633,1781159463534.1616,1781162294901.2224,1781165169729.284,1781168097094.4883,1781171088027.048,1781174156317.071,1781177319781.1548,1781180602369.5923,1781184037932.728,1781187677624.1353,1781191606540.896,1781195989774.7024,1781201260089.8098],\"y\":[2.746234423937187e-18,2.7462426902047363e-18,2.746249565101558e-18,2.7462557274071602e-18,2.7462614360638653e-18,2.746266824545676e-18,2.746271973177164e-18,2.7462769392126696e-18,2.7462818804957844e-18,2.746289129162364e-18,2.746328878272362e-18,2.7466768506835303e-18,2.7491114407372975e-18,2.7617341994489935e-18,2.810185239256688e-18,2.9478428201204805e-18,3.234696538003596e-18,3.66086284618589e-18,4.07589459547434e-18,4.251906953109723e-18,4.0759070223558455e-18,3.660885253362334e-18,3.2347263774179926e-18,2.9478792403769763e-18,2.8102288044108525e-18,2.7617857596550476e-18,2.7491715499124648e-18,2.746745790868078e-18,2.746406827963367e-18,2.7463762604518707e-18,2.746378393664174e-18,2.746383076988828e-18,2.7463880341073095e-18,2.7463931822992427e-18,2.746398570491891e-18,2.7464042788192067e-18,2.746410440739714e-18,2.7464173151707113e-18,2.746425580827608e-18,3.782177282286349e-18,3.782174116888288e-18,3.782171484217235e-18,3.782169124371678e-18,3.7821669382048696e-18,3.7821648746291974e-18,3.7821629042756705e-18,3.782161068387629e-18,3.782161132456594e-18,3.7821971831939615e-18,3.782715688875731e-18,3.787796511688563e-18,3.823754968436582e-18,4.010444723988012e-18,4.72676901097117e-18,6.7581707405602154e-18,1.0972738683081279e-17,1.7188009399064824e-17,2.318815457822076e-17,2.5717110242543336e-17,2.3188209110689953e-17,1.7188083269369683e-17,1.0972794068906004e-17,6.758193875484924e-18,4.726767101423428e-18,4.010429275609156e-18,3.823732861632695e-18,3.78777024693699e-18,3.782685846101838e-18,3.782163808615477e-18,3.782124162921205e-18,3.782120412055285e-18,3.7821184468524e-18,3.782116472982479e-18,3.782114408526642e-18,3.782112221389804e-18,3.782109860410424e-18,3.78210722636785e-18,3.7821040591718545e-18,2.5628528533488448e-18,2.5628395519310172e-18,2.562828489366842e-18,2.562818573428169e-18,2.5628093874503203e-18,2.562800716740751e-18,2.5627924382306848e-18,2.5627847414558572e-18,2.5627855145245094e-18,2.56294698448564e-18,2.565262987624676e-18,2.587953216114825e-18,2.7485293341721342e-18,3.582028324558165e-18,6.77732607570593e-18,1.5814467975106516e-17,3.4449395191475076e-17,6.164897987064704e-17,8.758945664366879e-17,9.842960783301608e-17,8.758969157380735e-17,6.164930249398557e-17,3.444964134376032e-17,1.5814573971109996e-17,6.777321818722249e-18,3.581964549340871e-18,2.748436706298946e-18,2.5878429176565355e-18,2.5651376248517687e-18,2.562806781016418e-18,2.5626302086262077e-18,2.5626139476150335e-18,2.5626056763251142e-18,2.5625973854832697e-18,2.562588714678724e-18,2.562579528774763e-18,2.562569612923802e-18,2.5625585504657347e-18,2.5625452491870032e-18,1.2544372032835331e-18,1.2544249790484225e-18,1.2544148124207523e-18,1.2544056996032659e-18,1.2543972576661817e-18,1.2543892894364789e-18,1.25438169234326e-18,1.2543751205657946e-18,1.254390698677833e-18,1.2548341371466914e-18,1.2610183712566373e-18,1.3214921979660745e-18,1.7493633194892495e-18,3.969745970054241e-18,1.2473889831246069e-17,3.645816142210048e-17,8.559808693720656e-17,1.5655360160310634e-16,2.2336810843017455e-16,2.510397218828254e-16,2.2336873141507245e-16,1.5655448246357403e-16,8.559880232436631e-17,3.645853632441798e-17,1.2473997657250573e-17,3.969720009850951e-18,1.7492851734978463e-18,1.3213919252960034e-18,1.2609032910599371e-18,1.254705306870486e-18,1.2542479808689123e-18,1.2542181696012941e-18,1.2542100675081216e-18,1.254202438196485e-18,1.254194470443385e-18,1.2541860295413704e-18,1.2541769179375852e-18,1.254166752778076e-18,1.254154530467582e-18,5.088680599337351e-19,5.088607500601783e-19,5.088546706292653e-19,5.08849221378184e-19,5.088441733196215e-19,5.088394088344619e-19,5.088348886693672e-19,5.0883201023842695e-19,5.0887249280898905e-19,5.0975617213705885e-19,5.219565013254253e-19,6.41177376986325e-19,1.484616758759235e-18,5.860666819908782e-18,2.2608130440446783e-17,6.973015234276508e-17,1.6576011297259134e-16,3.031824840830271e-16,4.31220150237272e-16,4.838535201176966e-16,4.3122135330281116e-16,3.031842128968831e-16,1.6576155564341226e-16,6.973095558420855e-17,2.2608428738111196e-17,5.860719679826562e-18,1.4845846444718824e-18,6.411196950273922e-19,5.218879450126468e-19,5.096791588733184e-19,5.087871563620296e-19,5.087381620579268e-19,5.087322662648664e-19,5.087276818591917e-19,5.087229174851177e-19,5.08717870515395e-19,5.087124225443174e-19,5.087063446617739e-19,5.08699036817981e-19,1.8287376729689635e-19,1.8287029203563784e-19,1.828674017650483e-19,1.828648111036408e-19,1.828624111876979e-19,1.8286014656613697e-19,1.8285803435439678e-19,1.828583691072846e-19,1.8292810930449308e-19,1.843502822572752e-19,2.0392514578930007e-19,3.951686776956621e-19,1.7480823681962668e-18,8.766612427823987e-18,3.561419355840348e-17,1.1104492759740916e-16,2.6425715690971003e-16,4.822958858325559e-16,6.841188002672883e-16,7.66702319870181e-16,6.841206980779485e-16,4.822986353647958e-16,2.642594778672524e-16,1.1104624537713688e-16,3.5614713868486005e-17,8.766748311735028e-18,1.7480907719588433e-18,3.9514494247582046e-19,2.0389296836341255e-19,1.8431370353977957e-19,1.8288754271907843e-19,1.8281375436064562e-19,1.8280924833431578e-19,1.8280703229097015e-19,1.8280476695497628e-19,1.8280236776030673e-19,1.8279977795336079e-19,1.8279688871640384e-19,1.827934148101377e-19,6.042009209687498e-20,6.0418663362033e-20,6.041747513144812e-20,6.041641007852138e-20,6.041542345148387e-20,6.041449309322549e-20,6.04136749288651e-20,6.041613987803126e-20,6.051380892256488e-20,6.24677495690064e-20,8.933764786206667e-20,3.5183608641089755e-19,2.2088067486769e-18,1.1841941501104822e-17,4.868649445795437e-17,1.52165994174522e-16,3.6217141116783103e-16,6.606082256652587e-16,9.363865029504471e-16,1.04909847540465e-15,9.363890971282868e-16,6.606119922017527e-16,3.621746005361336e-16,1.5216781499697187e-16,4.868722557514558e-17,1.1842148701730304e-17,2.208842547641046e-18,3.5183136620790367e-19,8.932498535523574e-20,6.245275723283905e-20,6.049713473028479e-20,6.039779913741704e-20,6.039361931672912e-20,6.03926581616006e-20,6.039172628385387e-20,6.039074002784843e-20,6.038967542405206e-20,6.038848773680797e-20,6.038705971423336e-20,1.8770035441939877e-20,1.8769504431814082e-20,1.8769062810552196e-20,1.876866697138476e-20,1.8768300286876202e-20,1.876795528934068e-20,1.876771138015398e-20,1.877141788010364e-20,1.889044379233357e-20,2.125835100755466e-20,5.381227790463648e-20,3.7183389842479013e-19,2.621604706190518e-18,1.4293003635975076e-17,5.894268358338946e-17,1.844221355081066e-16,4.394399720750219e-16,8.027142079293214e-16,1.1393585385683175e-15,1.277220950554795e-15,1.139361710875189e-15,8.027188017317636e-16,4.3944385240560953e-16,1.8442434934219914e-16,5.894357588245555e-17,1.429326212345001e-17,2.6216567914008128e-18,3.7183818360609317e-19,5.380824987061578e-20,2.1252833060909424e-20,1.888424987327843e-20,1.876460174877767e-20,1.8760257820050313e-20,1.8759840452019345e-20,1.8759493359311067e-20,1.8759126832220653e-20,1.8758731195675046e-20,1.8758289819578325e-20,1.8757759130840552e-20,5.56347897705046e-21,5.563295752726036e-21,5.56314337257428e-21,5.563006789937376e-21,5.562880273337852e-21,5.5627620701896944e-21,5.562742524551183e-21,5.567017965731459e-21,5.696925419988487e-21,8.276957065307115e-21,4.374431092133137e-20,3.902264600299627e-19,2.841384363549662e-18,1.5558975561192212e-17,6.423318081954296e-17,2.0121327858716192e-16,4.80487634742553e-16,8.804339358647628e-16,1.2533915759548194e-15,1.406799780413688e-15,1.2533951017693303e-15,8.804390103994549e-16,4.804918945151072e-16,2.0121569943392658e-16,6.423415592996656e-17,1.5559259695133207e-17,2.8414439827052776e-18,3.9023442422617044e-19,4.374364913441548e-20,8.275111062524033e-21,5.694791504623671e-21,5.564666309400489e-21,5.560170822276644e-21,5.559962204474475e-21,5.559841615393795e-21,5.559715151682929e-21,5.5595786511171324e-21,5.559426370313151e-21,5.5592432762242295e-21,1.5891691385948424e-21,1.5891094245571906e-21,1.5890597630581742e-21,1.589015250239007e-21,1.588974023895493e-21,1.588936317857883e-21,1.5889930597374096e-21,1.5933133332914957e-21,1.722424201379826e-21,4.285290947647803e-21,3.95158082481937e-20,3.8368496759195604e-19,2.8185454310717694e-18,1.5453436813655505e-17,6.383997863340973e-17,2.0025802874940343e-16,4.795391004624289e-16,8.822797390591247e-16,1.2609313711321705e-15,1.4175818946253174e-15,1.2609349654560532e-15,8.822848706889885e-16,4.795433727019726e-16,2.002604434132669e-16,6.384094906889573e-17,1.545371989269817e-17,2.8186055432129774e-18,3.836938980569755e-19,3.951630366906366e-20,4.2847458666931635e-21,1.7217318818660224e-21,1.5925470665345816e-21,1.5881549713089741e-21,1.5880238707121953e-21,1.5879837568028567e-21,1.5879425394873115e-21,1.5878980573234568e-21,1.5878484329770536e-21,1.5877887676430025e-21,4.405966073331474e-22,4.405780067429899e-22,4.405625375294983e-22,4.405486721633712e-22,4.405358357310586e-22,4.405248234006042e-22,4.405991270493069e-22,4.445711056711695e-22,5.626484857009503e-22,2.9061036480587603e-21,3.512022539355772e-20,3.4982307919151234e-19,2.5762847153861232e-18,1.4131554510487115e-17,5.841146517280922e-17,1.834912399437769e-16,4.4068187894473554e-16,8.142985692028259e-16,1.1686256229944194e-15,1.3161098790079532e-15,1.1686290009270498e-15,8.143033508751429e-16,4.4068582506770244e-16,1.834934572141514e-16,5.841235387568305e-17,1.4131813657984587e-17,2.57633994534385e-18,3.498315451937462e-19,3.512101775704419e-20,2.905984574744926e-21,5.624356260849217e-22,4.4433253226745525e-22,4.4033808318041445e-22,4.402406160640704e-22,4.40227389146301e-22,4.402145461777951e-22,4.402006915488546e-22,4.401852353881292e-22,4.401666519089821e-22,1.1919458742722547e-22,1.1918900234230911e-22,1.1918435751664375e-22,1.1918019429633983e-22,1.191763443351954e-22,1.1917364563157765e-22,1.1924293470497612e-22,1.226142643862711e-22,2.2266020356504936e-22,2.208137711201633e-21,2.950128396360414e-20,2.961315697865778e-19,2.182539072356908e-18,1.1974345725020926e-17,4.951854113569363e-17,1.5576020124306597e-16,3.7510249498027544e-16,6.959135588007839e-16,1.002617633537127e-15,1.131004192500083e-15,1.0026205691375889e-15,6.959176814918117e-16,3.7510586968265625e-16,1.5576208709676326e-16,4.951929505341317e-17,1.1974565413275321e-17,2.182585941841035e-18,2.9613882739040544e-19,2.9502051188132043e-20,2.208144025926153e-21,2.225986014151842e-22,1.2254271773135724e-22,1.1916455872049473e-22,1.1908831290707868e-22,1.1908373379156714e-22,1.1907987355754835e-22,1.1907571389804037e-22,1.1907107343440833e-22,1.1906549406777448e-22,3.1591072876358935e-23,3.1589446073486523e-23,3.1588093151675735e-23,3.158688052525669e-23,3.158576246612446e-23,3.1585445954075475e-23,3.164191729943581e-23,3.430686415508144e-23,1.1334254801056859e-22,1.6818271512284427e-21,2.324281302351403e-20,2.3387550337388364e-19,1.7241333605088218e-18,9.460568327762333e-18,3.9138417865562736e-17,1.2324484340853768e-16,2.9747661992466504e-16,5.537635047779559e-16,8.004346365446436e-16,9.041816575052435e-16,8.004370054201228e-16,5.537668095537474e-16,2.9747930674467804e-16,1.232463380025804e-16,3.9139014065571533e-17,9.460741936596408e-18,1.7241704082420763e-18,2.3388125996968115e-19,2.3243445366990636e-20,1.681861485213109e-21,1.1332638898954222e-22,3.4286090733469287e-23,3.1619090944271514e-23,3.156059186450768e-23,3.155878860904212e-23,3.155766098735744e-23,3.1556449481852556e-23,3.155509795919357e-23,3.155347299053528e-23,8.228617553496554e-24,8.228155655889594e-24,8.227771522899667e-24,8.22742723316149e-24,8.227112185822773e-24,8.22736056397593e-24,8.269535835885576e-24,1.0238537917663677e-23,6.862149754094537e-23,1.22723907477549e-21,1.7154035266507026e-20,1.7274579187745873e-19,1.2735995726849868e-18,6.98903471117579e-18,2.892233525717296e-17,9.115207129757769e-17,2.2040215564873754e-16,4.113602345960087e-16,5.961108664781341e-16,6.740995949654497e-16,5.961126452735444e-16,4.1136270346425836e-16,2.2040415234019676e-16,9.115317807784639e-17,2.892277601169329e-17,6.989162982473077e-18,1.2736269456336391e-18,1.7275005037835057e-19,1.7154509342449383e-20,1.2272722308420705e-21,6.86181943787202e-23,1.023268710259378e-23,8.263056192126915e-24,8.220304131174124e-24,8.21945390398322e-24,8.21913136878303e-24,8.218787411155214e-24,8.218403711845866e-24,8.217942382797304e-24,2.111674848594661e-24,2.1115465241515864e-24,2.1114398047465634e-24,2.1113441603926868e-24,2.1112582554731603e-24,2.1115557284707955e-24,2.1409302534300697e-24,3.5068456995037605e-24,4.400435346299938e-23,8.47680666307232e-22,1.1895320198153072e-20,1.1982189042166771e-19,8.834408905127376e-19,4.848275918527115e-18,2.006763683057474e-17,6.328376349341152e-17,1.532107673995067e-16,2.8648994708784025e-16,4.1591677177625734e-16,4.706948577514539e-16,4.159180202016985e-16,2.864916734823638e-16,1.5321215837539033e-16,6.328453257578667e-17,2.006794273315667e-17,4.848364907299504e-18,8.834598796487487e-19,1.1982484594557486e-19,1.1895650851688668e-20,8.47705688484914e-22,4.400430353741492e-23,3.5052521035471414e-24,2.1391309143302497e-24,2.1095954212671174e-24,2.10913074081533e-24,2.1090395215568084e-24,2.1089439668306883e-24,2.10883737800255e-24,2.108709224764323e-24,5.349841095253461e-25,5.349491197304525e-25,5.349200210375556e-25,5.348939457058e-25,5.348715502157005e-25,5.3509753878816915e-25,5.543040144001999e-25,1.4460218844360758e-24,2.788338646489584e-23,5.525344905778912e-22,7.764588081723021e-21,7.822064075302621e-20,5.767264254767603e-19,3.1651647997675607e-18,1.3102894339153342e-17,4.1337033184969454e-17,1.0016205784170612e-16,1.8752926539440313e-16,2.725826441285583e-16,3.08643453980638e-16,2.725834655469105e-16,1.875303985084675e-16,1.0016296850789721e-16,4.13375358490357e-17,1.3103094111963682e-17,3.1652228984537643e-18,5.767388224080665e-19,7.822257057100326e-20,7.764804396726569e-21,5.525513392908126e-22,2.788392309333725e-23,1.4456075479548016e-24,5.538138912526327e-25,5.345630625903839e-25,5.3429147792564e-25,5.342655800020959e-25,5.342395244119978e-25,5.34210464065406e-25,5.341755245591304e-25,1.3402556458182017e-25,1.340161779470303e-25,1.3400837174113209e-25,1.3400137870551925e-25,1.3399598412423743e-25,1.3414307763064402e-25,1.4597834140833765e-25,6.951214556112226e-25,1.6975730597419385e-23,3.4006527491898906e-22,4.781377235758259e-21,4.816950856022652e-20,3.551601023053763e-19,1.949220560474444e-18,8.069950385755153e-18,2.546558266147463e-17,6.173741419400668e-17,1.1567988732994369e-16,1.6827605453357876e-16,1.9060030888464613e-16,1.6827656288392603e-16,1.1568058749473118e-16,6.173797601467637e-17,2.546589244214035e-17,8.070073438577427e-18,1.9492563408031625e-18,3.551677367251592e-19,4.817069707967785e-20,4.7815105610243625e-21,3.400757787564442e-22,1.6976202954493107e-23,6.950223413816965e-25,1.458471452131065e-25,1.3399970621401051e-25,1.3384037746618623e-25,1.3383281711775593e-25,1.3382582582680518e-25,1.3381803063972204e-25,1.338086584620433e-25,3.324801666591874e-26,3.324553413285172e-26,3.324346959450697e-26,3.324162129386604e-26,3.324053949129363e-26,3.332806782278878e-26,4.021630164604143e-26,3.597384269498682e-25,9.832654590609731e-24,1.978231416971771e-22,2.7820120799786233e-21,2.802751982756638e-20,2.0665141452759226e-19,1.1341781704725276e-18,4.69585059795885e-18,1.482049395219136e-17,3.594135799666225e-17,6.73764087957365e-17,9.805538716996048e-17,1.1108549170123807e-16,9.805568382337079e-17,6.737681700959156e-17,3.594168524464556e-17,1.4820674278677734e-17,4.695922206616299e-18,1.1341989900726019e-18,2.066558566834718e-19,2.80282113960789e-20,2.782089683707847e-21,1.978292847619205e-22,9.832964191436053e-24,3.597189819713808e-25,4.018176345850659e-26,3.32901537915866e-26,3.319938750922737e-26,3.319704321226574e-26,3.3195193194191274e-26,3.3193131761741824e-26,3.319065330748062e-26,8.176715668801542e-27,8.176067286506341e-27,8.175528078214908e-27,8.175045968596558e-27,8.174946658119194e-27,8.223638520239017e-27,1.2019104316119115e-26,1.880577202495697e-25,5.4070862741535254e-24,1.0897895681535046e-22,1.532717421404708e-21,1.5441533553386904e-20,1.1385314675979322e-19,6.248723968043548e-19,2.587243288402999e-18,8.166245969828603e-18,1.980756153757856e-17,3.714143640690282e-17,5.406720663399979e-17,6.125862643935563e-17,5.406737034151463e-17,3.714166156294132e-17,1.9807741940738378e-17,8.166345343916096e-18,2.587282743728275e-18,6.24883867420176e-19,1.1385559414407364e-19,1.5441914573754345e-20,1.5327601833449411e-21,1.0898234886498628e-22,5.4072652388714045e-24,1.8805623672466625e-25,1.2010168205240562e-26,8.213737906604221e-27,8.1641992396032e-27,8.163403766272155e-27,8.162920007110846e-27,8.162381659202277e-27,8.161734408795006e-27,1.995517680489949e-27,1.995350210114354e-27,1.9952109392395083e-27,1.9950867279223788e-27,1.9951529385233516e-27,2.0206800033391205e-27,4.001902005900625e-27,9.588870777850557e-26,2.820060007594947e-24,5.688136753147669e-23,8.000287431822252e-22,8.060000811215027e-21,5.942786729652051e-20,3.261656713692256e-19,1.3504890056714518e-18,4.262808080438875e-18,1.0340585165708082e-17,1.9392488189293783e-17,2.8233719943863173e-17,3.1990913353571664e-17,2.82338054687096e-17,1.9392605784221625e-17,1.0340679360660786e-17,4.262859957466516e-18,1.3505096009889755e-18,3.2617165873667645e-19,5.942914475887203e-20,8.060199693515481e-21,8.000510652015448e-22,5.688313987694507e-23,2.8201554161740937e-24,9.589012686814513e-26,3.999636148528428e-27,2.0181234996266887e-27,1.9923771397250593e-27,1.9920798231735386e-27,1.991954573468191e-27,1.9918155371228158e-27,1.9916483762852306e-27]},\"selected\":{\"id\":\"1281\",\"type\":\"Selection\"},\"selection_policy\":{\"id\":\"1282\",\"type\":\"UnionRenderers\"}},\"id\":\"1226\",\"type\":\"ColumnDataSource\"},{\"attributes\":{\"line_color\":\"#1f77b4\",\"x\":{\"field\":\"x\"},\"y\":{\"field\":\"y\"}},\"id\":\"1227\",\"type\":\"Line\"},{\"attributes\":{\"line_alpha\":0.1,\"line_color\":\"#1f77b4\",\"x\":{\"field\":\"x\"},\"y\":{\"field\":\"y\"}},\"id\":\"1228\",\"type\":\"Line\"},{\"attributes\":{\"data_source\":{\"id\":\"1226\",\"type\":\"ColumnDataSource\"},\"glyph\":{\"id\":\"1227\",\"type\":\"Line\"},\"hover_glyph\":null,\"muted_glyph\":null,\"nonselection_glyph\":{\"id\":\"1228\",\"type\":\"Line\"},\"selection_glyph\":null,\"view\":{\"id\":\"1230\",\"type\":\"CDSView\"}},\"id\":\"1229\",\"type\":\"GlyphRenderer\"},{\"attributes\":{\"source\":{\"id\":\"1226\",\"type\":\"ColumnDataSource\"}},\"id\":\"1230\",\"type\":\"CDSView\"},{\"attributes\":{},\"id\":\"1253\",\"type\":\"Selection\"},{\"attributes\":{},\"id\":\"1254\",\"type\":\"UnionRenderers\"},{\"attributes\":{\"label\":{\"value\":\"18\"},\"renderers\":[{\"id\":\"1229\",\"type\":\"GlyphRenderer\"}]},\"id\":\"1256\",\"type\":\"LegendItem\"},{\"attributes\":{},\"id\":\"1281\",\"type\":\"Selection\"},{\"attributes\":{\"line_color\":\"#1f77b4\",\"x\":{\"field\":\"x\"},\"y\":{\"field\":\"y\"}},\"id\":\"1037\",\"type\":\"Line\"},{\"attributes\":{},\"id\":\"1282\",\"type\":\"UnionRenderers\"},{\"attributes\":{},\"id\":\"1118\",\"type\":\"Selection\"},{\"attributes\":{\"data_source\":{\"id\":\"1036\",\"type\":\"ColumnDataSource\"},\"glyph\":{\"id\":\"1037\",\"type\":\"Line\"},\"hover_glyph\":null,\"muted_glyph\":null,\"nonselection_glyph\":{\"id\":\"1038\",\"type\":\"Line\"},\"selection_glyph\":null,\"view\":{\"id\":\"1040\",\"type\":\"CDSView\"}},\"id\":\"1039\",\"type\":\"GlyphRenderer\"},{\"attributes\":{\"source\":{\"id\":\"1036\",\"type\":\"ColumnDataSource\"}},\"id\":\"1040\",\"type\":\"CDSView\"},{\"attributes\":{},\"id\":\"1044\",\"type\":\"BasicTickFormatter\"},{\"attributes\":{},\"id\":\"1119\",\"type\":\"UnionRenderers\"},{\"attributes\":{\"ticker\":null},\"id\":\"1046\",\"type\":\"LogTickFormatter\"},{\"attributes\":{\"label\":{\"value\":\"8\"},\"renderers\":[{\"id\":\"1104\",\"type\":\"GlyphRenderer\"}]},\"id\":\"1121\",\"type\":\"LegendItem\"},{\"attributes\":{\"items\":[{\"id\":\"1049\",\"type\":\"LegendItem\"},{\"id\":\"1064\",\"type\":\"LegendItem\"},{\"id\":\"1081\",\"type\":\"LegendItem\"},{\"id\":\"1100\",\"type\":\"LegendItem\"},{\"id\":\"1121\",\"type\":\"LegendItem\"},{\"id\":\"1144\",\"type\":\"LegendItem\"},{\"id\":\"1169\",\"type\":\"LegendItem\"},{\"id\":\"1196\",\"type\":\"LegendItem\"},{\"id\":\"1225\",\"type\":\"LegendItem\"},{\"id\":\"1256\",\"type\":\"LegendItem\"}],\"plot\":{\"id\":\"1002\",\"subtype\":\"Figure\",\"type\":\"Plot\"}},\"id\":\"1048\",\"type\":\"Legend\"},{\"attributes\":{\"callback\":null,\"data\":{\"x\":[89185458945.30998,89185722850.1516,89185942335.43849,89186139071.3327,89186321324.60689,89186493356.39754,89186657728.15976,89186816134.9098,89186969775.93051,89187119543.36707,89187266127.74292,89187410081.38301,89187551858.76454,89187691843.42485,89187830366.6522,89187967720.9619,89188104170.1701,89188239957.21043,89188375310.44925,89188510449.02515,89188645587.60104,89188780940.83986,89188916727.88019,89189053177.0884,89189190531.39809,89189329054.62544,89189469039.28575,89189610816.66728,89189754770.30737,89189901354.68323,89190051122.11978,89190204763.14049,89190363169.89053,89190527541.65276,89190699573.4434,89190881826.71759,89191078562.6118,89191298047.8987,89191561952.74031,178368940557.2012,178369468361.0334,178369907326.741,178370300794.16757,178370665296.6752,178371009356.44235,178371338096.3225,178371654906.31058,178371962184.9456,178372261716.4982,178372554882.0,178372842786.0886,178373126337.70828,178373406303.9253,178373683347.3088,178373958052.8829,178374230948.27408,178374502519.3442,178374773222.82092,178375043496.97656,178375313771.1322,178375584474.60892,178375856045.67905,178376128941.07022,178376403646.64432,178376680690.02783,178376960656.24484,178377244207.86453,178377532111.95312,178377825277.45493,178378124809.00754,178378432087.64255,178378748897.6306,178379077637.51077,178379421697.27792,178379786199.78555,178380179667.21213,178380618632.91974,178381146436.75192,267548467652.14603,267549259343.26712,267549917779.66336,267550507969.89896,267551054713.55887,267551570793.6746,267552063894.38437,267552539100.5866,267553000010.02344,267553449299.0514,267553889039.17947,267554320887.33362,267554746206.90503,267555166148.47177,267555581705.8693,267555993756.6174,267556403092.1414,267556810441.22046,267557216488.93344,267557621892.67673,267558027296.42,267558433344.133,267558840693.21207,267559250028.73605,267559662079.48416,267560077636.88168,267560497578.44843,267560922898.01984,267561354746.17398,267561794486.30206,267562243775.33002,267562704684.76685,267563179890.9691,267563672991.67886,267564189071.7946,267564735815.4545,267565326005.6901,267565984442.08633,267566776133.20743,356722062836.7694,356723118397.6266,356723996290.11304,356724783190.0723,356725512162.76245,356726200251.78455,356726857702.39124,356727491294.2717,356728105824.29144,356728704860.8333,356729291165.83813,356729866948.48315,356730434026.57635,356730993934.1822,356731547996.3802,356732097383.1666,356732643149.74786,356733186267.8044,356733727650.75104,356734268175.0936,356734808699.4362,356735350082.3829,356735893200.4394,356736438967.0206,356736988353.80707,356737542416.00507,356738102323.6109,356738669401.7041,356739245184.3491,356739831489.35394,356740430525.8958,356741045055.9155,356741678647.796,356742336098.4027,356743024187.4248,356743753160.1149,356744540060.0742,356745417952.56067,356746473513.41785,445887748807.6304,445889068214.8198,445890165543.9319,445891149136.1678,445892060321.72546,445892920404.39764,445893742190.32434,445894534153.8351,445895302290.81226,445896051061.58636,445896783918.4683,445897503622.838,445898212446.8799,445898912308.1105,445899604862.8244,445900291573.46826,445900973759.00604,445901652633.99805,445902329340.17487,445903004973.13226,445903680606.08966,445904357312.2665,445905036187.2585,445905718372.79626,445906405083.4401,445907097638.15405,445907797499.38464,445908506323.4265,445909226027.7962,445909958884.67816,445910707655.4523,445911475792.42944,445912267755.9402,445913089541.8669,445913949624.53906,445914860810.09674,445915844402.33264,445916941731.4447,445918261138.63416,535043548411.18024,535045131635.4476,535046448376.8549,535047628639.55896,535048722017.781,535049754075.0333,535050740178.059,535051690495.64044,535052612222.54376,535053510710.94806,535054390103.45807,535055253713.5949,535056104267.869,535056944067.207,535057775099.08124,535058599118.35645,535059417707.72516,535060232324.60046,535061044339.00323,535061855065.59515,535062665792.1871,535063477806.58984,535064292423.46515,535065111012.83386,535065935032.1091,535066766063.98334,535067605863.3213,535068456417.5954,535069320027.73224,535070199420.24225,535071097908.64655,535072019635.54987,535072969953.1313,535073956056.157,535074988113.4093,535076081491.63135,535077261754.3354,535078578495.74274,535080161720.0101,624187484164.1082,624189331170.3477,624190867294.8535,624192244201.8549,624193519748.4972,624194723757.4451,624195874155.7045,624196982806.2844,624198058102.6759,624199106288.7877,624200132197.4264,624201139694.181,624202131959.8276,624203111678.6515,624204081169.259,624205042478.8943,624205997453.9427,624206947794.6383,624207895099.2618,624208840901.5115,624209786703.7611,624210734008.3846,624211684349.0802,624212639324.1287,624213600633.7639,624214570124.3715,624215549843.1953,624216542108.8419,624217549605.5966,624218575514.2352,624219623700.347,624220698996.7385,624221807647.3185,624222958045.5779,624224162054.5258,624225437601.1681,624226814508.1694,624228350632.6753,624230197638.9148,713317578942.8441,713319689690.0995,713321445163.6411,713323018684.4078,713324476371.1859,713325852305.1313,713327166973.1149,713328433932.1099,713329662774.1455,713330860634.7218,713332033036.7404,713333184397.7722,713334318352.7883,713335437969.3734,713336545897.2166,713337644475.8951,713338735815.4475,713339821858.8901,713340904432.7284,713341985289.6632,713343066146.598,713344148720.4363,713345234763.8789,713346326103.4313,713347424682.1099,713348532609.953,713349652226.5381,713350786181.5542,713351937542.586,713353109944.6046,713354307805.1809,713355536647.2166,713356803606.2115,713358118274.1951,713359494208.1405,713360951894.9186,713362525415.6853,713364280889.2269,713366391636.4823,802431855354.012,802434229795.4758,802436204579.1241,802437974678.7622,802439614473.3507,802441162301.7812,802442641210.3352,802444066449.6494,802445448810.0785,802446796318.5559,802448115187.9554,802449410387.7322,802450686006.9716,802451945496.4894,802453191836.9989,802454427660.3591,802455655340.2141,802456877062.32,802458094881.3661,802459310769.0172,802460526656.6683,802461744475.7145,802462966197.8203,802464193877.6753,802465429701.0355,802466676041.545,802467935531.0629,802469211150.3022,802470506350.079,802471825219.4785,802473172727.9559,802474555088.385,802475980327.6992,802477459236.2532,802479007064.6837,802480646859.2722,802482416958.9103,802484391742.5586,802486766184.0225,891528336124.15,891530974207.164,891533168257.124,891535134896.3777,891536956762.4108,891538676450.9999,891540319567.3264,891541903055.352,891543438903.518,891544936030.0126,891546401337.5442,891547840347.3419,891549257602.515,891550656937.0339,891552041662.5695,891553414703.2043,891554778696.1354,891556136069.81,891557489107.0565,891558839998.459,891560190889.8615,891561543927.1079,891562901300.7826,891564265293.7136,891565638334.3485,891567023059.884,891568422394.403,891569839649.576,891571278659.3738,891572743966.9054,891574241093.4,891575776941.5659,891577360429.5916,891579003545.9181,891580723234.5072,891582545100.5403,891584511739.794,891586705789.754,891589343872.768,980605043979.7953,980607945645.8502,980610358913.4609,980612522048.7126,980614525945.7837,980616417456.3911,980618224744.048,980619966445.6654,980621655747.505,980623302458.8125,980624914171.9778,980626496959.8812,980628055819.5552,980629594968.0397,980631118047.8899,980632628275.3472,980634128551.1028,980635621546.2417,980637109771.6796,980638595636.8726,980640081502.0656,980641569727.5034,980643062722.6423,980644562998.398,980646073225.8552,980647596305.7054,980649135454.19,980650694313.8639,980652277101.7673,980653888814.9326,980655535526.2401,980657224828.0797,980658966529.6971,980660773817.354,980662665327.9614,980664669225.0325,980666832360.2842,980669245627.8949,980672147293.9498,1069660001617.5104,1069663166802.2461,1069665799233.9801,1069668158817.2507,1069670344700.9125,1069672407991.5837,1069674379410.4845,1069676279287.0621,1069678122005.1061,1069679918264.7018,1069681676347.7522,1069683402878.6544,1069685103308.253,1069686782236.5642,1069688443636.9467,1069690091017.7289,1069691727543.0323,1069693356126.5201,1069694979507.1403,1069696600313.1665,1069698221119.1927,1069699844499.8129,1069701473083.3007,1069703109608.6041,1069704756989.3864,1069706418389.7688,1069708097318.08,1069709797747.6786,1069711524278.5808,1069713282361.6312,1069715078621.2269,1069716921339.2709,1069718821215.8485,1069720792634.7493,1069722855925.4205,1069725041809.0823,1069727401392.3529,1069730033824.0869,1069733199008.8226,1158691231763.8252,1158694660397.0308,1158697511934.4949,1158700067913.4436,1158702435735.208,1158704670760.1746,1158706806266.5889,1158708864275.9832,1158710860369.3555,1158712806137.3943,1158714710551.3315,1158716580786.9343,1158718422748.7383,1158720241419.6335,1158722041103.6946,1158723825601.259,1158725598339.8086,1158727362475.5195,1158729120975.3115,1158730876686.218,1158732632397.1245,1158734390896.9165,1158736155032.6274,1158737927771.177,1158739712268.7415,1158741511952.8025,1158743330623.6978,1158745172585.5017,1158747042821.1045,1158748947235.0417,1158750893003.0806,1158752889096.453,1158754947105.8472,1158757082612.2615,1158759317637.228,1158761685458.9924,1158764241437.9412,1158767092975.4053,1158770521608.6108,1247696757085.3298,1247700449090.943,1247703519670.8777,1247706271988.8015,1247708821696.1404,1247711228405.8196,1247713527952.3726,1247715744048.9275,1247717893473.3467,1247719988706.6628,1247722039409.2388,1247724053308.052,1247726036761.1985,1247727995134.332,1247729933062.1467,1247731854636.9055,1247733763549.374,1247735663198.1719,1247737556778.1245,1247739447354.962,1247741337931.7993,1247743231511.752,1247745131160.5498,1247747040073.0183,1247748961647.777,1247750899575.5918,1247752857948.7253,1247754841401.8718,1247756855300.685,1247758906003.261,1247761001236.5771,1247763150660.9963,1247765366757.5513,1247767666304.1042,1247770073013.7834,1247772622721.1223,1247775375039.0461,1247778445618.9807,1247782137624.594,1336674600338.5334,1336678555634.6418,1336681845188.9216,1336684793784.756,1336687525321.0999,1336690103662.0955,1336692567197.7678,1336694941332.3164,1336697244040.0938,1336699488692.2014,1336701685637.918,1336703843155.2603,1336705968055.7434,1336708066087.6655,1336710142216.238,1336712200825.558,1336714245869.5933,1336716280989.3315,1336718309607.433,1336720335008.2559,1336722360409.0786,1336724389027.1802,1336726424146.9185,1336728469190.9536,1336730527800.2737,1336732603928.8462,1336734701960.7683,1336736826861.2515,1336738984378.5938,1336741181324.3103,1336743425976.418,1336745728684.1953,1336748102818.744,1336750566354.4163,1336753144695.4119,1336755876231.7556,1336758824827.59,1336762114381.8699,1336766069677.9783,1425622784160.046,1425627002658.8853,1425630511114.518,1425633655922.8372,1425636569227.576,1425639319142.677,1425641946612.8057,1425644478732.6682,1425646934672.709,1425649328693.8018,1425651671833.9111,1425653972921.9092,1425656239222.5796,1425658476866.7373,1425660691150.0005,1425662886748.2034,1425665067878.4277,1425667238423.9492,1425669402035.1865,1425671562215.0532,1425673722394.92,1425675886006.1572,1425678056551.6787,1425680237681.903,1425682433280.106,1425684647563.3691,1425686885207.5269,1425689151508.1973,1425691452596.1953,1425693795736.3047,1425696189757.3975,1425698645697.4382,1425701177817.3008,1425703805287.4294,1425706555202.5305,1425709468507.2693,1425712613315.5884,1425716121771.2212,1425720340270.0605,1514539331366.3335,1514543812974.2893,1514547540253.4175,1514550881204.4333,1514553976212.9167,1514556897641.0986,1514559688987.3765,1514562379036.3613,1514564988154.1648,1514567531491.116,1514570020773.62,1514572465381.21,1514574873031.775,1514577250238.5117,1514579602627.3274,1514581935165.6895,1514584252333.7012,1514586558256.8381,1514588856813.1975,1514591151724.1707,1514593446635.1438,1514595745191.5032,1514598051114.6401,1514600368282.6519,1514602700821.014,1514605053209.8296,1514607430416.5664,1514609838067.1313,1514612282674.7212,1514614771957.2253,1514617315294.1765,1514619924411.98,1514622614460.9648,1514625405807.2427,1514628327235.4246,1514631422243.908,1514634763194.9238,1514638490474.052,1514642972082.0078,1603422264594.0015,1603427009211.6082,1603430955231.508,1603434492251.0708,1603437768894.6077,1603440861771.0317,1603443816931.5066,1603446664849.9106,1603449427087.5696,1603452119683.9316,1603454755053.5833,1603457343126.5083,1603459892073.5322,1603462408790.088,1603464899232.2466,1603467368658.9995,1603469821813.37,1603472263062.9448,1603474696513.4116,1603477126104.5576,1603479555695.7036,1603481989146.1704,1603484430395.745,1603486883550.1157,1603489352976.8687,1603491843419.0273,1603494360135.583,1603496909082.607,1603499497155.532,1603502132525.1836,1603504825121.5457,1603507587359.2046,1603510435277.6086,1603513390438.0835,1603516483314.5076,1603519759958.0444,1603523296977.6072,1603527242997.507,1603531987615.1138,1692269606509.6301,1692274614031.5708,1692278778704.652,1692282511714.2505,1692285969920.1086,1692289234176.122,1692292353085.1982,1692295358809.8057,1692298274106.0066,1692301115902.0115,1692303897300.3132,1692306628781.126,1692309318968.0295,1692311975138.54,1692314603578.7615,1692317209839.0908,1692319798925.368,1692322375447.1917,1692324943737.7502,1692327507955.1392,1692330072172.528,1692332640463.0867,1692335216984.9104,1692337806071.1875,1692340412331.5168,1692343040771.7383,1692345696942.2488,1692348387129.1523,1692351118609.965,1692353900008.2668,1692356741804.2717,1692359657100.4727,1692362662825.08,1692365781734.1562,1692369045990.1697,1692372504196.0278,1692376237205.6262,1692380401878.7075,1692385409400.6482,1781079379899.72,1781084650214.8274,1781089033448.6338,1781092962365.3945,1781096602056.8018,1781100037619.9375,1781103320208.375,1781106483672.4587,1781109551962.4817,1781112542895.0415,1781115470260.2458,1781118345088.3074,1781121176455.3682,1781123972020.8665,1781126738400.7988,1781129481436.8455,1781132206397.551,1781134918134.4246,1781137621208.0588,1781140319994.765,1781143018781.471,1781145721855.1052,1781148433591.9788,1781151158552.6843,1781153901588.731,1781156667968.6633,1781159463534.1616,1781162294901.2224,1781165169729.284,1781168097094.4883,1781171088027.048,1781174156317.071,1781177319781.1548,1781180602369.5923,1781184037932.728,1781187677624.1353,1781191606540.896,1781195989774.7024,1781201260089.8098],\"y\":[2.746234423937187e-18,2.7462426902047363e-18,2.746249565101558e-18,2.7462557274071602e-18,2.7462614360638653e-18,2.746266824545679e-18,2.746271973177164e-18,2.74627693921267e-18,2.7462818804957882e-18,2.746289129162378e-18,2.7463288782747097e-18,2.7466768509218337e-18,2.7491114536924285e-18,2.7617345896768154e-18,2.810191928048082e-18,2.947909430286152e-18,3.2350880879607068e-18,3.662237808625725e-18,4.078804658874205e-18,4.255640658958325e-18,4.078817103239105e-18,3.6622602323513865e-18,3.235117934460126e-18,2.9479458521537374e-18,2.810235493405029e-18,2.7617861498971083e-18,2.7491715628681478e-18,2.7467457911063956e-18,2.746406827965716e-18,2.746376260451883e-18,2.746378393664174e-18,2.746383076988828e-18,2.7463880341073095e-18,2.7463931822992458e-18,2.746398570491891e-18,2.7464042788192067e-18,2.746410440739714e-18,2.7464173151707113e-18,2.746425580827608e-18,3.782177282286349e-18,3.782174116888288e-18,3.782171484217235e-18,3.782169124371678e-18,3.7821669382048696e-18,3.7821648746291974e-18,3.7821629042756705e-18,3.782161068387629e-18,3.7821611324565934e-18,3.782197183194619e-18,3.782715689006097e-18,3.787796524920569e-18,3.8237556877530406e-18,4.010466387686737e-18,4.727140133307555e-18,6.7618606326711334e-18,1.0994356300930764e-17,1.726354466015832e-17,2.3347247796539007e-17,2.59208113129308e-17,2.334730328360204e-17,1.7263619440671032e-17,1.099441207935483e-17,6.761883857319415e-18,4.727138235080307e-18,4.0104509401036084e-18,3.823733580980098e-18,3.78777026016965e-18,3.78268584623221e-18,3.7821638086161364e-18,3.7821241629212086e-18,3.782120412055285e-18,3.7821184468524e-18,3.782116472982479e-18,3.782114408526642e-18,3.782112221389804e-18,3.782109860410424e-18,3.78210722636785e-18,3.7821040591718545e-18,2.5628528533488448e-18,2.5628395519310172e-18,2.562828489366842e-18,2.562818573428169e-18,2.56280938745032e-18,2.562800716740751e-18,2.5627924382306848e-18,2.5627847414558572e-18,2.5627855145245198e-18,2.5629469844915934e-18,2.5652629888023926e-18,2.5879533356501654e-18,2.748535832077625e-18,3.582223982303798e-18,6.780675267256055e-18,1.5847693051837808e-17,3.46431431096582e-17,6.232129332826694e-17,8.899596879158163e-17,1.002253416044342e-16,8.89962120738207e-17,6.232162399687298e-17,3.4643392768467134e-17,1.584779985484048e-17,6.780671112434075e-18,3.5821602142759754e-18,2.748443204484089e-18,2.5878430371977807e-18,2.5651376260295473e-18,2.5628067810223716e-18,2.562630208626223e-18,2.5626139476150335e-18,2.5626056763251142e-18,2.5625973854832697e-18,2.5625887146787235e-18,2.562579528774763e-18,2.562569612923802e-18,2.5625585504657347e-18,2.5625452491870032e-18,1.2544372032835331e-18,1.2544249790484225e-18,1.2544148124207523e-18,1.2544056996032659e-18,1.2543972576661817e-18,1.2543892894364789e-18,1.25438169234326e-18,1.2543751205657946e-18,1.2543906986778922e-18,1.2548341371709732e-18,1.2610183760606335e-18,1.3214926855578324e-18,1.7493898237344337e-18,3.970543865008206e-18,1.2487536611059193e-17,3.659322489611846e-17,8.638185640553541e-17,1.5925367677217568e-16,2.289771202084671e-16,2.581795500064438e-16,2.289777761014199e-16,1.5925458967266075e-16,8.638258591106251e-17,3.659360307164177e-17,1.2487644852895789e-17,3.9705179341047494e-18,1.7493116788830967e-18,1.3213924129118381e-18,1.2609032958642012e-18,1.2547053068947696e-18,1.2542479808689716e-18,1.2542181696012954e-18,1.2542100675081209e-18,1.254202438196485e-18,1.254194470443385e-18,1.25418602954137e-18,1.2541769179375852e-18,1.254166752778076e-18,1.254154530467582e-18,5.088680599337351e-19,5.088607500601783e-19,5.088546706292653e-19,5.088492213781839e-19,5.088441733196215e-19,5.088394088344619e-19,5.088348886693664e-19,5.0883201023842695e-19,5.088724928091404e-19,5.097561721987891e-19,5.219565135377406e-19,6.411786164950118e-19,1.4846841329625772e-18,5.862694717167757e-18,2.2642790644240622e-17,7.00725170373288e-17,1.6773877215594225e-16,3.099579286238204e-16,4.452129181958361e-16,5.0162109505224355e-16,4.452142025363527e-16,3.0995973727899787e-16,1.6774025033190484e-16,7.007332856098725e-17,2.264308999718768e-17,5.862747651518504e-18,1.4846520215722104e-18,6.411209345972637e-19,5.218879572256433e-19,5.096791589350529e-19,5.087871563621813e-19,5.087381620579268e-19,5.087322662648664e-19,5.087276818591917e-19,5.087229174851176e-19,5.08717870515395e-19,5.087124225443174e-19,5.087063446617739e-19,5.08699036817981e-19,1.8287376729689635e-19,1.8287029203563784e-19,1.828674017650483e-19,1.8286481110364082e-19,1.8286241118769771e-19,1.8286014656613697e-19,1.828580343543966e-19,1.828583691072851e-19,1.8292810930477008e-19,1.8435028237005965e-19,2.0392516810177527e-19,3.951709423296305e-19,1.748205461035353e-18,8.770316989477116e-18,3.567748379675866e-17,1.116693359318508e-16,2.678567807038022e-16,4.945760724689447e-16,7.093885445350154e-16,7.987400381604261e-16,7.09390588217953e-16,4.945789660951571e-16,2.6785916610320307e-16,1.1167066880104596e-16,3.567800603297782e-17,8.770453009332697e-18,1.7482138700898748e-18,3.951472072215589e-19,2.038929906771332e-19,1.843137036525711e-19,1.8288754271935535e-19,1.828137543606459e-19,1.8280924833431597e-19,1.8280703229097015e-19,1.828047669549761e-19,1.828023677603067e-19,1.8279977795336079e-19,1.8279688871640384e-19,1.827934148101377e-19,6.042009209687498e-20,6.0418663362033e-20,6.041747513144812e-20,6.041641007852138e-20,6.041542345148387e-20,6.041449309322539e-20,6.04136749288651e-20,6.041613987803169e-20,6.051380892295676e-20,6.246774972866232e-20,8.933767944724502e-20,3.5183929218754318e-19,2.2089809958116378e-18,1.1847185436009475e-17,4.8776074164639805e-17,1.5304949427648422e-16,3.6726137150403814e-16,6.779561303614133e-16,9.720513606412601e-16,1.094297718089993e-15,9.720541603684605e-16,6.779601002300677e-16,3.672646519390618e-16,1.5305133644360278e-16,4.877680800770451e-17,1.1847392829055665e-17,2.2090168022665084e-18,3.518345721427605e-19,8.93250169421768e-20,6.245275739250488e-20,6.049713473067679e-20,6.039779913741747e-20,6.039361931672902e-20,6.039265816160051e-20,6.039172628385387e-20,6.039074002784843e-20,6.038967542405206e-20,6.038848773680797e-20,6.038705971423336e-20,1.8770035441939877e-20,1.8769504431814082e-20,1.8769062810552196e-20,1.8768666971384757e-20,1.8768300286876202e-20,1.8767955289340705e-20,1.8767711380153962e-20,1.8771417880104122e-20,1.8890443792784053e-20,2.12583511910771e-20,5.3812314211399735e-20,3.7183758342935065e-19,2.621805003186779e-18,1.429903182644741e-17,5.904567937079105e-17,1.8543848700916353e-16,4.453016869751696e-16,8.227246728954741e-16,1.1805615511051544e-15,1.3294733605421737e-15,1.1805649614957524e-15,8.227295016507947e-16,4.453056722771797e-16,1.8544072540657021e-16,5.904657480430612e-17,1.42992905351233e-17,2.621857097007557e-18,3.718418687925133e-19,5.3808286179405307e-20,2.1252833244443316e-20,1.8884249873728945e-20,1.8764601748778183e-20,1.8760257820050337e-20,1.875984045201937e-20,1.8759493359311067e-20,1.8759126832220656e-20,1.8758731195675046e-20,1.8758289819578325e-20,1.8757759130840552e-20,5.56347897705046e-21,5.563295752726036e-21,5.56314337257428e-21,5.563006789937376e-21,5.5628802733378505e-21,5.5627620701896944e-21,5.562742524551177e-21,5.567017965731943e-21,5.696925420420731e-21,8.27695724139622e-21,4.374434575754727e-20,3.9022999578953883e-19,2.8415765523283157e-18,1.5564760339677522e-17,6.433205808979495e-17,2.0219012005739517e-16,4.861350693949716e-16,8.997817952562552e-16,1.2933683072302333e-15,1.4575712814466868e-15,1.2933720653747318e-15,8.997870978561406e-16,4.861394305114994e-16,2.0219256453261e-16,6.433303621012575e-17,1.5565044685900376e-17,2.8416361797459144e-18,3.902379601602404e-19,4.3743683972575525e-20,8.275111238624123e-21,5.694791505055935e-21,5.564666309400964e-21,5.5601708222766514e-21,5.559962204474475e-21,5.559841615393795e-21,5.5597151516829296e-21,5.559578651117135e-21,5.559426370313151e-21,5.5592432762242295e-21,1.5891691385948424e-21,1.5891094245571906e-21,1.5890597630581739e-21,1.589015250239007e-21,1.588974023895493e-21,1.588936317857883e-21,1.588993059737408e-21,1.5933133332918884e-21,1.722424201733303e-21,4.28529109165018e-21,3.9515836736610044e-20,3.8368785908199423e-19,2.8187026043103643e-18,1.545816829947622e-17,6.392089539453123e-17,2.010586417468564e-16,4.841822836647806e-16,8.982613993361993e-16,1.2941026162790727e-15,1.4597910110557763e-15,1.2941064048296487e-15,8.982667203163974e-16,4.841866394526544e-16,2.0106107579795757e-16,6.392186829405386e-17,1.545845155216296e-17,2.8187627232083724e-18,3.8369678968971103e-19,3.9516332159069885e-20,4.284746010704529e-21,1.7217318822195242e-21,1.5925470665349747e-21,1.5881549713089756e-21,1.588023870712195e-21,1.5879837568028567e-21,1.5879425394873115e-21,1.5878980573234568e-21,1.5878484329770536e-21,1.5877887676430025e-21,4.405966073331474e-22,4.405780067429899e-22,4.405625375294982e-22,4.405486721633712e-22,4.405358357310586e-22,4.405248234006043e-22,4.405991270493069e-22,4.44571105671447e-22,5.626484859509126e-22,2.9061037498901112e-21,3.512024553916346e-20,3.4982512391908835e-19,2.5763958641416373e-18,1.413490098208629e-17,5.846872792777877e-17,1.840587189792479e-16,4.439839526341147e-16,8.257203700295135e-16,1.1924464341514408e-15,1.34648254438581e-15,1.192449952663515e-15,8.257252877570347e-16,4.439879583436461e-16,1.8406095000752953e-16,5.846961837503576e-17,1.4135160252409192e-17,2.5764510988776687e-18,3.4983359002223195e-19,3.512103790377421e-20,2.9059846765826287e-21,5.6243562633490105e-22,4.443325322677326e-22,4.403380831804147e-22,4.402406160640704e-22,4.40227389146301e-22,4.402145461777951e-22,4.402006915488546e-22,4.401852353881292e-22,4.401666519089821e-22,1.1919458742722547e-22,1.1918900234230911e-22,1.1918435751664378e-22,1.1918019429633985e-22,1.191763443351954e-22,1.1917364563157765e-22,1.1924293470497617e-22,1.226142643864426e-22,2.2266020371937004e-22,2.2081377740698966e-21,2.9501296401028265e-20,2.961328321580459e-19,2.182607695034624e-18,1.1976412099748438e-17,4.955391807348278e-17,1.56111308707269e-16,3.771518395263085e-16,7.030347014290547e-16,1.0175354601714806e-15,1.1500610698883383e-15,1.017538484451559e-15,7.030389093688235e-16,3.7715525130724543e-16,1.5611320308242508e-16,4.955467306925252e-17,1.1976631863851174e-17,2.1826545674688957e-18,2.9614008982417317e-19,2.950206362625027e-20,2.2081440887983375e-21,2.2259860156951555e-22,1.2254271773152853e-22,1.1916455872049475e-22,1.1908831290707868e-22,1.1908373379156714e-22,1.1907987355754835e-22,1.1907571389804037e-22,1.1907107343440833e-22,1.1906549406777448e-22,3.1591072876358935e-23,3.1589446073486523e-23,3.1588093151675735e-23,3.158688052525669e-23,3.1585762466124467e-23,3.158544595407552e-23,3.164191729943581e-23,3.4306864155174674e-23,1.1334254809457475e-22,1.6818271854515074e-21,2.3242819793971373e-20,2.338761905626816e-19,1.7241707169960735e-18,9.461693338386056e-18,3.91576867500968e-17,1.2343631876668255e-16,2.9859710501668775e-16,5.576719400064189e-16,8.086528677471483e-16,9.146967145067017e-16,8.086552857723447e-16,5.57675291765028e-16,2.985998121541881e-16,1.2343781801208771e-16,3.9158283537459504e-17,9.461866988517639e-18,1.7242077663353344e-18,2.3388194719239274e-19,2.3243452137825837e-20,1.6818615194383076e-21,1.1332638907355424e-22,3.4286090733562556e-23,3.1619090944271596e-23,3.156059186450773e-23,3.1558788609042126e-23,3.155766098735745e-23,3.1556449481852556e-23,3.155509795919357e-23,3.155347299053528e-23,8.228617553496554e-24,8.228155655889594e-24,8.227771522899667e-24,8.227427233161492e-24,8.227112185822772e-24,8.22736056397593e-24,8.269535835885593e-24,1.0238537917708604e-23,6.862149758141336e-23,1.2272390912616451e-21,1.715403852801639e-20,1.727461229153662e-19,1.2736175686437417e-18,6.989576716423563e-18,2.893162169184303e-17,9.124443876850517e-17,2.209437510926478e-16,4.1325499859919957e-16,6.001064670578435e-16,6.792181410102361e-16,6.001082698605252e-16,4.1325749031685307e-16,2.2094575762139383e-16,9.124554779415228e-17,2.893206272949491e-17,6.989705007618139e-18,1.2736449423660733e-18,1.727503814325952e-19,1.7154512604140772e-20,1.227272247329255e-21,6.8618194419191e-23,1.0232687102638696e-23,8.263056192126927e-24,8.220304131174125e-24,8.21945390398322e-24,8.21913136878303e-24,8.218787411155213e-24,8.218403711845866e-24,8.217942382797304e-24,2.111674848594661e-24,2.1115465241515875e-24,2.1114398047465634e-24,2.1113441603926868e-24,2.1112582554731603e-24,2.1115557284707926e-24,2.1409302534300803e-24,3.506845699523041e-24,4.4004353480368884e-23,8.476806733833261e-22,1.1895321598039699e-20,1.1982203250812915e-19,8.83448614742394e-19,4.8485085726613175e-18,2.0071623959978425e-17,6.332344846947069e-17,1.5344379051228565e-16,2.873069004326158e-16,4.1764308728063613e-16,4.729082849217879e-16,4.1764434611295373e-16,2.873086367013989e-16,1.5344518572582102e-16,6.332421851703683e-17,2.007192998414207e-17,4.848597569974881e-18,8.834676042104856e-19,1.1982498803904853e-19,1.1895652251653413e-20,8.477056955614498e-22,4.400430355478554e-23,3.505252103566426e-24,2.1391309143302586e-24,2.1095954212671137e-24,2.10913074081533e-24,2.1090395215568084e-24,2.1089439668306883e-24,2.10883737800255e-24,2.108709224764323e-24,5.349841095253461e-25,5.349491197304525e-25,5.349200210375556e-25,5.348939457058001e-25,5.348715502157005e-25,5.350975387881692e-25,5.543040144002033e-25,1.446021884443474e-24,2.7883386471559225e-23,5.5253449329246205e-22,7.76458861875548e-21,7.822069526110382e-20,5.767293887168224e-19,3.1652540564144e-18,1.3104424227586625e-17,4.135226752072975e-17,1.0025159626825802e-16,1.8784362206136528e-16,2.73247834539274e-16,3.0949684115278475e-16,2.732486599765365e-16,1.8784475898074176e-16,1.002525085640737e-16,4.135277055543882e-17,1.3104624047053628e-17,3.165312158377468e-18,5.767417857755245e-19,7.822262508177082e-20,7.764804933789005e-21,5.525513420055521e-22,2.7883923100001094e-23,1.4456075479621995e-24,5.538138912526356e-25,5.345630625903839e-25,5.342914779256401e-25,5.342655800020959e-25,5.342395244119978e-25,5.34210464065406e-25,5.341755245591304e-25,1.3402556458182017e-25,1.340161779470303e-25,1.3400837174113209e-25,1.3400137870551925e-25,1.3399598412423743e-25,1.341430776306442e-25,1.4597834140833896e-25,6.951214556137685e-25,1.6975730599712345e-23,3.4006527585310665e-22,4.7813774205577396e-21,4.816952731714067e-20,3.551611219986582e-19,1.9492512757695e-18,8.070476909149926e-18,2.547082718364384e-17,6.176825684114471e-17,1.1578826797329662e-16,1.6850559160409243e-16,1.908948958336149e-16,1.6850610134317555e-16,1.1578896945129453e-16,6.176881922344513e-17,2.5471137091932625e-17,8.070599978030533e-18,1.949287057225884e-18,3.5516875646227996e-19,4.8170715837517726e-20,4.781510745834161e-21,3.400757796906198e-22,1.6976202956786197e-23,6.950223413842421e-25,1.4584714521310786e-25,1.339997062140107e-25,1.3384037746618623e-25,1.338328171177559e-25,1.3382582582680518e-25,1.3381803063972204e-25,1.338086584620433e-25,3.324801666591874e-26,3.324553413285172e-26,3.324346959450697e-26,3.324162129386604e-26,3.324053949129363e-26,3.332806782278878e-26,4.0216301646041765e-26,3.5973842695065596e-25,9.832654591319126e-24,1.9782314198617858e-22,2.7820121371527708e-21,2.802752563067245e-20,2.0665173000624408e-19,1.1341876734975381e-18,4.69601350911383e-18,1.4822116931231756e-17,3.5950906003535473e-17,6.740997809736372e-17,9.812651959051888e-17,1.1117680279025777e-16,9.812681667464679e-17,6.741038671819679e-17,3.595123342543622e-17,1.4822297297217485e-17,4.69608512274007e-18,1.1342084934465049e-18,2.0665617217568672e-19,2.8028217199471366e-20,2.782089740885184e-21,1.9782928505093997e-22,9.832964192145512e-24,3.597189819721686e-25,4.018176345850694e-26,3.32901537915866e-26,3.319938750922737e-26,3.319704321226574e-26,3.3195193194191274e-26,3.3193131761741824e-26,3.319065330748062e-26,8.176715668801542e-27,8.176067286506341e-27,8.175528078214908e-27,8.175045968596558e-27,8.174946658119193e-27,8.223638520239006e-27,1.2019104316119224e-26,1.8805772024978955e-25,5.407086274351558e-24,1.08978956896025e-22,1.5327174373648111e-21,1.544153517331844e-20,1.138532348255066e-19,6.248750495923346e-19,2.5872887668932254e-18,8.166699085923544e-18,1.9810227755387753e-17,3.715081318828778e-17,5.4087081521533223e-17,6.128414252191827e-17,5.408724534944915e-17,3.715103845804192e-17,1.9810408207121082e-17,8.166798471039551e-18,2.5873282236056252e-18,6.248865203055506e-19,1.1385568221357312e-19,1.5441916193765816e-20,1.5327601993059371e-21,1.0898234894566568e-22,5.4072652390694526e-24,1.880562367248861e-25,1.2010168205240671e-26,8.21373790660421e-27,8.164199239603201e-27,8.163403766272155e-27,8.162920007110846e-27,8.162381659202277e-27,8.161734408795006e-27,1.995517680489949e-27,1.9953502101143537e-27,1.9952109392395083e-27,1.9950867279223788e-27,1.995152938523352e-27,2.0206800033391205e-27,4.001902005900648e-27,9.588870777856105e-26,2.820060007644851e-24,5.688136755180614e-23,8.000287472040624e-22,8.060001219426677e-21,5.942788948849643e-20,3.2616633985730857e-19,1.350500466206542e-18,4.2629222710291715e-18,1.0341257154940055e-17,1.9394851869902172e-17,2.8238730736348146e-17,3.19973468061007e-17,2.823881629155721e-17,1.9394969493500067e-17,1.0341351362136249e-17,4.262974150836227e-18,1.3505210618736247e-18,3.261723272493023e-19,5.942916695180207e-20,8.060200101747266e-21,8.000510692236058e-22,5.688313989727571e-23,2.8201554162239964e-24,9.589012686820061e-26,3.999636148528449e-27,2.0181234996266887e-27,1.9923771397250593e-27,1.9920798231735386e-27,1.99195457346819e-27,1.9918155371228158e-27,1.9916483762852306e-27]},\"selected\":{\"id\":\"1166\",\"type\":\"Selection\"},\"selection_policy\":{\"id\":\"1167\",\"type\":\"UnionRenderers\"}},\"id\":\"1122\",\"type\":\"ColumnDataSource\"},{\"attributes\":{\"label\":{\"value\":\"0\"},\"renderers\":[{\"id\":\"1039\",\"type\":\"GlyphRenderer\"}]},\"id\":\"1049\",\"type\":\"LegendItem\"},{\"attributes\":{\"line_color\":\"#1f77b4\",\"x\":{\"field\":\"x\"},\"y\":{\"field\":\"y\"}},\"id\":\"1123\",\"type\":\"Line\"},{\"attributes\":{\"callback\":null,\"data\":{\"x\":[89185458945.30998,89185722850.1516,89185942335.43849,89186139071.3327,89186321324.60689,89186493356.39754,89186657728.15976,89186816134.9098,89186969775.93051,89187119543.36707,89187266127.74292,89187410081.38301,89187551858.76454,89187691843.42485,89187830366.6522,89187967720.9619,89188104170.1701,89188239957.21043,89188375310.44925,89188510449.02515,89188645587.60104,89188780940.83986,89188916727.88019,89189053177.0884,89189190531.39809,89189329054.62544,89189469039.28575,89189610816.66728,89189754770.30737,89189901354.68323,89190051122.11978,89190204763.14049,89190363169.89053,89190527541.65276,89190699573.4434,89190881826.71759,89191078562.6118,89191298047.8987,89191561952.74031,178368940557.2012,178369468361.0334,178369907326.741,178370300794.16757,178370665296.6752,178371009356.44235,178371338096.3225,178371654906.31058,178371962184.9456,178372261716.4982,178372554882.0,178372842786.0886,178373126337.70828,178373406303.9253,178373683347.3088,178373958052.8829,178374230948.27408,178374502519.3442,178374773222.82092,178375043496.97656,178375313771.1322,178375584474.60892,178375856045.67905,178376128941.07022,178376403646.64432,178376680690.02783,178376960656.24484,178377244207.86453,178377532111.95312,178377825277.45493,178378124809.00754,178378432087.64255,178378748897.6306,178379077637.51077,178379421697.27792,178379786199.78555,178380179667.21213,178380618632.91974,178381146436.75192,267548467652.14603,267549259343.26712,267549917779.66336,267550507969.89896,267551054713.55887,267551570793.6746,267552063894.38437,267552539100.5866,267553000010.02344,267553449299.0514,267553889039.17947,267554320887.33362,267554746206.90503,267555166148.47177,267555581705.8693,267555993756.6174,267556403092.1414,267556810441.22046,267557216488.93344,267557621892.67673,267558027296.42,267558433344.133,267558840693.21207,267559250028.73605,267559662079.48416,267560077636.88168,267560497578.44843,267560922898.01984,267561354746.17398,267561794486.30206,267562243775.33002,267562704684.76685,267563179890.9691,267563672991.67886,267564189071.7946,267564735815.4545,267565326005.6901,267565984442.08633,267566776133.20743,356722062836.7694,356723118397.6266,356723996290.11304,356724783190.0723,356725512162.76245,356726200251.78455,356726857702.39124,356727491294.2717,356728105824.29144,356728704860.8333,356729291165.83813,356729866948.48315,356730434026.57635,356730993934.1822,356731547996.3802,356732097383.1666,356732643149.74786,356733186267.8044,356733727650.75104,356734268175.0936,356734808699.4362,356735350082.3829,356735893200.4394,356736438967.0206,356736988353.80707,356737542416.00507,356738102323.6109,356738669401.7041,356739245184.3491,356739831489.35394,356740430525.8958,356741045055.9155,356741678647.796,356742336098.4027,356743024187.4248,356743753160.1149,356744540060.0742,356745417952.56067,356746473513.41785,445887748807.6304,445889068214.8198,445890165543.9319,445891149136.1678,445892060321.72546,445892920404.39764,445893742190.32434,445894534153.8351,445895302290.81226,445896051061.58636,445896783918.4683,445897503622.838,445898212446.8799,445898912308.1105,445899604862.8244,445900291573.46826,445900973759.00604,445901652633.99805,445902329340.17487,445903004973.13226,445903680606.08966,445904357312.2665,445905036187.2585,445905718372.79626,445906405083.4401,445907097638.15405,445907797499.38464,445908506323.4265,445909226027.7962,445909958884.67816,445910707655.4523,445911475792.42944,445912267755.9402,445913089541.8669,445913949624.53906,445914860810.09674,445915844402.33264,445916941731.4447,445918261138.63416,535043548411.18024,535045131635.4476,535046448376.8549,535047628639.55896,535048722017.781,535049754075.0333,535050740178.059,535051690495.64044,535052612222.54376,535053510710.94806,535054390103.45807,535055253713.5949,535056104267.869,535056944067.207,535057775099.08124,535058599118.35645,535059417707.72516,535060232324.60046,535061044339.00323,535061855065.59515,535062665792.1871,535063477806.58984,535064292423.46515,535065111012.83386,535065935032.1091,535066766063.98334,535067605863.3213,535068456417.5954,535069320027.73224,535070199420.24225,535071097908.64655,535072019635.54987,535072969953.1313,535073956056.157,535074988113.4093,535076081491.63135,535077261754.3354,535078578495.74274,535080161720.0101,624187484164.1082,624189331170.3477,624190867294.8535,624192244201.8549,624193519748.4972,624194723757.4451,624195874155.7045,624196982806.2844,624198058102.6759,624199106288.7877,624200132197.4264,624201139694.181,624202131959.8276,624203111678.6515,624204081169.259,624205042478.8943,624205997453.9427,624206947794.6383,624207895099.2618,624208840901.5115,624209786703.7611,624210734008.3846,624211684349.0802,624212639324.1287,624213600633.7639,624214570124.3715,624215549843.1953,624216542108.8419,624217549605.5966,624218575514.2352,624219623700.347,624220698996.7385,624221807647.3185,624222958045.5779,624224162054.5258,624225437601.1681,624226814508.1694,624228350632.6753,624230197638.9148,713317578942.8441,713319689690.0995,713321445163.6411,713323018684.4078,713324476371.1859,713325852305.1313,713327166973.1149,713328433932.1099,713329662774.1455,713330860634.7218,713332033036.7404,713333184397.7722,713334318352.7883,713335437969.3734,713336545897.2166,713337644475.8951,713338735815.4475,713339821858.8901,713340904432.7284,713341985289.6632,713343066146.598,713344148720.4363,713345234763.8789,713346326103.4313,713347424682.1099,713348532609.953,713349652226.5381,713350786181.5542,713351937542.586,713353109944.6046,713354307805.1809,713355536647.2166,713356803606.2115,713358118274.1951,713359494208.1405,713360951894.9186,713362525415.6853,713364280889.2269,713366391636.4823,802431855354.012,802434229795.4758,802436204579.1241,802437974678.7622,802439614473.3507,802441162301.7812,802442641210.3352,802444066449.6494,802445448810.0785,802446796318.5559,802448115187.9554,802449410387.7322,802450686006.9716,802451945496.4894,802453191836.9989,802454427660.3591,802455655340.2141,802456877062.32,802458094881.3661,802459310769.0172,802460526656.6683,802461744475.7145,802462966197.8203,802464193877.6753,802465429701.0355,802466676041.545,802467935531.0629,802469211150.3022,802470506350.079,802471825219.4785,802473172727.9559,802474555088.385,802475980327.6992,802477459236.2532,802479007064.6837,802480646859.2722,802482416958.9103,802484391742.5586,802486766184.0225,891528336124.15,891530974207.164,891533168257.124,891535134896.3777,891536956762.4108,891538676450.9999,891540319567.3264,891541903055.352,891543438903.518,891544936030.0126,891546401337.5442,891547840347.3419,891549257602.515,891550656937.0339,891552041662.5695,891553414703.2043,891554778696.1354,891556136069.81,891557489107.0565,891558839998.459,891560190889.8615,891561543927.1079,891562901300.7826,891564265293.7136,891565638334.3485,891567023059.884,891568422394.403,891569839649.576,891571278659.3738,891572743966.9054,891574241093.4,891575776941.5659,891577360429.5916,891579003545.9181,891580723234.5072,891582545100.5403,891584511739.794,891586705789.754,891589343872.768,980605043979.7953,980607945645.8502,980610358913.4609,980612522048.7126,980614525945.7837,980616417456.3911,980618224744.048,980619966445.6654,980621655747.505,980623302458.8125,980624914171.9778,980626496959.8812,980628055819.5552,980629594968.0397,980631118047.8899,980632628275.3472,980634128551.1028,980635621546.2417,980637109771.6796,980638595636.8726,980640081502.0656,980641569727.5034,980643062722.6423,980644562998.398,980646073225.8552,980647596305.7054,980649135454.19,980650694313.8639,980652277101.7673,980653888814.9326,980655535526.2401,980657224828.0797,980658966529.6971,980660773817.354,980662665327.9614,980664669225.0325,980666832360.2842,980669245627.8949,980672147293.9498,1069660001617.5104,1069663166802.2461,1069665799233.9801,1069668158817.2507,1069670344700.9125,1069672407991.5837,1069674379410.4845,1069676279287.0621,1069678122005.1061,1069679918264.7018,1069681676347.7522,1069683402878.6544,1069685103308.253,1069686782236.5642,1069688443636.9467,1069690091017.7289,1069691727543.0323,1069693356126.5201,1069694979507.1403,1069696600313.1665,1069698221119.1927,1069699844499.8129,1069701473083.3007,1069703109608.6041,1069704756989.3864,1069706418389.7688,1069708097318.08,1069709797747.6786,1069711524278.5808,1069713282361.6312,1069715078621.2269,1069716921339.2709,1069718821215.8485,1069720792634.7493,1069722855925.4205,1069725041809.0823,1069727401392.3529,1069730033824.0869,1069733199008.8226,1158691231763.8252,1158694660397.0308,1158697511934.4949,1158700067913.4436,1158702435735.208,1158704670760.1746,1158706806266.5889,1158708864275.9832,1158710860369.3555,1158712806137.3943,1158714710551.3315,1158716580786.9343,1158718422748.7383,1158720241419.6335,1158722041103.6946,1158723825601.259,1158725598339.8086,1158727362475.5195,1158729120975.3115,1158730876686.218,1158732632397.1245,1158734390896.9165,1158736155032.6274,1158737927771.177,1158739712268.7415,1158741511952.8025,1158743330623.6978,1158745172585.5017,1158747042821.1045,1158748947235.0417,1158750893003.0806,1158752889096.453,1158754947105.8472,1158757082612.2615,1158759317637.228,1158761685458.9924,1158764241437.9412,1158767092975.4053,1158770521608.6108,1247696757085.3298,1247700449090.943,1247703519670.8777,1247706271988.8015,1247708821696.1404,1247711228405.8196,1247713527952.3726,1247715744048.9275,1247717893473.3467,1247719988706.6628,1247722039409.2388,1247724053308.052,1247726036761.1985,1247727995134.332,1247729933062.1467,1247731854636.9055,1247733763549.374,1247735663198.1719,1247737556778.1245,1247739447354.962,1247741337931.7993,1247743231511.752,1247745131160.5498,1247747040073.0183,1247748961647.777,1247750899575.5918,1247752857948.7253,1247754841401.8718,1247756855300.685,1247758906003.261,1247761001236.5771,1247763150660.9963,1247765366757.5513,1247767666304.1042,1247770073013.7834,1247772622721.1223,1247775375039.0461,1247778445618.9807,1247782137624.594,1336674600338.5334,1336678555634.6418,1336681845188.9216,1336684793784.756,1336687525321.0999,1336690103662.0955,1336692567197.7678,1336694941332.3164,1336697244040.0938,1336699488692.2014,1336701685637.918,1336703843155.2603,1336705968055.7434,1336708066087.6655,1336710142216.238,1336712200825.558,1336714245869.5933,1336716280989.3315,1336718309607.433,1336720335008.2559,1336722360409.0786,1336724389027.1802,1336726424146.9185,1336728469190.9536,1336730527800.2737,1336732603928.8462,1336734701960.7683,1336736826861.2515,1336738984378.5938,1336741181324.3103,1336743425976.418,1336745728684.1953,1336748102818.744,1336750566354.4163,1336753144695.4119,1336755876231.7556,1336758824827.59,1336762114381.8699,1336766069677.9783,1425622784160.046,1425627002658.8853,1425630511114.518,1425633655922.8372,1425636569227.576,1425639319142.677,1425641946612.8057,1425644478732.6682,1425646934672.709,1425649328693.8018,1425651671833.9111,1425653972921.9092,1425656239222.5796,1425658476866.7373,1425660691150.0005,1425662886748.2034,1425665067878.4277,1425667238423.9492,1425669402035.1865,1425671562215.0532,1425673722394.92,1425675886006.1572,1425678056551.6787,1425680237681.903,1425682433280.106,1425684647563.3691,1425686885207.5269,1425689151508.1973,1425691452596.1953,1425693795736.3047,1425696189757.3975,1425698645697.4382,1425701177817.3008,1425703805287.4294,1425706555202.5305,1425709468507.2693,1425712613315.5884,1425716121771.2212,1425720340270.0605,1514539331366.3335,1514543812974.2893,1514547540253.4175,1514550881204.4333,1514553976212.9167,1514556897641.0986,1514559688987.3765,1514562379036.3613,1514564988154.1648,1514567531491.116,1514570020773.62,1514572465381.21,1514574873031.775,1514577250238.5117,1514579602627.3274,1514581935165.6895,1514584252333.7012,1514586558256.8381,1514588856813.1975,1514591151724.1707,1514593446635.1438,1514595745191.5032,1514598051114.6401,1514600368282.6519,1514602700821.014,1514605053209.8296,1514607430416.5664,1514609838067.1313,1514612282674.7212,1514614771957.2253,1514617315294.1765,1514619924411.98,1514622614460.9648,1514625405807.2427,1514628327235.4246,1514631422243.908,1514634763194.9238,1514638490474.052,1514642972082.0078,1603422264594.0015,1603427009211.6082,1603430955231.508,1603434492251.0708,1603437768894.6077,1603440861771.0317,1603443816931.5066,1603446664849.9106,1603449427087.5696,1603452119683.9316,1603454755053.5833,1603457343126.5083,1603459892073.5322,1603462408790.088,1603464899232.2466,1603467368658.9995,1603469821813.37,1603472263062.9448,1603474696513.4116,1603477126104.5576,1603479555695.7036,1603481989146.1704,1603484430395.745,1603486883550.1157,1603489352976.8687,1603491843419.0273,1603494360135.583,1603496909082.607,1603499497155.532,1603502132525.1836,1603504825121.5457,1603507587359.2046,1603510435277.6086,1603513390438.0835,1603516483314.5076,1603519759958.0444,1603523296977.6072,1603527242997.507,1603531987615.1138,1692269606509.6301,1692274614031.5708,1692278778704.652,1692282511714.2505,1692285969920.1086,1692289234176.122,1692292353085.1982,1692295358809.8057,1692298274106.0066,1692301115902.0115,1692303897300.3132,1692306628781.126,1692309318968.0295,1692311975138.54,1692314603578.7615,1692317209839.0908,1692319798925.368,1692322375447.1917,1692324943737.7502,1692327507955.1392,1692330072172.528,1692332640463.0867,1692335216984.9104,1692337806071.1875,1692340412331.5168,1692343040771.7383,1692345696942.2488,1692348387129.1523,1692351118609.965,1692353900008.2668,1692356741804.2717,1692359657100.4727,1692362662825.08,1692365781734.1562,1692369045990.1697,1692372504196.0278,1692376237205.6262,1692380401878.7075,1692385409400.6482,1781079379899.72,1781084650214.8274,1781089033448.6338,1781092962365.3945,1781096602056.8018,1781100037619.9375,1781103320208.375,1781106483672.4587,1781109551962.4817,1781112542895.0415,1781115470260.2458,1781118345088.3074,1781121176455.3682,1781123972020.8665,1781126738400.7988,1781129481436.8455,1781132206397.551,1781134918134.4246,1781137621208.0588,1781140319994.765,1781143018781.471,1781145721855.1052,1781148433591.9788,1781151158552.6843,1781153901588.731,1781156667968.6633,1781159463534.1616,1781162294901.2224,1781165169729.284,1781168097094.4883,1781171088027.048,1781174156317.071,1781177319781.1548,1781180602369.5923,1781184037932.728,1781187677624.1353,1781191606540.896,1781195989774.7024,1781201260089.8098],\"y\":[2.7462344239371874e-18,2.7462426902047363e-18,2.746249565101558e-18,2.74625572740716e-18,2.7462614360638653e-18,2.746266824545682e-18,2.7462719731771638e-18,2.7462769392126696e-18,2.74628188049579e-18,2.7462891291623644e-18,2.7463288782716906e-18,2.7466768506154382e-18,2.74911143703583e-18,2.7617340879553344e-18,2.810183328173422e-18,2.9478237886434244e-18,3.2345846665474975e-18,3.660469999283097e-18,4.075063146583525e-18,4.2508401763773456e-18,4.0750755684697466e-18,3.660492401731183e-18,3.234614503937604e-18,2.9478602084396086e-18,2.8102268932696473e-18,2.7617856481573147e-18,2.7491715462108344e-18,2.746745790799986e-18,2.746406827962698e-18,2.746376260451868e-18,2.7463783936641735e-18,2.746383076988828e-18,2.7463880341073095e-18,2.746393182299249e-18,2.7463985704918912e-18,2.7464042788192067e-18,2.746410440739714e-18,2.7464173151707113e-18,2.7464255808276075e-18,3.782177282286349e-18,3.782174116888288e-18,3.782171484217235e-18,3.782169124371678e-18,3.7821669382048696e-18,3.7821648746291974e-18,3.782162904275671e-18,3.782161068387629e-18,3.782161132456588e-18,3.782197183193772e-18,3.782715688838482e-18,3.7877965079079825e-18,3.8237547629175894e-18,4.010438534359767e-18,4.726662976008867e-18,6.757116484774613e-18,1.0966562189917762e-17,1.716642751580878e-17,2.3142697675667626e-17,2.5658907146302128e-17,2.314275193537524e-17,1.7166501126045055e-17,1.0966617463570123e-17,6.757139594063971e-18,4.7266610632266964e-18,4.010423085753568e-18,3.823732656104866e-18,3.787770243156225e-18,3.782685846064585e-18,3.78216380861529e-18,3.7821241629212086e-18,3.782120412055285e-18,3.782118446852399e-18,3.782116472982479e-18,3.782114408526642e-18,3.782112221389804e-18,3.782109860410423e-18,3.782107226367849e-18,3.782104059171855e-18,2.5628528533488448e-18,2.5628395519310176e-18,2.5628284893668425e-18,2.562818573428169e-18,2.5628093874503203e-18,2.562800716740751e-18,2.5627924382306844e-18,2.562784741455857e-18,2.5627855145244986e-18,2.5629469844839413e-18,2.565262987288189e-18,2.587953181961872e-18,2.7485274776277084e-18,3.58197242234399e-18,6.7763691635001834e-18,1.5804975062997144e-17,3.439403750938273e-17,6.145687646764788e-17,8.718753462547805e-17,9.791644038017703e-17,8.718776716856539e-17,6.145719679200495e-17,3.4394282659762837e-17,1.5805080828427832e-17,6.776364877327422e-18,3.581908645072554e-18,2.7484348496746164e-18,2.5878428835018932e-18,2.565137624515257e-18,2.5628067810147164e-18,2.5626302086262042e-18,2.5626139476150335e-18,2.562605676325114e-18,2.5625973854832693e-18,2.5625887146787243e-18,2.5625795287747625e-18,2.562569612923802e-18,2.5625585504657347e-18,2.562545249187003e-18,1.2544372032835325e-18,1.2544249790484225e-18,1.2544148124207523e-18,1.2544056996032664e-18,1.2543972576661819e-18,1.2543892894364789e-18,1.25438169234326e-18,1.2543751205657946e-18,1.2543906986778155e-18,1.2548341371397508e-18,1.2610183698840673e-18,1.3214920586541457e-18,1.7493557468477555e-18,3.9695180000565076e-18,1.2469990748107588e-17,3.64195715433206e-17,8.537414205302219e-17,1.5578202126901354e-16,2.2176495980985817e-16,2.4899883312067035e-16,2.2176557338561032e-16,1.557828929720641e-16,8.537485340597323e-17,3.6419945510421176e-17,1.247009845530272e-17,3.969492031481836e-18,1.749277600530625e-18,1.3213917859771952e-18,1.2609032896872891e-18,1.254705306863546e-18,1.2542479808688948e-18,1.2542181696012966e-18,1.2542100675081218e-18,1.254202438196485e-18,1.254194470443385e-18,1.2541860295413704e-18,1.2541769179375852e-18,1.2541667527780762e-18,1.2541545304675818e-18,5.088680599337351e-19,5.088607500601782e-19,5.088546706292652e-19,5.088492213781838e-19,5.088441733196215e-19,5.088394088344619e-19,5.088348886693656e-19,5.088320102384269e-19,5.088724928089454e-19,5.097561721194215e-19,5.219564978361932e-19,6.411770228409851e-19,1.4845975089867998e-18,5.860087420645923e-18,2.259822751159583e-17,6.963233253171595e-17,1.6519473664491897e-16,3.01246099111764e-16,4.272198360092335e-16,4.787731890311414e-16,4.2722101582509593e-16,3.0124780510081195e-16,1.6519616916978153e-16,6.963313340674788e-17,2.2598525507750106e-17,5.860140259297141e-18,1.4845653938717376e-18,6.411193408645711e-19,5.218879415232188e-19,5.0967915885568055e-19,5.087871563619866e-19,5.087381620579262e-19,5.087322662648664e-19,5.087276818591916e-19,5.087229174851176e-19,5.08717870515395e-19,5.087124225443174e-19,5.087063446617738e-19,5.086990368179811e-19,1.8287376729689635e-19,1.8287029203563782e-19,1.828674017650483e-19,1.828648111036408e-19,1.828624111876975e-19,1.8286014656613694e-19,1.8285803435439642e-19,1.828583691072848e-19,1.8292810930441429e-19,1.843502822250509e-19,2.0392513941430695e-19,3.9516803065738518e-19,1.748047198813549e-18,8.765553981528344e-18,3.5596110601222813e-17,1.1086652207662667e-16,2.632285864506738e-16,4.787859827253395e-16,6.768932961858364e-16,7.575396072591356e-16,6.768951522527083e-16,4.787886910573651e-16,2.6323088899240875e-16,1.108678355449257e-16,3.559663036097861e-17,8.765689826598076e-18,1.7480556010641446e-18,3.951442954056095e-19,2.03892961988064e-19,1.843137035075534e-19,1.828875427189994e-19,1.8281375436064552e-19,1.828092483343162e-19,1.8280703229097013e-19,1.8280476695497592e-19,1.828023677603067e-19,1.827997779533608e-19,1.8279688871640384e-19,1.827934148101377e-19,6.0420092096875e-20,6.0418663362033e-20,6.04174751314481e-20,6.041641007852135e-20,6.041542345148386e-20,6.041449309322528e-20,6.041367492886508e-20,6.041613987803116e-20,6.051380892245286e-20,6.246774952339042e-20,8.933763883773004e-20,3.5183517047471236e-19,2.2087569637810797e-18,1.1840443233825036e-17,4.866090020796536e-17,1.5191356084901573e-16,3.607169765810439e-16,6.556497606363144e-16,9.261881712747486e-16,1.0361707824308596e-15,9.261907066252061e-16,6.556534690320892e-16,3.607201399244977e-16,1.5191537557275966e-16,4.8661630546332634e-17,1.1840650379473166e-17,2.208792760605018e-18,3.518304502265157e-19,8.932497633039549e-20,6.245275718722009e-20,6.049713473017291e-20,6.039779913741692e-20,6.039361931672894e-20,6.03926581616004e-20,6.039172628385386e-20,6.039074002784842e-20,6.038967542405204e-20,6.038848773680796e-20,6.038705971423336e-20,1.8770035441939877e-20,1.8769504431814082e-20,1.8769062810552196e-20,1.8768666971384763e-20,1.8768300286876205e-20,1.876795528934073e-20,1.8767711380153944e-20,1.8771417880103475e-20,1.8890443792204857e-20,2.1258350955119668e-20,5.3812267531275485e-20,3.7183284556634334e-19,2.6215474784771175e-18,1.4291281295670246e-17,5.891325616579639e-17,1.8413174447182967e-16,4.3776503030126787e-16,7.969949376424798e-16,1.1275775418516211e-15,1.262277512282195e-15,1.1275806460314847e-15,7.969994642679125e-16,4.3776888063402044e-16,1.8413395128759504e-16,5.891414756930256e-17,1.4291539719944876e-17,2.621599561227267e-18,3.718371306956879e-19,5.3808239496675984e-20,2.1252833008471163e-20,1.8884249873149697e-20,1.8764601748777548e-20,1.876025782005036e-20,1.8759840452019393e-20,1.8759493359311067e-20,1.875912683222066e-20,1.8758731195675046e-20,1.8758289819578325e-20,1.8757759130840552e-20,5.56347897705046e-21,5.563295752726036e-21,5.56314337257428e-21,5.563006789937378e-21,5.562880273337852e-21,5.562762070189696e-21,5.56274252455117e-21,5.56701796573133e-21,5.696925419864998e-21,8.276957014995929e-21,4.374430096812686e-20,3.9022544981294007e-19,2.841329452469909e-18,1.555732276721282e-17,6.420493013384559e-17,2.009341773766366e-16,4.78873957874652e-16,8.749044802440435e-16,1.2419631001089936e-15,1.3922829519728296e-15,1.2419665594657138e-15,8.749094895814749e-16,4.788781886872959e-16,2.0093659147223848e-16,6.420590438429344e-17,1.5557606840501843e-17,2.8413890692649574e-18,3.9023341395929387e-19,4.374363918065553e-20,8.275111012209707e-21,5.694791504500154e-21,5.564666309400342e-21,5.560170822276657e-21,5.559962204474475e-21,5.559841615393795e-21,5.55971515168293e-21,5.559578651117133e-21,5.5594263703131516e-21,5.5592432762242295e-21,1.5891691385948424e-21,1.5891094245571906e-21,1.5890597630581739e-21,1.589015250239007e-21,1.588974023895493e-21,1.5889363178578833e-21,1.5889930597374067e-21,1.5933133332913838e-21,1.7224242012788302e-21,4.2852909065042624e-21,3.9515800108646196e-20,3.836841414519455e-19,2.8185005244320948e-18,1.5452084960493776e-17,6.381685953825075e-17,2.0002928015241088e-16,4.782124075281961e-16,8.77712712956495e-16,1.251450187223324e-15,1.4055161259581863e-15,1.2514537260099522e-15,8.777177904661812e-16,4.782166558942838e-16,2.0003168927696526e-16,6.381782926972501e-17,1.545236798992386e-17,2.8185606346427926e-18,3.8369307187619387e-19,3.95162955290619e-20,4.2847458255470665e-21,1.7217318817650217e-21,1.5925470665344703e-21,1.5881549713089771e-21,1.5880238707121953e-21,1.5879837568028565e-21,1.5879425394873115e-21,1.5878980573234567e-21,1.5878484329770536e-21,1.5877887676430024e-21,4.405966073331474e-22,4.405780067429899e-22,4.405625375294983e-22,4.405486721633712e-22,4.405358357310586e-22,4.405248234006042e-22,4.405991270493068e-22,4.445711056710903e-22,5.626484856295329e-22,2.906103618964086e-21,3.5120219637670365e-20,3.4982249498363307e-19,2.5762529585988037e-18,1.4130598375714844e-17,5.839510437697593e-17,1.8332910221748737e-16,4.397383999014056e-16,8.110348395691438e-16,1.1618180940886485e-15,1.307429383235584e-15,1.1618214318367898e-15,8.110395823599397e-16,4.397423289985727e-16,1.8333131555698944e-16,5.839599258145406e-17,1.413085748811934e-17,2.5763081871912978e-18,3.4983096095703634e-19,3.512101200083561e-20,2.9059845456484345e-21,5.624356260134992e-22,4.443325322673755e-22,4.403380831804146e-22,4.402406160640704e-22,4.40227389146301e-22,4.402145461777952e-22,4.402006915488547e-22,4.401852353881292e-22,4.401666519089821e-22,1.1919458742722542e-22,1.1918900234230911e-22,1.1918435751664375e-22,1.1918019429633985e-22,1.1917634433519541e-22,1.1917364563157762e-22,1.19242934704976e-22,1.2261426438622247e-22,2.226602035209578e-22,2.2081376932392736e-21,2.950128041005443e-20,2.9613120910901486e-19,2.1825194658775537e-18,1.1973755332231919e-17,4.9508433436328764e-17,1.5565988454251012e-16,3.74516958272641e-16,6.938788281131729e-16,9.9835487099757e-16,1.1255585070318566e-15,9.983577812546783e-16,6.938829264445609e-16,3.745203223807968e-16,1.5566176796149137e-16,4.950918704603374e-17,1.1973974998815341e-17,2.182566334518779e-18,2.961384666950431e-19,2.950204763438401e-20,2.208144007962671e-21,2.225986013710896e-22,1.2254271773130824e-22,1.1916455872049463e-22,1.1908831290707868e-22,1.1908373379156714e-22,1.1907987355754835e-22,1.1907571389804034e-22,1.1907107343440833e-22,1.1906549406777448e-22,3.1591072876358935e-23,3.1589446073486523e-23,3.1588093151675735e-23,3.158688052525669e-23,3.1585762466124467e-23,3.1585445954075575e-23,3.16419172994357e-23,3.430686415505475e-23,1.1334254798656662e-22,1.6818271414504255e-21,2.324281108909764e-20,2.338753070342272e-19,1.7241226872267451e-18,9.460246896153036e-18,3.913291246924352e-17,1.2319013609027436e-16,2.971564788100719e-16,5.526467781133994e-16,7.9808643279698135e-16,9.011771293016941e-16,7.9808878762802605e-16,5.52650069464783e-16,2.9715915982499716e-16,1.2319162935535274e-16,3.9133508501436866e-17,9.460420493187833e-18,1.7241597345011406e-18,2.3388106362033503e-19,2.3243443432466323e-20,1.6818614754344803e-21,1.1332638896553877e-22,3.428609073344263e-23,3.161909094427158e-23,3.156059186450777e-23,3.1558788609042126e-23,3.155766098735744e-23,3.1556449481852556e-23,3.155509795919357e-23,3.1553472990535275e-23,8.228617553496554e-24,8.228155655889594e-24,8.227771522899667e-24,8.227427233161491e-24,8.227112185822773e-24,8.227360563975931e-24,8.269535835885565e-24,1.0238537917650842e-23,6.862149752938302e-23,1.2272390700651579e-21,1.7154034334647177e-20,1.7274569729519926e-19,1.2735944309824842e-18,6.988879852533051e-18,2.89196819899731e-17,9.112568057660567e-17,2.2024741357595172e-16,4.10818867084549e-16,5.949692378424442e-16,6.726371064091596e-16,5.949710097782909e-16,4.1082132942424365e-16,2.20249407456739e-16,9.112678671533694e-17,2.8920122663598677e-17,6.989008118145411e-18,1.2736218037100877e-18,1.7274995579142331e-19,1.7154508410537542e-20,1.2272722261314464e-21,6.861819436715706e-23,1.0232687102580922e-23,8.263056192126892e-24,8.220304131174127e-24,8.219453903983221e-24,8.21913136878303e-24,8.218787411155216e-24,8.218403711845866e-24,8.217942382797304e-24,2.111674848594661e-24,2.1115465241515868e-24,2.1114398047465634e-24,2.1113441603926868e-24,2.11125825547316e-24,2.1115557284707896e-24,2.1409302534300708e-24,3.506845699498248e-24,4.400435345803678e-23,8.476806642854925e-22,1.1895319798185467e-20,1.1982184982553572e-19,8.834386835899795e-19,4.848209445917255e-18,2.006649765072024e-17,6.327242492635684e-17,1.5314418928205226e-16,2.86256530795263e-16,4.1542353406530505e-16,4.700624422349178e-16,4.154247795172964e-16,2.8625825436854407e-16,1.5314557904717518e-16,6.327319373296303e-17,2.0066803518564568e-17,4.848298432249307e-18,8.834576726311099e-19,1.1982480534743946e-19,1.1895650451698725e-20,8.477056864630477e-22,4.4004303532451806e-23,3.5052521035416335e-24,2.139130914330247e-24,2.109595421267111e-24,2.1091307408153303e-24,2.1090395215568084e-24,2.1089439668306883e-24,2.108837378002549e-24,2.108709224764323e-24,5.34984109525346e-25,5.349491197304524e-25,5.349200210375555e-25,5.348939457057999e-25,5.348715502157004e-25,5.350975387881691e-25,5.543040144001989e-25,1.446021884433965e-24,2.788338646299204e-23,5.525344898022995e-22,7.76458792828517e-21,7.822062517928979e-20,5.767255788367435e-19,3.165139297868454e-18,1.3102457228169098e-17,4.133268051728241e-17,1.0013647542281016e-16,1.8743944906415683e-16,2.723925890988024e-16,3.083996280419766e-16,2.7239340936888663e-16,1.8744058109098552e-16,1.0013738562339394e-16,4.1333183075450665e-17,1.3102656987648974e-17,3.165197395618409e-18,5.767379757316496e-19,7.822255499649813e-20,7.764804243280166e-21,5.52551338515171e-22,2.788392309143333e-23,1.4456075479526883e-24,5.538138912526308e-25,5.345630625903839e-25,5.3429147792564e-25,5.34265580002096e-25,5.342395244119979e-25,5.342104640654059e-25,5.341755245591304e-25,1.3402556458182017e-25,1.3401617794703035e-25,1.3400837174113209e-25,1.3400137870551928e-25,1.339959841242374e-25,1.341430776306444e-25,1.459783414083376e-25,6.951214556104962e-25,1.6975730596764276e-23,3.4006527465209913e-22,4.7813771829584015e-21,4.816950320110813e-20,3.5515981096443836e-19,1.949211784675852e-18,8.069799950499145e-18,2.5464084226533986e-17,6.172860200789365e-17,1.1564892141680524e-16,1.6821047244590782e-16,1.9051614107366951e-16,1.6821098039947277e-16,1.1564962120638941e-16,6.172916366809733e-17,2.5464393970735986e-17,8.06992299873333e-18,1.9492475646823852e-18,3.5516744537169535e-19,4.817069172029507e-20,4.781510508221568e-21,3.4007577848953703e-22,1.6976202953837916e-23,6.950223413809693e-25,1.4584714521310653e-25,1.3399970621401088e-25,1.338403774661862e-25,1.3383281711775593e-25,1.3382582582680518e-25,1.3381803063972204e-25,1.3380865846204327e-25,3.324801666591875e-26,3.3245534132851726e-26,3.3243469594506964e-26,3.3241621293866034e-26,3.324053949129363e-26,3.3328067822788787e-26,4.0216301646041283e-26,3.5973842694964347e-25,9.83265459040703e-24,1.9782314161460491e-22,2.7820120636431563e-21,2.8027518169536124e-20,2.0665132439083458e-19,1.1341754553225247e-18,4.695804051914541e-18,1.4820030243891054e-17,3.5938629994592e-17,6.736681756538326e-17,9.803506361531332e-17,1.1105940280890968e-16,9.80353601456613e-17,6.73672256629589e-17,3.593895719288461e-17,1.4820210559091866e-17,4.695875659152339e-18,1.1341962748229164e-18,2.0665576654283877e-19,2.802820973796681e-20,2.7820896673714656e-21,1.978292846793431e-22,9.832964191233365e-24,3.597189819711562e-25,4.018176345850643e-26,3.3290153791586595e-26,3.319938750922737e-26,3.319704321226574e-26,3.319519319419128e-26,3.3193131761741824e-26,3.319065330748062e-26,8.17671566880154e-27,8.176067286506341e-27,8.175528078214908e-27,8.17504596859656e-27,8.174946658119191e-27,8.223638520238996e-27,1.2019104316119102e-26,1.8805772024950683e-25,5.407086274096951e-24,1.089789567923007e-22,1.5327174168446757e-21,1.5441533090549333e-20,1.1385312159816105e-19,6.248716388649332e-19,2.587230294548647e-18,8.16611650808698e-18,1.980679976105401e-17,3.713875732641268e-17,5.406152809428016e-17,6.125133612935249e-17,5.4061691767394683e-17,3.7138982449961015e-17,1.9806980150335685e-17,8.166215879023469e-18,2.5872697494776017e-18,6.2488310945292715e-19,1.1385556898135959e-19,1.5441914110893914e-20,1.5327601787846582e-21,1.0898234884193472e-22,5.407265238814833e-24,1.8805623672460343e-25,1.2010168205240549e-26,8.213737906604198e-27,8.164199239603202e-27,8.163403766272155e-27,8.162920007110847e-27,8.162381659202276e-27,8.161734408795006e-27,1.995517680489949e-27,1.9953502101143537e-27,1.9952109392395083e-27,1.9950867279223788e-27,1.9951529385233516e-27,2.0206800033391213e-27,4.0019020059006135e-27,9.588870777848989e-26,2.8200600075806934e-24,5.688136752566834e-23,8.000287420331303e-22,8.060000694583144e-21,5.942786095595586e-20,3.2616548037263034e-19,1.3504857312328518e-18,4.262775454555925e-18,1.034039316878422e-17,1.9391812851971524e-17,2.8232288288842484e-17,3.1989075224236544e-17,2.823237380501395e-17,1.9391930438707946e-17,1.0340487360238787e-17,4.2628273307894435e-18,1.3505063264505041e-18,3.2617146773306865e-19,5.942913841803487e-20,8.060199576877823e-21,8.000510640523845e-22,5.688313987113621e-23,2.8201554161598284e-24,9.589012686812943e-26,3.9996361485284155e-27,2.018123499626689e-27,1.99237713972506e-27,1.992079823173539e-27,1.991954573468191e-27,1.9918155371228154e-27,1.9916483762852306e-27]},\"selected\":{\"id\":\"1078\",\"type\":\"Selection\"},\"selection_policy\":{\"id\":\"1079\",\"type\":\"UnionRenderers\"}},\"id\":\"1050\",\"type\":\"ColumnDataSource\"},{\"attributes\":{\"line_alpha\":0.1,\"line_color\":\"#1f77b4\",\"x\":{\"field\":\"x\"},\"y\":{\"field\":\"y\"}},\"id\":\"1124\",\"type\":\"Line\"},{\"attributes\":{\"data_source\":{\"id\":\"1122\",\"type\":\"ColumnDataSource\"},\"glyph\":{\"id\":\"1123\",\"type\":\"Line\"},\"hover_glyph\":null,\"muted_glyph\":null,\"nonselection_glyph\":{\"id\":\"1124\",\"type\":\"Line\"},\"selection_glyph\":null,\"view\":{\"id\":\"1126\",\"type\":\"CDSView\"}},\"id\":\"1125\",\"type\":\"GlyphRenderer\"},{\"attributes\":{\"line_color\":\"#1f77b4\",\"x\":{\"field\":\"x\"},\"y\":{\"field\":\"y\"}},\"id\":\"1051\",\"type\":\"Line\"},{\"attributes\":{\"line_alpha\":0.1,\"line_color\":\"#1f77b4\",\"x\":{\"field\":\"x\"},\"y\":{\"field\":\"y\"}},\"id\":\"1052\",\"type\":\"Line\"},{\"attributes\":{\"source\":{\"id\":\"1122\",\"type\":\"ColumnDataSource\"}},\"id\":\"1126\",\"type\":\"CDSView\"},{\"attributes\":{\"data_source\":{\"id\":\"1050\",\"type\":\"ColumnDataSource\"},\"glyph\":{\"id\":\"1051\",\"type\":\"Line\"},\"hover_glyph\":null,\"muted_glyph\":null,\"nonselection_glyph\":{\"id\":\"1052\",\"type\":\"Line\"},\"selection_glyph\":null,\"view\":{\"id\":\"1054\",\"type\":\"CDSView\"}},\"id\":\"1053\",\"type\":\"GlyphRenderer\"},{\"attributes\":{},\"id\":\"1141\",\"type\":\"Selection\"},{\"attributes\":{\"source\":{\"id\":\"1050\",\"type\":\"ColumnDataSource\"}},\"id\":\"1054\",\"type\":\"CDSView\"},{\"attributes\":{},\"id\":\"1142\",\"type\":\"UnionRenderers\"},{\"attributes\":{\"label\":{\"value\":\"10\"},\"renderers\":[{\"id\":\"1125\",\"type\":\"GlyphRenderer\"}]},\"id\":\"1144\",\"type\":\"LegendItem\"},{\"attributes\":{},\"id\":\"1061\",\"type\":\"Selection\"},{\"attributes\":{},\"id\":\"1062\",\"type\":\"UnionRenderers\"},{\"attributes\":{\"callback\":null,\"data\":{\"x\":[89185458945.30998,89185722850.1516,89185942335.43849,89186139071.3327,89186321324.60689,89186493356.39754,89186657728.15976,89186816134.9098,89186969775.93051,89187119543.36707,89187266127.74292,89187410081.38301,89187551858.76454,89187691843.42485,89187830366.6522,89187967720.9619,89188104170.1701,89188239957.21043,89188375310.44925,89188510449.02515,89188645587.60104,89188780940.83986,89188916727.88019,89189053177.0884,89189190531.39809,89189329054.62544,89189469039.28575,89189610816.66728,89189754770.30737,89189901354.68323,89190051122.11978,89190204763.14049,89190363169.89053,89190527541.65276,89190699573.4434,89190881826.71759,89191078562.6118,89191298047.8987,89191561952.74031,178368940557.2012,178369468361.0334,178369907326.741,178370300794.16757,178370665296.6752,178371009356.44235,178371338096.3225,178371654906.31058,178371962184.9456,178372261716.4982,178372554882.0,178372842786.0886,178373126337.70828,178373406303.9253,178373683347.3088,178373958052.8829,178374230948.27408,178374502519.3442,178374773222.82092,178375043496.97656,178375313771.1322,178375584474.60892,178375856045.67905,178376128941.07022,178376403646.64432,178376680690.02783,178376960656.24484,178377244207.86453,178377532111.95312,178377825277.45493,178378124809.00754,178378432087.64255,178378748897.6306,178379077637.51077,178379421697.27792,178379786199.78555,178380179667.21213,178380618632.91974,178381146436.75192,267548467652.14603,267549259343.26712,267549917779.66336,267550507969.89896,267551054713.55887,267551570793.6746,267552063894.38437,267552539100.5866,267553000010.02344,267553449299.0514,267553889039.17947,267554320887.33362,267554746206.90503,267555166148.47177,267555581705.8693,267555993756.6174,267556403092.1414,267556810441.22046,267557216488.93344,267557621892.67673,267558027296.42,267558433344.133,267558840693.21207,267559250028.73605,267559662079.48416,267560077636.88168,267560497578.44843,267560922898.01984,267561354746.17398,267561794486.30206,267562243775.33002,267562704684.76685,267563179890.9691,267563672991.67886,267564189071.7946,267564735815.4545,267565326005.6901,267565984442.08633,267566776133.20743,356722062836.7694,356723118397.6266,356723996290.11304,356724783190.0723,356725512162.76245,356726200251.78455,356726857702.39124,356727491294.2717,356728105824.29144,356728704860.8333,356729291165.83813,356729866948.48315,356730434026.57635,356730993934.1822,356731547996.3802,356732097383.1666,356732643149.74786,356733186267.8044,356733727650.75104,356734268175.0936,356734808699.4362,356735350082.3829,356735893200.4394,356736438967.0206,356736988353.80707,356737542416.00507,356738102323.6109,356738669401.7041,356739245184.3491,356739831489.35394,356740430525.8958,356741045055.9155,356741678647.796,356742336098.4027,356743024187.4248,356743753160.1149,356744540060.0742,356745417952.56067,356746473513.41785,445887748807.6304,445889068214.8198,445890165543.9319,445891149136.1678,445892060321.72546,445892920404.39764,445893742190.32434,445894534153.8351,445895302290.81226,445896051061.58636,445896783918.4683,445897503622.838,445898212446.8799,445898912308.1105,445899604862.8244,445900291573.46826,445900973759.00604,445901652633.99805,445902329340.17487,445903004973.13226,445903680606.08966,445904357312.2665,445905036187.2585,445905718372.79626,445906405083.4401,445907097638.15405,445907797499.38464,445908506323.4265,445909226027.7962,445909958884.67816,445910707655.4523,445911475792.42944,445912267755.9402,445913089541.8669,445913949624.53906,445914860810.09674,445915844402.33264,445916941731.4447,445918261138.63416,535043548411.18024,535045131635.4476,535046448376.8549,535047628639.55896,535048722017.781,535049754075.0333,535050740178.059,535051690495.64044,535052612222.54376,535053510710.94806,535054390103.45807,535055253713.5949,535056104267.869,535056944067.207,535057775099.08124,535058599118.35645,535059417707.72516,535060232324.60046,535061044339.00323,535061855065.59515,535062665792.1871,535063477806.58984,535064292423.46515,535065111012.83386,535065935032.1091,535066766063.98334,535067605863.3213,535068456417.5954,535069320027.73224,535070199420.24225,535071097908.64655,535072019635.54987,535072969953.1313,535073956056.157,535074988113.4093,535076081491.63135,535077261754.3354,535078578495.74274,535080161720.0101,624187484164.1082,624189331170.3477,624190867294.8535,624192244201.8549,624193519748.4972,624194723757.4451,624195874155.7045,624196982806.2844,624198058102.6759,624199106288.7877,624200132197.4264,624201139694.181,624202131959.8276,624203111678.6515,624204081169.259,624205042478.8943,624205997453.9427,624206947794.6383,624207895099.2618,624208840901.5115,624209786703.7611,624210734008.3846,624211684349.0802,624212639324.1287,624213600633.7639,624214570124.3715,624215549843.1953,624216542108.8419,624217549605.5966,624218575514.2352,624219623700.347,624220698996.7385,624221807647.3185,624222958045.5779,624224162054.5258,624225437601.1681,624226814508.1694,624228350632.6753,624230197638.9148,713317578942.8441,713319689690.0995,713321445163.6411,713323018684.4078,713324476371.1859,713325852305.1313,713327166973.1149,713328433932.1099,713329662774.1455,713330860634.7218,713332033036.7404,713333184397.7722,713334318352.7883,713335437969.3734,713336545897.2166,713337644475.8951,713338735815.4475,713339821858.8901,713340904432.7284,713341985289.6632,713343066146.598,713344148720.4363,713345234763.8789,713346326103.4313,713347424682.1099,713348532609.953,713349652226.5381,713350786181.5542,713351937542.586,713353109944.6046,713354307805.1809,713355536647.2166,713356803606.2115,713358118274.1951,713359494208.1405,713360951894.9186,713362525415.6853,713364280889.2269,713366391636.4823,802431855354.012,802434229795.4758,802436204579.1241,802437974678.7622,802439614473.3507,802441162301.7812,802442641210.3352,802444066449.6494,802445448810.0785,802446796318.5559,802448115187.9554,802449410387.7322,802450686006.9716,802451945496.4894,802453191836.9989,802454427660.3591,802455655340.2141,802456877062.32,802458094881.3661,802459310769.0172,802460526656.6683,802461744475.7145,802462966197.8203,802464193877.6753,802465429701.0355,802466676041.545,802467935531.0629,802469211150.3022,802470506350.079,802471825219.4785,802473172727.9559,802474555088.385,802475980327.6992,802477459236.2532,802479007064.6837,802480646859.2722,802482416958.9103,802484391742.5586,802486766184.0225,891528336124.15,891530974207.164,891533168257.124,891535134896.3777,891536956762.4108,891538676450.9999,891540319567.3264,891541903055.352,891543438903.518,891544936030.0126,891546401337.5442,891547840347.3419,891549257602.515,891550656937.0339,891552041662.5695,891553414703.2043,891554778696.1354,891556136069.81,891557489107.0565,891558839998.459,891560190889.8615,891561543927.1079,891562901300.7826,891564265293.7136,891565638334.3485,891567023059.884,891568422394.403,891569839649.576,891571278659.3738,891572743966.9054,891574241093.4,891575776941.5659,891577360429.5916,891579003545.9181,891580723234.5072,891582545100.5403,891584511739.794,891586705789.754,891589343872.768,980605043979.7953,980607945645.8502,980610358913.4609,980612522048.7126,980614525945.7837,980616417456.3911,980618224744.048,980619966445.6654,980621655747.505,980623302458.8125,980624914171.9778,980626496959.8812,980628055819.5552,980629594968.0397,980631118047.8899,980632628275.3472,980634128551.1028,980635621546.2417,980637109771.6796,980638595636.8726,980640081502.0656,980641569727.5034,980643062722.6423,980644562998.398,980646073225.8552,980647596305.7054,980649135454.19,980650694313.8639,980652277101.7673,980653888814.9326,980655535526.2401,980657224828.0797,980658966529.6971,980660773817.354,980662665327.9614,980664669225.0325,980666832360.2842,980669245627.8949,980672147293.9498,1069660001617.5104,1069663166802.2461,1069665799233.9801,1069668158817.2507,1069670344700.9125,1069672407991.5837,1069674379410.4845,1069676279287.0621,1069678122005.1061,1069679918264.7018,1069681676347.7522,1069683402878.6544,1069685103308.253,1069686782236.5642,1069688443636.9467,1069690091017.7289,1069691727543.0323,1069693356126.5201,1069694979507.1403,1069696600313.1665,1069698221119.1927,1069699844499.8129,1069701473083.3007,1069703109608.6041,1069704756989.3864,1069706418389.7688,1069708097318.08,1069709797747.6786,1069711524278.5808,1069713282361.6312,1069715078621.2269,1069716921339.2709,1069718821215.8485,1069720792634.7493,1069722855925.4205,1069725041809.0823,1069727401392.3529,1069730033824.0869,1069733199008.8226,1158691231763.8252,1158694660397.0308,1158697511934.4949,1158700067913.4436,1158702435735.208,1158704670760.1746,1158706806266.5889,1158708864275.9832,1158710860369.3555,1158712806137.3943,1158714710551.3315,1158716580786.9343,1158718422748.7383,1158720241419.6335,1158722041103.6946,1158723825601.259,1158725598339.8086,1158727362475.5195,1158729120975.3115,1158730876686.218,1158732632397.1245,1158734390896.9165,1158736155032.6274,1158737927771.177,1158739712268.7415,1158741511952.8025,1158743330623.6978,1158745172585.5017,1158747042821.1045,1158748947235.0417,1158750893003.0806,1158752889096.453,1158754947105.8472,1158757082612.2615,1158759317637.228,1158761685458.9924,1158764241437.9412,1158767092975.4053,1158770521608.6108,1247696757085.3298,1247700449090.943,1247703519670.8777,1247706271988.8015,1247708821696.1404,1247711228405.8196,1247713527952.3726,1247715744048.9275,1247717893473.3467,1247719988706.6628,1247722039409.2388,1247724053308.052,1247726036761.1985,1247727995134.332,1247729933062.1467,1247731854636.9055,1247733763549.374,1247735663198.1719,1247737556778.1245,1247739447354.962,1247741337931.7993,1247743231511.752,1247745131160.5498,1247747040073.0183,1247748961647.777,1247750899575.5918,1247752857948.7253,1247754841401.8718,1247756855300.685,1247758906003.261,1247761001236.5771,1247763150660.9963,1247765366757.5513,1247767666304.1042,1247770073013.7834,1247772622721.1223,1247775375039.0461,1247778445618.9807,1247782137624.594,1336674600338.5334,1336678555634.6418,1336681845188.9216,1336684793784.756,1336687525321.0999,1336690103662.0955,1336692567197.7678,1336694941332.3164,1336697244040.0938,1336699488692.2014,1336701685637.918,1336703843155.2603,1336705968055.7434,1336708066087.6655,1336710142216.238,1336712200825.558,1336714245869.5933,1336716280989.3315,1336718309607.433,1336720335008.2559,1336722360409.0786,1336724389027.1802,1336726424146.9185,1336728469190.9536,1336730527800.2737,1336732603928.8462,1336734701960.7683,1336736826861.2515,1336738984378.5938,1336741181324.3103,1336743425976.418,1336745728684.1953,1336748102818.744,1336750566354.4163,1336753144695.4119,1336755876231.7556,1336758824827.59,1336762114381.8699,1336766069677.9783,1425622784160.046,1425627002658.8853,1425630511114.518,1425633655922.8372,1425636569227.576,1425639319142.677,1425641946612.8057,1425644478732.6682,1425646934672.709,1425649328693.8018,1425651671833.9111,1425653972921.9092,1425656239222.5796,1425658476866.7373,1425660691150.0005,1425662886748.2034,1425665067878.4277,1425667238423.9492,1425669402035.1865,1425671562215.0532,1425673722394.92,1425675886006.1572,1425678056551.6787,1425680237681.903,1425682433280.106,1425684647563.3691,1425686885207.5269,1425689151508.1973,1425691452596.1953,1425693795736.3047,1425696189757.3975,1425698645697.4382,1425701177817.3008,1425703805287.4294,1425706555202.5305,1425709468507.2693,1425712613315.5884,1425716121771.2212,1425720340270.0605,1514539331366.3335,1514543812974.2893,1514547540253.4175,1514550881204.4333,1514553976212.9167,1514556897641.0986,1514559688987.3765,1514562379036.3613,1514564988154.1648,1514567531491.116,1514570020773.62,1514572465381.21,1514574873031.775,1514577250238.5117,1514579602627.3274,1514581935165.6895,1514584252333.7012,1514586558256.8381,1514588856813.1975,1514591151724.1707,1514593446635.1438,1514595745191.5032,1514598051114.6401,1514600368282.6519,1514602700821.014,1514605053209.8296,1514607430416.5664,1514609838067.1313,1514612282674.7212,1514614771957.2253,1514617315294.1765,1514619924411.98,1514622614460.9648,1514625405807.2427,1514628327235.4246,1514631422243.908,1514634763194.9238,1514638490474.052,1514642972082.0078,1603422264594.0015,1603427009211.6082,1603430955231.508,1603434492251.0708,1603437768894.6077,1603440861771.0317,1603443816931.5066,1603446664849.9106,1603449427087.5696,1603452119683.9316,1603454755053.5833,1603457343126.5083,1603459892073.5322,1603462408790.088,1603464899232.2466,1603467368658.9995,1603469821813.37,1603472263062.9448,1603474696513.4116,1603477126104.5576,1603479555695.7036,1603481989146.1704,1603484430395.745,1603486883550.1157,1603489352976.8687,1603491843419.0273,1603494360135.583,1603496909082.607,1603499497155.532,1603502132525.1836,1603504825121.5457,1603507587359.2046,1603510435277.6086,1603513390438.0835,1603516483314.5076,1603519759958.0444,1603523296977.6072,1603527242997.507,1603531987615.1138,1692269606509.6301,1692274614031.5708,1692278778704.652,1692282511714.2505,1692285969920.1086,1692289234176.122,1692292353085.1982,1692295358809.8057,1692298274106.0066,1692301115902.0115,1692303897300.3132,1692306628781.126,1692309318968.0295,1692311975138.54,1692314603578.7615,1692317209839.0908,1692319798925.368,1692322375447.1917,1692324943737.7502,1692327507955.1392,1692330072172.528,1692332640463.0867,1692335216984.9104,1692337806071.1875,1692340412331.5168,1692343040771.7383,1692345696942.2488,1692348387129.1523,1692351118609.965,1692353900008.2668,1692356741804.2717,1692359657100.4727,1692362662825.08,1692365781734.1562,1692369045990.1697,1692372504196.0278,1692376237205.6262,1692380401878.7075,1692385409400.6482,1781079379899.72,1781084650214.8274,1781089033448.6338,1781092962365.3945,1781096602056.8018,1781100037619.9375,1781103320208.375,1781106483672.4587,1781109551962.4817,1781112542895.0415,1781115470260.2458,1781118345088.3074,1781121176455.3682,1781123972020.8665,1781126738400.7988,1781129481436.8455,1781132206397.551,1781134918134.4246,1781137621208.0588,1781140319994.765,1781143018781.471,1781145721855.1052,1781148433591.9788,1781151158552.6843,1781153901588.731,1781156667968.6633,1781159463534.1616,1781162294901.2224,1781165169729.284,1781168097094.4883,1781171088027.048,1781174156317.071,1781177319781.1548,1781180602369.5923,1781184037932.728,1781187677624.1353,1781191606540.896,1781195989774.7024,1781201260089.8098],\"y\":[0.0,0.0,0.0,0.0,0.0,0.0,0.0,0.0,0.0,0.0,0.0,0.0,0.0,0.0,0.0,0.0,0.0,0.0,0.0,0.0,0.0,0.0,0.0,0.0,0.0,0.0,0.0,0.0,0.0,0.0,0.0,0.0,0.0,0.0,0.0,0.0,0.0,0.0,0.0,0.0,0.0,0.0,0.0,0.0,0.0,0.0,0.0,0.0,0.0,0.0,0.0,0.0,0.0,0.0,0.0,0.0,0.0,0.0,0.0,0.0,0.0,0.0,0.0,0.0,0.0,0.0,0.0,0.0,0.0,0.0,0.0,0.0,0.0,0.0,0.0,0.0,0.0,0.0,0.0,0.0,0.0,0.0,0.0,0.0,0.0,0.0,0.0,0.0,0.0,0.0,0.0,0.0,0.0,0.0,0.0,0.0,0.0,0.0,0.0,0.0,0.0,0.0,0.0,0.0,0.0,0.0,0.0,0.0,0.0,0.0,0.0,0.0,0.0,0.0,0.0,0.0,0.0,0.0,0.0,0.0,0.0,0.0,0.0,0.0,0.0,0.0,0.0,0.0,0.0,0.0,0.0,0.0,0.0,0.0,0.0,0.0,0.0,0.0,0.0,0.0,0.0,0.0,0.0,0.0,0.0,0.0,0.0,0.0,0.0,0.0,0.0,0.0,0.0,0.0,0.0,0.0,0.0,0.0,0.0,0.0,0.0,0.0,0.0,0.0,0.0,0.0,0.0,0.0,0.0,0.0,0.0,0.0,0.0,0.0,0.0,0.0,0.0,0.0,0.0,0.0,0.0,0.0,0.0,0.0,0.0,0.0,0.0,0.0,0.0,0.0,0.0,0.0,0.0,0.0,0.0,0.0,0.0,0.0,0.0,0.0,0.0,0.0,0.0,0.0,0.0,0.0,0.0,0.0,0.0,0.0,0.0,0.0,0.0,0.0,0.0,0.0,0.0,0.0,0.0,0.0,0.0,0.0,0.0,0.0,0.0,0.0,0.0,0.0,0.0,0.0,0.0,0.0,0.0,0.0,0.0,0.0,0.0,0.0,0.0,0.0,0.0,0.0,0.0,0.0,0.0,0.0,0.0,0.0,0.0,0.0,0.0,0.0,0.0,0.0,0.0,0.0,0.0,0.0,0.0,0.0,0.0,0.0,0.0,0.0,0.0,0.0,0.0,0.0,0.0,0.0,0.0,0.0,0.0,0.0,0.0,0.0,0.0,0.0,0.0,0.0,0.0,0.0,0.0,0.0,0.0,0.0,0.0,0.0,0.0,0.0,0.0,0.0,0.0,0.0,0.0,0.0,0.0,0.0,0.0,0.0,0.0,0.0,0.0,0.0,0.0,0.0,0.0,0.0,0.0,0.0,0.0,0.0,0.0,0.0,0.0,0.0,0.0,0.0,0.0,0.0,0.0,0.0,0.0,0.0,0.0,0.0,0.0,0.0,0.0,0.0,0.0,0.0,0.0,0.0,0.0,0.0,0.0,0.0,0.0,0.0,0.0,0.0,0.0,0.0,0.0,0.0,0.0,0.0,0.0,0.0,0.0,0.0,0.0,0.0,0.0,0.0,0.0,0.0,0.0,0.0,0.0,0.0,0.0,0.0,0.0,0.0,0.0,0.0,0.0,0.0,0.0,0.0,0.0,0.0,0.0,0.0,0.0,0.0,0.0,0.0,0.0,0.0,0.0,0.0,0.0,0.0,0.0,0.0,0.0,0.0,0.0,0.0,0.0,0.0,0.0,0.0,0.0,0.0,0.0,0.0,0.0,0.0,0.0,0.0,0.0,0.0,0.0,0.0,0.0,0.0,0.0,0.0,0.0,0.0,0.0,0.0,0.0,0.0,0.0,0.0,0.0,0.0,0.0,0.0,0.0,0.0,0.0,0.0,0.0,0.0,0.0,0.0,0.0,0.0,0.0,0.0,0.0,0.0,0.0,0.0,0.0,0.0,0.0,0.0,0.0,0.0,0.0,0.0,0.0,0.0,0.0,0.0,0.0,0.0,0.0,0.0,0.0,0.0,0.0,0.0,0.0,0.0,0.0,0.0,0.0,0.0,0.0,0.0,0.0,0.0,0.0,0.0,0.0,0.0,0.0,0.0,0.0,0.0,0.0,0.0,0.0,0.0,0.0,0.0,0.0,0.0,0.0,0.0,0.0,0.0,0.0,0.0,0.0,0.0,0.0,0.0,0.0,0.0,0.0,0.0,0.0,0.0,0.0,0.0,0.0,0.0,0.0,0.0,0.0,0.0,0.0,0.0,0.0,0.0,0.0,0.0,0.0,0.0,0.0,0.0,0.0,0.0,0.0,0.0,0.0,0.0,0.0,0.0,0.0,0.0,0.0,0.0,0.0,0.0,0.0,0.0,0.0,0.0,0.0,0.0,0.0,0.0,0.0,0.0,0.0,0.0,0.0,0.0,0.0,0.0,0.0,0.0,0.0,0.0,0.0,0.0,0.0,0.0,0.0,0.0,0.0,0.0,0.0,0.0,0.0,0.0,0.0,0.0,0.0,0.0,0.0,0.0,0.0,0.0,0.0,0.0,0.0,0.0,0.0,0.0,0.0,0.0,0.0,0.0,0.0,0.0,0.0,0.0,0.0,0.0,0.0,0.0,0.0,0.0,0.0,0.0,0.0,0.0,0.0,0.0,0.0,0.0,0.0,0.0,0.0,0.0,0.0,0.0,0.0,0.0,0.0,0.0,0.0,0.0,0.0,0.0,0.0,0.0,0.0,0.0,0.0,0.0,0.0,0.0,0.0,0.0,0.0,0.0,0.0,0.0,0.0,0.0,0.0,0.0,0.0,0.0,0.0,0.0,0.0,0.0,0.0,0.0,0.0,0.0,0.0,0.0,0.0,0.0,0.0,0.0,0.0,0.0,0.0,0.0,0.0,0.0,0.0,0.0,0.0,0.0,0.0,0.0,0.0,0.0,0.0,0.0,0.0,0.0,0.0,0.0,0.0,0.0,0.0,0.0,0.0,0.0,0.0,0.0,0.0,0.0,0.0,0.0,0.0,0.0,0.0,0.0,0.0,0.0,0.0,0.0,0.0,0.0,0.0,0.0,0.0,0.0,0.0,0.0,0.0,0.0,0.0,0.0,0.0,0.0,0.0,0.0,0.0,0.0,0.0,0.0,0.0,0.0,0.0,0.0,0.0,0.0,0.0,0.0,0.0,0.0,0.0,0.0,0.0,0.0,0.0,0.0,0.0,0.0,0.0,0.0,0.0,0.0,0.0,0.0,0.0,0.0,0.0,0.0,0.0,0.0,0.0,0.0,0.0,0.0,0.0,0.0,0.0,0.0,0.0,0.0,0.0,0.0,0.0,0.0,0.0,0.0,0.0,0.0,0.0,0.0,0.0,0.0,0.0,0.0,0.0,0.0,0.0,0.0,0.0,0.0,0.0,0.0,0.0,0.0,0.0,0.0,0.0,0.0,0.0,0.0]},\"selected\":{\"id\":\"1061\",\"type\":\"Selection\"},\"selection_policy\":{\"id\":\"1062\",\"type\":\"UnionRenderers\"}},\"id\":\"1036\",\"type\":\"ColumnDataSource\"},{\"attributes\":{\"callback\":null,\"data\":{\"x\":[89185458945.30998,89185722850.1516,89185942335.43849,89186139071.3327,89186321324.60689,89186493356.39754,89186657728.15976,89186816134.9098,89186969775.93051,89187119543.36707,89187266127.74292,89187410081.38301,89187551858.76454,89187691843.42485,89187830366.6522,89187967720.9619,89188104170.1701,89188239957.21043,89188375310.44925,89188510449.02515,89188645587.60104,89188780940.83986,89188916727.88019,89189053177.0884,89189190531.39809,89189329054.62544,89189469039.28575,89189610816.66728,89189754770.30737,89189901354.68323,89190051122.11978,89190204763.14049,89190363169.89053,89190527541.65276,89190699573.4434,89190881826.71759,89191078562.6118,89191298047.8987,89191561952.74031,178368940557.2012,178369468361.0334,178369907326.741,178370300794.16757,178370665296.6752,178371009356.44235,178371338096.3225,178371654906.31058,178371962184.9456,178372261716.4982,178372554882.0,178372842786.0886,178373126337.70828,178373406303.9253,178373683347.3088,178373958052.8829,178374230948.27408,178374502519.3442,178374773222.82092,178375043496.97656,178375313771.1322,178375584474.60892,178375856045.67905,178376128941.07022,178376403646.64432,178376680690.02783,178376960656.24484,178377244207.86453,178377532111.95312,178377825277.45493,178378124809.00754,178378432087.64255,178378748897.6306,178379077637.51077,178379421697.27792,178379786199.78555,178380179667.21213,178380618632.91974,178381146436.75192,267548467652.14603,267549259343.26712,267549917779.66336,267550507969.89896,267551054713.55887,267551570793.6746,267552063894.38437,267552539100.5866,267553000010.02344,267553449299.0514,267553889039.17947,267554320887.33362,267554746206.90503,267555166148.47177,267555581705.8693,267555993756.6174,267556403092.1414,267556810441.22046,267557216488.93344,267557621892.67673,267558027296.42,267558433344.133,267558840693.21207,267559250028.73605,267559662079.48416,267560077636.88168,267560497578.44843,267560922898.01984,267561354746.17398,267561794486.30206,267562243775.33002,267562704684.76685,267563179890.9691,267563672991.67886,267564189071.7946,267564735815.4545,267565326005.6901,267565984442.08633,267566776133.20743,356722062836.7694,356723118397.6266,356723996290.11304,356724783190.0723,356725512162.76245,356726200251.78455,356726857702.39124,356727491294.2717,356728105824.29144,356728704860.8333,356729291165.83813,356729866948.48315,356730434026.57635,356730993934.1822,356731547996.3802,356732097383.1666,356732643149.74786,356733186267.8044,356733727650.75104,356734268175.0936,356734808699.4362,356735350082.3829,356735893200.4394,356736438967.0206,356736988353.80707,356737542416.00507,356738102323.6109,356738669401.7041,356739245184.3491,356739831489.35394,356740430525.8958,356741045055.9155,356741678647.796,356742336098.4027,356743024187.4248,356743753160.1149,356744540060.0742,356745417952.56067,356746473513.41785,445887748807.6304,445889068214.8198,445890165543.9319,445891149136.1678,445892060321.72546,445892920404.39764,445893742190.32434,445894534153.8351,445895302290.81226,445896051061.58636,445896783918.4683,445897503622.838,445898212446.8799,445898912308.1105,445899604862.8244,445900291573.46826,445900973759.00604,445901652633.99805,445902329340.17487,445903004973.13226,445903680606.08966,445904357312.2665,445905036187.2585,445905718372.79626,445906405083.4401,445907097638.15405,445907797499.38464,445908506323.4265,445909226027.7962,445909958884.67816,445910707655.4523,445911475792.42944,445912267755.9402,445913089541.8669,445913949624.53906,445914860810.09674,445915844402.33264,445916941731.4447,445918261138.63416,535043548411.18024,535045131635.4476,535046448376.8549,535047628639.55896,535048722017.781,535049754075.0333,535050740178.059,535051690495.64044,535052612222.54376,535053510710.94806,535054390103.45807,535055253713.5949,535056104267.869,535056944067.207,535057775099.08124,535058599118.35645,535059417707.72516,535060232324.60046,535061044339.00323,535061855065.59515,535062665792.1871,535063477806.58984,535064292423.46515,535065111012.83386,535065935032.1091,535066766063.98334,535067605863.3213,535068456417.5954,535069320027.73224,535070199420.24225,535071097908.64655,535072019635.54987,535072969953.1313,535073956056.157,535074988113.4093,535076081491.63135,535077261754.3354,535078578495.74274,535080161720.0101,624187484164.1082,624189331170.3477,624190867294.8535,624192244201.8549,624193519748.4972,624194723757.4451,624195874155.7045,624196982806.2844,624198058102.6759,624199106288.7877,624200132197.4264,624201139694.181,624202131959.8276,624203111678.6515,624204081169.259,624205042478.8943,624205997453.9427,624206947794.6383,624207895099.2618,624208840901.5115,624209786703.7611,624210734008.3846,624211684349.0802,624212639324.1287,624213600633.7639,624214570124.3715,624215549843.1953,624216542108.8419,624217549605.5966,624218575514.2352,624219623700.347,624220698996.7385,624221807647.3185,624222958045.5779,624224162054.5258,624225437601.1681,624226814508.1694,624228350632.6753,624230197638.9148,713317578942.8441,713319689690.0995,713321445163.6411,713323018684.4078,713324476371.1859,713325852305.1313,713327166973.1149,713328433932.1099,713329662774.1455,713330860634.7218,713332033036.7404,713333184397.7722,713334318352.7883,713335437969.3734,713336545897.2166,713337644475.8951,713338735815.4475,713339821858.8901,713340904432.7284,713341985289.6632,713343066146.598,713344148720.4363,713345234763.8789,713346326103.4313,713347424682.1099,713348532609.953,713349652226.5381,713350786181.5542,713351937542.586,713353109944.6046,713354307805.1809,713355536647.2166,713356803606.2115,713358118274.1951,713359494208.1405,713360951894.9186,713362525415.6853,713364280889.2269,713366391636.4823,802431855354.012,802434229795.4758,802436204579.1241,802437974678.7622,802439614473.3507,802441162301.7812,802442641210.3352,802444066449.6494,802445448810.0785,802446796318.5559,802448115187.9554,802449410387.7322,802450686006.9716,802451945496.4894,802453191836.9989,802454427660.3591,802455655340.2141,802456877062.32,802458094881.3661,802459310769.0172,802460526656.6683,802461744475.7145,802462966197.8203,802464193877.6753,802465429701.0355,802466676041.545,802467935531.0629,802469211150.3022,802470506350.079,802471825219.4785,802473172727.9559,802474555088.385,802475980327.6992,802477459236.2532,802479007064.6837,802480646859.2722,802482416958.9103,802484391742.5586,802486766184.0225,891528336124.15,891530974207.164,891533168257.124,891535134896.3777,891536956762.4108,891538676450.9999,891540319567.3264,891541903055.352,891543438903.518,891544936030.0126,891546401337.5442,891547840347.3419,891549257602.515,891550656937.0339,891552041662.5695,891553414703.2043,891554778696.1354,891556136069.81,891557489107.0565,891558839998.459,891560190889.8615,891561543927.1079,891562901300.7826,891564265293.7136,891565638334.3485,891567023059.884,891568422394.403,891569839649.576,891571278659.3738,891572743966.9054,891574241093.4,891575776941.5659,891577360429.5916,891579003545.9181,891580723234.5072,891582545100.5403,891584511739.794,891586705789.754,891589343872.768,980605043979.7953,980607945645.8502,980610358913.4609,980612522048.7126,980614525945.7837,980616417456.3911,980618224744.048,980619966445.6654,980621655747.505,980623302458.8125,980624914171.9778,980626496959.8812,980628055819.5552,980629594968.0397,980631118047.8899,980632628275.3472,980634128551.1028,980635621546.2417,980637109771.6796,980638595636.8726,980640081502.0656,980641569727.5034,980643062722.6423,980644562998.398,980646073225.8552,980647596305.7054,980649135454.19,980650694313.8639,980652277101.7673,980653888814.9326,980655535526.2401,980657224828.0797,980658966529.6971,980660773817.354,980662665327.9614,980664669225.0325,980666832360.2842,980669245627.8949,980672147293.9498,1069660001617.5104,1069663166802.2461,1069665799233.9801,1069668158817.2507,1069670344700.9125,1069672407991.5837,1069674379410.4845,1069676279287.0621,1069678122005.1061,1069679918264.7018,1069681676347.7522,1069683402878.6544,1069685103308.253,1069686782236.5642,1069688443636.9467,1069690091017.7289,1069691727543.0323,1069693356126.5201,1069694979507.1403,1069696600313.1665,1069698221119.1927,1069699844499.8129,1069701473083.3007,1069703109608.6041,1069704756989.3864,1069706418389.7688,1069708097318.08,1069709797747.6786,1069711524278.5808,1069713282361.6312,1069715078621.2269,1069716921339.2709,1069718821215.8485,1069720792634.7493,1069722855925.4205,1069725041809.0823,1069727401392.3529,1069730033824.0869,1069733199008.8226,1158691231763.8252,1158694660397.0308,1158697511934.4949,1158700067913.4436,1158702435735.208,1158704670760.1746,1158706806266.5889,1158708864275.9832,1158710860369.3555,1158712806137.3943,1158714710551.3315,1158716580786.9343,1158718422748.7383,1158720241419.6335,1158722041103.6946,1158723825601.259,1158725598339.8086,1158727362475.5195,1158729120975.3115,1158730876686.218,1158732632397.1245,1158734390896.9165,1158736155032.6274,1158737927771.177,1158739712268.7415,1158741511952.8025,1158743330623.6978,1158745172585.5017,1158747042821.1045,1158748947235.0417,1158750893003.0806,1158752889096.453,1158754947105.8472,1158757082612.2615,1158759317637.228,1158761685458.9924,1158764241437.9412,1158767092975.4053,1158770521608.6108,1247696757085.3298,1247700449090.943,1247703519670.8777,1247706271988.8015,1247708821696.1404,1247711228405.8196,1247713527952.3726,1247715744048.9275,1247717893473.3467,1247719988706.6628,1247722039409.2388,1247724053308.052,1247726036761.1985,1247727995134.332,1247729933062.1467,1247731854636.9055,1247733763549.374,1247735663198.1719,1247737556778.1245,1247739447354.962,1247741337931.7993,1247743231511.752,1247745131160.5498,1247747040073.0183,1247748961647.777,1247750899575.5918,1247752857948.7253,1247754841401.8718,1247756855300.685,1247758906003.261,1247761001236.5771,1247763150660.9963,1247765366757.5513,1247767666304.1042,1247770073013.7834,1247772622721.1223,1247775375039.0461,1247778445618.9807,1247782137624.594,1336674600338.5334,1336678555634.6418,1336681845188.9216,1336684793784.756,1336687525321.0999,1336690103662.0955,1336692567197.7678,1336694941332.3164,1336697244040.0938,1336699488692.2014,1336701685637.918,1336703843155.2603,1336705968055.7434,1336708066087.6655,1336710142216.238,1336712200825.558,1336714245869.5933,1336716280989.3315,1336718309607.433,1336720335008.2559,1336722360409.0786,1336724389027.1802,1336726424146.9185,1336728469190.9536,1336730527800.2737,1336732603928.8462,1336734701960.7683,1336736826861.2515,1336738984378.5938,1336741181324.3103,1336743425976.418,1336745728684.1953,1336748102818.744,1336750566354.4163,1336753144695.4119,1336755876231.7556,1336758824827.59,1336762114381.8699,1336766069677.9783,1425622784160.046,1425627002658.8853,1425630511114.518,1425633655922.8372,1425636569227.576,1425639319142.677,1425641946612.8057,1425644478732.6682,1425646934672.709,1425649328693.8018,1425651671833.9111,1425653972921.9092,1425656239222.5796,1425658476866.7373,1425660691150.0005,1425662886748.2034,1425665067878.4277,1425667238423.9492,1425669402035.1865,1425671562215.0532,1425673722394.92,1425675886006.1572,1425678056551.6787,1425680237681.903,1425682433280.106,1425684647563.3691,1425686885207.5269,1425689151508.1973,1425691452596.1953,1425693795736.3047,1425696189757.3975,1425698645697.4382,1425701177817.3008,1425703805287.4294,1425706555202.5305,1425709468507.2693,1425712613315.5884,1425716121771.2212,1425720340270.0605,1514539331366.3335,1514543812974.2893,1514547540253.4175,1514550881204.4333,1514553976212.9167,1514556897641.0986,1514559688987.3765,1514562379036.3613,1514564988154.1648,1514567531491.116,1514570020773.62,1514572465381.21,1514574873031.775,1514577250238.5117,1514579602627.3274,1514581935165.6895,1514584252333.7012,1514586558256.8381,1514588856813.1975,1514591151724.1707,1514593446635.1438,1514595745191.5032,1514598051114.6401,1514600368282.6519,1514602700821.014,1514605053209.8296,1514607430416.5664,1514609838067.1313,1514612282674.7212,1514614771957.2253,1514617315294.1765,1514619924411.98,1514622614460.9648,1514625405807.2427,1514628327235.4246,1514631422243.908,1514634763194.9238,1514638490474.052,1514642972082.0078,1603422264594.0015,1603427009211.6082,1603430955231.508,1603434492251.0708,1603437768894.6077,1603440861771.0317,1603443816931.5066,1603446664849.9106,1603449427087.5696,1603452119683.9316,1603454755053.5833,1603457343126.5083,1603459892073.5322,1603462408790.088,1603464899232.2466,1603467368658.9995,1603469821813.37,1603472263062.9448,1603474696513.4116,1603477126104.5576,1603479555695.7036,1603481989146.1704,1603484430395.745,1603486883550.1157,1603489352976.8687,1603491843419.0273,1603494360135.583,1603496909082.607,1603499497155.532,1603502132525.1836,1603504825121.5457,1603507587359.2046,1603510435277.6086,1603513390438.0835,1603516483314.5076,1603519759958.0444,1603523296977.6072,1603527242997.507,1603531987615.1138,1692269606509.6301,1692274614031.5708,1692278778704.652,1692282511714.2505,1692285969920.1086,1692289234176.122,1692292353085.1982,1692295358809.8057,1692298274106.0066,1692301115902.0115,1692303897300.3132,1692306628781.126,1692309318968.0295,1692311975138.54,1692314603578.7615,1692317209839.0908,1692319798925.368,1692322375447.1917,1692324943737.7502,1692327507955.1392,1692330072172.528,1692332640463.0867,1692335216984.9104,1692337806071.1875,1692340412331.5168,1692343040771.7383,1692345696942.2488,1692348387129.1523,1692351118609.965,1692353900008.2668,1692356741804.2717,1692359657100.4727,1692362662825.08,1692365781734.1562,1692369045990.1697,1692372504196.0278,1692376237205.6262,1692380401878.7075,1692385409400.6482,1781079379899.72,1781084650214.8274,1781089033448.6338,1781092962365.3945,1781096602056.8018,1781100037619.9375,1781103320208.375,1781106483672.4587,1781109551962.4817,1781112542895.0415,1781115470260.2458,1781118345088.3074,1781121176455.3682,1781123972020.8665,1781126738400.7988,1781129481436.8455,1781132206397.551,1781134918134.4246,1781137621208.0588,1781140319994.765,1781143018781.471,1781145721855.1052,1781148433591.9788,1781151158552.6843,1781153901588.731,1781156667968.6633,1781159463534.1616,1781162294901.2224,1781165169729.284,1781168097094.4883,1781171088027.048,1781174156317.071,1781177319781.1548,1781180602369.5923,1781184037932.728,1781187677624.1353,1781191606540.896,1781195989774.7024,1781201260089.8098],\"y\":[2.746234423937187e-18,2.7462426902047363e-18,2.746249565101558e-18,2.7462557274071602e-18,2.7462614360638653e-18,2.7462668245456783e-18,2.746271973177164e-18,2.7462769392126696e-18,2.7462818804957874e-18,2.7462891291623767e-18,2.7463288782746257e-18,2.7466768509133234e-18,2.7491114532297454e-18,2.761734575740107e-18,2.8101916891626753e-18,2.9479070513517727e-18,3.2350741040373957e-18,3.662188702870373e-18,4.078700728245226e-18,4.2555073126614474e-18,4.078713171985722e-18,3.662211126004992e-18,3.235103950283779e-18,2.9479434731618187e-18,2.810235254512381e-18,2.7617861359598917e-18,2.749171562405446e-18,2.7467457910978838e-18,2.746406827965632e-18,2.7463762604518827e-18,2.746378393664174e-18,2.746383076988828e-18,2.7463880341073095e-18,2.746393182299245e-18,2.746398570491891e-18,2.7464042788192067e-18,2.746410440739714e-18,2.7464173151707113e-18,2.746425580827608e-18,3.782177282286349e-18,3.782174116888288e-18,3.782171484217235e-18,3.782169124371678e-18,3.7821669382048696e-18,3.7821648746291974e-18,3.7821629042756705e-18,3.782161068387629e-18,3.782161132456594e-18,3.782197183194596e-18,3.782715689001441e-18,3.7877965244479975e-18,3.823755662063167e-18,4.010465613983214e-18,4.727126878939247e-18,6.7617288508941005e-18,1.0993584246049246e-17,1.7260847007894985e-17,2.3341566055006165e-17,2.5913536536299334e-17,2.334162150797848e-17,1.726092175590113e-17,1.0993640010452013e-17,6.7617520723379734e-18,4.727124980307695e-18,4.010450166371666e-18,3.823733555289119e-18,3.787770259697056e-18,3.782685846227554e-18,3.7821638086161125e-18,3.7821241629212086e-18,3.782120412055285e-18,3.7821184468524e-18,3.782116472982479e-18,3.782114408526642e-18,3.782112221389804e-18,3.782109860410424e-18,3.78210722636785e-18,3.7821040591718545e-18,2.5628528533488448e-18,2.5628395519310172e-18,2.562828489366842e-18,2.562818573428169e-18,2.5628093874503203e-18,2.562800716740751e-18,2.562792438230685e-18,2.5627847414558572e-18,2.56278551452452e-18,2.562946984491381e-18,2.5652629887603307e-18,2.587953331381046e-18,2.7485356000095716e-18,3.5822169945272754e-18,6.780555653303462e-18,1.5846506445052353e-17,3.4636223647467067e-17,6.22972834311605e-17,8.894574197120039e-17,1.0016121769170424e-16,8.894598495521923e-17,6.229761381246683e-17,3.4636473181046873e-17,1.5846613219233775e-17,6.7805514948328514e-18,3.582153226242687e-18,2.7484429724060486e-18,2.5878430329284505e-18,2.5651376259874842e-18,2.562806781022159e-18,2.5626302086262223e-18,2.5626139476150335e-18,2.5626056763251142e-18,2.5625973854832697e-18,2.5625887146787235e-18,2.562579528774763e-18,2.562569612923802e-18,2.5625585504657347e-18,2.5625452491870032e-18,1.2544372032835331e-18,1.2544249790484225e-18,1.2544148124207523e-18,1.2544056996032659e-18,1.2543972576661817e-18,1.2543892894364789e-18,1.25438169234326e-18,1.2543751205657946e-18,1.25439069867789e-18,1.2548341371701063e-18,1.2610183758890618e-18,1.3214926681438408e-18,1.7493888771542497e-18,3.9705153687608704e-18,1.248704922636511e-17,3.658840123012785e-17,8.635386564663833e-17,1.5915725772962785e-16,2.287768521479881e-16,2.5792464405445116e-16,2.287775068662948e-16,1.5915816948611965e-16,8.635459464797453e-17,3.658877928875238e-17,1.2487157453350573e-17,3.970489436810992e-18,1.7493107322621954e-18,1.3213923954969866e-18,1.2609032956926204e-18,1.2547053068939025e-18,1.2542479808689695e-18,1.254218169601295e-18,1.2542100675081209e-18,1.254202438196485e-18,1.254194470443385e-18,1.2541860295413704e-18,1.2541769179375852e-18,1.254166752778076e-18,1.254154530467582e-18,5.088680599337351e-19,5.088607500601783e-19,5.088546706292653e-19,5.088492213781839e-19,5.088441733196215e-19,5.088394088344618e-19,5.088348886693666e-19,5.0883201023842695e-19,5.08872492809135e-19,5.097561721965845e-19,5.219565131015863e-19,6.411785722268444e-19,1.4846817267410343e-18,5.8626222922699655e-18,2.2641552781083285e-17,7.006028985120377e-17,1.6766810998757072e-16,3.0971599942551033e-16,4.447133996056342e-16,5.0098690255004e-16,4.447146810461209e-16,3.0971780523043084e-16,1.676695868956456e-16,7.006110107907488e-17,2.264185209634175e-17,5.862675223962391e-18,1.4846496152472036e-18,6.411208903269112e-19,5.218879567894648e-19,5.096791589328481e-19,5.087871563621759e-19,5.087381620579268e-19,5.087322662648664e-19,5.087276818591917e-19,5.087229174851176e-19,5.08717870515395e-19,5.087124225443174e-19,5.087063446617739e-19,5.08699036817981e-19,1.8287376729689635e-19,1.8287029203563784e-19,1.828674017650483e-19,1.828648111036408e-19,1.8286241118769774e-19,1.8286014656613697e-19,1.8285803435439664e-19,1.8285836910728505e-19,1.8292810930476016e-19,1.8435028236603164e-19,2.0392516730490115e-19,3.951708614498459e-19,1.74820106486254e-18,8.770184683714011e-18,3.5675223434097136e-17,1.1164703592851952e-16,2.677282326968037e-16,4.941376142034925e-16,7.084865763688817e-16,7.975966847463611e-16,7.084886148482789e-16,4.941405026863512e-16,2.677306157950704e-16,1.116483682588195e-16,3.56757456015259e-17,8.770320698714432e-18,1.7482094737280634e-18,3.951471263377825e-19,2.038929898802146e-19,1.8431370364854283e-19,1.8288754271934546e-19,1.828137543606459e-19,1.8280924833431593e-19,1.8280703229097015e-19,1.8280476695497614e-19,1.8280236776030673e-19,1.8279977795336079e-19,1.8279688871640384e-19,1.827934148101377e-19,6.042009209687498e-20,6.0418663362033e-20,6.041747513144812e-20,6.041641007852136e-20,6.041542345148387e-20,6.041449309322542e-20,6.04136749288651e-20,6.041613987803168e-20,6.051380892294276e-20,6.246774972296033e-20,8.933767831920293e-20,3.5183917769552015e-19,2.2089747726996998e-18,1.1846998152635413e-17,4.877287489390843e-17,1.5301794114437458e-16,3.67079602224893e-16,6.773367423872307e-16,9.707784003794396e-16,1.0926847361146076e-15,9.707811927748673e-16,6.773407049983164e-16,3.670828794080762e-16,1.5301978254920506e-16,4.877360863962078e-17,1.1847205538809437e-17,2.2090105788870445e-18,3.5183445764508713e-19,8.932501581407177e-20,6.245275738680255e-20,6.049713473066277e-20,6.039779913741746e-20,6.039361931672904e-20,6.039265816160053e-20,6.039172628385385e-20,6.039074002784842e-20,6.038967542405206e-20,6.038848773680797e-20,6.038705971423336e-20,1.8770035441939877e-20,1.8769504431814082e-20,1.8769062810552196e-20,1.8768666971384757e-20,1.8768300286876202e-20,1.87679552893407e-20,1.8767711380153968e-20,1.877141788010411e-20,1.8890443792767966e-20,2.1258351184522726e-20,5.381231291472962e-20,3.71837451822045e-19,2.6217978497226443e-18,1.4298816533946464e-17,5.90420009544778e-17,1.8540218919999544e-16,4.450923555845993e-16,8.220102003991138e-16,1.1790908310290277e-15,1.3276085317652243e-15,1.1790942329262957e-15,8.220150207677233e-16,4.450963371381925e-16,1.854044267201631e-16,5.904289627604855e-17,1.429907523472233e-17,2.6218499432359054e-18,3.7184173717871246e-19,5.380828488266282e-20,2.1252833237888534e-20,1.8884249873712854e-20,1.8764601748778156e-20,1.876025782005033e-20,1.8759840452019366e-20,1.8759493359311067e-20,1.8759126832220653e-20,1.8758731195675052e-20,1.8758289819578325e-20,1.8757759130840552e-20,5.56347897705046e-21,5.563295752726036e-21,5.56314337257428e-21,5.563006789937376e-21,5.5628802733378505e-21,5.5627620701896944e-21,5.562742524551178e-21,5.567017965731925e-21,5.696925420405293e-21,8.276957235107326e-21,4.3744344513396694e-20,3.902298695124112e-19,2.8415696884433764e-18,1.556455374045776e-17,6.432852676218834e-17,2.0215523320399067e-16,4.859333869352131e-16,8.99090940493974e-16,1.2919411809990332e-15,1.4557590150115517e-15,1.291944930853323e-15,8.990962349520284e-16,4.859377444327341e-16,2.021576768353488e-16,6.432950477502264e-17,1.556483807909912e-17,2.841629315565905e-18,3.902378338768807e-19,4.3743682728355514e-20,8.275111232334833e-21,5.694791505040498e-21,5.564666309400948e-21,5.56017082227665e-21,5.559962204474475e-21,5.559841615393795e-21,5.5597151516829296e-21,5.5595786511171324e-21,5.559426370313151e-21,5.5592432762242295e-21,1.5891691385948424e-21,1.5891094245571906e-21,1.5890597630581739e-21,1.589015250239007e-21,1.588974023895493e-21,1.588936317857883e-21,1.5889930597374084e-21,1.5933133332918743e-21,1.7224242017206788e-21,4.2852910865072376e-21,3.95158357191666e-20,3.8368775581449265e-19,2.818696990980422e-18,1.545799931784634e-17,6.39180055121323e-17,2.0103004861548304e-16,4.840164621770868e-16,8.976907042604041e-16,1.2929182743966054e-15,1.4582841069818296e-15,1.2929220560146295e-15,8.976960184799728e-16,4.840208149813263e-16,2.0103248197419204e-16,6.391897832365372e-17,1.5458282564331503e-17,2.818757109637115e-18,3.836966864171133e-19,3.951633114156966e-20,4.2847460055612655e-21,1.7217318822068992e-21,1.5925470665349606e-21,1.5881549713089753e-21,1.5880238707121953e-21,1.5879837568028567e-21,1.5879425394873115e-21,1.5878980573234568e-21,1.5878484329770536e-21,1.5877887676430025e-21,4.405966073331474e-22,4.405780067429899e-22,4.405625375294983e-22,4.405486721633712e-22,4.405358357310586e-22,4.405248234006043e-22,4.405991270493069e-22,4.445711056714372e-22,5.626484859419854e-22,2.9061037462532773e-21,3.512024481967754e-20,3.498250508931035e-19,2.5763918945432292e-18,1.4134781465246242e-17,5.846668283020253e-17,1.8403845195137045e-16,4.4386602418880706e-16,8.253124821295715e-16,1.1915958392756224e-15,1.3453980492501432e-15,1.1915993527687771e-15,8.253173949987853e-16,4.4387002777034697e-16,1.8404068248830216e-16,5.846757321516018e-17,1.413504073118252e-17,2.576447129108607e-18,3.4983351699264315e-19,3.5121037184248137e-20,2.9059846729455683e-21,5.624356263259732e-22,4.443325322677227e-22,4.403380831804147e-22,4.402406160640704e-22,4.40227389146301e-22,4.402145461777951e-22,4.402006915488545e-22,4.401852353881292e-22,4.401666519089821e-22,1.1919458742722547e-22,1.1918900234230911e-22,1.1918435751664378e-22,1.1918019429633985e-22,1.1917634433519537e-22,1.1917364563157765e-22,1.1924293470497617e-22,1.2261426438643643e-22,2.2266020371385857e-22,2.2081377718246016e-21,2.9501295956834545e-20,2.961327870733507e-19,2.1826052442247065e-18,1.1976338300651938e-17,4.9552654611686414e-17,1.5609876918143337e-16,3.7707864955851626e-16,7.027803860164994e-16,1.0170027299925471e-15,1.1493805480592279e-15,1.017005751106089e-15,7.027845909119384e-16,3.770820600152521e-16,1.561006632522529e-16,4.9553409568954385e-17,1.1976558062045807e-17,2.1826521165536162e-18,2.961400447372529e-19,2.950206318203176e-20,2.208144086552901e-21,2.225986015640037e-22,1.2254271773152242e-22,1.1916455872049477e-22,1.1908831290707868e-22,1.1908373379156714e-22,1.1907987355754835e-22,1.1907571389804037e-22,1.1907107343440833e-22,1.1906549406777448e-22,3.1591072876358935e-23,3.1589446073486523e-23,3.1588093151675735e-23,3.158688052525669e-23,3.158576246612446e-23,3.158544595407551e-23,3.164191729943582e-23,3.430686415517136e-23,1.1334254809157454e-22,1.6818271842292551e-21,2.3242819552169325e-20,2.338761660202245e-19,1.724169382835815e-18,9.461653159435444e-18,3.9156998575718355e-17,1.2342948036788566e-16,2.985570879279287e-16,5.57532355929411e-16,8.083593723980407e-16,9.143211979625725e-16,8.083617886680457e-16,5.575357060101323e-16,2.9855979433981306e-16,1.234309794471711e-16,3.915759534210411e-17,9.461826808092115e-18,1.7242064321177186e-18,2.3388192264872445e-19,2.324345189601029e-20,1.6818615182159792e-21,1.1332638907055382e-22,3.4286090733559224e-23,3.1619090944271585e-23,3.1560591864507716e-23,3.155878860904212e-23,3.155766098735745e-23,3.1556449481852556e-23,3.155509795919357e-23,3.155347299053528e-23,8.228617553496554e-24,8.228155655889594e-24,8.227771522899667e-24,8.227427233161492e-24,8.227112185822772e-24,8.22736056397593e-24,8.269535835885593e-24,1.0238537917707e-23,6.862149757996808e-23,1.2272390906728541e-21,1.7154038411533915e-20,1.727461110925838e-19,1.273616925930929e-18,6.989557359093334e-18,2.8931290033476137e-17,9.124113993166333e-17,2.2092440844672703e-16,4.1318732905319677e-16,5.999637697061816e-16,6.790353401845345e-16,5.999655716514931e-16,4.1318981995481454e-16,2.2092641462414313e-16,9.124224887711841e-17,2.893173106101618e-17,6.98968564957729e-18,1.273644299625629e-18,1.7275036960922932e-19,1.7154512487651793e-20,1.227272246740427e-21,6.861819441774561e-23,1.0232687102637095e-23,8.263056192126928e-24,8.220304131174125e-24,8.21945390398322e-24,8.21913136878303e-24,8.218787411155214e-24,8.218403711845866e-24,8.217942382797304e-24,2.111674848594661e-24,2.1115465241515875e-24,2.1114398047465634e-24,2.1113441603926868e-24,2.1112582554731603e-24,2.1115557284707933e-24,2.1409302534300796e-24,3.5068456995223524e-24,4.4004353479748534e-23,8.476806731306084e-22,1.1895321548043748e-20,1.1982202743361272e-19,8.834483388770491e-19,4.848500263585104e-18,2.0071481562502055e-17,6.332203114912837e-17,1.5343546826624832e-16,2.872777236259963e-16,4.1758143359701276e-16,4.728292346783138e-16,4.1758269205766127e-16,2.872794595421296e-16,1.5343686332843927e-16,6.332280116222341e-17,2.0071787582323494e-17,4.8485892605936254e-18,8.834673283332808e-19,1.198249829642816e-19,1.1895652201654674e-20,8.477056953087167e-22,4.400430355416517e-23,3.505252103565737e-24,2.1391309143302582e-24,2.1095954212671145e-24,2.1091307408153307e-24,2.1090395215568084e-24,2.1089439668306883e-24,2.10883737800255e-24,2.108709224764323e-24,5.349841095253461e-25,5.349491197304524e-25,5.349200210375556e-25,5.348939457058001e-25,5.348715502157005e-25,5.3509753878816915e-25,5.543040144002032e-25,1.4460218844432094e-24,2.7883386471321247e-23,5.525344931955131e-22,7.764588599575751e-21,7.822069331438677e-20,5.767292828868202e-19,3.165250868677014e-18,1.3104369588714316e-17,4.135172343734039e-17,1.0024839846837002e-16,1.8783239505064075e-16,2.732240777976438e-16,3.0946636313627493e-16,2.7322490309137454e-16,1.8783353183411355e-16,1.0024931070598482e-16,4.1352226458812224e-17,1.3104569406515011e-17,3.1653089705230508e-18,5.767416799409725e-19,7.822262313495774e-20,7.764804914608204e-21,5.525513419085972e-22,2.7883923099763097e-23,1.4456075479619352e-24,5.538138912526356e-25,5.345630625903839e-25,5.3429147792564e-25,5.34265580002096e-25,5.342395244119978e-25,5.34210464065406e-25,5.341755245591304e-25,1.3402556458182017e-25,1.340161779470303e-25,1.3400837174113209e-25,1.3400137870551925e-25,1.3399598412423743e-25,1.3414307763064416e-25,1.4597834140833887e-25,6.951214556136774e-25,1.6975730599630457e-23,3.4006527581974523e-22,4.781377413957759e-21,4.816952664725089e-20,3.55161085581041e-19,1.949250178794677e-18,8.070458104743003e-18,2.5470639879283934e-17,6.176715531814664e-17,1.1578439723744382e-16,1.6849739385790446e-16,1.908843748815834e-16,1.6849790354739e-16,1.1578509866854136e-16,6.176771768038887e-17,2.5470949783014766e-17,8.070581173050097e-18,1.949285960210787e-18,3.5516872004309715e-19,4.817071516759485e-20,4.781510739233811e-21,3.400757796572564e-22,1.69762029567043e-23,6.950223413841512e-25,1.4584714521310777e-25,1.3399970621401067e-25,1.3384037746618623e-25,1.3383281711775593e-25,1.3382582582680518e-25,1.3381803063972204e-25,1.338086584620433e-25,3.324801666591874e-26,3.3245534132851715e-26,3.324346959450698e-26,3.324162129386604e-26,3.324053949129363e-26,3.332806782278878e-26,4.021630164604176e-26,3.5973842695062776e-25,9.832654591293792e-24,1.9782314197585713e-22,2.7820121351108363e-21,2.8027525423418653e-20,2.0665171873914934e-19,1.1341873341037877e-18,4.6960076908582975e-18,1.4822058967694883e-17,3.595056500329997e-17,6.740877919385762e-17,9.812397914748214e-17,1.111735416808498e-16,9.81242762162273e-17,6.740918780015575e-17,3.5950892418989393e-17,1.4822239332269926e-17,4.6960793043070796e-18,1.1342081540402935e-18,2.0665616090810764e-19,2.802821699220734e-20,2.782089738843135e-21,1.9782928504061788e-22,9.832964192120173e-24,3.597189819721404e-25,4.0181763458506916e-26,3.32901537915866e-26,3.319938750922737e-26,3.319704321226575e-26,3.3195193194191274e-26,3.3193131761741824e-26,3.319065330748062e-26,8.176715668801542e-27,8.176067286506341e-27,8.175528078214906e-27,8.175045968596558e-27,8.174946658119193e-27,8.223638520239009e-27,1.2019104316119218e-26,1.880577202497817e-25,5.4070862743444845e-24,1.0897895689314376e-22,1.5327174367948077e-21,1.5441535115463738e-20,1.1385323168030253e-19,6.248749548499069e-19,2.5872871426614317e-18,8.166682903205885e-18,1.9810132533323854e-17,3.7150478303247174e-17,5.408637170416111e-17,6.128323123332087e-17,5.408653552777699e-17,3.715070356894004e-17,1.9810312983322416e-17,8.166782287928026e-18,2.5873265993242916e-18,6.248864255596442e-19,1.1385567906823382e-19,1.5441916135908265e-20,1.5327601987359015e-21,1.089823489427843e-22,5.407265239062378e-24,1.8805623672487825e-25,1.2010168205240665e-26,8.213737906604213e-27,8.164199239603201e-27,8.163403766272155e-27,8.162920007110846e-27,8.162381659202277e-27,8.161734408795006e-27,1.995517680489949e-27,1.9953502101143537e-27,1.9952109392395083e-27,1.9950867279223788e-27,1.995152938523352e-27,2.0206800033391205e-27,4.001902005900647e-27,9.588870777855905e-26,2.8200600076430677e-24,5.688136755108008e-23,8.000287470604252e-22,8.06000120484769e-21,5.942788869592586e-20,3.2616631598273425e-19,1.3505000569017177e-18,4.2629181927938045e-18,1.0341233155324672e-17,1.939476745273811e-17,2.823855177947603e-17,3.1997117039942795e-17,2.82386373336007e-17,1.939488507531207e-17,1.0341327362083595e-17,4.262970072501595e-18,1.3505206525563158e-18,3.261723033738514e-19,5.942916615919742e-20,8.06020008716756e-21,8.000510690799607e-22,5.688313989654962e-23,2.8201554162222148e-24,9.589012686819861e-26,3.9996361485284485e-27,2.0181234996266887e-27,1.9923771397250596e-27,1.9920798231735386e-27,1.991954573468191e-27,1.9918155371228158e-27,1.9916483762852306e-27]},\"selected\":{\"id\":\"1193\",\"type\":\"Selection\"},\"selection_policy\":{\"id\":\"1194\",\"type\":\"UnionRenderers\"}},\"id\":\"1145\",\"type\":\"ColumnDataSource\"},{\"attributes\":{\"label\":{\"value\":\"2\"},\"renderers\":[{\"id\":\"1053\",\"type\":\"GlyphRenderer\"}]},\"id\":\"1064\",\"type\":\"LegendItem\"},{\"attributes\":{\"callback\":null},\"id\":\"1003\",\"type\":\"DataRange1d\"},{\"attributes\":{\"line_color\":\"#1f77b4\",\"x\":{\"field\":\"x\"},\"y\":{\"field\":\"y\"}},\"id\":\"1146\",\"type\":\"Line\"},{\"attributes\":{\"callback\":null},\"id\":\"1005\",\"type\":\"DataRange1d\"},{\"attributes\":{\"callback\":null,\"data\":{\"x\":[89185458945.30998,89185722850.1516,89185942335.43849,89186139071.3327,89186321324.60689,89186493356.39754,89186657728.15976,89186816134.9098,89186969775.93051,89187119543.36707,89187266127.74292,89187410081.38301,89187551858.76454,89187691843.42485,89187830366.6522,89187967720.9619,89188104170.1701,89188239957.21043,89188375310.44925,89188510449.02515,89188645587.60104,89188780940.83986,89188916727.88019,89189053177.0884,89189190531.39809,89189329054.62544,89189469039.28575,89189610816.66728,89189754770.30737,89189901354.68323,89190051122.11978,89190204763.14049,89190363169.89053,89190527541.65276,89190699573.4434,89190881826.71759,89191078562.6118,89191298047.8987,89191561952.74031,178368940557.2012,178369468361.0334,178369907326.741,178370300794.16757,178370665296.6752,178371009356.44235,178371338096.3225,178371654906.31058,178371962184.9456,178372261716.4982,178372554882.0,178372842786.0886,178373126337.70828,178373406303.9253,178373683347.3088,178373958052.8829,178374230948.27408,178374502519.3442,178374773222.82092,178375043496.97656,178375313771.1322,178375584474.60892,178375856045.67905,178376128941.07022,178376403646.64432,178376680690.02783,178376960656.24484,178377244207.86453,178377532111.95312,178377825277.45493,178378124809.00754,178378432087.64255,178378748897.6306,178379077637.51077,178379421697.27792,178379786199.78555,178380179667.21213,178380618632.91974,178381146436.75192,267548467652.14603,267549259343.26712,267549917779.66336,267550507969.89896,267551054713.55887,267551570793.6746,267552063894.38437,267552539100.5866,267553000010.02344,267553449299.0514,267553889039.17947,267554320887.33362,267554746206.90503,267555166148.47177,267555581705.8693,267555993756.6174,267556403092.1414,267556810441.22046,267557216488.93344,267557621892.67673,267558027296.42,267558433344.133,267558840693.21207,267559250028.73605,267559662079.48416,267560077636.88168,267560497578.44843,267560922898.01984,267561354746.17398,267561794486.30206,267562243775.33002,267562704684.76685,267563179890.9691,267563672991.67886,267564189071.7946,267564735815.4545,267565326005.6901,267565984442.08633,267566776133.20743,356722062836.7694,356723118397.6266,356723996290.11304,356724783190.0723,356725512162.76245,356726200251.78455,356726857702.39124,356727491294.2717,356728105824.29144,356728704860.8333,356729291165.83813,356729866948.48315,356730434026.57635,356730993934.1822,356731547996.3802,356732097383.1666,356732643149.74786,356733186267.8044,356733727650.75104,356734268175.0936,356734808699.4362,356735350082.3829,356735893200.4394,356736438967.0206,356736988353.80707,356737542416.00507,356738102323.6109,356738669401.7041,356739245184.3491,356739831489.35394,356740430525.8958,356741045055.9155,356741678647.796,356742336098.4027,356743024187.4248,356743753160.1149,356744540060.0742,356745417952.56067,356746473513.41785,445887748807.6304,445889068214.8198,445890165543.9319,445891149136.1678,445892060321.72546,445892920404.39764,445893742190.32434,445894534153.8351,445895302290.81226,445896051061.58636,445896783918.4683,445897503622.838,445898212446.8799,445898912308.1105,445899604862.8244,445900291573.46826,445900973759.00604,445901652633.99805,445902329340.17487,445903004973.13226,445903680606.08966,445904357312.2665,445905036187.2585,445905718372.79626,445906405083.4401,445907097638.15405,445907797499.38464,445908506323.4265,445909226027.7962,445909958884.67816,445910707655.4523,445911475792.42944,445912267755.9402,445913089541.8669,445913949624.53906,445914860810.09674,445915844402.33264,445916941731.4447,445918261138.63416,535043548411.18024,535045131635.4476,535046448376.8549,535047628639.55896,535048722017.781,535049754075.0333,535050740178.059,535051690495.64044,535052612222.54376,535053510710.94806,535054390103.45807,535055253713.5949,535056104267.869,535056944067.207,535057775099.08124,535058599118.35645,535059417707.72516,535060232324.60046,535061044339.00323,535061855065.59515,535062665792.1871,535063477806.58984,535064292423.46515,535065111012.83386,535065935032.1091,535066766063.98334,535067605863.3213,535068456417.5954,535069320027.73224,535070199420.24225,535071097908.64655,535072019635.54987,535072969953.1313,535073956056.157,535074988113.4093,535076081491.63135,535077261754.3354,535078578495.74274,535080161720.0101,624187484164.1082,624189331170.3477,624190867294.8535,624192244201.8549,624193519748.4972,624194723757.4451,624195874155.7045,624196982806.2844,624198058102.6759,624199106288.7877,624200132197.4264,624201139694.181,624202131959.8276,624203111678.6515,624204081169.259,624205042478.8943,624205997453.9427,624206947794.6383,624207895099.2618,624208840901.5115,624209786703.7611,624210734008.3846,624211684349.0802,624212639324.1287,624213600633.7639,624214570124.3715,624215549843.1953,624216542108.8419,624217549605.5966,624218575514.2352,624219623700.347,624220698996.7385,624221807647.3185,624222958045.5779,624224162054.5258,624225437601.1681,624226814508.1694,624228350632.6753,624230197638.9148,713317578942.8441,713319689690.0995,713321445163.6411,713323018684.4078,713324476371.1859,713325852305.1313,713327166973.1149,713328433932.1099,713329662774.1455,713330860634.7218,713332033036.7404,713333184397.7722,713334318352.7883,713335437969.3734,713336545897.2166,713337644475.8951,713338735815.4475,713339821858.8901,713340904432.7284,713341985289.6632,713343066146.598,713344148720.4363,713345234763.8789,713346326103.4313,713347424682.1099,713348532609.953,713349652226.5381,713350786181.5542,713351937542.586,713353109944.6046,713354307805.1809,713355536647.2166,713356803606.2115,713358118274.1951,713359494208.1405,713360951894.9186,713362525415.6853,713364280889.2269,713366391636.4823,802431855354.012,802434229795.4758,802436204579.1241,802437974678.7622,802439614473.3507,802441162301.7812,802442641210.3352,802444066449.6494,802445448810.0785,802446796318.5559,802448115187.9554,802449410387.7322,802450686006.9716,802451945496.4894,802453191836.9989,802454427660.3591,802455655340.2141,802456877062.32,802458094881.3661,802459310769.0172,802460526656.6683,802461744475.7145,802462966197.8203,802464193877.6753,802465429701.0355,802466676041.545,802467935531.0629,802469211150.3022,802470506350.079,802471825219.4785,802473172727.9559,802474555088.385,802475980327.6992,802477459236.2532,802479007064.6837,802480646859.2722,802482416958.9103,802484391742.5586,802486766184.0225,891528336124.15,891530974207.164,891533168257.124,891535134896.3777,891536956762.4108,891538676450.9999,891540319567.3264,891541903055.352,891543438903.518,891544936030.0126,891546401337.5442,891547840347.3419,891549257602.515,891550656937.0339,891552041662.5695,891553414703.2043,891554778696.1354,891556136069.81,891557489107.0565,891558839998.459,891560190889.8615,891561543927.1079,891562901300.7826,891564265293.7136,891565638334.3485,891567023059.884,891568422394.403,891569839649.576,891571278659.3738,891572743966.9054,891574241093.4,891575776941.5659,891577360429.5916,891579003545.9181,891580723234.5072,891582545100.5403,891584511739.794,891586705789.754,891589343872.768,980605043979.7953,980607945645.8502,980610358913.4609,980612522048.7126,980614525945.7837,980616417456.3911,980618224744.048,980619966445.6654,980621655747.505,980623302458.8125,980624914171.9778,980626496959.8812,980628055819.5552,980629594968.0397,980631118047.8899,980632628275.3472,980634128551.1028,980635621546.2417,980637109771.6796,980638595636.8726,980640081502.0656,980641569727.5034,980643062722.6423,980644562998.398,980646073225.8552,980647596305.7054,980649135454.19,980650694313.8639,980652277101.7673,980653888814.9326,980655535526.2401,980657224828.0797,980658966529.6971,980660773817.354,980662665327.9614,980664669225.0325,980666832360.2842,980669245627.8949,980672147293.9498,1069660001617.5104,1069663166802.2461,1069665799233.9801,1069668158817.2507,1069670344700.9125,1069672407991.5837,1069674379410.4845,1069676279287.0621,1069678122005.1061,1069679918264.7018,1069681676347.7522,1069683402878.6544,1069685103308.253,1069686782236.5642,1069688443636.9467,1069690091017.7289,1069691727543.0323,1069693356126.5201,1069694979507.1403,1069696600313.1665,1069698221119.1927,1069699844499.8129,1069701473083.3007,1069703109608.6041,1069704756989.3864,1069706418389.7688,1069708097318.08,1069709797747.6786,1069711524278.5808,1069713282361.6312,1069715078621.2269,1069716921339.2709,1069718821215.8485,1069720792634.7493,1069722855925.4205,1069725041809.0823,1069727401392.3529,1069730033824.0869,1069733199008.8226,1158691231763.8252,1158694660397.0308,1158697511934.4949,1158700067913.4436,1158702435735.208,1158704670760.1746,1158706806266.5889,1158708864275.9832,1158710860369.3555,1158712806137.3943,1158714710551.3315,1158716580786.9343,1158718422748.7383,1158720241419.6335,1158722041103.6946,1158723825601.259,1158725598339.8086,1158727362475.5195,1158729120975.3115,1158730876686.218,1158732632397.1245,1158734390896.9165,1158736155032.6274,1158737927771.177,1158739712268.7415,1158741511952.8025,1158743330623.6978,1158745172585.5017,1158747042821.1045,1158748947235.0417,1158750893003.0806,1158752889096.453,1158754947105.8472,1158757082612.2615,1158759317637.228,1158761685458.9924,1158764241437.9412,1158767092975.4053,1158770521608.6108,1247696757085.3298,1247700449090.943,1247703519670.8777,1247706271988.8015,1247708821696.1404,1247711228405.8196,1247713527952.3726,1247715744048.9275,1247717893473.3467,1247719988706.6628,1247722039409.2388,1247724053308.052,1247726036761.1985,1247727995134.332,1247729933062.1467,1247731854636.9055,1247733763549.374,1247735663198.1719,1247737556778.1245,1247739447354.962,1247741337931.7993,1247743231511.752,1247745131160.5498,1247747040073.0183,1247748961647.777,1247750899575.5918,1247752857948.7253,1247754841401.8718,1247756855300.685,1247758906003.261,1247761001236.5771,1247763150660.9963,1247765366757.5513,1247767666304.1042,1247770073013.7834,1247772622721.1223,1247775375039.0461,1247778445618.9807,1247782137624.594,1336674600338.5334,1336678555634.6418,1336681845188.9216,1336684793784.756,1336687525321.0999,1336690103662.0955,1336692567197.7678,1336694941332.3164,1336697244040.0938,1336699488692.2014,1336701685637.918,1336703843155.2603,1336705968055.7434,1336708066087.6655,1336710142216.238,1336712200825.558,1336714245869.5933,1336716280989.3315,1336718309607.433,1336720335008.2559,1336722360409.0786,1336724389027.1802,1336726424146.9185,1336728469190.9536,1336730527800.2737,1336732603928.8462,1336734701960.7683,1336736826861.2515,1336738984378.5938,1336741181324.3103,1336743425976.418,1336745728684.1953,1336748102818.744,1336750566354.4163,1336753144695.4119,1336755876231.7556,1336758824827.59,1336762114381.8699,1336766069677.9783,1425622784160.046,1425627002658.8853,1425630511114.518,1425633655922.8372,1425636569227.576,1425639319142.677,1425641946612.8057,1425644478732.6682,1425646934672.709,1425649328693.8018,1425651671833.9111,1425653972921.9092,1425656239222.5796,1425658476866.7373,1425660691150.0005,1425662886748.2034,1425665067878.4277,1425667238423.9492,1425669402035.1865,1425671562215.0532,1425673722394.92,1425675886006.1572,1425678056551.6787,1425680237681.903,1425682433280.106,1425684647563.3691,1425686885207.5269,1425689151508.1973,1425691452596.1953,1425693795736.3047,1425696189757.3975,1425698645697.4382,1425701177817.3008,1425703805287.4294,1425706555202.5305,1425709468507.2693,1425712613315.5884,1425716121771.2212,1425720340270.0605,1514539331366.3335,1514543812974.2893,1514547540253.4175,1514550881204.4333,1514553976212.9167,1514556897641.0986,1514559688987.3765,1514562379036.3613,1514564988154.1648,1514567531491.116,1514570020773.62,1514572465381.21,1514574873031.775,1514577250238.5117,1514579602627.3274,1514581935165.6895,1514584252333.7012,1514586558256.8381,1514588856813.1975,1514591151724.1707,1514593446635.1438,1514595745191.5032,1514598051114.6401,1514600368282.6519,1514602700821.014,1514605053209.8296,1514607430416.5664,1514609838067.1313,1514612282674.7212,1514614771957.2253,1514617315294.1765,1514619924411.98,1514622614460.9648,1514625405807.2427,1514628327235.4246,1514631422243.908,1514634763194.9238,1514638490474.052,1514642972082.0078,1603422264594.0015,1603427009211.6082,1603430955231.508,1603434492251.0708,1603437768894.6077,1603440861771.0317,1603443816931.5066,1603446664849.9106,1603449427087.5696,1603452119683.9316,1603454755053.5833,1603457343126.5083,1603459892073.5322,1603462408790.088,1603464899232.2466,1603467368658.9995,1603469821813.37,1603472263062.9448,1603474696513.4116,1603477126104.5576,1603479555695.7036,1603481989146.1704,1603484430395.745,1603486883550.1157,1603489352976.8687,1603491843419.0273,1603494360135.583,1603496909082.607,1603499497155.532,1603502132525.1836,1603504825121.5457,1603507587359.2046,1603510435277.6086,1603513390438.0835,1603516483314.5076,1603519759958.0444,1603523296977.6072,1603527242997.507,1603531987615.1138,1692269606509.6301,1692274614031.5708,1692278778704.652,1692282511714.2505,1692285969920.1086,1692289234176.122,1692292353085.1982,1692295358809.8057,1692298274106.0066,1692301115902.0115,1692303897300.3132,1692306628781.126,1692309318968.0295,1692311975138.54,1692314603578.7615,1692317209839.0908,1692319798925.368,1692322375447.1917,1692324943737.7502,1692327507955.1392,1692330072172.528,1692332640463.0867,1692335216984.9104,1692337806071.1875,1692340412331.5168,1692343040771.7383,1692345696942.2488,1692348387129.1523,1692351118609.965,1692353900008.2668,1692356741804.2717,1692359657100.4727,1692362662825.08,1692365781734.1562,1692369045990.1697,1692372504196.0278,1692376237205.6262,1692380401878.7075,1692385409400.6482,1781079379899.72,1781084650214.8274,1781089033448.6338,1781092962365.3945,1781096602056.8018,1781100037619.9375,1781103320208.375,1781106483672.4587,1781109551962.4817,1781112542895.0415,1781115470260.2458,1781118345088.3074,1781121176455.3682,1781123972020.8665,1781126738400.7988,1781129481436.8455,1781132206397.551,1781134918134.4246,1781137621208.0588,1781140319994.765,1781143018781.471,1781145721855.1052,1781148433591.9788,1781151158552.6843,1781153901588.731,1781156667968.6633,1781159463534.1616,1781162294901.2224,1781165169729.284,1781168097094.4883,1781171088027.048,1781174156317.071,1781177319781.1548,1781180602369.5923,1781184037932.728,1781187677624.1353,1781191606540.896,1781195989774.7024,1781201260089.8098],\"y\":[2.746234423937187e-18,2.7462426902047363e-18,2.746249565101558e-18,2.7462557274071602e-18,2.7462614360638653e-18,2.7462668245456814e-18,2.746271973177164e-18,2.74627693921267e-18,2.74628188049579e-18,2.7462891291623705e-18,2.7463288782729482e-18,2.7466768507431027e-18,2.7491114439760792e-18,2.7617342970059518e-18,2.810186911454543e-18,2.9478594726624857e-18,3.234794425513176e-18,3.661206587046673e-18,4.07662211244985e-18,4.252840381426101e-18,4.0766345437022174e-18,3.661228998360429e-18,3.2348242666988322e-18,2.947895893321753e-18,2.8102304766594027e-18,2.7617858572155623e-18,2.749171553151381e-18,2.746745790927657e-18,2.7464068279639557e-18,2.746376260451875e-18,2.746378393664174e-18,2.746383076988828e-18,2.7463880341073095e-18,2.746393182299248e-18,2.746398570491891e-18,2.7464042788192067e-18,2.746410440739714e-18,2.7464173151707113e-18,2.746425580827608e-18,3.782177282286349e-18,3.782174116888288e-18,3.782171484217235e-18,3.782169124371678e-18,3.7821669382048696e-18,3.7821648746291974e-18,3.7821629042756705e-18,3.782161068387628e-18,3.7821611324565895e-18,3.782197183194125e-18,3.782715688908321e-18,3.787796514996558e-18,3.823755148265695e-18,4.010450139912704e-18,4.726861791559887e-18,6.759093214045673e-18,1.0978143103326125e-17,1.7206893408340107e-17,2.3227928749135027e-17,2.576803693440375e-17,2.3227983520263117e-17,1.7206967506201618e-17,1.0978198587301262e-17,6.759116371401299e-18,4.726859884842268e-18,4.0104346917327855e-18,3.823733041469545e-18,3.787770250245153e-18,3.782685846134428e-18,3.782163808615643e-18,3.782124162921209e-18,3.782120412055285e-18,3.7821184468524e-18,3.782116472982479e-18,3.782114408526642e-18,3.782112221389804e-18,3.782109860410424e-18,3.78210722636785e-18,3.7821040591718545e-18,2.5628528533488448e-18,2.5628395519310172e-18,2.562828489366842e-18,2.562818573428169e-18,2.56280938745032e-18,2.562800716740751e-18,2.5627924382306848e-18,2.5627847414558572e-18,2.5627855145245067e-18,2.5629469844871303e-18,2.565262987919107e-18,2.587953245998661e-18,2.7485309586485087e-18,3.5820772389951565e-18,6.778163373764083e-18,1.5822774261155163e-17,3.4497832749851824e-17,6.181706530101168e-17,8.794111602172974e-17,9.887859265324536e-17,8.794135304026949e-17,6.181738993583735e-17,3.449807977878898e-17,1.582288045890927e-17,6.778159142320836e-18,3.582013465575226e-18,2.748438330845231e-18,2.587842947541846e-18,2.5651376251462107e-18,2.5628067810179065e-18,2.5626302086262123e-18,2.5626139476150335e-18,2.5626056763251142e-18,2.5625973854832697e-18,2.562588714678724e-18,2.562579528774763e-18,2.562569612923802e-18,2.5625585504657347e-18,2.5625452491870032e-18,1.2544372032835331e-18,1.2544249790484225e-18,1.2544148124207523e-18,1.2544056996032659e-18,1.2543972576661817e-18,1.2543892894364789e-18,1.25438169234326e-18,1.2543751205657946e-18,1.2543906986778475e-18,1.2548341371527598e-18,1.2610183724576365e-18,1.3214923198640153e-18,1.749369945550551e-18,3.969945443798288e-18,1.2477301527828542e-17,3.649192745127104e-17,8.5794034791416e-17,1.5722868689353913e-16,2.247706542478883e-16,2.5282515758137366e-16,2.247712854632932e-16,1.5722957576560693e-16,8.579475370836644e-17,3.6492303171897806e-17,1.2477409457791166e-17,3.969919490919956e-18,1.7492917998441684e-18,1.3213920471999635e-18,1.2609032922610023e-18,1.2547053068765557e-18,1.2542479808689273e-18,1.2542181696012966e-18,1.2542100675081214e-18,1.2542024381964851e-18,1.254194470443385e-18,1.2541860295413704e-18,1.2541769179375852e-18,1.254166752778076e-18,1.254154530467582e-18,5.088680599337351e-19,5.088607500601783e-19,5.088546706292653e-19,5.088492213781839e-19,5.088441733196215e-19,5.088394088344618e-19,5.088348886693658e-19,5.0883201023842695e-19,5.088724928090267e-19,5.097561721524914e-19,5.219565043785047e-19,6.411776868634962e-19,1.4846336023100958e-18,5.861173794247008e-18,2.26167954982763e-17,6.981574419367026e-17,1.6625480080446658e-16,3.048766227054533e-16,4.34719557166278e-16,4.882973945797472e-16,4.347207805649805e-16,3.0487837148627566e-16,1.6625625235240607e-16,6.981654950570035e-17,2.2617094059761803e-17,5.861226672773034e-18,1.4846014887469901e-18,6.411200049198597e-19,5.218879480658956e-19,5.096791588887524e-19,5.087871563620677e-19,5.087381620579263e-19,5.087322662648664e-19,5.087276818591917e-19,5.087229174851176e-19,5.08717870515395e-19,5.087124225443174e-19,5.087063446617739e-19,5.08699036817981e-19,1.8287376729689635e-19,1.8287029203563784e-19,1.828674017650483e-19,1.8286481110364082e-19,1.8286241118769754e-19,1.8286014656613697e-19,1.828580343543964e-19,1.8285836910728498e-19,1.8292810930456256e-19,1.8435028228547122e-19,2.039251513674187e-19,3.9516924385415394e-19,1.748113141406099e-18,8.76753856829292e-18,3.563001613429311e-17,1.1120103128347482e-16,2.651571172257891e-16,4.853665849452013e-16,6.904390826369636e-16,7.747163826547233e-16,6.904410169493714e-16,4.853693705165048e-16,2.6515945429576006e-16,1.112023528356472e-16,3.5630536925910754e-17,8.767674486190099e-18,1.7481215464916633e-18,3.95145508662255e-19,2.0389297394184285e-19,1.8431370356797742e-19,1.8288754271914776e-19,1.8281375436064564e-19,1.8280924833431612e-19,1.8280703229097015e-19,1.8280476695497595e-19,1.828023677603067e-19,1.8279977795336079e-19,1.8279688871640384e-19,1.827934148101377e-19,6.042009209687498e-20,6.0418663362033e-20,6.041747513144812e-20,6.041641007852136e-20,6.041542345148387e-20,6.041449309322532e-20,6.04136749288651e-20,6.041613987803139e-20,6.051380892266282e-20,6.246774960892037e-20,8.933765575836132e-20,3.5183688785505865e-19,2.2088503104606774e-18,1.1843252484914778e-17,4.870888940916601e-17,1.5238687161169605e-16,3.6344398302169074e-16,6.6494618219964435e-16,9.453069901675914e-16,1.0604052385839543e-15,9.45309635783288e-16,6.649499995925609e-16,3.634471951596264e-16,1.5238869777043008e-16,4.870962120782706e-17,1.1843459733645445e-17,2.2088861112975033e-18,3.5183216769161775e-19,8.932499325197105e-20,6.245275727275539e-20,6.049713473038287e-20,6.039779913741714e-20,6.039361931672895e-20,6.039265816160043e-20,6.039172628385385e-20,6.039074002784843e-20,6.038967542405206e-20,6.038848773680797e-20,6.038705971423336e-20,1.8770035441939877e-20,1.8769504431814082e-20,1.8769062810552196e-20,1.8768666971384757e-20,1.8768300286876202e-20,1.8767955289340723e-20,1.8767711380153944e-20,1.8771417880103743e-20,1.8890443792446185e-20,2.125835105343526e-20,5.381228698132725e-20,3.7183481967592977e-19,2.6216547804396816e-18,1.4294510683679885e-17,5.896843255564028e-17,1.8467622588089261e-16,4.409054855727393e-16,8.077178421796781e-16,1.1496637355672205e-15,1.2902912887348017e-15,1.14966696744763e-15,8.077224947446418e-16,4.4090939214924563e-16,1.8467844585593485e-16,5.896932563832014e-17,1.4294769226455043e-17,2.621706867802592e-18,3.718391049026986e-19,5.380825894781321e-20,2.1252833106792893e-20,1.888424987339105e-20,1.8764601748777816e-20,1.8760257820050355e-20,1.8759840452019387e-20,1.8759493359311067e-20,1.8759126832220656e-20,1.8758731195675046e-20,1.8758289819578325e-20,1.8757759130840552e-20,5.56347897705046e-21,5.563295752726036e-21,5.56314337257428e-21,5.563006789937376e-21,5.5628802733378505e-21,5.5627620701896944e-21,5.562742524551172e-21,5.567017965731586e-21,5.6969254200965545e-21,8.276957109329381e-21,4.3744319630385375e-20,3.9022734396985626e-19,2.8414324107443984e-18,1.5560421755878088e-17,6.42579001560189e-17,2.0145749081651278e-16,4.818995567526926e-16,8.852716641566882e-16,1.2633891030225501e-15,1.4194981089518137e-15,1.2633926869592594e-15,8.852767957259395e-16,4.819038418635308e-16,2.0145991757048037e-16,6.425887601892045e-17,1.556070594288954e-17,2.841492031965509e-18,3.9023530820968844e-19,4.3743657843955533e-20,8.275111106549043e-21,5.694791504731727e-21,5.5646663094006e-21,5.560170822276656e-21,5.559962204474475e-21,5.559841615393795e-21,5.5597151516829296e-21,5.5595786511171324e-21,5.559426370313151e-21,5.5592432762242295e-21,1.5891691385948424e-21,1.5891094245571906e-21,1.5890597630581739e-21,1.589015250239007e-21,1.588974023895493e-21,1.5889363178578831e-21,1.588993059737407e-21,1.593313333291594e-21,1.722424201468194e-21,4.2852909836483944e-21,3.9515815370297814e-20,3.8368569046446594e-19,2.818584724381459e-18,1.545461968514647e-17,6.386020783418065e-17,2.0045818303301817e-16,4.806999315642153e-16,8.862755815648058e-16,1.2692260633332135e-15,1.4281372467549535e-15,1.2692297062361817e-15,8.862807605425021e-16,4.807042246921199e-16,2.0046060254374137e-16,6.386117888567643e-17,1.5454902807600162e-17,2.81864483821187e-18,3.836946209651595e-19,3.951631079156523e-20,4.28474590269601e-21,1.721731881954398e-21,1.5925470665346807e-21,1.5881549713089768e-21,1.5880238707121951e-21,1.5879837568028567e-21,1.5879425394873115e-21,1.5878980573234568e-21,1.5878484329770536e-21,1.5877887676430025e-21,4.405966073331474e-22,4.405780067429899e-22,4.405625375294983e-22,4.405486721633712e-22,4.405358357310586e-22,4.405248234006043e-22,4.405991270493069e-22,4.44571105671239e-22,5.626484857634411e-22,2.9061036735165964e-21,3.5120230429959157e-20,3.498235903734061e-19,2.5763125025750207e-18,1.413239112840205e-17,5.84257808659918e-17,1.8363311014109837e-16,4.4150741238233417e-16,8.171542021194572e-16,1.1745816336709472e-15,1.3237043679694667e-15,1.174585046758103e-15,8.171590178099689e-16,4.415113734024866e-16,1.8363533085097092e-16,5.84266700049617e-17,1.4132650306605882e-17,2.5763677337273218e-18,3.498320564008679e-19,3.51210227937267e-20,2.905984600204347e-21,5.624356261474166e-22,4.443325322675244e-22,4.403380831804147e-22,4.402406160640704e-22,4.40227389146301e-22,4.402145461777952e-22,4.402006915488546e-22,4.401852353881292e-22,4.401666519089821e-22,1.1919458742722547e-22,1.1918900234230911e-22,1.1918435751664375e-22,1.1918019429633985e-22,1.191763443351954e-22,1.1917364563157767e-22,1.1924293470497608e-22,1.2261426438631423e-22,2.226602036036296e-22,2.2081377269187e-21,2.9501287072960196e-20,2.9613188537944444e-19,2.182556228026345e-18,1.1974862318707768e-17,4.952738537159751e-17,1.5584797825316224e-16,3.7561483606499523e-16,6.976939049457764e-16,1.0063473588522419e-15,1.1357688525074535e-15,1.0063503166258325e-15,6.976980489504474e-16,3.7561822003719494e-16,1.5584986623723136e-16,4.9528139558829665e-17,1.1975082025924242e-17,2.1826030982480054e-18,2.961391429988473e-19,2.9502054297661615e-20,2.208144041644199e-21,2.225986014537671e-22,1.2254271773140003e-22,1.1916455872049468e-22,1.1908831290707868e-22,1.1908373379156714e-22,1.1907987355754835e-22,1.1907571389804037e-22,1.1907107343440833e-22,1.1906549406777448e-22,3.1591072876358935e-23,3.1589446073486523e-23,3.158809315167574e-23,3.158688052525669e-23,3.158576246612446e-23,3.158544595407556e-23,3.164191729943574e-23,3.430686415510472e-23,1.1334254803156997e-22,1.6818271597842095e-21,2.324281471612836e-20,2.3387567517108323e-19,1.7241426996306342e-18,9.46084958041954e-18,3.9143235087072966e-17,1.2329271228537474e-16,2.977567424823226e-16,5.547406293492155e-16,8.024892646237538e-16,9.06810537212009e-16,8.024916457875085e-16,5.547439458710922e-16,2.977594343817542e-16,1.2329420804225982e-16,3.914383143392027e-17,9.461023199578002e-18,1.7241797477653904e-18,2.338814317753591e-19,2.3243447059699456e-20,1.6818614937694084e-21,1.133263890105452e-22,3.4286090733492614e-23,3.1619090944271596e-23,3.1560591864507763e-23,3.155878860904212e-23,3.155766098735745e-23,3.1556449481852556e-23,3.155509795919357e-23,3.155347299053528e-23,8.228617553496554e-24,8.228155655889594e-24,8.227771522899667e-24,8.227427233161492e-24,8.227112185822773e-24,8.22736056397593e-24,8.269535835885576e-24,1.0238537917674909e-23,6.862149755106232e-23,1.2272390788970274e-21,1.715403608188435e-20,1.7274587463693546e-19,1.2736040716746753e-18,6.989170212487995e-18,2.892465686591769e-17,9.11751631729621e-17,2.2053755477379564e-16,4.1183392884697557e-16,5.971097811545934e-16,6.753792553789268e-16,5.971115659519971e-16,4.118364034276549e-16,2.2053955392458627e-16,9.11762705145758e-17,2.8925097691220904e-17,6.989298488759612e-18,1.2736314448167489e-18,1.727501331419116e-19,1.715451015787222e-20,1.2272722349638666e-21,6.861819438883787e-23,1.0232687102604992e-23,8.263056192126905e-24,8.220304131174125e-24,8.21945390398322e-24,8.21913136878303e-24,8.218787411155213e-24,8.218403711845866e-24,8.217942382797304e-24,2.111674848594661e-24,2.111546524151587e-24,2.1114398047465634e-24,2.1113441603926868e-24,2.1112582554731603e-24,2.1115557284707904e-24,2.140930253430075e-24,3.506845699508578e-24,4.4004353467341826e-23,8.476806680762565e-22,1.1895320548124732e-20,1.1982192594328298e-19,8.834428215701523e-19,4.848334082060707e-18,2.006863361293835e-17,6.329368473868517e-17,1.5326902322120524e-16,2.8669418596059047e-16,4.163483530562581e-16,4.712482185015878e-16,4.163496040834477e-16,2.8669591482369186e-16,1.5327041525650342e-16,6.329445406235818e-17,2.0068939545915733e-17,4.848423072968388e-18,8.834618107891834e-19,1.1982488146894323e-19,1.1895651201679845e-20,8.477056902540486e-22,4.4004303541757525e-23,3.505252103551964e-24,2.139130914330252e-24,2.109595421267112e-24,2.10913074081533e-24,2.1090395215568084e-24,2.1089439668306883e-24,2.1088373780025492e-24,2.108709224764323e-24,5.349841095253461e-25,5.349491197304524e-25,5.349200210375556e-25,5.348939457058e-25,5.348715502157005e-25,5.3509753878816915e-25,5.543040144002007e-25,1.4460218844379276e-24,2.7883386466561705e-23,5.52534491256534e-22,7.76458821598113e-21,7.822065438004563e-20,5.767271662867763e-19,3.1651871139292777e-18,1.3103276811263336e-17,4.134084176907641e-17,1.0018444245411672e-16,1.8760785463244177e-16,2.7274894205111235e-16,3.088568013005945e-16,2.727497644741958e-16,1.8760898869783577e-16,1.0018535352771419e-16,4.134134452580335e-17,1.3103476595737849e-17,3.165245213434696e-18,5.767395632499309e-19,7.822258419869507e-20,7.764804530992184e-21,5.525513399694965e-22,2.788392309500324e-23,1.4456075479566511e-24,5.538138912526327e-25,5.345630625903839e-25,5.342914779256401e-25,5.342655800020959e-25,5.342395244119978e-25,5.34210464065406e-25,5.341755245591304e-25,1.3402556458182017e-25,1.3401617794703033e-25,1.3400837174113209e-25,1.3400137870551925e-25,1.3399598412423743e-25,1.3414307763064434e-25,1.459783414083382e-25,6.951214556118598e-25,1.6975730597992632e-23,3.40065275152519e-22,4.7813772819581264e-21,4.816951324945501e-20,3.5516035722869665e-19,1.949228239298206e-18,8.07008201660402e-18,2.5466893792034862e-17,6.174512485641206e-17,1.1570698249845732e-16,1.683334388356725e-16,1.9067395567868315e-16,1.6833394753320426e-16,1.1570768299154762e-16,6.174568681748941e-17,2.546720360460636e-17,8.070205073440885e-18,1.949264019908845e-18,3.5516799165943886e-19,4.817070176913785e-20,4.781510607226815e-21,3.4007577898998823e-22,1.6976202955066366e-23,6.950223413823329e-25,1.4584714521310713e-25,1.3399970621401086e-25,1.3384037746618623e-25,1.3383281711775596e-25,1.3382582582680518e-25,1.3381803063972206e-25,1.338086584620433e-25,3.324801666591874e-26,3.324553413285172e-26,3.324346959450697e-26,3.324162129386604e-26,3.324053949129363e-26,3.332806782278878e-26,4.021630164604149e-26,3.597384269500654e-25,9.832654590787068e-24,1.9782314176942725e-22,2.782012094272162e-21,2.802752127834293e-20,2.0665149339725518e-19,1.1341805462287803e-18,4.695891325747611e-18,1.4820899696953045e-17,3.59437449984349e-17,6.738480112181544e-17,9.807317027811983e-17,1.1110831947847025e-16,9.807346703920956e-17,6.738520943741504e-17,3.594407228989756e-17,1.4821080033314246e-17,4.695962935647261e-18,1.1342013659160783e-18,2.066559355565254e-19,2.802821284692704e-20,2.782089698002182e-21,1.978292848341751e-22,9.832964191613429e-24,3.5971898197157814e-25,4.0181763458506635e-26,3.32901537915866e-26,3.319938750922737e-26,3.319704321226575e-26,3.3195193194191274e-26,3.3193131761741824e-26,3.319065330748062e-26,8.176715668801542e-27,8.176067286506341e-27,8.175528078214908e-27,8.175045968596561e-27,8.174946658119191e-27,8.223638520238997e-27,1.2019104316119153e-26,1.8805772024962466e-25,5.407086274203038e-24,1.0897895683551917e-22,1.5327174253947317e-21,1.5441533958369794e-20,1.1385316877622173e-19,6.248730600013506e-19,2.5872546580255575e-18,8.166359248852456e-18,1.9808228092034742e-17,3.7143780602297256e-17,5.4072175356099756e-17,6.126500546035336e-17,5.407233909371486e-17,3.714400578676467e-17,1.980840850733795e-17,8.166458625697075e-18,2.587294113697614e-18,6.248845306415203e-19,1.1385561616144856e-19,1.5441914978757205e-20,1.5327601873351913e-21,1.0898234888515593e-22,5.407265238920925e-24,1.880562367247212e-25,1.2010168205240601e-26,8.213737906604201e-27,8.164199239603201e-27,8.163403766272155e-27,8.162920007110846e-27,8.162381659202277e-27,8.161734408795006e-27,1.995517680489949e-27,1.9953502101143537e-27,1.9952109392395083e-27,1.9950867279223788e-27,1.9951529385233516e-27,2.0206800033391205e-27,4.001902005900627e-27,9.588870777851956e-26,2.8200600076074267e-24,5.68813675365591e-23,8.000287441876855e-22,8.060000913267952e-21,5.942787284451441e-20,3.2616583849124623e-19,1.350491870805223e-18,4.26283662808646e-18,1.034075316301631e-17,1.939307910944869e-17,2.823497264199711e-17,3.199252171672492e-17,2.823505817443425e-17,1.9393196711544055e-17,1.0340847361029888e-17,4.26288850580895e-18,1.3505124662101376e-18,3.261718258648326e-19,5.942915030710454e-20,8.060199795573422e-21,8.000510662070601e-22,5.688313988202766e-23,2.820155416186565e-24,9.589012686815911e-26,3.9996361485284284e-27,2.0181234996266887e-27,1.9923771397250593e-27,1.9920798231735386e-27,1.991954573468191e-27,1.9918155371228158e-27,1.9916483762852306e-27]},\"selected\":{\"id\":\"1097\",\"type\":\"Selection\"},\"selection_policy\":{\"id\":\"1098\",\"type\":\"UnionRenderers\"}},\"id\":\"1065\",\"type\":\"ColumnDataSource\"},{\"attributes\":{\"line_alpha\":0.1,\"line_color\":\"#1f77b4\",\"x\":{\"field\":\"x\"},\"y\":{\"field\":\"y\"}},\"id\":\"1147\",\"type\":\"Line\"},{\"attributes\":{\"data_source\":{\"id\":\"1145\",\"type\":\"ColumnDataSource\"},\"glyph\":{\"id\":\"1146\",\"type\":\"Line\"},\"hover_glyph\":null,\"muted_glyph\":null,\"nonselection_glyph\":{\"id\":\"1147\",\"type\":\"Line\"},\"selection_glyph\":null,\"view\":{\"id\":\"1149\",\"type\":\"CDSView\"}},\"id\":\"1148\",\"type\":\"GlyphRenderer\"},{\"attributes\":{},\"id\":\"1007\",\"type\":\"LinearScale\"},{\"attributes\":{\"line_color\":\"#1f77b4\",\"x\":{\"field\":\"x\"},\"y\":{\"field\":\"y\"}},\"id\":\"1066\",\"type\":\"Line\"},{\"attributes\":{},\"id\":\"1009\",\"type\":\"LogScale\"},{\"attributes\":{\"line_alpha\":0.1,\"line_color\":\"#1f77b4\",\"x\":{\"field\":\"x\"},\"y\":{\"field\":\"y\"}},\"id\":\"1067\",\"type\":\"Line\"},{\"attributes\":{\"source\":{\"id\":\"1145\",\"type\":\"ColumnDataSource\"}},\"id\":\"1149\",\"type\":\"CDSView\"},{\"attributes\":{\"axis_label\":\"frequencies [Hz]\",\"formatter\":{\"id\":\"1044\",\"type\":\"BasicTickFormatter\"},\"plot\":{\"id\":\"1002\",\"subtype\":\"Figure\",\"type\":\"Plot\"},\"ticker\":{\"id\":\"1012\",\"type\":\"BasicTicker\"}},\"id\":\"1011\",\"type\":\"LinearAxis\"},{\"attributes\":{\"data_source\":{\"id\":\"1065\",\"type\":\"ColumnDataSource\"},\"glyph\":{\"id\":\"1066\",\"type\":\"Line\"},\"hover_glyph\":null,\"muted_glyph\":null,\"nonselection_glyph\":{\"id\":\"1067\",\"type\":\"Line\"},\"selection_glyph\":null,\"view\":{\"id\":\"1069\",\"type\":\"CDSView\"}},\"id\":\"1068\",\"type\":\"GlyphRenderer\"},{\"attributes\":{},\"id\":\"1166\",\"type\":\"Selection\"},{\"attributes\":{\"source\":{\"id\":\"1065\",\"type\":\"ColumnDataSource\"}},\"id\":\"1069\",\"type\":\"CDSView\"},{\"attributes\":{\"line_alpha\":0.1,\"line_color\":\"#1f77b4\",\"x\":{\"field\":\"x\"},\"y\":{\"field\":\"y\"}},\"id\":\"1038\",\"type\":\"Line\"},{\"attributes\":{},\"id\":\"1012\",\"type\":\"BasicTicker\"},{\"attributes\":{},\"id\":\"1167\",\"type\":\"UnionRenderers\"},{\"attributes\":{\"label\":{\"value\":\"12\"},\"renderers\":[{\"id\":\"1148\",\"type\":\"GlyphRenderer\"}]},\"id\":\"1169\",\"type\":\"LegendItem\"},{\"attributes\":{},\"id\":\"1078\",\"type\":\"Selection\"},{\"attributes\":{\"plot\":{\"id\":\"1002\",\"subtype\":\"Figure\",\"type\":\"Plot\"},\"ticker\":{\"id\":\"1012\",\"type\":\"BasicTicker\"}},\"id\":\"1015\",\"type\":\"Grid\"},{\"attributes\":{},\"id\":\"1079\",\"type\":\"UnionRenderers\"},{\"attributes\":{\"axis_label\":\"Mean intensity [W/m^2]\",\"formatter\":{\"id\":\"1046\",\"type\":\"LogTickFormatter\"},\"plot\":{\"id\":\"1002\",\"subtype\":\"Figure\",\"type\":\"Plot\"},\"ticker\":{\"id\":\"1017\",\"type\":\"LogTicker\"}},\"id\":\"1016\",\"type\":\"LogAxis\"},{\"attributes\":{\"callback\":null,\"data\":{\"x\":[89185458945.30998,89185722850.1516,89185942335.43849,89186139071.3327,89186321324.60689,89186493356.39754,89186657728.15976,89186816134.9098,89186969775.93051,89187119543.36707,89187266127.74292,89187410081.38301,89187551858.76454,89187691843.42485,89187830366.6522,89187967720.9619,89188104170.1701,89188239957.21043,89188375310.44925,89188510449.02515,89188645587.60104,89188780940.83986,89188916727.88019,89189053177.0884,89189190531.39809,89189329054.62544,89189469039.28575,89189610816.66728,89189754770.30737,89189901354.68323,89190051122.11978,89190204763.14049,89190363169.89053,89190527541.65276,89190699573.4434,89190881826.71759,89191078562.6118,89191298047.8987,89191561952.74031,178368940557.2012,178369468361.0334,178369907326.741,178370300794.16757,178370665296.6752,178371009356.44235,178371338096.3225,178371654906.31058,178371962184.9456,178372261716.4982,178372554882.0,178372842786.0886,178373126337.70828,178373406303.9253,178373683347.3088,178373958052.8829,178374230948.27408,178374502519.3442,178374773222.82092,178375043496.97656,178375313771.1322,178375584474.60892,178375856045.67905,178376128941.07022,178376403646.64432,178376680690.02783,178376960656.24484,178377244207.86453,178377532111.95312,178377825277.45493,178378124809.00754,178378432087.64255,178378748897.6306,178379077637.51077,178379421697.27792,178379786199.78555,178380179667.21213,178380618632.91974,178381146436.75192,267548467652.14603,267549259343.26712,267549917779.66336,267550507969.89896,267551054713.55887,267551570793.6746,267552063894.38437,267552539100.5866,267553000010.02344,267553449299.0514,267553889039.17947,267554320887.33362,267554746206.90503,267555166148.47177,267555581705.8693,267555993756.6174,267556403092.1414,267556810441.22046,267557216488.93344,267557621892.67673,267558027296.42,267558433344.133,267558840693.21207,267559250028.73605,267559662079.48416,267560077636.88168,267560497578.44843,267560922898.01984,267561354746.17398,267561794486.30206,267562243775.33002,267562704684.76685,267563179890.9691,267563672991.67886,267564189071.7946,267564735815.4545,267565326005.6901,267565984442.08633,267566776133.20743,356722062836.7694,356723118397.6266,356723996290.11304,356724783190.0723,356725512162.76245,356726200251.78455,356726857702.39124,356727491294.2717,356728105824.29144,356728704860.8333,356729291165.83813,356729866948.48315,356730434026.57635,356730993934.1822,356731547996.3802,356732097383.1666,356732643149.74786,356733186267.8044,356733727650.75104,356734268175.0936,356734808699.4362,356735350082.3829,356735893200.4394,356736438967.0206,356736988353.80707,356737542416.00507,356738102323.6109,356738669401.7041,356739245184.3491,356739831489.35394,356740430525.8958,356741045055.9155,356741678647.796,356742336098.4027,356743024187.4248,356743753160.1149,356744540060.0742,356745417952.56067,356746473513.41785,445887748807.6304,445889068214.8198,445890165543.9319,445891149136.1678,445892060321.72546,445892920404.39764,445893742190.32434,445894534153.8351,445895302290.81226,445896051061.58636,445896783918.4683,445897503622.838,445898212446.8799,445898912308.1105,445899604862.8244,445900291573.46826,445900973759.00604,445901652633.99805,445902329340.17487,445903004973.13226,445903680606.08966,445904357312.2665,445905036187.2585,445905718372.79626,445906405083.4401,445907097638.15405,445907797499.38464,445908506323.4265,445909226027.7962,445909958884.67816,445910707655.4523,445911475792.42944,445912267755.9402,445913089541.8669,445913949624.53906,445914860810.09674,445915844402.33264,445916941731.4447,445918261138.63416,535043548411.18024,535045131635.4476,535046448376.8549,535047628639.55896,535048722017.781,535049754075.0333,535050740178.059,535051690495.64044,535052612222.54376,535053510710.94806,535054390103.45807,535055253713.5949,535056104267.869,535056944067.207,535057775099.08124,535058599118.35645,535059417707.72516,535060232324.60046,535061044339.00323,535061855065.59515,535062665792.1871,535063477806.58984,535064292423.46515,535065111012.83386,535065935032.1091,535066766063.98334,535067605863.3213,535068456417.5954,535069320027.73224,535070199420.24225,535071097908.64655,535072019635.54987,535072969953.1313,535073956056.157,535074988113.4093,535076081491.63135,535077261754.3354,535078578495.74274,535080161720.0101,624187484164.1082,624189331170.3477,624190867294.8535,624192244201.8549,624193519748.4972,624194723757.4451,624195874155.7045,624196982806.2844,624198058102.6759,624199106288.7877,624200132197.4264,624201139694.181,624202131959.8276,624203111678.6515,624204081169.259,624205042478.8943,624205997453.9427,624206947794.6383,624207895099.2618,624208840901.5115,624209786703.7611,624210734008.3846,624211684349.0802,624212639324.1287,624213600633.7639,624214570124.3715,624215549843.1953,624216542108.8419,624217549605.5966,624218575514.2352,624219623700.347,624220698996.7385,624221807647.3185,624222958045.5779,624224162054.5258,624225437601.1681,624226814508.1694,624228350632.6753,624230197638.9148,713317578942.8441,713319689690.0995,713321445163.6411,713323018684.4078,713324476371.1859,713325852305.1313,713327166973.1149,713328433932.1099,713329662774.1455,713330860634.7218,713332033036.7404,713333184397.7722,713334318352.7883,713335437969.3734,713336545897.2166,713337644475.8951,713338735815.4475,713339821858.8901,713340904432.7284,713341985289.6632,713343066146.598,713344148720.4363,713345234763.8789,713346326103.4313,713347424682.1099,713348532609.953,713349652226.5381,713350786181.5542,713351937542.586,713353109944.6046,713354307805.1809,713355536647.2166,713356803606.2115,713358118274.1951,713359494208.1405,713360951894.9186,713362525415.6853,713364280889.2269,713366391636.4823,802431855354.012,802434229795.4758,802436204579.1241,802437974678.7622,802439614473.3507,802441162301.7812,802442641210.3352,802444066449.6494,802445448810.0785,802446796318.5559,802448115187.9554,802449410387.7322,802450686006.9716,802451945496.4894,802453191836.9989,802454427660.3591,802455655340.2141,802456877062.32,802458094881.3661,802459310769.0172,802460526656.6683,802461744475.7145,802462966197.8203,802464193877.6753,802465429701.0355,802466676041.545,802467935531.0629,802469211150.3022,802470506350.079,802471825219.4785,802473172727.9559,802474555088.385,802475980327.6992,802477459236.2532,802479007064.6837,802480646859.2722,802482416958.9103,802484391742.5586,802486766184.0225,891528336124.15,891530974207.164,891533168257.124,891535134896.3777,891536956762.4108,891538676450.9999,891540319567.3264,891541903055.352,891543438903.518,891544936030.0126,891546401337.5442,891547840347.3419,891549257602.515,891550656937.0339,891552041662.5695,891553414703.2043,891554778696.1354,891556136069.81,891557489107.0565,891558839998.459,891560190889.8615,891561543927.1079,891562901300.7826,891564265293.7136,891565638334.3485,891567023059.884,891568422394.403,891569839649.576,891571278659.3738,891572743966.9054,891574241093.4,891575776941.5659,891577360429.5916,891579003545.9181,891580723234.5072,891582545100.5403,891584511739.794,891586705789.754,891589343872.768,980605043979.7953,980607945645.8502,980610358913.4609,980612522048.7126,980614525945.7837,980616417456.3911,980618224744.048,980619966445.6654,980621655747.505,980623302458.8125,980624914171.9778,980626496959.8812,980628055819.5552,980629594968.0397,980631118047.8899,980632628275.3472,980634128551.1028,980635621546.2417,980637109771.6796,980638595636.8726,980640081502.0656,980641569727.5034,980643062722.6423,980644562998.398,980646073225.8552,980647596305.7054,980649135454.19,980650694313.8639,980652277101.7673,980653888814.9326,980655535526.2401,980657224828.0797,980658966529.6971,980660773817.354,980662665327.9614,980664669225.0325,980666832360.2842,980669245627.8949,980672147293.9498,1069660001617.5104,1069663166802.2461,1069665799233.9801,1069668158817.2507,1069670344700.9125,1069672407991.5837,1069674379410.4845,1069676279287.0621,1069678122005.1061,1069679918264.7018,1069681676347.7522,1069683402878.6544,1069685103308.253,1069686782236.5642,1069688443636.9467,1069690091017.7289,1069691727543.0323,1069693356126.5201,1069694979507.1403,1069696600313.1665,1069698221119.1927,1069699844499.8129,1069701473083.3007,1069703109608.6041,1069704756989.3864,1069706418389.7688,1069708097318.08,1069709797747.6786,1069711524278.5808,1069713282361.6312,1069715078621.2269,1069716921339.2709,1069718821215.8485,1069720792634.7493,1069722855925.4205,1069725041809.0823,1069727401392.3529,1069730033824.0869,1069733199008.8226,1158691231763.8252,1158694660397.0308,1158697511934.4949,1158700067913.4436,1158702435735.208,1158704670760.1746,1158706806266.5889,1158708864275.9832,1158710860369.3555,1158712806137.3943,1158714710551.3315,1158716580786.9343,1158718422748.7383,1158720241419.6335,1158722041103.6946,1158723825601.259,1158725598339.8086,1158727362475.5195,1158729120975.3115,1158730876686.218,1158732632397.1245,1158734390896.9165,1158736155032.6274,1158737927771.177,1158739712268.7415,1158741511952.8025,1158743330623.6978,1158745172585.5017,1158747042821.1045,1158748947235.0417,1158750893003.0806,1158752889096.453,1158754947105.8472,1158757082612.2615,1158759317637.228,1158761685458.9924,1158764241437.9412,1158767092975.4053,1158770521608.6108,1247696757085.3298,1247700449090.943,1247703519670.8777,1247706271988.8015,1247708821696.1404,1247711228405.8196,1247713527952.3726,1247715744048.9275,1247717893473.3467,1247719988706.6628,1247722039409.2388,1247724053308.052,1247726036761.1985,1247727995134.332,1247729933062.1467,1247731854636.9055,1247733763549.374,1247735663198.1719,1247737556778.1245,1247739447354.962,1247741337931.7993,1247743231511.752,1247745131160.5498,1247747040073.0183,1247748961647.777,1247750899575.5918,1247752857948.7253,1247754841401.8718,1247756855300.685,1247758906003.261,1247761001236.5771,1247763150660.9963,1247765366757.5513,1247767666304.1042,1247770073013.7834,1247772622721.1223,1247775375039.0461,1247778445618.9807,1247782137624.594,1336674600338.5334,1336678555634.6418,1336681845188.9216,1336684793784.756,1336687525321.0999,1336690103662.0955,1336692567197.7678,1336694941332.3164,1336697244040.0938,1336699488692.2014,1336701685637.918,1336703843155.2603,1336705968055.7434,1336708066087.6655,1336710142216.238,1336712200825.558,1336714245869.5933,1336716280989.3315,1336718309607.433,1336720335008.2559,1336722360409.0786,1336724389027.1802,1336726424146.9185,1336728469190.9536,1336730527800.2737,1336732603928.8462,1336734701960.7683,1336736826861.2515,1336738984378.5938,1336741181324.3103,1336743425976.418,1336745728684.1953,1336748102818.744,1336750566354.4163,1336753144695.4119,1336755876231.7556,1336758824827.59,1336762114381.8699,1336766069677.9783,1425622784160.046,1425627002658.8853,1425630511114.518,1425633655922.8372,1425636569227.576,1425639319142.677,1425641946612.8057,1425644478732.6682,1425646934672.709,1425649328693.8018,1425651671833.9111,1425653972921.9092,1425656239222.5796,1425658476866.7373,1425660691150.0005,1425662886748.2034,1425665067878.4277,1425667238423.9492,1425669402035.1865,1425671562215.0532,1425673722394.92,1425675886006.1572,1425678056551.6787,1425680237681.903,1425682433280.106,1425684647563.3691,1425686885207.5269,1425689151508.1973,1425691452596.1953,1425693795736.3047,1425696189757.3975,1425698645697.4382,1425701177817.3008,1425703805287.4294,1425706555202.5305,1425709468507.2693,1425712613315.5884,1425716121771.2212,1425720340270.0605,1514539331366.3335,1514543812974.2893,1514547540253.4175,1514550881204.4333,1514553976212.9167,1514556897641.0986,1514559688987.3765,1514562379036.3613,1514564988154.1648,1514567531491.116,1514570020773.62,1514572465381.21,1514574873031.775,1514577250238.5117,1514579602627.3274,1514581935165.6895,1514584252333.7012,1514586558256.8381,1514588856813.1975,1514591151724.1707,1514593446635.1438,1514595745191.5032,1514598051114.6401,1514600368282.6519,1514602700821.014,1514605053209.8296,1514607430416.5664,1514609838067.1313,1514612282674.7212,1514614771957.2253,1514617315294.1765,1514619924411.98,1514622614460.9648,1514625405807.2427,1514628327235.4246,1514631422243.908,1514634763194.9238,1514638490474.052,1514642972082.0078,1603422264594.0015,1603427009211.6082,1603430955231.508,1603434492251.0708,1603437768894.6077,1603440861771.0317,1603443816931.5066,1603446664849.9106,1603449427087.5696,1603452119683.9316,1603454755053.5833,1603457343126.5083,1603459892073.5322,1603462408790.088,1603464899232.2466,1603467368658.9995,1603469821813.37,1603472263062.9448,1603474696513.4116,1603477126104.5576,1603479555695.7036,1603481989146.1704,1603484430395.745,1603486883550.1157,1603489352976.8687,1603491843419.0273,1603494360135.583,1603496909082.607,1603499497155.532,1603502132525.1836,1603504825121.5457,1603507587359.2046,1603510435277.6086,1603513390438.0835,1603516483314.5076,1603519759958.0444,1603523296977.6072,1603527242997.507,1603531987615.1138,1692269606509.6301,1692274614031.5708,1692278778704.652,1692282511714.2505,1692285969920.1086,1692289234176.122,1692292353085.1982,1692295358809.8057,1692298274106.0066,1692301115902.0115,1692303897300.3132,1692306628781.126,1692309318968.0295,1692311975138.54,1692314603578.7615,1692317209839.0908,1692319798925.368,1692322375447.1917,1692324943737.7502,1692327507955.1392,1692330072172.528,1692332640463.0867,1692335216984.9104,1692337806071.1875,1692340412331.5168,1692343040771.7383,1692345696942.2488,1692348387129.1523,1692351118609.965,1692353900008.2668,1692356741804.2717,1692359657100.4727,1692362662825.08,1692365781734.1562,1692369045990.1697,1692372504196.0278,1692376237205.6262,1692380401878.7075,1692385409400.6482,1781079379899.72,1781084650214.8274,1781089033448.6338,1781092962365.3945,1781096602056.8018,1781100037619.9375,1781103320208.375,1781106483672.4587,1781109551962.4817,1781112542895.0415,1781115470260.2458,1781118345088.3074,1781121176455.3682,1781123972020.8665,1781126738400.7988,1781129481436.8455,1781132206397.551,1781134918134.4246,1781137621208.0588,1781140319994.765,1781143018781.471,1781145721855.1052,1781148433591.9788,1781151158552.6843,1781153901588.731,1781156667968.6633,1781159463534.1616,1781162294901.2224,1781165169729.284,1781168097094.4883,1781171088027.048,1781174156317.071,1781177319781.1548,1781180602369.5923,1781184037932.728,1781187677624.1353,1781191606540.896,1781195989774.7024,1781201260089.8098],\"y\":[2.746234423937187e-18,2.7462426902047363e-18,2.746249565101558e-18,2.7462557274071602e-18,2.7462614360638653e-18,2.7462668245456775e-18,2.746271973177164e-18,2.7462769392126696e-18,2.7462818804957867e-18,2.746289129162374e-18,2.7463288782742066e-18,2.7466768508707696e-18,2.7491114509163296e-18,2.7617345060565672e-18,2.810190494735645e-18,2.94789515667975e-18,3.2350041844167e-18,3.66194317404242e-18,4.078181074870637e-18,4.254840580798646e-18,4.078193515489109e-18,3.6619655942218255e-18,3.2350340293979013e-18,2.947931578202102e-18,2.8102340600491393e-18,2.7617860662738094e-18,2.749171560091931e-18,2.7467457910553273e-18,2.7464068279652126e-18,2.7463762604518808e-18,2.746378393664174e-18,2.746383076988828e-18,2.7463880341073095e-18,2.7463931822992442e-18,2.746398570491891e-18,2.7464042788192067e-18,2.746410440739714e-18,2.7464173151707113e-18,2.746425580827608e-18,3.782177282286349e-18,3.782174116888288e-18,3.782171484217235e-18,3.782169124371678e-18,3.7821669382048696e-18,3.7821648746291974e-18,3.7821629042756705e-18,3.782161068387628e-18,3.7821611324565934e-18,3.782197183194479e-18,3.782715688978162e-18,3.7877965220851396e-18,3.823755533613799e-18,4.010461745465596e-18,4.7270606070967635e-18,6.761069941915527e-18,1.0989723968420742e-17,1.7247358706986414e-17,2.3313157170542025e-17,2.5877162362482384e-17,2.3313212453058617e-17,1.72474332924588e-17,1.0989779662716895e-17,6.761093147337349e-18,4.727058706443696e-18,4.010446297711954e-18,3.8237334268342255e-18,3.787770257334081e-18,3.782685846204273e-18,3.782163808615995e-18,3.782124162921208e-18,3.782120412055285e-18,3.7821184468524e-18,3.782116472982479e-18,3.782114408526642e-18,3.782112221389804e-18,3.782109860410424e-18,3.78210722636785e-18,3.7821040591718545e-18,2.5628528533488448e-18,2.5628395519310172e-18,2.562828489366842e-18,2.562818573428169e-18,2.5628093874503203e-18,2.562800716740751e-18,2.562792438230685e-18,2.5627847414558572e-18,2.5627855145245183e-18,2.5629469844903177e-18,2.5652629885500238e-18,2.5879533100354493e-18,2.748534439669306e-18,3.582182055644542e-18,6.77995758350567e-18,1.5840573407683067e-17,3.4601626218383756e-17,6.217723250364415e-17,8.869460147361097e-17,9.984058764383587e-17,8.869484296645188e-17,6.21775614484172e-17,3.460187512581364e-17,1.5840680037758072e-17,6.779953406791905e-18,3.582118286076119e-18,2.748441812015845e-18,2.5878430115817993e-18,2.565137625777167e-18,2.562806781021096e-18,2.5626302086262196e-18,2.5626139476150335e-18,2.5626056763251142e-18,2.5625973854832697e-18,2.562588714678724e-18,2.562579528774763e-18,2.562569612923802e-18,2.5625585504657347e-18,2.5625452491870032e-18,1.2544372032835331e-18,1.2544249790484225e-18,1.2544148124207523e-18,1.2544056996032662e-18,1.2543972576661817e-18,1.2543892894364789e-18,1.25438169234326e-18,1.2543751205657946e-18,1.2543906986778794e-18,1.2548341371657705e-18,1.2610183750312058e-18,1.3214925810738838e-18,1.7493841442533282e-18,3.97037288752306e-18,1.2484612302562188e-17,3.6564282867385973e-17,8.621391073235608e-17,1.5867514894690423e-16,2.2777545208555137e-16,2.5665001662817054e-16,2.2777610092991455e-16,1.5867605498310412e-16,8.621463721269728e-17,3.6564660341515033e-17,1.248472045529199e-17,3.970346950341069e-18,1.749305999157691e-18,1.3213923084227304e-18,1.260903294834716e-18,1.2547053068895663e-18,1.254247980868959e-18,1.2542181696012954e-18,1.2542100675081209e-18,1.254202438196485e-18,1.254194470443385e-18,1.2541860295413704e-18,1.2541769179375852e-18,1.254166752778076e-18,1.254154530467582e-18,5.088680599337351e-19,5.088607500601783e-19,5.088546706292653e-19,5.088492213781839e-19,5.088441733196215e-19,5.088394088344619e-19,5.088348886693668e-19,5.0883201023842695e-19,5.088724928091081e-19,5.097561721855613e-19,5.219565109208159e-19,6.411783508860076e-19,1.484669695633313e-18,5.8622601677762064e-18,2.2635363463892287e-17,6.999915378236227e-17,1.6731479444465617e-16,3.0850629681133516e-16,4.422155587767036e-16,4.978155359529302e-16,4.422168257140995e-16,3.0850808836361653e-16,1.6731626501312217e-16,6.999996353128989e-17,2.2635662590707727e-17,5.862313086177033e-18,1.4846375836221637e-18,6.411206689751485e-19,5.218879546085727e-19,5.096791589218241e-19,5.087871563621487e-19,5.087381620579268e-19,5.087322662648664e-19,5.087276818591917e-19,5.087229174851176e-19,5.08717870515395e-19,5.087124225443174e-19,5.087063446617739e-19,5.08699036817981e-19,1.8287376729689635e-19,1.8287029203563784e-19,1.828674017650483e-19,1.8286481110364082e-19,1.828624111876978e-19,1.8286014656613697e-19,1.8285803435439669e-19,1.8285836910728493e-19,1.8292810930471069e-19,1.8435028234589156e-19,2.0392516332053059e-19,3.9517045705092304e-19,1.7481790839984607e-18,8.769523154887134e-18,3.566392161746288e-17,1.115355355848342e-16,2.6708548156692885e-16,4.919451897450846e-16,7.039761548694614e-16,7.918789725601274e-16,7.039781673242895e-16,4.919480525079975e-16,2.6708785315912347e-16,1.1153686522064196e-16,3.5664443440939376e-17,8.769659145611746e-18,1.7481874919189944e-18,3.951467219189006e-19,2.038929858956216e-19,1.843137036284015e-19,1.8288754271929598e-19,1.8281375436064586e-19,1.8280924833431588e-19,1.8280703229097015e-19,1.8280476695497619e-19,1.828023677603067e-19,1.8279977795336079e-19,1.8279688871640384e-19,1.827934148101377e-19,6.042009209687498e-20,6.0418663362033e-20,6.041747513144812e-20,6.041641007852138e-20,6.041542345148387e-20,6.041449309322544e-20,6.04136749288651e-20,6.041613987803157e-20,6.051380892287279e-20,6.246774969445034e-20,8.933767267899251e-20,3.518386052354049e-19,2.208943657139991e-18,1.1846061735748008e-17,4.8756878535243364e-17,1.5286017499165033e-16,3.661707391423097e-16,6.742396024789579e-16,9.644127274057563e-16,1.0846184080568614e-15,9.644154831320176e-16,6.742435287974298e-16,3.6617400006568767e-16,1.5286201258501634e-16,4.875761179419365e-17,1.1846269087561192e-17,2.2089794619897064e-18,3.518338851567199e-19,8.932501017354657e-20,6.245275735829078e-20,6.049713473059278e-20,6.039779913741737e-20,6.039361931672907e-20,6.039265816160055e-20,6.039172628385385e-20,6.039074002784843e-20,6.038967542405206e-20,6.038848773680797e-20,6.038705971423336e-20,1.8770035441939877e-20,1.8769504431814082e-20,1.8769062810552196e-20,1.876866697138476e-20,1.8768300286876202e-20,1.8767955289340693e-20,1.8767711380153974e-20,1.8771417880104025e-20,1.8890443792687522e-20,2.1258351151750865e-20,5.3812306431379043e-20,3.718367937855162e-19,2.6217620824019518e-18,1.4297740071424058e-17,5.902360886772779e-17,1.8522069964446056e-16,4.4404568133200123e-16,8.184376301942315e-16,1.171736324050221e-15,1.3182829118647509e-15,1.1717396834701077e-15,8.184424086243268e-16,4.4404964414288527e-16,1.852229327784087e-16,5.902450362957665e-17,1.4297998732699753e-17,2.6218141743776263e-18,3.7184107910970893e-19,5.38082783989504e-20,2.1252833205114623e-20,1.8884249873632408e-20,1.8764601748778066e-20,1.8760257820050325e-20,1.8759840452019357e-20,1.8759493359311067e-20,1.8759126832220653e-20,1.8758731195675046e-20,1.8758289819578325e-20,1.8757759130840552e-20,5.56347897705046e-21,5.563295752726036e-21,5.56314337257428e-21,5.563006789937376e-21,5.5628802733378505e-21,5.5627620701896944e-21,5.56274252455118e-21,5.5670179657318384e-21,5.696925420328106e-21,8.276957203662844e-21,4.374433829264385e-20,3.9022923812677273e-19,2.8415353690186672e-18,1.5563520744345766e-17,6.431087012029543e-17,2.0198079855701244e-16,4.849249617089185e-16,8.956365108973328e-16,1.2848048675259587e-15,1.4466965703041146e-15,1.2848085759211055e-15,8.95641764642502e-16,4.849293011109378e-16,2.0198323796906908e-16,6.431184759564715e-17,1.556380504507966e-17,2.841594994665842e-18,3.902372024600825e-19,4.3743676507255505e-20,8.275111200888385e-21,5.694791504963308e-21,5.564666309400864e-21,5.5601708222766484e-21,5.559962204474475e-21,5.559841615393795e-21,5.559715151682929e-21,5.559578651117135e-21,5.559426370313151e-21,5.5592432762242295e-21,1.5891691385948424e-21,1.5891094245571906e-21,1.5890597630581739e-21,1.589015250239007e-21,1.588974023895493e-21,1.588936317857883e-21,1.5889930597374088e-21,1.5933133332918041e-21,1.722424201657558e-21,4.285291060792528e-21,3.95158306319494e-20,3.8368723947698585e-19,2.818668924330701e-18,1.5457154409689632e-17,6.39035560979967e-17,2.0088708274754505e-16,4.831873475344653e-16,8.948371416569742e-16,1.2869961811938547e-15,1.4507489596108501e-15,1.2869999281445473e-15,8.948424220713041e-16,4.831916854202732e-16,2.008895126442832e-16,6.390452846951209e-17,1.545743762516692e-17,2.818729041780824e-18,3.83696170054125e-19,3.951632605406855e-20,4.28474597984495e-21,1.7217318821437742e-21,1.5925470665348904e-21,1.5881549713089749e-21,1.5880238707121953e-21,1.5879837568028567e-21,1.5879425394873115e-21,1.5878980573234568e-21,1.5878484329770536e-21,1.5877887676430025e-21,4.405966073331474e-22,4.405780067429899e-22,4.405625375294983e-22,4.405486721633712e-22,4.405358357310586e-22,4.405248234006043e-22,4.405991270493069e-22,4.445711056713875e-22,5.626484858973493e-22,2.9061037280691076e-21,3.512024122224794e-20,3.4982468576317923e-19,2.576372046551185e-18,1.4134183881042914e-17,5.845645734141524e-17,1.8393711672250304e-16,4.4327637889797713e-16,8.232730053440242e-16,1.1873427000394704e-15,1.339975303687574e-15,1.1873461884360556e-15,8.232778939208028e-16,4.432803718394479e-16,1.8393934480268082e-16,5.845734741487609e-17,1.4134443125046086e-17,2.5764272802632937e-18,3.4983315184469925e-19,3.5121033586617784e-20,2.905984654760264e-21,5.624356262813341e-22,4.443325322676731e-22,4.403380831804147e-22,4.402406160640704e-22,4.40227389146301e-22,4.402145461777951e-22,4.402006915488546e-22,4.401852353881292e-22,4.401666519089821e-22,1.1919458742722547e-22,1.1918900234230911e-22,1.1918435751664375e-22,1.1918019429633985e-22,1.1917634433519537e-22,1.1917364563157765e-22,1.1924293470497617e-22,1.226142643864058e-22,2.226602036863013e-22,2.2081377605981257e-21,2.9501293735865945e-20,2.9613256164987425e-19,2.182592990175118e-18,1.1975969305168427e-17,4.9546337302407346e-17,1.5603607152285825e-16,3.767126987097241e-16,7.015087966095856e-16,1.0143390242731773e-15,1.1459778489896537e-15,1.014342029553377e-15,7.015129862830762e-16,3.7671610254541743e-16,1.5603796407199368e-16,4.9547092067166404e-17,1.197618905301795e-17,2.182639861977216e-18,2.961398193026515e-19,2.9502060960939213e-20,2.2081440753257252e-21,2.2259860153644452e-22,1.2254271773149183e-22,1.1916455872049477e-22,1.1908831290707868e-22,1.1908373379156714e-22,1.1907987355754835e-22,1.1907571389804037e-22,1.1907107343440833e-22,1.1906549406777448e-22,3.1591072876358935e-23,3.1589446073486523e-23,3.1588093151675735e-23,3.158688052525669e-23,3.158576246612446e-23,3.15854459540755e-23,3.164191729943582e-23,3.43068641551547e-23,1.1334254807657344e-22,1.6818271781179935e-21,2.3242818343159084e-20,2.3387604330793915e-19,1.7241627120345212e-18,9.461452264682124e-18,3.915355770374922e-17,1.2339528836628894e-16,2.983570022219606e-16,5.568344323272408e-16,8.068918813103478e-16,9.124435916802237e-16,8.068942888042219e-16,5.568377740184451e-16,2.983597050057556e-16,1.2339678661497523e-16,3.915415436525037e-17,9.461625905964238e-18,1.7241997610296384e-18,2.338817999303831e-19,2.3243450686932583e-20,1.6818615121043363e-21,1.1332638905555169e-22,3.428609073354257e-23,3.1619090944271567e-23,3.1560591864507704e-23,3.155878860904212e-23,3.155766098735744e-23,3.1556449481852556e-23,3.155509795919357e-23,3.155347299053528e-23,8.228617553496554e-24,8.228155655889594e-24,8.227771522899667e-24,8.227427233161492e-24,8.227112185822772e-24,8.22736056397593e-24,8.26953583588559e-24,1.0238537917698977e-23,6.862149757274165e-23,1.2272390877288979e-21,1.715403782912153e-20,1.7274605197867177e-19,1.2736137123668658e-18,6.989460572442134e-18,2.8929631741625913e-17,9.122464574589242e-17,2.208276951632291e-16,4.1284898065988656e-16,5.992502799822883e-16,6.781213311780826e-16,5.992520776407124e-16,4.1285146748130974e-16,2.2082969958399367e-16,9.122575429038728e-17,2.893007271860676e-17,6.989588859373003e-18,1.2736410859234088e-18,1.7275031049239986e-19,1.71545119052069e-20,1.227272243796287e-21,6.861819441051869e-23,1.0232687102629075e-23,8.263056192126927e-24,8.220304131174125e-24,8.21945390398322e-24,8.21913136878303e-24,8.218787411155214e-24,8.218403711845866e-24,8.217942382797304e-24,2.111674848594661e-24,2.1115465241515875e-24,2.1114398047465634e-24,2.1113441603926868e-24,2.1112582554731603e-24,2.111555728470794e-24,2.1409302534300778e-24,3.50684569951891e-24,4.4004353476646834e-23,8.4768067186702e-22,1.1895321298063994e-20,1.198220020610303e-19,8.834469595503247e-19,4.848458718204027e-18,2.0070769575117608e-17,6.331494454715984e-17,1.5339385702718336e-16,2.871318394833977e-16,4.1727316468830404e-16,4.724339826532848e-16,4.1727442129060264e-16,2.871335736362797e-16,1.533952513326519e-16,6.33157143878994e-17,2.0071075573228023e-17,4.848547713687339e-18,8.834659489472566e-19,1.1982495759044702e-19,1.1895651951660968e-20,8.477056940450488e-22,4.400430355106327e-23,3.5052521035622935e-24,2.1391309143302564e-24,2.1095954212671152e-24,2.10913074081533e-24,2.1090395215568084e-24,2.1089439668306883e-24,2.10883737800255e-24,2.108709224764323e-24,5.349841095253461e-25,5.349491197304525e-25,5.349200210375556e-25,5.348939457058001e-25,5.348715502157005e-25,5.3509753878816915e-25,5.543040144002025e-25,1.446021884441888e-24,2.788338647013136e-23,5.525344927107683e-22,7.764588503677097e-21,7.822068358080146e-20,5.767287537368092e-19,3.1652349299900824e-18,1.3104096394352435e-17,4.134900302035954e-17,1.002324094677519e-16,1.8777625998246752e-16,2.7310529402421236e-16,3.093139729461913e-16,2.7310611860028334e-16,1.877773960864215e-16,1.0023332141436253e-16,4.134950597564515e-17,1.3104296203821575e-17,3.165293031250965e-18,5.767411507682121e-19,7.822261340089208e-20,7.764804818704196e-21,5.525513414238223e-22,2.7883923098573126e-23,1.445607547960614e-24,5.5381389125263515e-25,5.345630625903839e-25,5.3429147792564e-25,5.342655800020959e-25,5.342395244119978e-25,5.34210464065406e-25,5.341755245591304e-25,1.3402556458182017e-25,1.340161779470303e-25,1.3400837174113209e-25,1.3400137870551925e-25,1.3399598412423743e-25,1.3414307763064412e-25,1.4597834140833864e-25,6.951214556132227e-25,1.6975730599220994e-23,3.400652756529385e-22,4.781377380957852e-21,4.8169523297801937e-20,3.5516090349295494e-19,1.94924469392056e-18,8.07036408270835e-18,2.546970335748082e-17,6.176164770302981e-17,1.1576504355661322e-16,1.6845640511993088e-16,1.9083177010983524e-16,1.6845691456142816e-16,1.1576574475320904e-16,6.176220996498081e-17,2.547001323842182e-17,8.070487148147886e-18,1.9492804751353015e-18,3.5516853794718276e-19,4.81707118179806e-20,4.781510706232061e-21,3.400757794904393e-22,1.6976202956294822e-23,6.950223413836966e-25,1.4584714521310752e-25,1.3399970621401063e-25,1.3384037746618623e-25,1.3383281711775593e-25,1.3382582582680518e-25,1.3381803063972204e-25,1.338086584620433e-25,3.324801666591874e-26,3.324553413285172e-26,3.324346959450697e-26,3.324162129386604e-26,3.324053949129363e-26,3.332806782278878e-26,4.02163016460417e-26,3.5973842695048707e-25,9.832654591167115e-24,1.9782314192424973e-22,2.7820121249011668e-21,2.802752438714972e-20,2.066516624036758e-19,1.134185637135036e-18,4.695978599580634e-18,1.482176915001022e-17,3.594886000211143e-17,6.740278467619001e-17,9.811127693168224e-17,1.1115723613279437e-16,9.811157392351356e-17,6.74031932098135e-17,3.5949187386744166e-17,1.4821949507531806e-17,4.696050212142132e-18,1.1342064570092396e-18,2.0665610457021212e-19,2.8028215955887255e-20,2.7820897286328965e-21,1.9782928498900726e-22,9.832964191993484e-24,3.597189819719997e-25,4.0181763458506876e-26,3.32901537915866e-26,3.319938750922737e-26,3.319704321226574e-26,3.3195193194191274e-26,3.3193131761741824e-26,3.319065330748062e-26,8.176715668801542e-27,8.176067286506341e-27,8.175528078214908e-27,8.175045968596558e-27,8.174946658119191e-27,8.223638520239012e-27,1.2019104316119198e-26,1.8805772024974244e-25,5.407086274309121e-24,1.089789568787376e-22,1.5327174339447895e-21,1.544153482619025e-20,1.1385321595428227e-19,6.248744811377675e-19,2.5872790215024635e-18,8.166601989617583e-18,1.9809656423003568e-17,3.7148803878034285e-17,5.408282261725628e-17,6.127867479026117e-17,5.408298641937197e-17,3.7149029123420775e-17,1.9809836864328287e-17,8.16670137237034e-18,2.5873184779176227e-18,6.24885951830113e-19,1.1385566334153748e-19,1.54419158466205e-20,1.5327601958857236e-21,1.0898234892837728e-22,5.407265239027011e-24,1.8805623672483899e-25,1.2010168205240645e-26,8.213737906604215e-27,8.164199239603201e-27,8.163403766272155e-27,8.162920007110846e-27,8.162381659202277e-27,8.161734408795006e-27,1.995517680489949e-27,1.9953502101143537e-27,1.9952109392395083e-27,1.9950867279223788e-27,1.9951529385233516e-27,2.0206800033391205e-27,4.0019020059006436e-27,9.588870777854913e-26,2.8200600076341567e-24,5.688136754744983e-23,8.0002874634224e-22,8.06000113195275e-21,5.942788473307303e-20,3.2616619660986226e-19,1.3504980103775947e-18,4.26289780161697e-18,1.0341113157247693e-17,1.9394345366917206e-17,2.8237656995112806e-17,3.199596820914902e-17,2.823774254381556e-17,1.9394462984371517e-17,1.0341207361820281e-17,4.262949680828437e-18,1.3505186059697713e-18,3.261721839965968e-19,5.942916219617419e-20,8.060200014269028e-21,8.000510683617356e-22,5.688313989291915e-23,2.8201554162133038e-24,9.589012686818869e-26,3.999636148528446e-27,2.0181234996266887e-27,1.9923771397250596e-27,1.9920798231735386e-27,1.991954573468191e-27,1.9918155371228158e-27,1.9916483762852306e-27]},\"selected\":{\"id\":\"1222\",\"type\":\"Selection\"},\"selection_policy\":{\"id\":\"1223\",\"type\":\"UnionRenderers\"}},\"id\":\"1170\",\"type\":\"ColumnDataSource\"},{\"attributes\":{\"label\":{\"value\":\"4\"},\"renderers\":[{\"id\":\"1068\",\"type\":\"GlyphRenderer\"}]},\"id\":\"1081\",\"type\":\"LegendItem\"},{\"attributes\":{\"num_minor_ticks\":10},\"id\":\"1017\",\"type\":\"LogTicker\"},{\"attributes\":{\"line_color\":\"#1f77b4\",\"x\":{\"field\":\"x\"},\"y\":{\"field\":\"y\"}},\"id\":\"1171\",\"type\":\"Line\"},{\"attributes\":{\"dimension\":1,\"plot\":{\"id\":\"1002\",\"subtype\":\"Figure\",\"type\":\"Plot\"},\"ticker\":{\"id\":\"1017\",\"type\":\"LogTicker\"}},\"id\":\"1020\",\"type\":\"Grid\"},{\"attributes\":{\"callback\":null,\"data\":{\"x\":[89185458945.30998,89185722850.1516,89185942335.43849,89186139071.3327,89186321324.60689,89186493356.39754,89186657728.15976,89186816134.9098,89186969775.93051,89187119543.36707,89187266127.74292,89187410081.38301,89187551858.76454,89187691843.42485,89187830366.6522,89187967720.9619,89188104170.1701,89188239957.21043,89188375310.44925,89188510449.02515,89188645587.60104,89188780940.83986,89188916727.88019,89189053177.0884,89189190531.39809,89189329054.62544,89189469039.28575,89189610816.66728,89189754770.30737,89189901354.68323,89190051122.11978,89190204763.14049,89190363169.89053,89190527541.65276,89190699573.4434,89190881826.71759,89191078562.6118,89191298047.8987,89191561952.74031,178368940557.2012,178369468361.0334,178369907326.741,178370300794.16757,178370665296.6752,178371009356.44235,178371338096.3225,178371654906.31058,178371962184.9456,178372261716.4982,178372554882.0,178372842786.0886,178373126337.70828,178373406303.9253,178373683347.3088,178373958052.8829,178374230948.27408,178374502519.3442,178374773222.82092,178375043496.97656,178375313771.1322,178375584474.60892,178375856045.67905,178376128941.07022,178376403646.64432,178376680690.02783,178376960656.24484,178377244207.86453,178377532111.95312,178377825277.45493,178378124809.00754,178378432087.64255,178378748897.6306,178379077637.51077,178379421697.27792,178379786199.78555,178380179667.21213,178380618632.91974,178381146436.75192,267548467652.14603,267549259343.26712,267549917779.66336,267550507969.89896,267551054713.55887,267551570793.6746,267552063894.38437,267552539100.5866,267553000010.02344,267553449299.0514,267553889039.17947,267554320887.33362,267554746206.90503,267555166148.47177,267555581705.8693,267555993756.6174,267556403092.1414,267556810441.22046,267557216488.93344,267557621892.67673,267558027296.42,267558433344.133,267558840693.21207,267559250028.73605,267559662079.48416,267560077636.88168,267560497578.44843,267560922898.01984,267561354746.17398,267561794486.30206,267562243775.33002,267562704684.76685,267563179890.9691,267563672991.67886,267564189071.7946,267564735815.4545,267565326005.6901,267565984442.08633,267566776133.20743,356722062836.7694,356723118397.6266,356723996290.11304,356724783190.0723,356725512162.76245,356726200251.78455,356726857702.39124,356727491294.2717,356728105824.29144,356728704860.8333,356729291165.83813,356729866948.48315,356730434026.57635,356730993934.1822,356731547996.3802,356732097383.1666,356732643149.74786,356733186267.8044,356733727650.75104,356734268175.0936,356734808699.4362,356735350082.3829,356735893200.4394,356736438967.0206,356736988353.80707,356737542416.00507,356738102323.6109,356738669401.7041,356739245184.3491,356739831489.35394,356740430525.8958,356741045055.9155,356741678647.796,356742336098.4027,356743024187.4248,356743753160.1149,356744540060.0742,356745417952.56067,356746473513.41785,445887748807.6304,445889068214.8198,445890165543.9319,445891149136.1678,445892060321.72546,445892920404.39764,445893742190.32434,445894534153.8351,445895302290.81226,445896051061.58636,445896783918.4683,445897503622.838,445898212446.8799,445898912308.1105,445899604862.8244,445900291573.46826,445900973759.00604,445901652633.99805,445902329340.17487,445903004973.13226,445903680606.08966,445904357312.2665,445905036187.2585,445905718372.79626,445906405083.4401,445907097638.15405,445907797499.38464,445908506323.4265,445909226027.7962,445909958884.67816,445910707655.4523,445911475792.42944,445912267755.9402,445913089541.8669,445913949624.53906,445914860810.09674,445915844402.33264,445916941731.4447,445918261138.63416,535043548411.18024,535045131635.4476,535046448376.8549,535047628639.55896,535048722017.781,535049754075.0333,535050740178.059,535051690495.64044,535052612222.54376,535053510710.94806,535054390103.45807,535055253713.5949,535056104267.869,535056944067.207,535057775099.08124,535058599118.35645,535059417707.72516,535060232324.60046,535061044339.00323,535061855065.59515,535062665792.1871,535063477806.58984,535064292423.46515,535065111012.83386,535065935032.1091,535066766063.98334,535067605863.3213,535068456417.5954,535069320027.73224,535070199420.24225,535071097908.64655,535072019635.54987,535072969953.1313,535073956056.157,535074988113.4093,535076081491.63135,535077261754.3354,535078578495.74274,535080161720.0101,624187484164.1082,624189331170.3477,624190867294.8535,624192244201.8549,624193519748.4972,624194723757.4451,624195874155.7045,624196982806.2844,624198058102.6759,624199106288.7877,624200132197.4264,624201139694.181,624202131959.8276,624203111678.6515,624204081169.259,624205042478.8943,624205997453.9427,624206947794.6383,624207895099.2618,624208840901.5115,624209786703.7611,624210734008.3846,624211684349.0802,624212639324.1287,624213600633.7639,624214570124.3715,624215549843.1953,624216542108.8419,624217549605.5966,624218575514.2352,624219623700.347,624220698996.7385,624221807647.3185,624222958045.5779,624224162054.5258,624225437601.1681,624226814508.1694,624228350632.6753,624230197638.9148,713317578942.8441,713319689690.0995,713321445163.6411,713323018684.4078,713324476371.1859,713325852305.1313,713327166973.1149,713328433932.1099,713329662774.1455,713330860634.7218,713332033036.7404,713333184397.7722,713334318352.7883,713335437969.3734,713336545897.2166,713337644475.8951,713338735815.4475,713339821858.8901,713340904432.7284,713341985289.6632,713343066146.598,713344148720.4363,713345234763.8789,713346326103.4313,713347424682.1099,713348532609.953,713349652226.5381,713350786181.5542,713351937542.586,713353109944.6046,713354307805.1809,713355536647.2166,713356803606.2115,713358118274.1951,713359494208.1405,713360951894.9186,713362525415.6853,713364280889.2269,713366391636.4823,802431855354.012,802434229795.4758,802436204579.1241,802437974678.7622,802439614473.3507,802441162301.7812,802442641210.3352,802444066449.6494,802445448810.0785,802446796318.5559,802448115187.9554,802449410387.7322,802450686006.9716,802451945496.4894,802453191836.9989,802454427660.3591,802455655340.2141,802456877062.32,802458094881.3661,802459310769.0172,802460526656.6683,802461744475.7145,802462966197.8203,802464193877.6753,802465429701.0355,802466676041.545,802467935531.0629,802469211150.3022,802470506350.079,802471825219.4785,802473172727.9559,802474555088.385,802475980327.6992,802477459236.2532,802479007064.6837,802480646859.2722,802482416958.9103,802484391742.5586,802486766184.0225,891528336124.15,891530974207.164,891533168257.124,891535134896.3777,891536956762.4108,891538676450.9999,891540319567.3264,891541903055.352,891543438903.518,891544936030.0126,891546401337.5442,891547840347.3419,891549257602.515,891550656937.0339,891552041662.5695,891553414703.2043,891554778696.1354,891556136069.81,891557489107.0565,891558839998.459,891560190889.8615,891561543927.1079,891562901300.7826,891564265293.7136,891565638334.3485,891567023059.884,891568422394.403,891569839649.576,891571278659.3738,891572743966.9054,891574241093.4,891575776941.5659,891577360429.5916,891579003545.9181,891580723234.5072,891582545100.5403,891584511739.794,891586705789.754,891589343872.768,980605043979.7953,980607945645.8502,980610358913.4609,980612522048.7126,980614525945.7837,980616417456.3911,980618224744.048,980619966445.6654,980621655747.505,980623302458.8125,980624914171.9778,980626496959.8812,980628055819.5552,980629594968.0397,980631118047.8899,980632628275.3472,980634128551.1028,980635621546.2417,980637109771.6796,980638595636.8726,980640081502.0656,980641569727.5034,980643062722.6423,980644562998.398,980646073225.8552,980647596305.7054,980649135454.19,980650694313.8639,980652277101.7673,980653888814.9326,980655535526.2401,980657224828.0797,980658966529.6971,980660773817.354,980662665327.9614,980664669225.0325,980666832360.2842,980669245627.8949,980672147293.9498,1069660001617.5104,1069663166802.2461,1069665799233.9801,1069668158817.2507,1069670344700.9125,1069672407991.5837,1069674379410.4845,1069676279287.0621,1069678122005.1061,1069679918264.7018,1069681676347.7522,1069683402878.6544,1069685103308.253,1069686782236.5642,1069688443636.9467,1069690091017.7289,1069691727543.0323,1069693356126.5201,1069694979507.1403,1069696600313.1665,1069698221119.1927,1069699844499.8129,1069701473083.3007,1069703109608.6041,1069704756989.3864,1069706418389.7688,1069708097318.08,1069709797747.6786,1069711524278.5808,1069713282361.6312,1069715078621.2269,1069716921339.2709,1069718821215.8485,1069720792634.7493,1069722855925.4205,1069725041809.0823,1069727401392.3529,1069730033824.0869,1069733199008.8226,1158691231763.8252,1158694660397.0308,1158697511934.4949,1158700067913.4436,1158702435735.208,1158704670760.1746,1158706806266.5889,1158708864275.9832,1158710860369.3555,1158712806137.3943,1158714710551.3315,1158716580786.9343,1158718422748.7383,1158720241419.6335,1158722041103.6946,1158723825601.259,1158725598339.8086,1158727362475.5195,1158729120975.3115,1158730876686.218,1158732632397.1245,1158734390896.9165,1158736155032.6274,1158737927771.177,1158739712268.7415,1158741511952.8025,1158743330623.6978,1158745172585.5017,1158747042821.1045,1158748947235.0417,1158750893003.0806,1158752889096.453,1158754947105.8472,1158757082612.2615,1158759317637.228,1158761685458.9924,1158764241437.9412,1158767092975.4053,1158770521608.6108,1247696757085.3298,1247700449090.943,1247703519670.8777,1247706271988.8015,1247708821696.1404,1247711228405.8196,1247713527952.3726,1247715744048.9275,1247717893473.3467,1247719988706.6628,1247722039409.2388,1247724053308.052,1247726036761.1985,1247727995134.332,1247729933062.1467,1247731854636.9055,1247733763549.374,1247735663198.1719,1247737556778.1245,1247739447354.962,1247741337931.7993,1247743231511.752,1247745131160.5498,1247747040073.0183,1247748961647.777,1247750899575.5918,1247752857948.7253,1247754841401.8718,1247756855300.685,1247758906003.261,1247761001236.5771,1247763150660.9963,1247765366757.5513,1247767666304.1042,1247770073013.7834,1247772622721.1223,1247775375039.0461,1247778445618.9807,1247782137624.594,1336674600338.5334,1336678555634.6418,1336681845188.9216,1336684793784.756,1336687525321.0999,1336690103662.0955,1336692567197.7678,1336694941332.3164,1336697244040.0938,1336699488692.2014,1336701685637.918,1336703843155.2603,1336705968055.7434,1336708066087.6655,1336710142216.238,1336712200825.558,1336714245869.5933,1336716280989.3315,1336718309607.433,1336720335008.2559,1336722360409.0786,1336724389027.1802,1336726424146.9185,1336728469190.9536,1336730527800.2737,1336732603928.8462,1336734701960.7683,1336736826861.2515,1336738984378.5938,1336741181324.3103,1336743425976.418,1336745728684.1953,1336748102818.744,1336750566354.4163,1336753144695.4119,1336755876231.7556,1336758824827.59,1336762114381.8699,1336766069677.9783,1425622784160.046,1425627002658.8853,1425630511114.518,1425633655922.8372,1425636569227.576,1425639319142.677,1425641946612.8057,1425644478732.6682,1425646934672.709,1425649328693.8018,1425651671833.9111,1425653972921.9092,1425656239222.5796,1425658476866.7373,1425660691150.0005,1425662886748.2034,1425665067878.4277,1425667238423.9492,1425669402035.1865,1425671562215.0532,1425673722394.92,1425675886006.1572,1425678056551.6787,1425680237681.903,1425682433280.106,1425684647563.3691,1425686885207.5269,1425689151508.1973,1425691452596.1953,1425693795736.3047,1425696189757.3975,1425698645697.4382,1425701177817.3008,1425703805287.4294,1425706555202.5305,1425709468507.2693,1425712613315.5884,1425716121771.2212,1425720340270.0605,1514539331366.3335,1514543812974.2893,1514547540253.4175,1514550881204.4333,1514553976212.9167,1514556897641.0986,1514559688987.3765,1514562379036.3613,1514564988154.1648,1514567531491.116,1514570020773.62,1514572465381.21,1514574873031.775,1514577250238.5117,1514579602627.3274,1514581935165.6895,1514584252333.7012,1514586558256.8381,1514588856813.1975,1514591151724.1707,1514593446635.1438,1514595745191.5032,1514598051114.6401,1514600368282.6519,1514602700821.014,1514605053209.8296,1514607430416.5664,1514609838067.1313,1514612282674.7212,1514614771957.2253,1514617315294.1765,1514619924411.98,1514622614460.9648,1514625405807.2427,1514628327235.4246,1514631422243.908,1514634763194.9238,1514638490474.052,1514642972082.0078,1603422264594.0015,1603427009211.6082,1603430955231.508,1603434492251.0708,1603437768894.6077,1603440861771.0317,1603443816931.5066,1603446664849.9106,1603449427087.5696,1603452119683.9316,1603454755053.5833,1603457343126.5083,1603459892073.5322,1603462408790.088,1603464899232.2466,1603467368658.9995,1603469821813.37,1603472263062.9448,1603474696513.4116,1603477126104.5576,1603479555695.7036,1603481989146.1704,1603484430395.745,1603486883550.1157,1603489352976.8687,1603491843419.0273,1603494360135.583,1603496909082.607,1603499497155.532,1603502132525.1836,1603504825121.5457,1603507587359.2046,1603510435277.6086,1603513390438.0835,1603516483314.5076,1603519759958.0444,1603523296977.6072,1603527242997.507,1603531987615.1138,1692269606509.6301,1692274614031.5708,1692278778704.652,1692282511714.2505,1692285969920.1086,1692289234176.122,1692292353085.1982,1692295358809.8057,1692298274106.0066,1692301115902.0115,1692303897300.3132,1692306628781.126,1692309318968.0295,1692311975138.54,1692314603578.7615,1692317209839.0908,1692319798925.368,1692322375447.1917,1692324943737.7502,1692327507955.1392,1692330072172.528,1692332640463.0867,1692335216984.9104,1692337806071.1875,1692340412331.5168,1692343040771.7383,1692345696942.2488,1692348387129.1523,1692351118609.965,1692353900008.2668,1692356741804.2717,1692359657100.4727,1692362662825.08,1692365781734.1562,1692369045990.1697,1692372504196.0278,1692376237205.6262,1692380401878.7075,1692385409400.6482,1781079379899.72,1781084650214.8274,1781089033448.6338,1781092962365.3945,1781096602056.8018,1781100037619.9375,1781103320208.375,1781106483672.4587,1781109551962.4817,1781112542895.0415,1781115470260.2458,1781118345088.3074,1781121176455.3682,1781123972020.8665,1781126738400.7988,1781129481436.8455,1781132206397.551,1781134918134.4246,1781137621208.0588,1781140319994.765,1781143018781.471,1781145721855.1052,1781148433591.9788,1781151158552.6843,1781153901588.731,1781156667968.6633,1781159463534.1616,1781162294901.2224,1781165169729.284,1781168097094.4883,1781171088027.048,1781174156317.071,1781177319781.1548,1781180602369.5923,1781184037932.728,1781187677624.1353,1781191606540.896,1781195989774.7024,1781201260089.8098],\"y\":[2.746234423937187e-18,2.7462426902047363e-18,2.746249565101558e-18,2.7462557274071602e-18,2.7462614360638653e-18,2.7462668245456806e-18,2.746271973177164e-18,2.74627693921267e-18,2.7462818804957897e-18,2.7462891291623748e-18,2.7463288782738707e-18,2.7466768508367237e-18,2.7491114490655952e-18,2.7617344503097377e-18,2.8101895391940194e-18,2.9478856409419886e-18,3.234948248715171e-18,3.661746750918631e-18,4.077765351895325e-18,4.254307194854307e-18,4.077777790016173e-18,3.661769168733864e-18,3.234978092684228e-18,2.9479220622341847e-18,2.810233104478545e-18,2.7617860105249434e-18,2.7491715582411157e-18,2.7467457910212815e-18,2.746406827964878e-18,2.7463762604518792e-18,2.746378393664174e-18,2.746383076988828e-18,2.7463880341073095e-18,2.7463931822992473e-18,2.746398570491891e-18,2.7464042788192067e-18,2.746410440739714e-18,2.7464173151707113e-18,2.746425580827608e-18,3.782177282286349e-18,3.782174116888288e-18,3.782171484217235e-18,3.782169124371678e-18,3.7821669382048696e-18,3.7821648746291974e-18,3.7821629042756705e-18,3.782161068387629e-18,3.782161132456591e-18,3.782197183194384e-18,3.7827156889595366e-18,3.78779652019485e-18,3.823755430854304e-18,4.010458650651495e-18,4.727007589621647e-18,6.7605428146205756e-18,1.0986635742452846e-17,1.72365680187492e-17,2.3290429850809937e-17,2.584806267463554e-17,2.3290484996959382e-17,1.7236642474193415e-17,1.0986691380663566e-17,6.760566007224751e-18,4.727005687351364e-18,4.01044320278418e-18,3.823733324070311e-18,3.787770255443699e-18,3.782685846185647e-18,3.782163808615902e-18,3.782124162921209e-18,3.782120412055285e-18,3.7821184468524e-18,3.782116472982479e-18,3.782114408526642e-18,3.782112221389804e-18,3.782109860410424e-18,3.78210722636785e-18,3.7821040591718545e-18,2.5628528533488448e-18,2.5628395519310172e-18,2.562828489366842e-18,2.562818573428169e-18,2.56280938745032e-18,2.562800716740751e-18,2.5627924382306848e-18,2.5627847414558572e-18,2.5627855145245132e-18,2.562946984489468e-18,2.5652629883817803e-18,2.587953292958973e-18,2.748533511397094e-18,3.5821541045382134e-18,6.779479127625649e-18,1.5835826973657223e-17,3.457394813336363e-17,6.20811900312363e-17,8.849368140058923e-17,9.958407102420463e-17,8.849392170039573e-17,6.208151782674101e-17,3.4574196539868397e-17,1.583593348844691e-17,6.779474936317359e-18,3.58209033394272e-18,2.748440883703681e-18,2.5878429945044783e-18,2.5651376256089103e-18,2.5628067810202454e-18,2.5626302086262177e-18,2.5626139476150335e-18,2.5626056763251142e-18,2.5625973854832697e-18,2.5625887146787235e-18,2.562579528774763e-18,2.562569612923802e-18,2.5625585504657347e-18,2.5625452491870032e-18,1.2544372032835331e-18,1.2544249790484225e-18,1.2544148124207523e-18,1.2544056996032659e-18,1.2543972576661819e-18,1.2543892894364789e-18,1.25438169234326e-18,1.2543751205657946e-18,1.254390698677871e-18,1.2548341371623e-18,1.2610183743449207e-18,1.3214925114179196e-18,1.749380357932589e-18,3.97025890253145e-18,1.2482662763120861e-17,3.6544988137845774e-17,8.6101945457167e-17,1.5828944563643804e-16,2.2697426032069823e-16,2.556301974815777e-16,2.269749044650514e-16,1.582903470960138e-16,8.610266992066349e-17,3.6545365144376583e-17,1.2482770856446115e-17,3.970232961163767e-18,1.749302212674088e-18,1.3213922387633263e-18,1.2609032941483923e-18,1.2547053068860962e-18,1.2542479808689504e-18,1.2542181696012962e-18,1.2542100675081212e-18,1.2542024381964851e-18,1.254194470443385e-18,1.2541860295413704e-18,1.2541769179375852e-18,1.254166752778076e-18,1.254154530467582e-18,5.088680599337351e-19,5.088607500601783e-19,5.088546706292653e-19,5.088492213781839e-19,5.088441733196215e-19,5.088394088344618e-19,5.08834888669366e-19,5.0883201023842695e-19,5.088724928090862e-19,5.097561721767425e-19,5.219565091761998e-19,6.411781738133377e-19,1.484660070747129e-18,5.86197046817545e-18,2.2630412008454327e-17,6.995024476142927e-17,1.6703213636900606e-16,3.075384667707247e-16,4.4021698864037326e-16,4.952779577307383e-16,4.4021824397176636e-16,3.0754024691926976e-16,1.6703360186558102e-16,6.995105332719404e-17,2.2630710984515243e-17,5.862023375942996e-18,1.4846279583221247e-18,6.4112049189373805e-19,5.218879528638586e-19,5.096791589130051e-19,5.087871563621273e-19,5.087381620579265e-19,5.087322662648664e-19,5.087276818591917e-19,5.087229174851176e-19,5.08717870515395e-19,5.087124225443174e-19,5.087063446617739e-19,5.08699036817981e-19,1.8287376729689635e-19,1.8287029203563784e-19,1.828674017650483e-19,1.828648111036408e-19,1.8286241118769762e-19,1.8286014656613697e-19,1.828580343543965e-19,1.8285836910728505e-19,1.8292810930467128e-19,1.8435028232977942e-19,2.0392516013303405e-19,3.9517013353178435e-19,1.7481614993071833e-18,8.768993931812002e-18,3.565488016016344e-17,1.1144633491745043e-16,2.665712673490157e-16,4.901910904145139e-16,7.003671208076144e-16,7.873036685470505e-16,7.003691124345428e-16,4.901939325976578e-16,2.665736297358718e-16,1.1144766239764527e-16,3.565540170847787e-17,8.76912990311597e-18,1.748169906471725e-18,3.951463983837953e-19,2.0389298270794738e-19,1.843137036122884e-19,1.828875427192565e-19,1.828137543606458e-19,1.828092483343161e-19,1.8280703229097015e-19,1.82804766954976e-19,1.8280236776030673e-19,1.8279977795336079e-19,1.8279688871640384e-19,1.827934148101377e-19,6.042009209687498e-20,6.0418663362033e-20,6.041747513144812e-20,6.041641007852138e-20,6.041542345148387e-20,6.041449309322535e-20,6.04136749288651e-20,6.041613987803155e-20,6.051380892281679e-20,6.246774967164233e-20,8.933766816682422e-20,3.5183814726731245e-19,2.2089187646922023e-18,1.184531260221756e-17,4.8744081442301476e-17,1.5273396147885853e-16,3.6544362865176854e-16,6.717616504971713e-16,9.593191429338147e-16,1.078163643594182e-15,9.593218693123774e-16,6.717655477758267e-16,3.6544687656657893e-16,1.5273579602302437e-16,4.874481431184172e-17,1.1845519926542074e-17,2.2089545684718133e-18,3.518334271660259e-19,8.932500566112645e-20,6.245275733548132e-20,6.049713473053685e-20,6.039779913741731e-20,6.039361931672897e-20,6.039265816160045e-20,6.039172628385385e-20,6.039074002784844e-20,6.038967542405206e-20,6.038848773680797e-20,6.038705971423336e-20,1.8770035441939877e-20,1.8769504431814082e-20,1.8769062810552196e-20,1.8768666971384757e-20,1.8768300286876202e-20,1.8767955289340717e-20,1.8767711380153944e-20,1.877141788010394e-20,1.8890443792623163e-20,2.125835112553336e-20,5.381230124469855e-20,3.7183626735629306e-19,2.621733468545376e-18,1.4296878901384907e-17,5.90088951921073e-17,1.8507550738839828e-16,4.432083211699982e-16,8.155793247529661e-16,1.1658516304599524e-15,1.3108206445385834e-15,1.1658549558850553e-15,8.155840696262999e-16,4.4321226898596505e-16,1.8507773701334116e-16,5.90097895061782e-17,1.4297137531060452e-17,2.621785559290979e-18,3.7184055265450635e-19,5.3808273211980505e-20,2.1252833178895494e-20,1.888424987356804e-20,1.876460174877801e-20,1.876025782005035e-20,1.875984045201938e-20,1.8759493359311067e-20,1.8759126832220653e-20,1.8758731195675046e-20,1.8758289819578325e-20,1.8757759130840552e-20,5.56347897705046e-21,5.563295752726036e-21,5.56314337257428e-21,5.563006789937377e-21,5.5628802733378505e-21,5.5627620701896944e-21,5.562742524551175e-21,5.567017965731774e-21,5.696925420266362e-21,8.276957178507247e-21,4.3744333316041616e-20,3.9022873301826137e-19,2.8415079134788847e-18,1.5562694347440373e-17,6.429674480214936e-17,2.018412503834828e-16,4.841182060147478e-16,8.92872780272116e-16,1.2790949979148147e-15,1.4394452793907777e-15,1.2790986731329268e-15,8.928780014425053e-16,4.841225309398042e-16,2.0184368642007601e-16,6.429772184751471e-17,1.5562978617848274e-17,2.8415675379457746e-18,3.902366973266443e-19,4.374367153037553e-20,8.275111175731224e-21,5.694791504901549e-21,5.56466630940079e-21,5.560170822276652e-21,5.559962204474475e-21,5.559841615393795e-21,5.55971515168293e-21,5.559578651117135e-21,5.559426370313151e-21,5.5592432762242295e-21,1.5891691385948424e-21,1.5891094245571906e-21,1.5890597630581739e-21,1.589015250239007e-21,1.588974023895493e-21,1.588936317857883e-21,1.5889930597374073e-21,1.5933133332917483e-21,1.7224242016070606e-21,4.285291040220758e-21,3.9515826562175655e-20,3.8368682640698067e-19,2.818646471010917e-18,1.5456478483155502e-17,6.38919965641191e-17,2.0077270979990949e-16,4.825240471753371e-16,8.925541869027512e-16,1.2822580460632567e-15,1.4447200892708292e-15,1.2822617652745975e-15,8.925594402703799e-16,4.825283731260867e-16,2.007751369270586e-16,6.389296858362943e-17,1.54567616738265e-17,2.8187065874957826e-18,3.836957569637342e-19,3.951632198406767e-20,4.284745959271901e-21,1.7217318820932735e-21,1.5925470665348348e-21,1.5881549713089764e-21,1.5880238707121951e-21,1.5879837568028567e-21,1.5879425394873115e-21,1.5878980573234568e-21,1.5878484329770536e-21,1.5877887676430025e-21,4.405966073331474e-22,4.405780067429899e-22,4.405625375294983e-22,4.405486721633712e-22,4.405358357310586e-22,4.405248234006043e-22,4.405991270493069e-22,4.445711056713479e-22,5.626484858616405e-22,2.906103713521771e-21,3.5120238344304266e-20,3.498243936592396e-19,2.576356168157548e-18,1.4133705813676552e-17,5.844827694929805e-17,1.8385604843203284e-16,4.428046589881486e-16,8.216413791720352e-16,1.1839399908169641e-15,1.3356367833656921e-15,1.1839434591339278e-15,8.216462483137914e-16,4.4280864341743087e-16,1.838582745468023e-16,5.844916677356137e-17,1.4133965040133227e-17,2.5764114011870398e-18,3.4983285972634434e-19,3.512103070851349e-20,2.9059846402120172e-21,5.624356262456227e-22,4.4433253226763345e-22,4.403380831804147e-22,4.402406160640704e-22,4.40227389146301e-22,4.402145461777951e-22,4.402006915488546e-22,4.401852353881292e-22,4.401666519089821e-22,1.1919458742722547e-22,1.1918900234230911e-22,1.1918435751664375e-22,1.1918019429633988e-22,1.191763443351954e-22,1.1917364563157765e-22,1.1924293470497612e-22,1.226142643863815e-22,2.226602036642556e-22,2.208137751616946e-21,2.950129195909109e-20,2.961323813110928e-19,2.182583186935448e-18,1.1975674108780403e-17,4.9541283454627375e-17,1.5598591336072162e-16,3.7641993681889047e-16,7.004915102709919e-16,1.0122079939071353e-15,1.143255581823268e-15,1.0122109865198712e-15,7.004956877665666e-16,3.76423335357706e-16,1.559878046925082e-16,4.954203806537928e-17,1.197589384579444e-17,2.1826300583160947e-18,2.9613963895497042e-19,2.9502059184065197e-20,2.2081440663439858e-21,2.2259860151439723e-22,1.2254271773146734e-22,1.1916455872049473e-22,1.1908831290707868e-22,1.1908373379156714e-22,1.1907987355754837e-22,1.1907571389804037e-22,1.1907107343440833e-22,1.1906549406777448e-22,3.1591072876358935e-23,3.1589446073486523e-23,3.1588093151675735e-23,3.158688052525669e-23,3.158576246612446e-23,3.1585445954075545e-23,3.164191729943577e-23,3.430686415514136e-23,1.1334254806457244e-22,1.6818271732289852e-21,2.324281737595089e-20,2.3387594513811096e-19,1.7241573753934845e-18,9.46129154887915e-18,3.915080500608165e-17,1.2336793475587669e-16,2.9819693334257834e-16,5.562760895849361e-16,8.057178712294948e-16,9.109414783800644e-16,8.057202717022572e-16,5.562794245644335e-16,2.9819963322389053e-16,1.233694323400832e-16,3.915140158367512e-17,9.461465184261625e-18,1.7241944241591716e-18,2.338817017557101e-19,2.324344971967042e-20,1.6818615072150225e-21,1.1332638904354994e-22,3.4286090733529255e-23,3.16190909442716e-23,3.156059186450775e-23,3.1558788609042126e-23,3.155766098735744e-23,3.1556449481852556e-23,3.155509795919357e-23,3.155347299053528e-23,8.228617553496554e-24,8.228155655889594e-24,8.227771522899667e-24,8.227427233161492e-24,8.227112185822773e-24,8.22736056397593e-24,8.269535835885584e-24,1.0238537917692559e-23,6.862149756696048e-23,1.2272390853737318e-21,1.7154037363191608e-20,1.7274600468754201e-19,1.273611141515615e-18,6.989383143121108e-18,2.892830510812683e-17,9.121145039540152e-17,2.2075032447175796e-16,4.1257830114928174e-16,5.986794846444627e-16,6.773901181193682e-16,5.986812788733337e-16,4.1258078470653023e-16,2.207523274871991e-16,9.121255861912825e-17,2.89287460446603e-17,6.989511427209514e-18,1.2736385149616334e-18,1.7275026319893633e-19,1.7154511439250985e-20,1.2272722414409748e-21,6.861819440473712e-23,1.0232687102622645e-23,8.263056192126915e-24,8.220304131174125e-24,8.21945390398322e-24,8.21913136878303e-24,8.218787411155213e-24,8.218403711845866e-24,8.217942382797304e-24,2.111674848594661e-24,2.1115465241515875e-24,2.1114398047465634e-24,2.1113441603926868e-24,2.1112582554731603e-24,2.111555728470791e-24,2.140930253430078e-24,3.506845699516153e-24,4.400435347416553e-23,8.476806708561502e-22,1.1895321098080192e-20,1.198219817629643e-19,8.834458560889459e-19,4.848425481899154e-18,2.0070199985206932e-17,6.330927526527675e-17,1.533605680252774e-16,2.870151320379176e-16,4.170265489726274e-16,4.721177800640699e-16,4.1702780408823905e-16,2.870168647801953e-16,1.533619617253677e-16,6.33100449681319e-17,2.0070505965948555e-17,4.8485144761622966e-18,8.834648454384371e-19,1.198249372913793e-19,1.1895651751666e-20,8.477056930341159e-22,4.4004303548581716e-23,3.505252103559539e-24,2.1391309143302553e-24,2.1095954212671123e-24,2.10913074081533e-24,2.1090395215568084e-24,2.1089439668306883e-24,2.10883737800255e-24,2.108709224764323e-24,5.349841095253461e-25,5.349491197304525e-25,5.349200210375556e-25,5.348939457058e-25,5.348715502157005e-25,5.3509753878816915e-25,5.543040144002021e-25,1.4460218844408333e-24,2.7883386469179455e-23,5.525344923229725e-22,7.764588426958171e-21,7.822067579393327e-20,5.767283304168003e-19,3.1652221790405355e-18,1.3103877838862512e-17,4.134682668673398e-17,1.0021961826584373e-16,1.8773135191046827e-16,2.730102669271305e-16,3.0919206066508284e-16,2.730110909290726e-16,1.8773248747080671e-16,1.0022052997965088e-16,4.134732958907062e-17,1.310407764166642e-17,3.165280279833295e-18,5.767407274300038e-19,7.822260561363947e-20,7.764804741980994e-21,5.525513410360017e-22,2.7883923097621164e-23,1.4456075479595576e-24,5.538138912526341e-25,5.345630625903839e-25,5.342914779256402e-25,5.342655800020959e-25,5.342395244119978e-25,5.34210464065406e-25,5.341755245591304e-25,1.3402556458182017e-25,1.3401617794703033e-25,1.3400837174113209e-25,1.3400137870551925e-25,1.3399598412423743e-25,1.341430776306443e-25,1.4597834140833861e-25,6.951214556128595e-25,1.6975730598893437e-23,3.4006527551949355e-22,4.781377354557922e-21,4.816952061824273e-20,3.5516075782248605e-19,1.949240306021265e-18,8.070288865080583e-18,2.5468954140033935e-17,6.175724161078426e-17,1.1574956061006904e-16,1.6842361412111145e-16,1.9078968627852777e-16,1.6842412336421808e-16,1.1575026161906343e-16,6.175780379250229e-17,2.5469264002743066e-17,8.070411928226075e-18,1.9492760870749134e-18,3.551683922704509e-19,4.817070913828922e-20,4.781510679830663e-21,3.400757793569857e-22,1.6976202955967227e-23,6.950223413833329e-25,1.4584714521310754e-25,1.3399970621401079e-25,1.3384037746618623e-25,1.338328171177559e-25,1.3382582582680513e-25,1.3381803063972204e-25,1.338086584620433e-25,3.324801666591874e-26,3.324553413285172e-26,3.324346959450697e-26,3.3241621293866034e-26,3.324053949129363e-26,3.332806782278878e-26,4.021630164604162e-26,3.5973842695037476e-25,9.832654591065764e-24,1.9782314188296364e-22,2.7820121167334333e-21,2.802752355813459e-20,2.0665161733529696e-19,1.1341842795600343e-18,4.6959553265585e-18,1.4821537295862116e-17,3.59474960011473e-17,6.739798906189133e-17,9.81011151583028e-17,1.1114419169313108e-16,9.810141208860305e-17,6.73983975373751e-17,3.594782336093465e-17,1.4821717647740923e-17,4.696026938410173e-18,1.134205099384397e-18,2.066560594998956e-19,2.8028215126831217e-20,2.7820897204647056e-21,1.9782928494771856e-22,9.83296419189214e-24,3.597189819718874e-25,4.018176345850679e-26,3.32901537915866e-26,3.319938750922737e-26,3.319704321226574e-26,3.319519319419128e-26,3.3193131761741824e-26,3.319065330748062e-26,8.176715668801542e-27,8.176067286506341e-27,8.175528078214908e-27,8.17504596859656e-27,8.174946658119191e-27,8.223638520239e-27,1.2019104316119193e-26,1.8805772024971103e-25,5.4070862742808344e-24,1.089789568672127e-22,1.532717431664773e-21,1.5441534594771467e-20,1.1385320337346622e-19,6.2487410216805685e-19,2.587272524575289e-18,8.16653725874692e-18,1.9809275534746383e-17,3.7147464337852174e-17,5.407998334767938e-17,6.127502963572596e-17,5.408014713259491e-17,3.714768956699359e-17,1.980945596913203e-17,8.166636639924172e-18,2.5873119807922874e-18,6.248855728464885e-19,1.138556507601805e-19,1.544191561519029e-20,1.532760193605582e-21,1.089823489168515e-22,5.407265238998726e-24,1.8805623672480758e-25,1.201016820524064e-26,8.213737906604204e-27,8.164199239603201e-27,8.163403766272155e-27,8.162920007110846e-27,8.162381659202277e-27,8.161734408795006e-27,1.995517680489949e-27,1.995350210114354e-27,1.9952109392395083e-27,1.9950867279223788e-27,1.9951529385233516e-27,2.0206800033391205e-27,4.001902005900638e-27,9.58887077785413e-26,2.8200600076270302e-24,5.688136754454565e-23,8.000287457676927e-22,8.060001073636809e-21,5.94278815627907e-20,3.2616610111156454e-19,1.3504963731582947e-18,4.2628814886755054e-18,1.0341017158786066e-17,1.9394007698259776e-17,2.8236941167619077e-17,3.199504914450888e-17,2.823702671198438e-17,1.9394125311618373e-17,1.034111136160958e-17,4.26293336748991e-18,1.3505169687005358e-18,3.2617208849479295e-19,5.942915902575565e-20,8.060199955950197e-21,8.000510677871554e-22,5.688313989001473e-23,2.8201554162061715e-24,9.589012686818085e-26,3.9996361485284406e-27,2.0181234996266887e-27,1.9923771397250596e-27,1.9920798231735386e-27,1.991954573468191e-27,1.9918155371228158e-27,1.9916483762852306e-27]},\"selected\":{\"id\":\"1118\",\"type\":\"Selection\"},\"selection_policy\":{\"id\":\"1119\",\"type\":\"UnionRenderers\"}},\"id\":\"1082\",\"type\":\"ColumnDataSource\"},{\"attributes\":{\"line_alpha\":0.1,\"line_color\":\"#1f77b4\",\"x\":{\"field\":\"x\"},\"y\":{\"field\":\"y\"}},\"id\":\"1172\",\"type\":\"Line\"},{\"attributes\":{\"data_source\":{\"id\":\"1170\",\"type\":\"ColumnDataSource\"},\"glyph\":{\"id\":\"1171\",\"type\":\"Line\"},\"hover_glyph\":null,\"muted_glyph\":null,\"nonselection_glyph\":{\"id\":\"1172\",\"type\":\"Line\"},\"selection_glyph\":null,\"view\":{\"id\":\"1174\",\"type\":\"CDSView\"}},\"id\":\"1173\",\"type\":\"GlyphRenderer\"},{\"attributes\":{\"active_drag\":\"auto\",\"active_inspect\":\"auto\",\"active_multi\":null,\"active_scroll\":\"auto\",\"active_tap\":\"auto\",\"tools\":[{\"id\":\"1021\",\"type\":\"PanTool\"},{\"id\":\"1022\",\"type\":\"WheelZoomTool\"},{\"id\":\"1023\",\"type\":\"BoxZoomTool\"},{\"id\":\"1024\",\"type\":\"SaveTool\"},{\"id\":\"1025\",\"type\":\"ResetTool\"},{\"id\":\"1026\",\"type\":\"HelpTool\"}]},\"id\":\"1027\",\"type\":\"Toolbar\"},{\"attributes\":{\"line_color\":\"#1f77b4\",\"x\":{\"field\":\"x\"},\"y\":{\"field\":\"y\"}},\"id\":\"1083\",\"type\":\"Line\"},{\"attributes\":{\"line_alpha\":0.1,\"line_color\":\"#1f77b4\",\"x\":{\"field\":\"x\"},\"y\":{\"field\":\"y\"}},\"id\":\"1084\",\"type\":\"Line\"},{\"attributes\":{\"source\":{\"id\":\"1170\",\"type\":\"ColumnDataSource\"}},\"id\":\"1174\",\"type\":\"CDSView\"},{\"attributes\":{\"data_source\":{\"id\":\"1082\",\"type\":\"ColumnDataSource\"},\"glyph\":{\"id\":\"1083\",\"type\":\"Line\"},\"hover_glyph\":null,\"muted_glyph\":null,\"nonselection_glyph\":{\"id\":\"1084\",\"type\":\"Line\"},\"selection_glyph\":null,\"view\":{\"id\":\"1086\",\"type\":\"CDSView\"}},\"id\":\"1085\",\"type\":\"GlyphRenderer\"},{\"attributes\":{},\"id\":\"1193\",\"type\":\"Selection\"},{\"attributes\":{\"source\":{\"id\":\"1082\",\"type\":\"ColumnDataSource\"}},\"id\":\"1086\",\"type\":\"CDSView\"},{\"attributes\":{},\"id\":\"1194\",\"type\":\"UnionRenderers\"},{\"attributes\":{},\"id\":\"1021\",\"type\":\"PanTool\"},{\"attributes\":{\"label\":{\"value\":\"14\"},\"renderers\":[{\"id\":\"1173\",\"type\":\"GlyphRenderer\"}]},\"id\":\"1196\",\"type\":\"LegendItem\"},{\"attributes\":{},\"id\":\"1097\",\"type\":\"Selection\"},{\"attributes\":{},\"id\":\"1022\",\"type\":\"WheelZoomTool\"},{\"attributes\":{},\"id\":\"1098\",\"type\":\"UnionRenderers\"},{\"attributes\":{\"callback\":null,\"data\":{\"x\":[89185458945.30998,89185722850.1516,89185942335.43849,89186139071.3327,89186321324.60689,89186493356.39754,89186657728.15976,89186816134.9098,89186969775.93051,89187119543.36707,89187266127.74292,89187410081.38301,89187551858.76454,89187691843.42485,89187830366.6522,89187967720.9619,89188104170.1701,89188239957.21043,89188375310.44925,89188510449.02515,89188645587.60104,89188780940.83986,89188916727.88019,89189053177.0884,89189190531.39809,89189329054.62544,89189469039.28575,89189610816.66728,89189754770.30737,89189901354.68323,89190051122.11978,89190204763.14049,89190363169.89053,89190527541.65276,89190699573.4434,89190881826.71759,89191078562.6118,89191298047.8987,89191561952.74031,178368940557.2012,178369468361.0334,178369907326.741,178370300794.16757,178370665296.6752,178371009356.44235,178371338096.3225,178371654906.31058,178371962184.9456,178372261716.4982,178372554882.0,178372842786.0886,178373126337.70828,178373406303.9253,178373683347.3088,178373958052.8829,178374230948.27408,178374502519.3442,178374773222.82092,178375043496.97656,178375313771.1322,178375584474.60892,178375856045.67905,178376128941.07022,178376403646.64432,178376680690.02783,178376960656.24484,178377244207.86453,178377532111.95312,178377825277.45493,178378124809.00754,178378432087.64255,178378748897.6306,178379077637.51077,178379421697.27792,178379786199.78555,178380179667.21213,178380618632.91974,178381146436.75192,267548467652.14603,267549259343.26712,267549917779.66336,267550507969.89896,267551054713.55887,267551570793.6746,267552063894.38437,267552539100.5866,267553000010.02344,267553449299.0514,267553889039.17947,267554320887.33362,267554746206.90503,267555166148.47177,267555581705.8693,267555993756.6174,267556403092.1414,267556810441.22046,267557216488.93344,267557621892.67673,267558027296.42,267558433344.133,267558840693.21207,267559250028.73605,267559662079.48416,267560077636.88168,267560497578.44843,267560922898.01984,267561354746.17398,267561794486.30206,267562243775.33002,267562704684.76685,267563179890.9691,267563672991.67886,267564189071.7946,267564735815.4545,267565326005.6901,267565984442.08633,267566776133.20743,356722062836.7694,356723118397.6266,356723996290.11304,356724783190.0723,356725512162.76245,356726200251.78455,356726857702.39124,356727491294.2717,356728105824.29144,356728704860.8333,356729291165.83813,356729866948.48315,356730434026.57635,356730993934.1822,356731547996.3802,356732097383.1666,356732643149.74786,356733186267.8044,356733727650.75104,356734268175.0936,356734808699.4362,356735350082.3829,356735893200.4394,356736438967.0206,356736988353.80707,356737542416.00507,356738102323.6109,356738669401.7041,356739245184.3491,356739831489.35394,356740430525.8958,356741045055.9155,356741678647.796,356742336098.4027,356743024187.4248,356743753160.1149,356744540060.0742,356745417952.56067,356746473513.41785,445887748807.6304,445889068214.8198,445890165543.9319,445891149136.1678,445892060321.72546,445892920404.39764,445893742190.32434,445894534153.8351,445895302290.81226,445896051061.58636,445896783918.4683,445897503622.838,445898212446.8799,445898912308.1105,445899604862.8244,445900291573.46826,445900973759.00604,445901652633.99805,445902329340.17487,445903004973.13226,445903680606.08966,445904357312.2665,445905036187.2585,445905718372.79626,445906405083.4401,445907097638.15405,445907797499.38464,445908506323.4265,445909226027.7962,445909958884.67816,445910707655.4523,445911475792.42944,445912267755.9402,445913089541.8669,445913949624.53906,445914860810.09674,445915844402.33264,445916941731.4447,445918261138.63416,535043548411.18024,535045131635.4476,535046448376.8549,535047628639.55896,535048722017.781,535049754075.0333,535050740178.059,535051690495.64044,535052612222.54376,535053510710.94806,535054390103.45807,535055253713.5949,535056104267.869,535056944067.207,535057775099.08124,535058599118.35645,535059417707.72516,535060232324.60046,535061044339.00323,535061855065.59515,535062665792.1871,535063477806.58984,535064292423.46515,535065111012.83386,535065935032.1091,535066766063.98334,535067605863.3213,535068456417.5954,535069320027.73224,535070199420.24225,535071097908.64655,535072019635.54987,535072969953.1313,535073956056.157,535074988113.4093,535076081491.63135,535077261754.3354,535078578495.74274,535080161720.0101,624187484164.1082,624189331170.3477,624190867294.8535,624192244201.8549,624193519748.4972,624194723757.4451,624195874155.7045,624196982806.2844,624198058102.6759,624199106288.7877,624200132197.4264,624201139694.181,624202131959.8276,624203111678.6515,624204081169.259,624205042478.8943,624205997453.9427,624206947794.6383,624207895099.2618,624208840901.5115,624209786703.7611,624210734008.3846,624211684349.0802,624212639324.1287,624213600633.7639,624214570124.3715,624215549843.1953,624216542108.8419,624217549605.5966,624218575514.2352,624219623700.347,624220698996.7385,624221807647.3185,624222958045.5779,624224162054.5258,624225437601.1681,624226814508.1694,624228350632.6753,624230197638.9148,713317578942.8441,713319689690.0995,713321445163.6411,713323018684.4078,713324476371.1859,713325852305.1313,713327166973.1149,713328433932.1099,713329662774.1455,713330860634.7218,713332033036.7404,713333184397.7722,713334318352.7883,713335437969.3734,713336545897.2166,713337644475.8951,713338735815.4475,713339821858.8901,713340904432.7284,713341985289.6632,713343066146.598,713344148720.4363,713345234763.8789,713346326103.4313,713347424682.1099,713348532609.953,713349652226.5381,713350786181.5542,713351937542.586,713353109944.6046,713354307805.1809,713355536647.2166,713356803606.2115,713358118274.1951,713359494208.1405,713360951894.9186,713362525415.6853,713364280889.2269,713366391636.4823,802431855354.012,802434229795.4758,802436204579.1241,802437974678.7622,802439614473.3507,802441162301.7812,802442641210.3352,802444066449.6494,802445448810.0785,802446796318.5559,802448115187.9554,802449410387.7322,802450686006.9716,802451945496.4894,802453191836.9989,802454427660.3591,802455655340.2141,802456877062.32,802458094881.3661,802459310769.0172,802460526656.6683,802461744475.7145,802462966197.8203,802464193877.6753,802465429701.0355,802466676041.545,802467935531.0629,802469211150.3022,802470506350.079,802471825219.4785,802473172727.9559,802474555088.385,802475980327.6992,802477459236.2532,802479007064.6837,802480646859.2722,802482416958.9103,802484391742.5586,802486766184.0225,891528336124.15,891530974207.164,891533168257.124,891535134896.3777,891536956762.4108,891538676450.9999,891540319567.3264,891541903055.352,891543438903.518,891544936030.0126,891546401337.5442,891547840347.3419,891549257602.515,891550656937.0339,891552041662.5695,891553414703.2043,891554778696.1354,891556136069.81,891557489107.0565,891558839998.459,891560190889.8615,891561543927.1079,891562901300.7826,891564265293.7136,891565638334.3485,891567023059.884,891568422394.403,891569839649.576,891571278659.3738,891572743966.9054,891574241093.4,891575776941.5659,891577360429.5916,891579003545.9181,891580723234.5072,891582545100.5403,891584511739.794,891586705789.754,891589343872.768,980605043979.7953,980607945645.8502,980610358913.4609,980612522048.7126,980614525945.7837,980616417456.3911,980618224744.048,980619966445.6654,980621655747.505,980623302458.8125,980624914171.9778,980626496959.8812,980628055819.5552,980629594968.0397,980631118047.8899,980632628275.3472,980634128551.1028,980635621546.2417,980637109771.6796,980638595636.8726,980640081502.0656,980641569727.5034,980643062722.6423,980644562998.398,980646073225.8552,980647596305.7054,980649135454.19,980650694313.8639,980652277101.7673,980653888814.9326,980655535526.2401,980657224828.0797,980658966529.6971,980660773817.354,980662665327.9614,980664669225.0325,980666832360.2842,980669245627.8949,980672147293.9498,1069660001617.5104,1069663166802.2461,1069665799233.9801,1069668158817.2507,1069670344700.9125,1069672407991.5837,1069674379410.4845,1069676279287.0621,1069678122005.1061,1069679918264.7018,1069681676347.7522,1069683402878.6544,1069685103308.253,1069686782236.5642,1069688443636.9467,1069690091017.7289,1069691727543.0323,1069693356126.5201,1069694979507.1403,1069696600313.1665,1069698221119.1927,1069699844499.8129,1069701473083.3007,1069703109608.6041,1069704756989.3864,1069706418389.7688,1069708097318.08,1069709797747.6786,1069711524278.5808,1069713282361.6312,1069715078621.2269,1069716921339.2709,1069718821215.8485,1069720792634.7493,1069722855925.4205,1069725041809.0823,1069727401392.3529,1069730033824.0869,1069733199008.8226,1158691231763.8252,1158694660397.0308,1158697511934.4949,1158700067913.4436,1158702435735.208,1158704670760.1746,1158706806266.5889,1158708864275.9832,1158710860369.3555,1158712806137.3943,1158714710551.3315,1158716580786.9343,1158718422748.7383,1158720241419.6335,1158722041103.6946,1158723825601.259,1158725598339.8086,1158727362475.5195,1158729120975.3115,1158730876686.218,1158732632397.1245,1158734390896.9165,1158736155032.6274,1158737927771.177,1158739712268.7415,1158741511952.8025,1158743330623.6978,1158745172585.5017,1158747042821.1045,1158748947235.0417,1158750893003.0806,1158752889096.453,1158754947105.8472,1158757082612.2615,1158759317637.228,1158761685458.9924,1158764241437.9412,1158767092975.4053,1158770521608.6108,1247696757085.3298,1247700449090.943,1247703519670.8777,1247706271988.8015,1247708821696.1404,1247711228405.8196,1247713527952.3726,1247715744048.9275,1247717893473.3467,1247719988706.6628,1247722039409.2388,1247724053308.052,1247726036761.1985,1247727995134.332,1247729933062.1467,1247731854636.9055,1247733763549.374,1247735663198.1719,1247737556778.1245,1247739447354.962,1247741337931.7993,1247743231511.752,1247745131160.5498,1247747040073.0183,1247748961647.777,1247750899575.5918,1247752857948.7253,1247754841401.8718,1247756855300.685,1247758906003.261,1247761001236.5771,1247763150660.9963,1247765366757.5513,1247767666304.1042,1247770073013.7834,1247772622721.1223,1247775375039.0461,1247778445618.9807,1247782137624.594,1336674600338.5334,1336678555634.6418,1336681845188.9216,1336684793784.756,1336687525321.0999,1336690103662.0955,1336692567197.7678,1336694941332.3164,1336697244040.0938,1336699488692.2014,1336701685637.918,1336703843155.2603,1336705968055.7434,1336708066087.6655,1336710142216.238,1336712200825.558,1336714245869.5933,1336716280989.3315,1336718309607.433,1336720335008.2559,1336722360409.0786,1336724389027.1802,1336726424146.9185,1336728469190.9536,1336730527800.2737,1336732603928.8462,1336734701960.7683,1336736826861.2515,1336738984378.5938,1336741181324.3103,1336743425976.418,1336745728684.1953,1336748102818.744,1336750566354.4163,1336753144695.4119,1336755876231.7556,1336758824827.59,1336762114381.8699,1336766069677.9783,1425622784160.046,1425627002658.8853,1425630511114.518,1425633655922.8372,1425636569227.576,1425639319142.677,1425641946612.8057,1425644478732.6682,1425646934672.709,1425649328693.8018,1425651671833.9111,1425653972921.9092,1425656239222.5796,1425658476866.7373,1425660691150.0005,1425662886748.2034,1425665067878.4277,1425667238423.9492,1425669402035.1865,1425671562215.0532,1425673722394.92,1425675886006.1572,1425678056551.6787,1425680237681.903,1425682433280.106,1425684647563.3691,1425686885207.5269,1425689151508.1973,1425691452596.1953,1425693795736.3047,1425696189757.3975,1425698645697.4382,1425701177817.3008,1425703805287.4294,1425706555202.5305,1425709468507.2693,1425712613315.5884,1425716121771.2212,1425720340270.0605,1514539331366.3335,1514543812974.2893,1514547540253.4175,1514550881204.4333,1514553976212.9167,1514556897641.0986,1514559688987.3765,1514562379036.3613,1514564988154.1648,1514567531491.116,1514570020773.62,1514572465381.21,1514574873031.775,1514577250238.5117,1514579602627.3274,1514581935165.6895,1514584252333.7012,1514586558256.8381,1514588856813.1975,1514591151724.1707,1514593446635.1438,1514595745191.5032,1514598051114.6401,1514600368282.6519,1514602700821.014,1514605053209.8296,1514607430416.5664,1514609838067.1313,1514612282674.7212,1514614771957.2253,1514617315294.1765,1514619924411.98,1514622614460.9648,1514625405807.2427,1514628327235.4246,1514631422243.908,1514634763194.9238,1514638490474.052,1514642972082.0078,1603422264594.0015,1603427009211.6082,1603430955231.508,1603434492251.0708,1603437768894.6077,1603440861771.0317,1603443816931.5066,1603446664849.9106,1603449427087.5696,1603452119683.9316,1603454755053.5833,1603457343126.5083,1603459892073.5322,1603462408790.088,1603464899232.2466,1603467368658.9995,1603469821813.37,1603472263062.9448,1603474696513.4116,1603477126104.5576,1603479555695.7036,1603481989146.1704,1603484430395.745,1603486883550.1157,1603489352976.8687,1603491843419.0273,1603494360135.583,1603496909082.607,1603499497155.532,1603502132525.1836,1603504825121.5457,1603507587359.2046,1603510435277.6086,1603513390438.0835,1603516483314.5076,1603519759958.0444,1603523296977.6072,1603527242997.507,1603531987615.1138,1692269606509.6301,1692274614031.5708,1692278778704.652,1692282511714.2505,1692285969920.1086,1692289234176.122,1692292353085.1982,1692295358809.8057,1692298274106.0066,1692301115902.0115,1692303897300.3132,1692306628781.126,1692309318968.0295,1692311975138.54,1692314603578.7615,1692317209839.0908,1692319798925.368,1692322375447.1917,1692324943737.7502,1692327507955.1392,1692330072172.528,1692332640463.0867,1692335216984.9104,1692337806071.1875,1692340412331.5168,1692343040771.7383,1692345696942.2488,1692348387129.1523,1692351118609.965,1692353900008.2668,1692356741804.2717,1692359657100.4727,1692362662825.08,1692365781734.1562,1692369045990.1697,1692372504196.0278,1692376237205.6262,1692380401878.7075,1692385409400.6482,1781079379899.72,1781084650214.8274,1781089033448.6338,1781092962365.3945,1781096602056.8018,1781100037619.9375,1781103320208.375,1781106483672.4587,1781109551962.4817,1781112542895.0415,1781115470260.2458,1781118345088.3074,1781121176455.3682,1781123972020.8665,1781126738400.7988,1781129481436.8455,1781132206397.551,1781134918134.4246,1781137621208.0588,1781140319994.765,1781143018781.471,1781145721855.1052,1781148433591.9788,1781151158552.6843,1781153901588.731,1781156667968.6633,1781159463534.1616,1781162294901.2224,1781165169729.284,1781168097094.4883,1781171088027.048,1781174156317.071,1781177319781.1548,1781180602369.5923,1781184037932.728,1781187677624.1353,1781191606540.896,1781195989774.7024,1781201260089.8098],\"y\":[2.746234423937187e-18,2.7462426902047363e-18,2.746249565101558e-18,2.7462557274071602e-18,2.7462614360638653e-18,2.7462668245456767e-18,2.746271973177164e-18,2.7462769392126696e-18,2.746281880495786e-18,2.7462891291623698e-18,2.746328878273452e-18,2.746676850794172e-18,2.74911144675218e-18,2.761734380626196e-18,2.8101883447669855e-18,2.947873746269607e-18,3.234878329082045e-18,3.661501221937111e-18,4.077245697831627e-18,4.253640461856264e-18,4.077258132830441e-18,3.6615236367971286e-18,3.2349081717859175e-18,2.9479101672741085e-18,2.8102319100152995e-18,2.7617859408388615e-18,2.7491715559276047e-18,2.7467457909787254e-18,2.7464068279644576e-18,2.7463762604518765e-18,2.746378393664174e-18,2.746383076988828e-18,2.7463880341073095e-18,2.7463931822992435e-18,2.746398570491891e-18,2.7464042788192067e-18,2.746410440739714e-18,2.7464173151707113e-18,2.746425580827608e-18,3.782177282286349e-18,3.782174116888288e-18,3.782171484217235e-18,3.782169124371678e-18,3.7821669382048696e-18,3.7821648746291974e-18,3.7821629042756705e-18,3.782161068387629e-18,3.782161132456594e-18,3.782197183194267e-18,3.782715688936258e-18,3.787796517831995e-18,3.823755302404938e-18,4.01045478213387e-18,4.7269413177763345e-18,6.7598839053617614e-18,1.098277545516162e-17,1.7223079599064535e-17,2.3262020435942293e-17,2.5811687628832118e-17,2.3262075411629633e-17,1.7223153891972118e-17,1.0982831023265371e-17,6.7599070819438704e-18,4.7269394134845366e-18,4.0104393341244585e-18,3.823733195615417e-18,3.7877702530807255e-18,3.782685846162368e-18,3.782163808615783e-18,3.782124162921206e-18,3.782120412055285e-18,3.7821184468524e-18,3.782116472982479e-18,3.782114408526642e-18,3.782112221389804e-18,3.782109860410424e-18,3.78210722636785e-18,3.7821040591718545e-18,2.5628528533488448e-18,2.5628395519310172e-18,2.562828489366842e-18,2.562818573428169e-18,2.5628093874503203e-18,2.562800716740751e-18,2.5627924382306848e-18,2.5627847414558572e-18,2.5627855145245144e-18,2.562946984488404e-18,2.5652629881714726e-18,2.5879532716133757e-18,2.7485323510568272e-18,3.582119165655123e-18,6.7788810577233955e-18,1.5829893925961936e-17,3.4539350349896034e-17,6.19611347777088e-17,8.824252171539621e-17,9.926340952251492e-17,8.824276052379457e-17,6.196146113657598e-17,3.4539598130238025e-17,1.58300002966447e-17,6.7788768481719466e-18,3.582055393775799e-18,2.748439723313478e-18,2.587842973157828e-18,2.565137625398595e-18,2.5628067810191823e-18,2.5626302086262146e-18,2.5626139476150335e-18,2.5626056763251142e-18,2.5625973854832697e-18,2.562588714678724e-18,2.562579528774763e-18,2.562569612923802e-18,2.5625585504657347e-18,2.5625452491870032e-18,1.2544372032835331e-18,1.2544249790484225e-18,1.2544148124207523e-18,1.2544056996032659e-18,1.2543972576661817e-18,1.2543892894364789e-18,1.25438169234326e-18,1.2543751205657946e-18,1.2543906986778604e-18,1.2548341371579656e-18,1.2610183734870641e-18,1.3214924243479617e-18,1.749375625031665e-18,3.9701164212902374e-18,1.2480225838320476e-17,3.652086967673715e-17,8.596198718346392e-17,1.5780729614246183e-16,2.25972680966009e-16,2.543552770308984e-16,2.2597331923428033e-16,1.5780819188076864e-16,8.596270912584366e-17,3.6521246098767695e-17,1.2480333857390009e-17,3.970090474690442e-18,1.7492974795695773e-18,1.3213921516890693e-18,1.2609032932904883e-18,1.2547053068817607e-18,1.2542479808689399e-18,1.2542181696012943e-18,1.2542100675081216e-18,1.254202438196485e-18,1.254194470443385e-18,1.2541860295413704e-18,1.2541769179375852e-18,1.254166752778076e-18,1.254154530467582e-18,5.088680599337351e-19,5.088607500601783e-19,5.088546706292653e-19,5.088492213781839e-19,5.088441733196215e-19,5.088394088344619e-19,5.08834888669367e-19,5.0883201023842695e-19,5.088724928090593e-19,5.097561721657194e-19,5.219565069954289e-19,6.411779524725011e-19,1.4846480396393927e-18,5.861608343667314e-18,2.2624222687050438e-17,6.988910827793775e-17,1.6667880672270779e-16,3.063285942796631e-16,4.3771840409403524e-16,4.921053787002726e-16,4.377196449135118e-16,3.0633036017150667e-16,1.6668026587916386e-16,6.988991536473891e-17,2.2624521474668064e-17,5.8616612381432606e-18,1.4846159266970691e-18,6.411202705419756e-19,5.218879506829666e-19,5.096791589019809e-19,5.087871563621e-19,5.087381620579268e-19,5.087322662648664e-19,5.087276818591917e-19,5.087229174851176e-19,5.087178705153951e-19,5.087124225443174e-19,5.087063446617739e-19,5.08699036817981e-19,1.8287376729689635e-19,1.8287029203563784e-19,1.828674017650483e-19,1.8286481110364082e-19,1.8286241118769786e-19,1.8286014656613697e-19,1.8285803435439673e-19,1.8285836910728478e-19,1.8292810930462166e-19,1.8435028230963942e-19,2.0392515614866356e-19,3.951697291328618e-19,1.7481395184430675e-18,8.768332402951051e-18,3.564357833354907e-17,1.1133483359267483e-16,2.6592848293383947e-16,4.879982665351761e-16,6.958549570477426e-16,7.81583120481825e-16,6.95856922629489e-16,4.8800108298884275e-16,2.659308338134213e-16,1.1133615837832986e-16,3.564409953791065e-17,8.768468349979206e-18,1.748147924662618e-18,3.951459939649133e-19,2.0389297872335426e-19,1.8431370359214707e-19,1.8288754271920698e-19,1.8281375436064576e-19,1.8280924833431583e-19,1.8280703229097015e-19,1.8280476695497624e-19,1.828023677603067e-19,1.8279977795336079e-19,1.8279688871640384e-19,1.827934148101377e-19,6.042009209687498e-20,6.0418663362033e-20,6.041747513144812e-20,6.041641007852136e-20,6.041542345148387e-20,6.041449309322547e-20,6.04136749288651e-20,6.041613987803145e-20,6.051380892274683e-20,6.246774964313236e-20,8.933766252661375e-20,3.518375748071974e-19,2.2088876491324364e-18,1.1844376185278851e-17,4.872808506861173e-17,1.5257619384960104e-16,3.6453471550756944e-16,6.68663910432887e-16,9.529508545605095e-16,1.0700930601460752e-15,9.529535442389874e-16,6.686677714046149e-16,3.645379471607668e-16,1.525780245822308e-16,4.8728817451389025e-17,1.1844583475242525e-17,2.208923451574418e-18,3.5183285467765874e-19,8.932500002060124e-20,6.245275730696964e-20,6.049713473046678e-20,6.039779913741724e-20,6.039361931672909e-20,6.039265816160057e-20,6.039172628385387e-20,6.039074002784844e-20,6.038967542405206e-20,6.038848773680797e-20,6.038705971423336e-20,1.8770035441939877e-20,1.8769504431814082e-20,1.8769062810552196e-20,1.876866697138476e-20,1.8768300286876202e-20,1.8767955289340687e-20,1.876771138015398e-20,1.877141788010387e-20,1.8890443792542722e-20,2.1258351092761508e-20,5.3812294761348e-20,3.718356093197646e-19,2.621697701224623e-18,1.4295802438809403e-17,5.899050308980602e-17,1.8489401630377564e-16,4.4216159501718877e-16,8.120061313377755e-16,1.1584944033065985e-15,1.3014905957965038e-15,1.158497686222122e-15,8.120108342577187e-16,4.4216552408857112e-16,1.8489624154242474e-16,5.899139684415406e-17,1.429606102898479e-17,2.6217497904326424e-18,3.718398945855025e-19,5.3808266728268056e-20,2.125283314612159e-20,1.88842498734876e-20,1.8764601748777912e-20,1.876025782005032e-20,1.875984045201935e-20,1.8759493359311067e-20,1.8759126832220656e-20,1.8758731195675046e-20,1.8758289819578325e-20,1.8757759130840552e-20,5.56347897705046e-21,5.563295752726036e-21,5.56314337257428e-21,5.563006789937376e-21,5.5628802733378505e-21,5.5627620701896944e-21,5.562742524551183e-21,5.567017965731683e-21,5.6969254201891714e-21,8.276957147062774e-21,4.3744327095288744e-20,3.9022810163262317e-19,2.8414735940541305e-18,1.5561661351288865e-17,6.427908814867713e-17,2.0166681459663583e-16,4.831097420053829e-16,8.894178832958795e-16,1.2719566372686848e-15,1.4303794966236328e-15,1.2719602710033526e-15,8.894230637422055e-16,4.831140488335354e-16,2.0166924641387214e-16,6.428006465655917e-17,1.5561945583789304e-17,2.8415332170456675e-18,3.9023606590984574e-19,4.3743665309275493e-20,8.275111144284789e-21,5.694791504824365e-21,5.564666309400711e-21,5.560170822276648e-21,5.559962204474475e-21,5.559841615393795e-21,5.559715151682929e-21,5.559578651117135e-21,5.559426370313151e-21,5.5592432762242295e-21,1.5891691385948424e-21,1.5891094245571906e-21,1.5890597630581739e-21,1.589015250239007e-21,1.588974023895493e-21,1.5889363178578831e-21,1.5889930597374092e-21,1.593313333291678e-21,1.7224242015439405e-21,4.28529101450605e-21,3.951582147495843e-20,3.8368631006947363e-19,2.8186184043611697e-18,1.5455633574976876e-17,6.387754714356072e-17,2.0062974329875782e-16,4.816949109200498e-16,8.897003626168904e-16,1.2763348014046898e-15,1.4371830607187083e-15,1.2763384859349803e-15,8.897055821730055e-16,4.816992219515853e-16,2.0063216696390534e-16,6.387851872306456e-17,1.5455916734640002e-17,2.818678519639464e-18,3.8369524060074565e-19,3.951631689656655e-20,4.284745933555582e-21,1.721731882030148e-21,1.592547066534764e-21,1.5881549713089745e-21,1.5880238707121953e-21,1.5879837568028567e-21,1.5879425394873115e-21,1.5878980573234568e-21,1.5878484329770536e-21,1.5877887676430025e-21,4.405966073331474e-22,4.405780067429899e-22,4.405625375294983e-22,4.405486721633712e-22,4.405358357310586e-22,4.405248234006043e-22,4.405991270493069e-22,4.445711056712983e-22,5.626484858170044e-22,2.9061036953376016e-21,3.5120234746874673e-20,3.498240285293155e-19,2.576336320165491e-18,1.4133108229463952e-17,5.843805145779226e-17,1.837547129347248e-16,4.422150045043856e-16,8.196017905266558e-16,1.1796863569879047e-15,1.3302132281047492e-15,1.1796898002023821e-15,8.196066353732881e-16,4.422189782932654e-16,1.8375693659272729e-16,5.843894097055863e-17,1.413336743398752e-17,2.5763915523417164e-18,3.498324945784003e-19,3.5121027110883126e-20,2.9059846220267168e-21,5.624356262009836e-22,4.44332532267584e-22,4.403380831804146e-22,4.402406160640704e-22,4.40227389146301e-22,4.402145461777951e-22,4.402006915488546e-22,4.401852353881292e-22,4.401666519089821e-22,1.1919458742722547e-22,1.1918900234230911e-22,1.1918435751664375e-22,1.1918019429633985e-22,1.191763443351954e-22,1.1917364563157765e-22,1.1924293470497617e-22,1.226142643863507e-22,2.2266020363669823e-22,2.2081377403904694e-21,2.950128973812248e-20,2.961321558876166e-19,2.1825709328858548e-18,1.1975305113293852e-17,4.95349661444565e-17,1.5592321561395544e-16,3.7605398294059483e-16,6.992198838312534e-16,1.0095441237098202e-15,1.1398526129735521e-15,1.0095471004872397e-15,6.992240461039878e-16,3.7605737485825794e-16,1.5592510542405353e-16,4.953572056269947e-17,1.1975524836763553e-17,2.182617803739692e-18,2.96139413520369e-19,2.9502056962972646e-20,2.20814405511681e-21,2.22598601486838e-22,1.2254271773143677e-22,1.1916455872049477e-22,1.1908831290707868e-22,1.1908373379156714e-22,1.1907987355754835e-22,1.1907571389804037e-22,1.1907107343440833e-22,1.1906549406777448e-22,3.1591072876358935e-23,3.1589446073486523e-23,3.1588093151675735e-23,3.158688052525669e-23,3.158576246612446e-23,3.1585445954075487e-23,3.164191729943582e-23,3.4306864155124733e-23,1.1334254804957147e-22,1.6818271671177227e-21,2.3242816166940652e-20,2.3387582242582556e-19,1.7241507045921908e-18,9.461090654125051e-18,3.914736413388184e-17,1.233337427314427e-16,2.979968468500904e-16,5.555781563313234e-16,8.042503371148594e-16,9.090638014116014e-16,8.042527288109727e-16,5.555814829210707e-16,2.9799954310328453e-16,1.23335239485049e-16,3.914796060659071e-17,9.461264282132966e-18,1.7241877530710912e-18,2.3388157903736865e-19,2.324344851059269e-20,1.6818615011033797e-21,1.133263890285478e-22,3.4286090733512586e-23,3.1619090944271544e-23,3.156059186450769e-23,3.155878860904212e-23,3.155766098735744e-23,3.1556449481852556e-23,3.155509795919357e-23,3.155347299053528e-23,8.228617553496554e-24,8.228155655889594e-24,8.227771522899667e-24,8.227427233161492e-24,8.227112185822772e-24,8.22736056397593e-24,8.269535835885587e-24,1.0238537917684536e-23,6.862149755973408e-23,1.2272390824297765e-21,1.7154036780779234e-20,1.7274594557363007e-19,1.2736079279515519e-18,6.989286356469749e-18,2.8926646816229335e-17,9.119495620494536e-17,2.2065361102657826e-16,4.122399507660786e-16,5.979659860237748e-16,6.76476094478997e-16,5.97967775965651e-16,4.1224243024308426e-16,2.2065561228536194e-16,9.119606402771168e-17,2.8927087702203616e-17,6.989414637005061e-18,1.2736353012594122e-18,1.7275020408210702e-19,1.7154510856806097e-20,1.2272722384968348e-21,6.861819439751022e-23,1.0232687102614637e-23,8.263056192126922e-24,8.220304131174125e-24,8.21945390398322e-24,8.21913136878303e-24,8.218787411155214e-24,8.218403711845866e-24,8.217942382797304e-24,2.111674848594661e-24,2.1115465241515875e-24,2.1114398047465616e-24,2.1113441603926868e-24,2.1112582554731603e-24,2.1115557284707948e-24,2.1409302534300745e-24,3.506845699512713e-24,4.400435347106378e-23,8.476806695925613e-22,1.1895320848100434e-20,1.1982195639038196e-19,8.834444767622209e-19,4.848383936518052e-18,2.006948799781472e-17,6.330218866253749e-17,1.5331895675957746e-16,2.868692475668155e-16,4.1671827859214337e-16,4.717225256160591e-16,4.1671953184938705e-16,2.868709785458339e-16,1.5332034970294432e-16,6.33029581930371e-17,2.0069793956845297e-17,4.8484729292559864e-18,8.834634660524124e-19,1.1982491191754477e-19,1.1895651501672301e-20,8.477056917704482e-22,4.4004303545479857e-23,3.505252103556095e-24,2.1391309143302538e-24,2.109595421267116e-24,2.1091307408153307e-24,2.1090395215568084e-24,2.1089439668306883e-24,2.10883737800255e-24,2.108709224764323e-24,5.349841095253461e-25,5.349491197304524e-25,5.349200210375556e-25,5.348939457058e-25,5.348715502157005e-25,5.350975387881691e-25,5.543040144002014e-25,1.4460218844395106e-24,2.788338646798956e-23,5.525344918382276e-22,7.76458833105952e-21,7.822066606034794e-20,5.767278012667892e-19,3.1652062403536008e-18,1.31036046444996e-17,4.134410626965097e-17,1.0020362926169137e-16,1.876752167986432e-16,2.728914829578574e-16,3.090396701523956e-16,2.728923062421375e-16,1.876763516794618e-16,1.0020454068449414e-16,4.1344609105801394e-17,1.3103804438971957e-17,3.1652643405612055e-18,5.767401982572434e-19,7.822259587957393e-20,7.764804646076985e-21,5.525513405512275e-22,2.7883923096431176e-23,1.4456075479582362e-24,5.538138912526341e-25,5.345630625903839e-25,5.3429147792564e-25,5.34265580002096e-25,5.342395244119978e-25,5.34210464065406e-25,5.341755245591304e-25,1.3402556458182017e-25,1.340161779470303e-25,1.3400837174113209e-25,1.3400137870551925e-25,1.3399598412423743e-25,1.3414307763064407e-25,1.4597834140833822e-25,6.951214556124045e-25,1.6975730598483974e-23,3.4006527535268643e-22,4.7813773215580184e-21,4.8169517268793814e-20,3.5516057573440003e-19,1.9492348211471497e-18,8.070194843045823e-18,2.5468017618219845e-17,6.175173399528724e-17,1.1573020692453925e-16,1.6838262536203668e-16,1.907370814720073e-16,1.683831343571547e-16,1.157309076990318e-16,6.175229607671409e-17,2.5468327458139133e-17,8.070317903323751e-18,1.949270601999427e-18,3.551682101745368e-19,4.8170705788674925e-20,4.781510646828912e-21,3.4007577919016857e-22,1.6976202955557758e-23,6.950223413828784e-25,1.458471452131071e-25,1.3399970621401056e-25,1.3384037746618623e-25,1.3383281711775593e-25,1.3382582582680518e-25,1.3381803063972204e-25,1.338086584620433e-25,3.324801666591874e-26,3.324553413285172e-26,3.324346959450697e-26,3.324162129386604e-26,3.324053949129363e-26,3.332806782278878e-26,4.021630164604159e-26,3.597384269502339e-25,9.832654590939094e-24,1.9782314183135639e-22,2.7820121065237627e-21,2.802752252186562e-20,2.0665156099982345e-19,1.1341825825912825e-18,4.695926235280826e-18,1.482124747817648e-17,3.594579099992548e-17,6.739199454381219e-17,9.808841294065409e-17,1.1112788614202827e-16,9.808870979404047e-17,6.739240294662133e-17,3.5946118328656183e-17,1.4821427823001845e-17,4.695997846245213e-18,1.1342034023533424e-18,2.066560031620002e-19,2.80282140905111e-20,2.782089710254468e-21,1.978292848961081e-22,9.832964191765444e-24,3.597189819717465e-25,4.0181763458506767e-26,3.329015379158659e-26,3.319938750922737e-26,3.319704321226574e-26,3.3195193194191274e-26,3.3193131761741824e-26,3.319065330748062e-26,8.176715668801542e-27,8.176067286506341e-27,8.175528078214908e-27,8.17504596859656e-27,8.174946658119193e-27,8.223638520239014e-27,1.2019104316119163e-26,1.8805772024967177e-25,5.407086274245468e-24,1.089789568528065e-22,1.5327174288147561e-21,1.5441534305497972e-20,1.1385318764744583e-19,6.248736284559168e-19,2.58726440341632e-18,8.166456345158546e-18,1.980879942442371e-17,3.714578991260977e-17,5.4076434260641925e-17,6.127047319244764e-17,5.407659802405727e-17,3.7146015121444816e-17,1.9808979850135515e-17,8.16655572436642e-18,2.5873038593856184e-18,6.24885099116957e-19,1.1385563503348408e-19,1.5441915325902527e-20,1.5327601907554042e-21,1.0898234890244463e-22,5.407265238963354e-24,1.8805623672476832e-25,1.2010168205240611e-26,8.213737906604218e-27,8.1641992396032e-27,8.163403766272154e-27,8.162920007110846e-27,8.162381659202277e-27,8.161734408795006e-27,1.995517680489949e-27,1.9953502101143537e-27,1.9952109392395083e-27,1.9950867279223788e-27,1.9951529385233516e-27,2.0206800033391205e-27,4.001902005900636e-27,9.588870777853131e-26,2.8200600076181156e-24,5.688136754091536e-23,8.000287450495065e-22,8.060001000741864e-21,5.942787759993791e-20,3.2616598173869274e-19,1.3504943266341724e-18,4.262861097498663e-18,1.0340897160708944e-17,1.939358561243715e-17,2.8236046383248086e-17,3.1993900313702264e-17,2.823613192219144e-17,1.9393703220676084e-17,1.0340991361346124e-17,4.262912975816749e-18,1.3505149221139914e-18,3.2617196911753846e-19,5.94291550627324e-20,8.060199883051668e-21,8.000510670689303e-22,5.68831398863843e-23,2.8201554161972634e-24,9.589012686817086e-26,3.9996361485284384e-27,2.0181234996266887e-27,1.9923771397250596e-27,1.9920798231735386e-27,1.991954573468191e-27,1.9918155371228158e-27,1.9916483762852306e-27]},\"selected\":{\"id\":\"1253\",\"type\":\"Selection\"},\"selection_policy\":{\"id\":\"1254\",\"type\":\"UnionRenderers\"}},\"id\":\"1197\",\"type\":\"ColumnDataSource\"},{\"attributes\":{\"overlay\":{\"id\":\"1029\",\"type\":\"BoxAnnotation\"}},\"id\":\"1023\",\"type\":\"BoxZoomTool\"},{\"attributes\":{\"label\":{\"value\":\"6\"},\"renderers\":[{\"id\":\"1085\",\"type\":\"GlyphRenderer\"}]},\"id\":\"1100\",\"type\":\"LegendItem\"},{\"attributes\":{\"line_color\":\"#1f77b4\",\"x\":{\"field\":\"x\"},\"y\":{\"field\":\"y\"}},\"id\":\"1198\",\"type\":\"Line\"},{\"attributes\":{},\"id\":\"1024\",\"type\":\"SaveTool\"},{\"attributes\":{\"callback\":null,\"data\":{\"x\":[89185458945.30998,89185722850.1516,89185942335.43849,89186139071.3327,89186321324.60689,89186493356.39754,89186657728.15976,89186816134.9098,89186969775.93051,89187119543.36707,89187266127.74292,89187410081.38301,89187551858.76454,89187691843.42485,89187830366.6522,89187967720.9619,89188104170.1701,89188239957.21043,89188375310.44925,89188510449.02515,89188645587.60104,89188780940.83986,89188916727.88019,89189053177.0884,89189190531.39809,89189329054.62544,89189469039.28575,89189610816.66728,89189754770.30737,89189901354.68323,89190051122.11978,89190204763.14049,89190363169.89053,89190527541.65276,89190699573.4434,89190881826.71759,89191078562.6118,89191298047.8987,89191561952.74031,178368940557.2012,178369468361.0334,178369907326.741,178370300794.16757,178370665296.6752,178371009356.44235,178371338096.3225,178371654906.31058,178371962184.9456,178372261716.4982,178372554882.0,178372842786.0886,178373126337.70828,178373406303.9253,178373683347.3088,178373958052.8829,178374230948.27408,178374502519.3442,178374773222.82092,178375043496.97656,178375313771.1322,178375584474.60892,178375856045.67905,178376128941.07022,178376403646.64432,178376680690.02783,178376960656.24484,178377244207.86453,178377532111.95312,178377825277.45493,178378124809.00754,178378432087.64255,178378748897.6306,178379077637.51077,178379421697.27792,178379786199.78555,178380179667.21213,178380618632.91974,178381146436.75192,267548467652.14603,267549259343.26712,267549917779.66336,267550507969.89896,267551054713.55887,267551570793.6746,267552063894.38437,267552539100.5866,267553000010.02344,267553449299.0514,267553889039.17947,267554320887.33362,267554746206.90503,267555166148.47177,267555581705.8693,267555993756.6174,267556403092.1414,267556810441.22046,267557216488.93344,267557621892.67673,267558027296.42,267558433344.133,267558840693.21207,267559250028.73605,267559662079.48416,267560077636.88168,267560497578.44843,267560922898.01984,267561354746.17398,267561794486.30206,267562243775.33002,267562704684.76685,267563179890.9691,267563672991.67886,267564189071.7946,267564735815.4545,267565326005.6901,267565984442.08633,267566776133.20743,356722062836.7694,356723118397.6266,356723996290.11304,356724783190.0723,356725512162.76245,356726200251.78455,356726857702.39124,356727491294.2717,356728105824.29144,356728704860.8333,356729291165.83813,356729866948.48315,356730434026.57635,356730993934.1822,356731547996.3802,356732097383.1666,356732643149.74786,356733186267.8044,356733727650.75104,356734268175.0936,356734808699.4362,356735350082.3829,356735893200.4394,356736438967.0206,356736988353.80707,356737542416.00507,356738102323.6109,356738669401.7041,356739245184.3491,356739831489.35394,356740430525.8958,356741045055.9155,356741678647.796,356742336098.4027,356743024187.4248,356743753160.1149,356744540060.0742,356745417952.56067,356746473513.41785,445887748807.6304,445889068214.8198,445890165543.9319,445891149136.1678,445892060321.72546,445892920404.39764,445893742190.32434,445894534153.8351,445895302290.81226,445896051061.58636,445896783918.4683,445897503622.838,445898212446.8799,445898912308.1105,445899604862.8244,445900291573.46826,445900973759.00604,445901652633.99805,445902329340.17487,445903004973.13226,445903680606.08966,445904357312.2665,445905036187.2585,445905718372.79626,445906405083.4401,445907097638.15405,445907797499.38464,445908506323.4265,445909226027.7962,445909958884.67816,445910707655.4523,445911475792.42944,445912267755.9402,445913089541.8669,445913949624.53906,445914860810.09674,445915844402.33264,445916941731.4447,445918261138.63416,535043548411.18024,535045131635.4476,535046448376.8549,535047628639.55896,535048722017.781,535049754075.0333,535050740178.059,535051690495.64044,535052612222.54376,535053510710.94806,535054390103.45807,535055253713.5949,535056104267.869,535056944067.207,535057775099.08124,535058599118.35645,535059417707.72516,535060232324.60046,535061044339.00323,535061855065.59515,535062665792.1871,535063477806.58984,535064292423.46515,535065111012.83386,535065935032.1091,535066766063.98334,535067605863.3213,535068456417.5954,535069320027.73224,535070199420.24225,535071097908.64655,535072019635.54987,535072969953.1313,535073956056.157,535074988113.4093,535076081491.63135,535077261754.3354,535078578495.74274,535080161720.0101,624187484164.1082,624189331170.3477,624190867294.8535,624192244201.8549,624193519748.4972,624194723757.4451,624195874155.7045,624196982806.2844,624198058102.6759,624199106288.7877,624200132197.4264,624201139694.181,624202131959.8276,624203111678.6515,624204081169.259,624205042478.8943,624205997453.9427,624206947794.6383,624207895099.2618,624208840901.5115,624209786703.7611,624210734008.3846,624211684349.0802,624212639324.1287,624213600633.7639,624214570124.3715,624215549843.1953,624216542108.8419,624217549605.5966,624218575514.2352,624219623700.347,624220698996.7385,624221807647.3185,624222958045.5779,624224162054.5258,624225437601.1681,624226814508.1694,624228350632.6753,624230197638.9148,713317578942.8441,713319689690.0995,713321445163.6411,713323018684.4078,713324476371.1859,713325852305.1313,713327166973.1149,713328433932.1099,713329662774.1455,713330860634.7218,713332033036.7404,713333184397.7722,713334318352.7883,713335437969.3734,713336545897.2166,713337644475.8951,713338735815.4475,713339821858.8901,713340904432.7284,713341985289.6632,713343066146.598,713344148720.4363,713345234763.8789,713346326103.4313,713347424682.1099,713348532609.953,713349652226.5381,713350786181.5542,713351937542.586,713353109944.6046,713354307805.1809,713355536647.2166,713356803606.2115,713358118274.1951,713359494208.1405,713360951894.9186,713362525415.6853,713364280889.2269,713366391636.4823,802431855354.012,802434229795.4758,802436204579.1241,802437974678.7622,802439614473.3507,802441162301.7812,802442641210.3352,802444066449.6494,802445448810.0785,802446796318.5559,802448115187.9554,802449410387.7322,802450686006.9716,802451945496.4894,802453191836.9989,802454427660.3591,802455655340.2141,802456877062.32,802458094881.3661,802459310769.0172,802460526656.6683,802461744475.7145,802462966197.8203,802464193877.6753,802465429701.0355,802466676041.545,802467935531.0629,802469211150.3022,802470506350.079,802471825219.4785,802473172727.9559,802474555088.385,802475980327.6992,802477459236.2532,802479007064.6837,802480646859.2722,802482416958.9103,802484391742.5586,802486766184.0225,891528336124.15,891530974207.164,891533168257.124,891535134896.3777,891536956762.4108,891538676450.9999,891540319567.3264,891541903055.352,891543438903.518,891544936030.0126,891546401337.5442,891547840347.3419,891549257602.515,891550656937.0339,891552041662.5695,891553414703.2043,891554778696.1354,891556136069.81,891557489107.0565,891558839998.459,891560190889.8615,891561543927.1079,891562901300.7826,891564265293.7136,891565638334.3485,891567023059.884,891568422394.403,891569839649.576,891571278659.3738,891572743966.9054,891574241093.4,891575776941.5659,891577360429.5916,891579003545.9181,891580723234.5072,891582545100.5403,891584511739.794,891586705789.754,891589343872.768,980605043979.7953,980607945645.8502,980610358913.4609,980612522048.7126,980614525945.7837,980616417456.3911,980618224744.048,980619966445.6654,980621655747.505,980623302458.8125,980624914171.9778,980626496959.8812,980628055819.5552,980629594968.0397,980631118047.8899,980632628275.3472,980634128551.1028,980635621546.2417,980637109771.6796,980638595636.8726,980640081502.0656,980641569727.5034,980643062722.6423,980644562998.398,980646073225.8552,980647596305.7054,980649135454.19,980650694313.8639,980652277101.7673,980653888814.9326,980655535526.2401,980657224828.0797,980658966529.6971,980660773817.354,980662665327.9614,980664669225.0325,980666832360.2842,980669245627.8949,980672147293.9498,1069660001617.5104,1069663166802.2461,1069665799233.9801,1069668158817.2507,1069670344700.9125,1069672407991.5837,1069674379410.4845,1069676279287.0621,1069678122005.1061,1069679918264.7018,1069681676347.7522,1069683402878.6544,1069685103308.253,1069686782236.5642,1069688443636.9467,1069690091017.7289,1069691727543.0323,1069693356126.5201,1069694979507.1403,1069696600313.1665,1069698221119.1927,1069699844499.8129,1069701473083.3007,1069703109608.6041,1069704756989.3864,1069706418389.7688,1069708097318.08,1069709797747.6786,1069711524278.5808,1069713282361.6312,1069715078621.2269,1069716921339.2709,1069718821215.8485,1069720792634.7493,1069722855925.4205,1069725041809.0823,1069727401392.3529,1069730033824.0869,1069733199008.8226,1158691231763.8252,1158694660397.0308,1158697511934.4949,1158700067913.4436,1158702435735.208,1158704670760.1746,1158706806266.5889,1158708864275.9832,1158710860369.3555,1158712806137.3943,1158714710551.3315,1158716580786.9343,1158718422748.7383,1158720241419.6335,1158722041103.6946,1158723825601.259,1158725598339.8086,1158727362475.5195,1158729120975.3115,1158730876686.218,1158732632397.1245,1158734390896.9165,1158736155032.6274,1158737927771.177,1158739712268.7415,1158741511952.8025,1158743330623.6978,1158745172585.5017,1158747042821.1045,1158748947235.0417,1158750893003.0806,1158752889096.453,1158754947105.8472,1158757082612.2615,1158759317637.228,1158761685458.9924,1158764241437.9412,1158767092975.4053,1158770521608.6108,1247696757085.3298,1247700449090.943,1247703519670.8777,1247706271988.8015,1247708821696.1404,1247711228405.8196,1247713527952.3726,1247715744048.9275,1247717893473.3467,1247719988706.6628,1247722039409.2388,1247724053308.052,1247726036761.1985,1247727995134.332,1247729933062.1467,1247731854636.9055,1247733763549.374,1247735663198.1719,1247737556778.1245,1247739447354.962,1247741337931.7993,1247743231511.752,1247745131160.5498,1247747040073.0183,1247748961647.777,1247750899575.5918,1247752857948.7253,1247754841401.8718,1247756855300.685,1247758906003.261,1247761001236.5771,1247763150660.9963,1247765366757.5513,1247767666304.1042,1247770073013.7834,1247772622721.1223,1247775375039.0461,1247778445618.9807,1247782137624.594,1336674600338.5334,1336678555634.6418,1336681845188.9216,1336684793784.756,1336687525321.0999,1336690103662.0955,1336692567197.7678,1336694941332.3164,1336697244040.0938,1336699488692.2014,1336701685637.918,1336703843155.2603,1336705968055.7434,1336708066087.6655,1336710142216.238,1336712200825.558,1336714245869.5933,1336716280989.3315,1336718309607.433,1336720335008.2559,1336722360409.0786,1336724389027.1802,1336726424146.9185,1336728469190.9536,1336730527800.2737,1336732603928.8462,1336734701960.7683,1336736826861.2515,1336738984378.5938,1336741181324.3103,1336743425976.418,1336745728684.1953,1336748102818.744,1336750566354.4163,1336753144695.4119,1336755876231.7556,1336758824827.59,1336762114381.8699,1336766069677.9783,1425622784160.046,1425627002658.8853,1425630511114.518,1425633655922.8372,1425636569227.576,1425639319142.677,1425641946612.8057,1425644478732.6682,1425646934672.709,1425649328693.8018,1425651671833.9111,1425653972921.9092,1425656239222.5796,1425658476866.7373,1425660691150.0005,1425662886748.2034,1425665067878.4277,1425667238423.9492,1425669402035.1865,1425671562215.0532,1425673722394.92,1425675886006.1572,1425678056551.6787,1425680237681.903,1425682433280.106,1425684647563.3691,1425686885207.5269,1425689151508.1973,1425691452596.1953,1425693795736.3047,1425696189757.3975,1425698645697.4382,1425701177817.3008,1425703805287.4294,1425706555202.5305,1425709468507.2693,1425712613315.5884,1425716121771.2212,1425720340270.0605,1514539331366.3335,1514543812974.2893,1514547540253.4175,1514550881204.4333,1514553976212.9167,1514556897641.0986,1514559688987.3765,1514562379036.3613,1514564988154.1648,1514567531491.116,1514570020773.62,1514572465381.21,1514574873031.775,1514577250238.5117,1514579602627.3274,1514581935165.6895,1514584252333.7012,1514586558256.8381,1514588856813.1975,1514591151724.1707,1514593446635.1438,1514595745191.5032,1514598051114.6401,1514600368282.6519,1514602700821.014,1514605053209.8296,1514607430416.5664,1514609838067.1313,1514612282674.7212,1514614771957.2253,1514617315294.1765,1514619924411.98,1514622614460.9648,1514625405807.2427,1514628327235.4246,1514631422243.908,1514634763194.9238,1514638490474.052,1514642972082.0078,1603422264594.0015,1603427009211.6082,1603430955231.508,1603434492251.0708,1603437768894.6077,1603440861771.0317,1603443816931.5066,1603446664849.9106,1603449427087.5696,1603452119683.9316,1603454755053.5833,1603457343126.5083,1603459892073.5322,1603462408790.088,1603464899232.2466,1603467368658.9995,1603469821813.37,1603472263062.9448,1603474696513.4116,1603477126104.5576,1603479555695.7036,1603481989146.1704,1603484430395.745,1603486883550.1157,1603489352976.8687,1603491843419.0273,1603494360135.583,1603496909082.607,1603499497155.532,1603502132525.1836,1603504825121.5457,1603507587359.2046,1603510435277.6086,1603513390438.0835,1603516483314.5076,1603519759958.0444,1603523296977.6072,1603527242997.507,1603531987615.1138,1692269606509.6301,1692274614031.5708,1692278778704.652,1692282511714.2505,1692285969920.1086,1692289234176.122,1692292353085.1982,1692295358809.8057,1692298274106.0066,1692301115902.0115,1692303897300.3132,1692306628781.126,1692309318968.0295,1692311975138.54,1692314603578.7615,1692317209839.0908,1692319798925.368,1692322375447.1917,1692324943737.7502,1692327507955.1392,1692330072172.528,1692332640463.0867,1692335216984.9104,1692337806071.1875,1692340412331.5168,1692343040771.7383,1692345696942.2488,1692348387129.1523,1692351118609.965,1692353900008.2668,1692356741804.2717,1692359657100.4727,1692362662825.08,1692365781734.1562,1692369045990.1697,1692372504196.0278,1692376237205.6262,1692380401878.7075,1692385409400.6482,1781079379899.72,1781084650214.8274,1781089033448.6338,1781092962365.3945,1781096602056.8018,1781100037619.9375,1781103320208.375,1781106483672.4587,1781109551962.4817,1781112542895.0415,1781115470260.2458,1781118345088.3074,1781121176455.3682,1781123972020.8665,1781126738400.7988,1781129481436.8455,1781132206397.551,1781134918134.4246,1781137621208.0588,1781140319994.765,1781143018781.471,1781145721855.1052,1781148433591.9788,1781151158552.6843,1781153901588.731,1781156667968.6633,1781159463534.1616,1781162294901.2224,1781165169729.284,1781168097094.4883,1781171088027.048,1781174156317.071,1781177319781.1548,1781180602369.5923,1781184037932.728,1781187677624.1353,1781191606540.896,1781195989774.7024,1781201260089.8098],\"y\":[2.746234423937187e-18,2.7462426902047363e-18,2.746249565101558e-18,2.7462557274071602e-18,2.7462614360638653e-18,2.74626682454568e-18,2.746271973177164e-18,2.74627693921267e-18,2.746281880495789e-18,2.7462891291623775e-18,2.7463288782744578e-18,2.7466768508963005e-18,2.7491114523043785e-18,2.761734547866692e-18,2.8101912113918634e-18,2.947902293482987e-18,3.2350461361899462e-18,3.662090491349429e-18,4.078492866941332e-18,4.25524061999201e-18,4.07850530943302e-18,3.662112913301963e-18,3.2350759819302573e-18,2.947938715177956e-18,2.810234776727085e-18,2.761786108085459e-18,2.7491715614800376e-18,2.746745791080861e-18,2.746406827965465e-18,2.746376260451882e-18,2.746378393664173e-18,2.746383076988828e-18,2.7463880341073095e-18,2.7463931822992465e-18,2.746398570491891e-18,2.7464042788192067e-18,2.746410440739714e-18,2.7464173151707113e-18,2.746425580827608e-18,3.782177282286349e-18,3.782174116888288e-18,3.782171484217235e-18,3.782169124371678e-18,3.7821669382048696e-18,3.7821648746291974e-18,3.7821629042756705e-18,3.782161068387628e-18,3.782161132456593e-18,3.7821971831945485e-18,3.782715688992129e-18,3.787796523502853e-18,3.8237556106834194e-18,4.010464066576166e-18,4.727100370202442e-18,6.7614652873213555e-18,1.0992040135642024e-17,1.7255451695449953e-17,2.3330202536580542e-17,2.589898692490454e-17,2.3330257921370988e-17,1.725552637844278e-17,1.0992095872002168e-17,6.7614885023564084e-18,4.7270984707622834e-18,4.010448618907783e-18,3.8237335039071616e-18,3.787770258751864e-18,3.7826858462182416e-18,3.782163808616066e-18,3.7821241629212086e-18,3.782120412055285e-18,3.7821184468524e-18,3.782116472982479e-18,3.782114408526642e-18,3.782112221389804e-18,3.782109860410424e-18,3.78210722636785e-18,3.7821040591718545e-18,2.5628528533488448e-18,2.5628395519310172e-18,2.562828489366842e-18,2.562818573428169e-18,2.56280938745032e-18,2.562800716740751e-18,2.5627924382306848e-18,2.5627847414558572e-18,2.5627855145245175e-18,2.5629469844909555e-18,2.565262988676209e-18,2.587953322842808e-18,2.7485351358734658e-18,3.582203018974206e-18,6.780316425391309e-18,1.5844133230793036e-17,3.4622384699459296e-17,6.224926334855148e-17,8.88452870513078e-17,1.0003296776941431e-16,8.884552943887081e-17,6.224959315525144e-17,3.462263398257997e-17,1.584423994733193e-17,6.7803122596234365e-18,3.582139250176082e-18,2.7484425082499667e-18,2.58784302438979e-18,2.565137625903356e-18,2.5628067810217337e-18,2.562630208626221e-18,2.5626139476150335e-18,2.5626056763251146e-18,2.5625973854832697e-18,2.5625887146787235e-18,2.562579528774763e-18,2.562569612923802e-18,2.5625585504657347e-18,2.5625452491870032e-18,1.2544372032835331e-18,1.2544249790484225e-18,1.2544148124207523e-18,1.2544056996032662e-18,1.2543972576661817e-18,1.2543892894364789e-18,1.25438169234326e-18,1.2543751205657946e-18,1.2543906986778858e-18,1.254834137168371e-18,1.2610183755459198e-18,1.3214926333158587e-18,1.749386983993881e-18,3.970458376265974e-18,1.2486074456910437e-17,3.657875389158888e-17,8.629788390488516e-17,1.5896441693055057e-16,2.2837630407516447e-16,2.574148126175017e-16,2.2837695644403634e-16,1.5896532639899075e-16,8.629861189783148e-17,3.657913171641554e-17,1.2486182654193644e-17,3.9704324422232476e-18,1.749308839020395e-18,1.3213923606672846e-18,1.2609032953494582e-18,1.2547053068921675e-18,1.2542479808689657e-18,1.2542181696012958e-18,1.254210067508121e-18,1.254202438196485e-18,1.254194470443385e-18,1.2541860295413704e-18,1.2541769179375852e-18,1.254166752778076e-18,1.254154530467582e-18,5.088680599337351e-19,5.088607500601783e-19,5.088546706292653e-19,5.088492213781839e-19,5.088441733196215e-19,5.088394088344618e-19,5.088348886693662e-19,5.0883201023842695e-19,5.088724928091242e-19,5.097561721921751e-19,5.219565122292784e-19,6.411784836905096e-19,1.4846769142979465e-18,5.8624774424734205e-18,2.263907705448774e-17,7.003583545131045e-17,1.6752678471061882e-16,3.0923212970447127e-16,4.437143128506302e-16,4.997184367304741e-16,4.4371558849046885e-16,3.092339298086069e-16,1.6752825908288414e-16,7.00366460876055e-17,2.263937629436902e-17,5.862530368849206e-18,1.4846448025971885e-18,6.411208017862061e-19,5.218879559171077e-19,5.096791589284384e-19,5.087871563621651e-19,5.087381620579267e-19,5.087322662648664e-19,5.087276818591916e-19,5.087229174851176e-19,5.087178705153949e-19,5.087124225443174e-19,5.087063446617739e-19,5.08699036817981e-19,1.8287376729689635e-19,1.8287029203563784e-19,1.828674017650483e-19,1.8286481110364082e-19,1.8286241118769766e-19,1.8286014656613697e-19,1.8285803435439654e-19,1.828583691072851e-19,1.8292810930474044e-19,1.8435028235797557e-19,2.039251657111529e-19,3.951706996902767e-19,1.748192272516911e-18,8.769920072185533e-18,3.567070270810877e-17,1.1160243585645126e-16,2.6747113446383824e-16,4.932606710466824e-16,7.06682523905854e-16,7.953097889012999e-16,7.066845519767974e-16,4.932635492421979e-16,2.674735129597561e-16,1.1160376710895743e-16,3.567122473795667e-17,8.770056077475628e-18,1.7482006810044392e-18,3.951469645702296e-19,2.038929882863775e-19,1.8431370364048628e-19,1.8288754271932572e-19,1.828137543606459e-19,1.8280924833431605e-19,1.8280703229097015e-19,1.8280476695497612e-19,1.828023677603067e-19,1.8279977795336079e-19,1.8279688871640384e-19,1.827934148101377e-19,6.042009209687498e-20,6.0418663362033e-20,6.041747513144812e-20,6.041641007852136e-20,6.041542345148387e-20,6.041449309322537e-20,6.04136749288651e-20,6.041613987803166e-20,6.051380892291476e-20,6.246774971155632e-20,8.933767606311879e-20,3.5183894871147404e-19,2.2089623264758207e-18,1.184662358588387e-17,4.876647635144405e-17,1.5295483478172013e-16,3.6671606032924366e-16,6.760979264319105e-16,9.682323055276568e-16,1.089458488537647e-15,9.682350832574793e-16,6.761018745269049e-16,3.6671933100862517e-16,1.529566746619696e-16,4.8767209902451635e-17,1.1846830958313557e-17,2.2089981321281128e-18,3.518342286497401e-19,8.93250135578617e-20,6.245275737539783e-20,6.04971347306348e-20,6.039779913741742e-20,6.0393619316729e-20,6.039265816160048e-20,6.039172628385387e-20,6.039074002784843e-20,6.038967542405206e-20,6.038848773680797e-20,6.038705971423336e-20,1.8770035441939877e-20,1.8769504431814082e-20,1.8769062810552196e-20,1.8768666971384757e-20,1.8768300286876202e-20,1.876795528934071e-20,1.8767711380153956e-20,1.8771417880104068e-20,1.8890443792735785e-20,2.1258351171413978e-20,5.381231032138938e-20,3.7183718860743337e-19,2.6217835427943715e-18,1.4298385948941047e-17,5.903464412081455e-17,1.853295934797204e-16,4.446736893435207e-16,8.205812138622599e-16,1.1761492095616108e-15,1.323878579017525e-15,1.176152594470072e-15,8.205860174564555e-16,4.446776634001554e-16,1.8533182924540525e-16,5.903553921849661e-17,1.4298644633916833e-17,2.6218356356925973e-18,3.7184147395111122e-19,5.380828228917787e-20,2.125283322477897e-20,1.888424987368067e-20,1.876460174877812e-20,1.8760257820050343e-20,1.8759840452019375e-20,1.8759493359311067e-20,1.8759126832220653e-20,1.8758731195675046e-20,1.8758289819578325e-20,1.8757759130840552e-20,5.56347897705046e-21,5.563295752726036e-21,5.56314337257428e-21,5.563006789937376e-21,5.5628802733378505e-21,5.5627620701896944e-21,5.562742524551175e-21,5.5670179657318925e-21,5.696925420374421e-21,8.276957222529528e-21,4.374434202509557e-20,3.902296169581556e-19,2.841555960673497e-18,1.5564140542015593e-17,6.432146410620311e-17,2.0208545942119025e-16,4.855300194302025e-16,8.977091998126454e-16,1.2890867920758281e-15,1.4521342596403922e-15,1.2890905253480804e-15,8.977144779862907e-16,4.855343696896161e-16,2.0208790136483168e-16,6.432244190404445e-17,1.5564424865493964e-17,2.8416155872058826e-18,3.902375813101616e-19,4.374368023991553e-20,8.275111219756251e-21,5.6947915050096186e-21,5.5646663094009114e-21,5.560170822276653e-21,5.559962204474475e-21,5.559841615393795e-21,5.55971515168293e-21,5.559578651117135e-21,5.559426370313151e-21,5.5592432762242295e-21,1.5891691385948424e-21,1.5891094245571906e-21,1.5890597630581739e-21,1.589015250239007e-21,1.588974023895493e-21,1.588936317857883e-21,1.5889930597374077e-21,1.5933133332918465e-21,1.7224242016954303e-21,4.285291076221353e-21,3.951583368427973e-20,3.836875492794901e-19,2.818685764320535e-18,1.5457661354585116e-17,6.391222574690624e-17,2.00972862310522e-16,4.836848177608708e-16,8.965492966640296e-16,1.2905495138745826e-15,1.4552701734357739e-15,1.290553281626589e-15,8.965545973619214e-16,4.836891645977897e-16,2.0097529428444466e-16,6.391319838242527e-17,1.545794458866713e-17,2.8187458824946008e-18,3.836964798719181e-19,3.951632910656922e-20,4.2847459952747406e-21,1.7217318821816492e-21,1.5925470665349328e-21,1.588154971308976e-21,1.5880238707121951e-21,1.5879837568028567e-21,1.5879425394873115e-21,1.5878980573234568e-21,1.5878484329770536e-21,1.5877887676430025e-21,4.405966073331474e-22,4.405780067429899e-22,4.4056253752949835e-22,4.405486721633712e-22,4.405358357310586e-22,4.405248234006043e-22,4.405991270493069e-22,4.4457110567141725e-22,5.62648485924131e-22,2.9061037389796094e-21,3.5120243380705706e-20,3.498249048411337e-19,2.5763839553464126e-18,1.4134542431565534e-17,5.846259263486886e-17,1.8399791787771948e-16,4.4363016668533436e-16,8.244966988725476e-16,1.1898946165528292e-15,1.3432290050024998e-15,1.1898981200077506e-15,8.245016020249669e-16,4.4363416601086886e-16,1.8400014743195052e-16,5.846348289522779e-17,1.4134801688728566e-17,2.5764391895704826e-18,3.498333709334657e-19,3.512103574519599e-20,2.9059846656714464e-21,5.624356263081176e-22,4.443325322677029e-22,4.403380831804147e-22,4.402406160640704e-22,4.40227389146301e-22,4.402145461777951e-22,4.402006915488546e-22,4.401852353881292e-22,4.401666519089821e-22,1.1919458742722547e-22,1.1918900234230911e-22,1.1918435751664375e-22,1.1918019429633985e-22,1.191763443351954e-22,1.1917364563157765e-22,1.1924293470497617e-22,1.2261426438642428e-22,2.2266020370283573e-22,2.2081377673340115e-21,2.950129506844712e-20,2.9613269690395995e-19,2.1826003426048725e-18,1.1976190702458736e-17,4.955012768803424e-17,1.560736901238827e-16,3.769322694209658e-16,7.022717527225664e-16,1.0159372586697849e-15,1.148019486416297e-15,1.0159402734501213e-15,7.022759515292853e-16,3.76935677229292e-16,1.5607558358602895e-16,4.955088256829865e-17,1.1976410458434861e-17,2.182647214723057e-18,2.9613995456341234e-19,2.950206229359475e-20,2.2081440820620323e-21,2.2259860155298006e-22,1.2254271773151017e-22,1.1916455872049477e-22,1.1908831290707868e-22,1.1908373379156714e-22,1.1907987355754835e-22,1.1907571389804037e-22,1.1907107343440833e-22,1.1906549406777448e-22,3.1591072876358935e-23,3.1589446073486523e-23,3.1588093151675735e-23,3.158688052525669e-23,3.158576246612446e-23,3.1585445954075534e-23,3.164191729943579e-23,3.4306864155164676e-23,1.1334254808557406e-22,1.6818271817847509e-21,2.324281906856523e-20,2.338761169353104e-19,1.7241667145152969e-18,9.461572801534167e-18,3.915562222694606e-17,1.2341580356876945e-16,2.9847705369797606e-16,5.572531871319697e-16,8.077723788314002e-16,9.135701601619852e-16,8.077747915909877e-16,5.572565338568997e-16,2.9847975865862665e-16,1.2341730231581534e-16,3.9156218951378003e-17,9.461746447241016e-18,1.7242037636824855e-18,2.338818735613879e-19,2.3243451412379212e-20,1.6818615157713222e-21,1.1332638906455296e-22,3.4286090733552565e-23,3.16190909442716e-23,3.156059186450774e-23,3.155878860904212e-23,3.155766098735745e-23,3.1556449481852556e-23,3.155509795919357e-23,3.155347299053528e-23,8.228617553496554e-24,8.228155655889594e-24,8.227771522899667e-24,8.227427233161492e-24,8.227112185822773e-24,8.22736056397593e-24,8.26953583588559e-24,1.023853791770379e-23,6.862149757707749e-23,1.227239089495271e-21,1.7154038178568954e-20,1.7274608744701893e-19,1.2736156405053037e-18,6.989518644432863e-18,2.8930626716739194e-17,9.12345422576673e-17,2.208857231441066e-16,4.1305198982853192e-16,5.996783744097416e-16,6.786697375575434e-16,5.996801746403052e-16,4.1305447909807507e-16,2.2088772861886251e-16,9.123565104273831e-17,2.893106772405556e-17,6.98964693349559e-18,1.2736430141447414e-18,1.7275034596249754e-19,1.7154512254673835e-20,1.2272722455627708e-21,6.861819441485484e-23,1.023268710263388e-23,8.263056192126922e-24,8.220304131174125e-24,8.21945390398322e-24,8.21913136878303e-24,8.218787411155213e-24,8.218403711845866e-24,8.217942382797304e-24,2.111674848594661e-24,2.1115465241515875e-24,2.1114398047465634e-24,2.1113441603926868e-24,2.1112582554731603e-24,2.111555728470792e-24,2.14093025343008e-24,3.506845699520974e-24,4.400435347850788e-23,8.476806726251735e-22,1.1895321448051847e-20,1.198220172845797e-19,8.834477871463596e-19,4.848483645432674e-18,2.007119676754879e-17,6.331919650839235e-17,1.53418823772398e-16,2.8721936999085713e-16,4.1745812613164747e-16,4.7267113402983395e-16,4.1745938384895737e-16,2.8722110520169044e-16,1.5342021853190007e-16,6.331996645254521e-17,2.007150277868583e-17,4.848572641831111e-18,8.834667765788711e-19,1.1982497281474775e-19,1.189565210165719e-20,8.477056948032498e-22,4.400430355292439e-23,3.50525210356436e-24,2.1391309143302575e-24,2.109595421267113e-24,2.1091307408153307e-24,2.1090395215568084e-24,2.1089439668306883e-24,2.10883737800255e-24,2.108709224764323e-24,5.349841095253461e-25,5.349491197304524e-25,5.349200210375556e-25,5.348939457058e-25,5.348715502157005e-25,5.3509753878816915e-25,5.543040144002029e-25,1.446021884442682e-24,2.7883386470845295e-23,5.525344930016152e-22,7.764588561216286e-21,7.822068942095265e-20,5.767290712268159e-19,3.1652444932022405e-18,1.3104260310969628e-17,4.135063527055485e-17,1.002420028683584e-16,1.8780994102628159e-16,2.731765643013273e-16,3.0940540708174834e-16,2.731773893079941e-16,1.8781107753794677e-16,1.0024291498957146e-16,4.13511382655522e-17,1.3104460125437704e-17,3.165302594814216e-18,5.767414682718683e-19,7.822261924133139e-20,7.764804876246603e-21,5.525513417146869e-22,2.7883923099287116e-23,1.445607547961407e-24,5.5381389125263515e-25,5.345630625903839e-25,5.342914779256401e-25,5.342655800020959e-25,5.342395244119978e-25,5.34210464065406e-25,5.341755245591304e-25,1.3402556458182017e-25,1.340161779470303e-25,1.3400837174113209e-25,1.3400137870551925e-25,1.3399598412423743e-25,1.3414307763064425e-25,1.4597834140833887e-25,6.9512145561349595e-25,1.6975730599466676e-23,3.4006527575302276e-22,4.781377400757794e-21,4.8169525307471285e-20,3.5516101274580655e-19,1.9492479848450295e-18,8.07042049592915e-18,2.5470265270563432e-17,6.176495227212529e-17,1.1577665576542485e-16,1.6848099836412176e-16,1.9086333297520222e-16,1.6848150795441206e-16,1.1577735710272172e-16,6.176551459425098e-17,2.547057516517832e-17,8.07054356308922e-18,1.949283766180593e-18,3.551686472047312e-19,4.817071382774918e-20,4.781510726033112e-21,3.400757795905296e-22,1.6976202956540507e-23,6.950223413839694e-25,1.4584714521310777e-25,1.3399970621401074e-25,1.3384037746618623e-25,1.3383281711775596e-25,1.3382582582680513e-25,1.3381803063972204e-25,1.338086584620433e-25,3.324801666591874e-26,3.324553413285172e-26,3.324346959450697e-26,3.324162129386604e-26,3.324053949129363e-26,3.332806782278878e-26,4.021630164604172e-26,3.597384269505716e-25,9.832654591243117e-24,1.9782314195521409e-22,2.7820121310269695e-21,2.802752500891109e-20,2.0665169620495993e-19,1.1341866553162871e-18,4.695996054347233e-18,1.482194304062109e-17,3.594988300282679e-17,6.740638138681803e-17,9.811889826128545e-17,1.111670194618308e-16,9.811919529926506e-17,6.740678996404628e-17,3.595021040609351e-17,1.4822123402374747e-17,4.6960676674411025e-18,1.1342074752278726e-18,2.0665613837294939e-19,2.802821657767932e-20,2.7820897347590408e-21,1.9782928501997352e-22,9.832964192069502e-24,3.5971898197208424e-25,4.0181763458506893e-26,3.32901537915866e-26,3.319938750922737e-26,3.319704321226575e-26,3.3195193194191274e-26,3.319313176174182e-26,3.319065330748062e-26,8.176715668801542e-27,8.176067286506341e-27,8.175528078214906e-27,8.175045968596558e-27,8.174946658119193e-27,8.223638520239006e-27,1.2019104316119216e-26,1.88057720249766e-25,5.407086274330341e-24,1.0897895688738132e-22,1.5327174356547996e-21,1.5441534999754348e-20,1.138532253898945e-19,6.248747653650512e-19,2.5872838941978446e-18,8.166650537770572e-18,1.9809942089195898e-17,3.7149808533163986e-17,5.4084952069407995e-17,6.128140865611159e-17,5.408511588442383e-17,3.715003379073431e-17,1.9810122535724923e-17,8.166749921704953e-18,2.5873233507616243e-18,6.248862360678319e-19,1.1385567277755536e-19,1.5441916020193158e-20,1.5327601975958308e-21,1.0898234893702142e-22,5.407265239048236e-24,1.8805623672486254e-25,1.2010168205240663e-26,8.213737906604207e-27,8.164199239603201e-27,8.163403766272155e-27,8.162920007110846e-27,8.162381659202277e-27,8.161734408795006e-27,1.995517680489949e-27,1.995350210114354e-27,1.9952109392395083e-27,1.9950867279223788e-27,1.9951529385233516e-27,2.0206800033391213e-27,4.001902005900644e-27,9.588870777855514e-26,2.8200600076395055e-24,5.6881367549628e-23,8.000287467731516e-22,8.060001175689718e-21,5.94278871107847e-20,3.2616626823358537e-19,1.3504992382920678e-18,4.262910036323073e-18,1.0341185156093893e-17,1.9394598618409857e-17,2.823819386573124e-17,3.199665750762616e-17,2.8238279417687186e-17,1.9394716238935965e-17,1.034127936197828e-17,4.262961915832333e-18,1.350519833921698e-18,3.261722556229495e-19,5.942916457398815e-20,8.060200058008146e-21,8.000510687926707e-22,5.688313989509742e-23,2.8201554162186486e-24,9.589012686819468e-26,3.999636148528447e-27,2.018123499626689e-27,1.9923771397250596e-27,1.9920798231735386e-27,1.991954573468191e-27,1.9918155371228158e-27,1.9916483762852306e-27]},\"selected\":{\"id\":\"1141\",\"type\":\"Selection\"},\"selection_policy\":{\"id\":\"1142\",\"type\":\"UnionRenderers\"}},\"id\":\"1101\",\"type\":\"ColumnDataSource\"},{\"attributes\":{\"line_alpha\":0.1,\"line_color\":\"#1f77b4\",\"x\":{\"field\":\"x\"},\"y\":{\"field\":\"y\"}},\"id\":\"1199\",\"type\":\"Line\"},{\"attributes\":{},\"id\":\"1025\",\"type\":\"ResetTool\"},{\"attributes\":{\"data_source\":{\"id\":\"1197\",\"type\":\"ColumnDataSource\"},\"glyph\":{\"id\":\"1198\",\"type\":\"Line\"},\"hover_glyph\":null,\"muted_glyph\":null,\"nonselection_glyph\":{\"id\":\"1199\",\"type\":\"Line\"},\"selection_glyph\":null,\"view\":{\"id\":\"1201\",\"type\":\"CDSView\"}},\"id\":\"1200\",\"type\":\"GlyphRenderer\"},{\"attributes\":{\"line_color\":\"#1f77b4\",\"x\":{\"field\":\"x\"},\"y\":{\"field\":\"y\"}},\"id\":\"1102\",\"type\":\"Line\"},{\"attributes\":{},\"id\":\"1026\",\"type\":\"HelpTool\"},{\"attributes\":{\"line_alpha\":0.1,\"line_color\":\"#1f77b4\",\"x\":{\"field\":\"x\"},\"y\":{\"field\":\"y\"}},\"id\":\"1103\",\"type\":\"Line\"},{\"attributes\":{\"source\":{\"id\":\"1197\",\"type\":\"ColumnDataSource\"}},\"id\":\"1201\",\"type\":\"CDSView\"},{\"attributes\":{\"bottom_units\":\"screen\",\"fill_alpha\":{\"value\":0.5},\"fill_color\":{\"value\":\"lightgrey\"},\"left_units\":\"screen\",\"level\":\"overlay\",\"line_alpha\":{\"value\":1.0},\"line_color\":{\"value\":\"black\"},\"line_dash\":[4,4],\"line_width\":{\"value\":2},\"plot\":null,\"render_mode\":\"css\",\"right_units\":\"screen\",\"top_units\":\"screen\"},\"id\":\"1029\",\"type\":\"BoxAnnotation\"},{\"attributes\":{\"data_source\":{\"id\":\"1101\",\"type\":\"ColumnDataSource\"},\"glyph\":{\"id\":\"1102\",\"type\":\"Line\"},\"hover_glyph\":null,\"muted_glyph\":null,\"nonselection_glyph\":{\"id\":\"1103\",\"type\":\"Line\"},\"selection_glyph\":null,\"view\":{\"id\":\"1105\",\"type\":\"CDSView\"}},\"id\":\"1104\",\"type\":\"GlyphRenderer\"},{\"attributes\":{},\"id\":\"1222\",\"type\":\"Selection\"},{\"attributes\":{\"source\":{\"id\":\"1101\",\"type\":\"ColumnDataSource\"}},\"id\":\"1105\",\"type\":\"CDSView\"},{\"attributes\":{},\"id\":\"1223\",\"type\":\"UnionRenderers\"},{\"attributes\":{\"plot\":null,\"text\":\"\"},\"id\":\"1041\",\"type\":\"Title\"},{\"attributes\":{\"label\":{\"value\":\"16\"},\"renderers\":[{\"id\":\"1200\",\"type\":\"GlyphRenderer\"}]},\"id\":\"1225\",\"type\":\"LegendItem\"}],\"root_ids\":[\"1002\"]},\"title\":\"Bokeh Application\",\"version\":\"1.0.0\"}};\n",
       "  var render_items = [{\"docid\":\"8f6f005a-48a2-4788-8f26-5f51b1fc0e8d\",\"roots\":{\"1002\":\"cbe7467e-8c65-4456-b2a3-9334c7d8d960\"}}];\n",
       "  root.Bokeh.embed.embed_items_notebook(docs_json, render_items);\n",
       "\n",
       "  }\n",
       "  if (root.Bokeh !== undefined) {\n",
       "    embed_document(root);\n",
       "  } else {\n",
       "    var attempts = 0;\n",
       "    var timer = setInterval(function(root) {\n",
       "      if (root.Bokeh !== undefined) {\n",
       "        embed_document(root);\n",
       "        clearInterval(timer);\n",
       "      }\n",
       "      attempts++;\n",
       "      if (attempts > 100) {\n",
       "        console.log(\"Bokeh: ERROR: Unable to run BokehJS code because BokehJS library is missing\");\n",
       "        clearInterval(timer);\n",
       "      }\n",
       "    }, 10, root)\n",
       "  }\n",
       "})(window);"
      ],
      "application/vnd.bokehjs_exec.v0+json": ""
     },
     "metadata": {
      "application/vnd.bokehjs_exec.v0+json": {
       "id": "1002"
      }
     },
     "output_type": "display_data"
    }
   ],
   "source": [
    "nfreqs = simulation.parameters.nfreqs()\n",
    "\n",
    "plot = figure (width=700, height=500, y_axis_type='log')\n",
    "\n",
    "for s in range(s_min, s_max, s_step):\n",
    "    x = [simulation.radiation.frequencies.nu[s][f] for f in range(nfreqs)]\n",
    "    y = [u(0, s, f)                                for f in range(nfreqs)]\n",
    "    plot.line(x, y, legend=f'{s}')\n",
    "\n",
    "plot.xaxis.axis_label = \"frequencies [Hz]\"\n",
    "plot.yaxis.axis_label = \"Mean intensity [W/m^2]\"\n",
    "show(plot)"
   ]
  },
  {
   "cell_type": "markdown",
   "metadata": {},
   "source": [
    "#### **Analytical model**"
   ]
  },
  {
   "cell_type": "markdown",
   "metadata": {},
   "source": [
    "Assuming a constant source function $S_{\\nu}(x)=S_{\\nu}$ along the ray and boundary condition $B_{\\nu}$ on both sides of the ray, the mean intensity J and 1D flux G are given by\n",
    "\n",
    "\\begin{align}\n",
    "    J_{\\nu}(\\tau(x)) \\ &= \\ S_{\\nu} \\ + \\ \\frac{1}{2} \\ \\left(B_{\\nu}-S_{\\nu}\\right) \\ \\left[e^{-\\tau_{\\nu}(x)} + e^{-\\tau_{\\nu}(L-x)}\\right], \\\\\n",
    "    G_{\\nu}(\\tau(x)) \\ &= \\ \\color{white}S_{\\color{white}\\nu} \\ - \\ \\frac{1}{2} \\ \\left(B_{\\nu}-S_{\\nu}\\right) \\ \\left[e^{-\\tau_{\\nu}(x)} - e^{-\\tau_{\\nu}(L-x)}\\right],\n",
    "\\end{align}\n",
    "\n",
    "where the optical depth $\\tau_{\\nu}$ is given by\n",
    "\n",
    "\\begin{equation}\n",
    "    \\tau_{\\nu}(\\ell) \\ = \\ \\int_{0}^{\\ell} \\text{d} l \\ \\chi_{\\nu}(l) .\n",
    "\\end{equation}\n",
    "\n",
    "The frequency dependence of the opacity only comes from the line profile\n",
    "\n",
    "\\begin{equation}\n",
    "    \\chi_{\\nu}(x) \\ = \\ \\chi_{ij} \\phi_{\\nu},\n",
    "\\end{equation}\n",
    "\n",
    "where we assume a Gaussian profile\n",
    "\n",
    "\\begin{equation}\n",
    "\t\\phi_{\\nu}^{ij}(x) \\ = \\ \\frac{1}{\\sqrt{\\pi} \\ \\delta\\nu_{ij}} \\ \\exp \\left[-\\left(\\frac{\\nu-\\nu_{ij}} {\\delta\\nu_{ij}(x)}\\right)^{2}\\right], \\hspace{5mm} \\text{where} \\hspace{5mm} \\delta\\nu_{ij}(x) \\ = \\ \\frac{\\nu_{ij}}{c} \\sqrt{ \\frac{2 k_{b} T(x)}{m_{\\text{spec}}} \\ + \\ v_{\\text{turb}}^{2}(x)}.\n",
    "\\end{equation}\n",
    "\n",
    "Assuming a constant opacity along the ray, the integral for the optical depth yields\n",
    "\n",
    "\\begin{equation}\n",
    "  \\tau_{\\nu}(\\ell) \\ = \\ \\chi_{ij} \\phi_{\\nu} \\ell.\n",
    "\\end{equation}"
   ]
  },
  {
   "cell_type": "code",
   "execution_count": 32,
   "metadata": {},
   "outputs": [],
   "source": [
    "line = 17"
   ]
  },
  {
   "cell_type": "code",
   "execution_count": 33,
   "metadata": {},
   "outputs": [],
   "source": [
    "import numpy as np\n",
    "from scipy.special import erf\n",
    "import tests\n",
    "\n",
    "linedata = simulation.lines.linedata[0]\n",
    "\n",
    "c     = 2.99792458E+8    # [m/s] speed of light\n",
    "kb    = 1.38064852E-23   # [J/K] Boltzmann's constant\n",
    "mp    = 1.6726219E-27    # [kg] proton mass\n",
    "T_CMB = 2.7254800        # [K] CMB temperature\n",
    "vturb = 0.0E0            # [m/s] turbulent speed\n",
    "\n",
    "inverse_sqrt_pi = 0.5641895835478\n",
    "\n",
    "pops       = tests.LTEpop (linedata, temp) * abun\n",
    "emissivity = tests.lineEmissivity (linedata, pops)\n",
    "opacity    = tests.lineOpacity    (linedata, pops)\n",
    "source     = tests.lineSource     (linedata, pops)\n",
    "\n",
    "def bcd (nu):\n",
    "    return tests.planck(T_CMB, nu)\n",
    "\n",
    "S    =  source[line]\n",
    "chi  = opacity[line]\n",
    "L    = dx * (ncells-1)\n",
    "nuij = linedata.frequency[line]\n",
    "dnu  = nuij/c * np.sqrt(2.0*kb*temp/mp + vturb**2)\n",
    "\n",
    "\n",
    "def phi (nu):\n",
    "    return 1 / (np.sqrt(np.pi) * dnu) * np.exp(-((nu-nuij)/dnu)**2)\n",
    "\n",
    "def tau (nu, l):\n",
    "    return chi * phi(nu) * l\n",
    "    \n",
    "def J (nu, x):\n",
    "    tau1 = tau(nu, x)\n",
    "    tau2 = tau(nu, L-x)\n",
    "    B = bcd (nu)\n",
    "    return S + 0.5 * (B-S) * (np.exp(-tau1) + np.exp(-tau2))\n",
    "\n",
    "def G (nu, x):\n",
    "    tau1 = tau(nu, x)\n",
    "    tau2 = tau(nu, L-x)\n",
    "    B = bcd (nu)\n",
    "    return   - 0.5 * (B-S) * (np.exp(-tau1) - np.exp(-tau2))\n",
    "\n",
    "def relativeError (a,b):\n",
    "    return 2.0 * np.abs((a-b)/(a+b))"
   ]
  },
  {
   "cell_type": "code",
   "execution_count": 34,
   "metadata": {},
   "outputs": [
    {
     "data": {
      "text/plain": [
       "array([[[  0,   1,   2,   3,   4,   5,   6,   7,   8,   9,  10,  11,\n",
       "          12,  13,  14,  15,  16,  17,  18,  19,  20,  21,  22,  23,\n",
       "          24,  25,  26,  27,  28,  29,  30,  31,  32,  33,  34,  35,\n",
       "          36,  37,  38],\n",
       "        [ 39,  40,  41,  42,  43,  44,  45,  46,  47,  48,  49,  50,\n",
       "          51,  52,  53,  54,  55,  56,  57,  58,  59,  60,  61,  62,\n",
       "          63,  64,  65,  66,  67,  68,  69,  70,  71,  72,  73,  74,\n",
       "          75,  76,  77],\n",
       "        [ 78,  79,  80,  81,  82,  83,  84,  85,  86,  87,  88,  89,\n",
       "          90,  91,  92,  93,  94,  95,  96,  97,  98,  99, 100, 101,\n",
       "         102, 103, 104, 105, 106, 107, 108, 109, 110, 111, 112, 113,\n",
       "         114, 115, 116],\n",
       "        [117, 118, 119, 120, 121, 122, 123, 124, 125, 126, 127, 128,\n",
       "         129, 130, 131, 132, 133, 134, 135, 136, 137, 138, 139, 140,\n",
       "         141, 142, 143, 144, 145, 146, 147, 148, 149, 150, 151, 152,\n",
       "         153, 154, 155],\n",
       "        [156, 157, 158, 159, 160, 161, 162, 163, 164, 165, 166, 167,\n",
       "         168, 169, 170, 171, 172, 173, 174, 175, 176, 177, 178, 179,\n",
       "         180, 181, 182, 183, 184, 185, 186, 187, 188, 189, 190, 191,\n",
       "         192, 193, 194],\n",
       "        [195, 196, 197, 198, 199, 200, 201, 202, 203, 204, 205, 206,\n",
       "         207, 208, 209, 210, 211, 212, 213, 214, 215, 216, 217, 218,\n",
       "         219, 220, 221, 222, 223, 224, 225, 226, 227, 228, 229, 230,\n",
       "         231, 232, 233],\n",
       "        [234, 235, 236, 237, 238, 239, 240, 241, 242, 243, 244, 245,\n",
       "         246, 247, 248, 249, 250, 251, 252, 253, 254, 255, 256, 257,\n",
       "         258, 259, 260, 261, 262, 263, 264, 265, 266, 267, 268, 269,\n",
       "         270, 271, 272],\n",
       "        [273, 274, 275, 276, 277, 278, 279, 280, 281, 282, 283, 284,\n",
       "         285, 286, 287, 288, 289, 290, 291, 292, 293, 294, 295, 296,\n",
       "         297, 298, 299, 300, 301, 302, 303, 304, 305, 306, 307, 308,\n",
       "         309, 310, 311],\n",
       "        [312, 313, 314, 315, 316, 317, 318, 319, 320, 321, 322, 323,\n",
       "         324, 325, 326, 327, 328, 329, 330, 331, 332, 333, 334, 335,\n",
       "         336, 337, 338, 339, 340, 341, 342, 343, 344, 345, 346, 347,\n",
       "         348, 349, 350],\n",
       "        [351, 352, 353, 354, 355, 356, 357, 358, 359, 360, 361, 362,\n",
       "         363, 364, 365, 366, 367, 368, 369, 370, 371, 372, 373, 374,\n",
       "         375, 376, 377, 378, 379, 380, 381, 382, 383, 384, 385, 386,\n",
       "         387, 388, 389],\n",
       "        [390, 391, 392, 393, 394, 395, 396, 397, 398, 399, 400, 401,\n",
       "         402, 403, 404, 405, 406, 407, 408, 409, 410, 411, 412, 413,\n",
       "         414, 415, 416, 417, 418, 419, 420, 421, 422, 423, 424, 425,\n",
       "         426, 427, 428],\n",
       "        [429, 430, 431, 432, 433, 434, 435, 436, 437, 438, 439, 440,\n",
       "         441, 442, 443, 444, 445, 446, 447, 448, 449, 450, 451, 452,\n",
       "         453, 454, 455, 456, 457, 458, 459, 460, 461, 462, 463, 464,\n",
       "         465, 466, 467],\n",
       "        [468, 469, 470, 471, 472, 473, 474, 475, 476, 477, 478, 479,\n",
       "         480, 481, 482, 483, 484, 485, 486, 487, 488, 489, 490, 491,\n",
       "         492, 493, 494, 495, 496, 497, 498, 499, 500, 501, 502, 503,\n",
       "         504, 505, 506],\n",
       "        [507, 508, 509, 510, 511, 512, 513, 514, 515, 516, 517, 518,\n",
       "         519, 520, 521, 522, 523, 524, 525, 526, 527, 528, 529, 530,\n",
       "         531, 532, 533, 534, 535, 536, 537, 538, 539, 540, 541, 542,\n",
       "         543, 544, 545],\n",
       "        [546, 547, 548, 549, 550, 551, 552, 553, 554, 555, 556, 557,\n",
       "         558, 559, 560, 561, 562, 563, 564, 565, 566, 567, 568, 569,\n",
       "         570, 571, 572, 573, 574, 575, 576, 577, 578, 579, 580, 581,\n",
       "         582, 583, 584],\n",
       "        [585, 586, 587, 588, 589, 590, 591, 592, 593, 594, 595, 596,\n",
       "         597, 598, 599, 600, 601, 602, 603, 604, 605, 606, 607, 608,\n",
       "         609, 610, 611, 612, 613, 614, 615, 616, 617, 618, 619, 620,\n",
       "         621, 622, 623],\n",
       "        [624, 625, 626, 627, 628, 629, 630, 631, 632, 633, 634, 635,\n",
       "         636, 637, 638, 639, 640, 641, 642, 643, 644, 645, 646, 647,\n",
       "         648, 649, 650, 651, 652, 653, 654, 655, 656, 657, 658, 659,\n",
       "         660, 661, 662],\n",
       "        [663, 664, 665, 666, 667, 668, 669, 670, 671, 672, 673, 674,\n",
       "         675, 676, 677, 678, 679, 680, 681, 682, 683, 684, 685, 686,\n",
       "         687, 688, 689, 690, 691, 692, 693, 694, 695, 696, 697, 698,\n",
       "         699, 700, 701],\n",
       "        [702, 703, 704, 705, 706, 707, 708, 709, 710, 711, 712, 713,\n",
       "         714, 715, 716, 717, 718, 719, 720, 721, 722, 723, 724, 725,\n",
       "         726, 727, 728, 729, 730, 731, 732, 733, 734, 735, 736, 737,\n",
       "         738, 739, 740],\n",
       "        [741, 742, 743, 744, 745, 746, 747, 748, 749, 750, 751, 752,\n",
       "         753, 754, 755, 756, 757, 758, 759, 760, 761, 762, 763, 764,\n",
       "         765, 766, 767, 768, 769, 770, 771, 772, 773, 774, 775, 776,\n",
       "         777, 778, 779]]])"
      ]
     },
     "execution_count": 34,
     "metadata": {},
     "output_type": "execute_result"
    }
   ],
   "source": [
    "np.array(simulation.lines.nr_line[0])"
   ]
  },
  {
   "cell_type": "markdown",
   "metadata": {},
   "source": [
    "#### Plot of a single line"
   ]
  },
  {
   "cell_type": "code",
   "execution_count": 35,
   "metadata": {},
   "outputs": [
    {
     "ename": "AttributeError",
     "evalue": "'pyMagritte.Model' object has no attribute 'x'",
     "output_type": "error",
     "traceback": [
      "\u001b[0;31m---------------------------------------------------------------------------\u001b[0m",
      "\u001b[0;31mAttributeError\u001b[0m                            Traceback (most recent call last)",
      "\u001b[0;32m<ipython-input-35-aa76eb0b5189>\u001b[0m in \u001b[0;36m<module>\u001b[0;34m\u001b[0m\n\u001b[1;32m      5\u001b[0m     \u001b[0;31m# model\u001b[0m\u001b[0;34m\u001b[0m\u001b[0;34m\u001b[0m\u001b[0;34m\u001b[0m\u001b[0m\n\u001b[1;32m      6\u001b[0m     \u001b[0mx\u001b[0m \u001b[0;34m=\u001b[0m \u001b[0mnuij\u001b[0m \u001b[0;34m+\u001b[0m \u001b[0;36m18\u001b[0m \u001b[0;34m*\u001b[0m \u001b[0mdnu\u001b[0m \u001b[0;34m*\u001b[0m \u001b[0mnp\u001b[0m\u001b[0;34m.\u001b[0m\u001b[0mlinspace\u001b[0m\u001b[0;34m(\u001b[0m\u001b[0;34m-\u001b[0m\u001b[0;36m1\u001b[0m\u001b[0;34m,\u001b[0m\u001b[0;36m1\u001b[0m\u001b[0;34m,\u001b[0m\u001b[0;36m500\u001b[0m\u001b[0;34m)\u001b[0m\u001b[0;34m\u001b[0m\u001b[0;34m\u001b[0m\u001b[0m\n\u001b[0;32m----> 7\u001b[0;31m     \u001b[0my\u001b[0m \u001b[0;34m=\u001b[0m \u001b[0mJ\u001b[0m\u001b[0;34m(\u001b[0m\u001b[0mx\u001b[0m\u001b[0;34m,\u001b[0m \u001b[0mmodel\u001b[0m\u001b[0;34m.\u001b[0m\u001b[0mx\u001b[0m\u001b[0;34m[\u001b[0m\u001b[0ms\u001b[0m\u001b[0;34m]\u001b[0m\u001b[0;34m)\u001b[0m\u001b[0;34m\u001b[0m\u001b[0;34m\u001b[0m\u001b[0m\n\u001b[0m\u001b[1;32m      8\u001b[0m     \u001b[0mplot_model\u001b[0m\u001b[0;34m.\u001b[0m\u001b[0mline\u001b[0m\u001b[0;34m(\u001b[0m\u001b[0mx\u001b[0m\u001b[0;34m,\u001b[0m \u001b[0my\u001b[0m\u001b[0;34m,\u001b[0m \u001b[0mcolor\u001b[0m\u001b[0;34m=\u001b[0m\u001b[0mcolor\u001b[0m\u001b[0;34m(\u001b[0m\u001b[0ms\u001b[0m\u001b[0;34m)\u001b[0m\u001b[0;34m)\u001b[0m\u001b[0;34m\u001b[0m\u001b[0;34m\u001b[0m\u001b[0m\n\u001b[1;32m      9\u001b[0m     \u001b[0;31m# data\u001b[0m\u001b[0;34m\u001b[0m\u001b[0;34m\u001b[0m\u001b[0;34m\u001b[0m\u001b[0m\n",
      "\u001b[0;31mAttributeError\u001b[0m: 'pyMagritte.Model' object has no attribute 'x'"
     ]
    }
   ],
   "source": [
    "plot_model = figure(width=400, height=400, y_axis_type=\"log\")\n",
    "for s in range(s_min, s_max, s_step):\n",
    "    M = int(simulation.lines.nr_line[s][0][line][20] - 18    )\n",
    "    N = int(simulation.lines.nr_line[s][0][line][20] + 18 + 1)\n",
    "    # model\n",
    "    x = nuij + 18 * dnu * np.linspace(-1,1,500)\n",
    "    y = J(x, simulation.geometry.cells.x[s])\n",
    "    plot_model.line(x, y, color=color(s))\n",
    "    # data\n",
    "    x = nu_data[0][s][M:N]\n",
    "    y =  J_data[0][s][M:N]\n",
    "    plot_model.circle(x, y, color=color(s), legend=f'{s}')\n",
    "\n",
    "# plot_error = figure(title='Line error', width=400, height=400, y_axis_type=\"log\")\n",
    "# for s in range(s_min, s_max, s_step):\n",
    "#     M = int(lnr_data[0][s][line] - 18    )\n",
    "#     N = int(lnr_data[0][s][line] + 18 + 1)\n",
    "#     # error\n",
    "#     x = nu_data[0][s][M:N]\n",
    "#     y = relativeError(J(x, model.x[s]), J_data[0][s][M:N])\n",
    "#     plot_error.circle(x, y, color=color(s), legend=legend(s))\n",
    "\n",
    "plot = gridplot([[plot_model, plot_error]])\n",
    "\n",
    "show(plot_model)"
   ]
  },
  {
   "cell_type": "code",
   "execution_count": 1,
   "metadata": {},
   "outputs": [],
   "source": [
    "from sys import path as syspath\n",
    "from os  import path as  ospath\n",
    "\n",
    "# Define directory containing Magritte\n",
    "MagritteFolder = ospath.dirname(ospath.realpath('__file__')) + '/../'\n",
    "\n",
    "# Add Magritte's bin directory to the Python path\n",
    "syspath.insert(0, f'{MagritteFolder}bin/')\n",
    "syspath.insert(0, f'{MagritteFolder}setup/linedata')"
   ]
  },
  {
   "cell_type": "code",
   "execution_count": 9,
   "metadata": {},
   "outputs": [],
   "source": [
    "import numpy as np\n",
    "import h5py  as hp\n",
    "\n",
    "folder = \"/home/frederik/Desktop/Magritte/modules/Magritte/tests/testData/model.hdf5\"\n",
    "\n"
   ]
  },
  {
   "cell_type": "code",
   "execution_count": 10,
   "metadata": {},
   "outputs": [],
   "source": [
    "%rm /home/frederik/Desktop/Magritte/modules/Magritte/tests/testData/model.hdf5"
   ]
  },
  {
   "cell_type": "code",
   "execution_count": 11,
   "metadata": {},
   "outputs": [],
   "source": [
    "model.cells.ncells = 2"
   ]
  },
  {
   "cell_type": "code",
   "execution_count": 12,
   "metadata": {},
   "outputs": [],
   "source": [
    "model.cells.x = Double1([0.1, 0.2])\n",
    "model.cells.y = Double1([0.0, 0.0])\n",
    "model.cells.z = Double1([0.0, 0.0])\n",
    "\n",
    "model.cells.boundary2cell_nr = Long1([2])"
   ]
  },
  {
   "cell_type": "code",
   "execution_count": 13,
   "metadata": {},
   "outputs": [],
   "source": [
    "from read_LAMDA_data import read_LAMDA_file\n",
    "from pyMagritte      import Linedata, CollisionPartner\n",
    "\n",
    "file_name    = '/home/frederik/Desktop/Magritte/modules/Magritte/tests/testData/linedata/hco+.dat'\n",
    "speciesNames = ['dummy0', 'test', 'H2', 'e-', 'dummy1']\n",
    "\n",
    "model.nlspecs = 1\n",
    "model.linedata.append(read_LAMDA_file (file_name, speciesNames))"
   ]
  },
  {
   "cell_type": "code",
   "execution_count": 22,
   "metadata": {},
   "outputs": [
    {
     "data": {
      "text/plain": [
       "2"
      ]
     },
     "execution_count": 22,
     "metadata": {},
     "output_type": "execute_result"
    }
   ],
   "source": []
  },
  {
   "cell_type": "code",
   "execution_count": 7,
   "metadata": {},
   "outputs": [
    {
     "name": "stdout",
     "output_type": "stream",
     "text": [
      "linedata/lspec_0/ num\n",
      "linedata/lspec_0/ sym\n",
      "linedata/lspec_0/colpartner/colpar_0/ num_col_partner\n",
      "linedata/lspec_0/colpartner/colpar_0/ orth_or_para_H2\n"
     ]
    },
    {
     "data": {
      "text/plain": [
       "0"
      ]
     },
     "execution_count": 7,
     "metadata": {},
     "output_type": "execute_result"
    }
   ],
   "source": [
    "model.write (io)"
   ]
  },
  {
   "cell_type": "code",
   "execution_count": 15,
   "metadata": {},
   "outputs": [
    {
     "ename": "AttributeError",
     "evalue": "'pyMagritte.Cells' object has no attribute 'neighbor'",
     "output_type": "error",
     "traceback": [
      "\u001b[0;31m---------------------------------------------------------------------------\u001b[0m",
      "\u001b[0;31mAttributeError\u001b[0m                            Traceback (most recent call last)",
      "\u001b[0;32m<ipython-input-15-217317b896af>\u001b[0m in \u001b[0;36m<module>\u001b[0;34m\u001b[0m\n\u001b[0;32m----> 1\u001b[0;31m \u001b[0mcells\u001b[0m\u001b[0;34m.\u001b[0m\u001b[0mneighbor\u001b[0m\u001b[0;34m\u001b[0m\u001b[0;34m\u001b[0m\u001b[0m\n\u001b[0m",
      "\u001b[0;31mAttributeError\u001b[0m: 'pyMagritte.Cells' object has no attribute 'neighbor'"
     ]
    }
   ],
   "source": [
    "cells.nei"
   ]
  },
  {
   "cell_type": "code",
   "execution_count": 14,
   "metadata": {},
   "outputs": [
    {
     "data": {
      "text/plain": [
       "Double1[4.251e-05, 0.0004081, 0.001476, 0.003627, 0.007244, 0.01271, 0.0204, 0.03071, 0.044, 0.06066, 0.08108, 0.1056, 0.1347, 0.1686, 0.2078, 0.2526, 0.3034, 0.3605, 0.4245, 0.4955]"
      ]
     },
     "execution_count": 14,
     "metadata": {},
     "output_type": "execute_result"
    }
   ],
   "source": [
    "model.linedata[0].A"
   ]
  },
  {
   "cell_type": "code",
   "execution_count": 3,
   "metadata": {},
   "outputs": [
    {
     "data": {
      "text/plain": [
       "pyMagritte.Double1"
      ]
     },
     "execution_count": 3,
     "metadata": {},
     "output_type": "execute_result"
    }
   ],
   "source": [
    "type(linedata.frequency)"
   ]
  },
  {
   "cell_type": "code",
   "execution_count": 4,
   "metadata": {},
   "outputs": [
    {
     "ename": "TypeError",
     "evalue": "(): incompatible function arguments. The following argument types are supported:\n    1. (self: pyMagritte.Linedata, arg0: pyMagritte.Double1) -> None\n\nInvoked with: <pyMagritte.Linedata object at 0x7f330c77ad50>, [1, 2]",
     "output_type": "error",
     "traceback": [
      "\u001b[0;31m---------------------------------------------------------------------------\u001b[0m",
      "\u001b[0;31mTypeError\u001b[0m                                 Traceback (most recent call last)",
      "\u001b[0;32m<ipython-input-4-f7cda571ea19>\u001b[0m in \u001b[0;36m<module>\u001b[0;34m\u001b[0m\n\u001b[0;32m----> 1\u001b[0;31m \u001b[0mlinedata\u001b[0m\u001b[0;34m.\u001b[0m\u001b[0mfrequency\u001b[0m\u001b[0;34m=\u001b[0m \u001b[0;34m[\u001b[0m\u001b[0;36m1\u001b[0m\u001b[0;34m,\u001b[0m\u001b[0;36m2\u001b[0m\u001b[0;34m]\u001b[0m\u001b[0;34m\u001b[0m\u001b[0;34m\u001b[0m\u001b[0m\n\u001b[0m",
      "\u001b[0;31mTypeError\u001b[0m: (): incompatible function arguments. The following argument types are supported:\n    1. (self: pyMagritte.Linedata, arg0: pyMagritte.Double1) -> None\n\nInvoked with: <pyMagritte.Linedata object at 0x7f330c77ad50>, [1, 2]"
     ]
    }
   ],
   "source": [
    "linedata.frequency= [1,2]\n"
   ]
  },
  {
   "cell_type": "code",
   "execution_count": 5,
   "metadata": {},
   "outputs": [
    {
     "name": "stdout",
     "output_type": "stream",
     "text": [
      "<bound method PyCapsule.append of Double1[8.91885e+10, 1.78375e+11, 2.67558e+11, 3.56734e+11, 4.45903e+11, 5.35062e+11, 6.24209e+11, 7.13342e+11, 8.02459e+11, 8.91559e+11, 9.80639e+11, 1.0697e+12, 1.15873e+12, 1.24774e+12, 1.33672e+12, 1.42567e+12, 1.51459e+12, 1.60348e+12, 1.69233e+12, 1.78114e+12]>\n"
     ]
    },
    {
     "data": {
      "text/plain": [
       "['__bool__',\n",
       " '__class__',\n",
       " '__contains__',\n",
       " '__delattr__',\n",
       " '__delitem__',\n",
       " '__dir__',\n",
       " '__doc__',\n",
       " '__eq__',\n",
       " '__format__',\n",
       " '__ge__',\n",
       " '__getattribute__',\n",
       " '__getitem__',\n",
       " '__gt__',\n",
       " '__hash__',\n",
       " '__init__',\n",
       " '__init_subclass__',\n",
       " '__iter__',\n",
       " '__le__',\n",
       " '__len__',\n",
       " '__lt__',\n",
       " '__module__',\n",
       " '__ne__',\n",
       " '__new__',\n",
       " '__pybind11_module_local_v2__',\n",
       " '__reduce__',\n",
       " '__reduce_ex__',\n",
       " '__repr__',\n",
       " '__setattr__',\n",
       " '__setitem__',\n",
       " '__sizeof__',\n",
       " '__str__',\n",
       " '__subclasshook__',\n",
       " 'append',\n",
       " 'count',\n",
       " 'extend',\n",
       " 'insert',\n",
       " 'pop',\n",
       " 'remove']"
      ]
     },
     "execution_count": 5,
     "metadata": {},
     "output_type": "execute_result"
    }
   ],
   "source": [
    "ob = linedata.frequency\n",
    "\n",
    "a=linedata.frequency.append\n",
    "print(a)\n",
    "linedata.frequency\n",
    "dir(linedata.frequency)"
   ]
  },
  {
   "cell_type": "code",
   "execution_count": 6,
   "metadata": {},
   "outputs": [
    {
     "ename": "TypeError",
     "evalue": "'method' object does not support item assignment",
     "output_type": "error",
     "traceback": [
      "\u001b[0;31m---------------------------------------------------------------------------\u001b[0m",
      "\u001b[0;31mTypeError\u001b[0m                                 Traceback (most recent call last)",
      "\u001b[0;32m<ipython-input-6-167934c728c3>\u001b[0m in \u001b[0;36m<module>\u001b[0;34m\u001b[0m\n\u001b[0;32m----> 1\u001b[0;31m \u001b[0ma\u001b[0m\u001b[0;34m[\u001b[0m\u001b[0;36m0\u001b[0m\u001b[0;34m]\u001b[0m \u001b[0;34m=\u001b[0m \u001b[0;36m5\u001b[0m\u001b[0;34m\u001b[0m\u001b[0;34m\u001b[0m\u001b[0m\n\u001b[0m\u001b[1;32m      2\u001b[0m \u001b[0mprint\u001b[0m\u001b[0;34m(\u001b[0m\u001b[0ma\u001b[0m\u001b[0;34m[\u001b[0m\u001b[0;36m0\u001b[0m\u001b[0;34m]\u001b[0m\u001b[0;34m)\u001b[0m\u001b[0;34m\u001b[0m\u001b[0;34m\u001b[0m\u001b[0m\n",
      "\u001b[0;31mTypeError\u001b[0m: 'method' object does not support item assignment"
     ]
    }
   ],
   "source": [
    "a[0] = 5\n",
    "print(a[0])"
   ]
  },
  {
   "cell_type": "code",
   "execution_count": 7,
   "metadata": {},
   "outputs": [
    {
     "data": {
      "text/plain": [
       "<pyMagritte.Linedata at 0x7f330c77ad50>"
      ]
     },
     "execution_count": 7,
     "metadata": {},
     "output_type": "execute_result"
    }
   ],
   "source": [
    "linedata"
   ]
  },
  {
   "cell_type": "code",
   "execution_count": 8,
   "metadata": {},
   "outputs": [
    {
     "data": {
      "text/plain": [
       "Double1[8.91885e+10, 1.78375e+11, 2.67558e+11, 3.56734e+11, 4.45903e+11, 5.35062e+11, 6.24209e+11, 7.13342e+11, 8.02459e+11, 8.91559e+11, 9.80639e+11, 1.0697e+12, 1.15873e+12, 1.24774e+12, 1.33672e+12, 1.42567e+12, 1.51459e+12, 1.60348e+12, 1.69233e+12, 1.78114e+12]"
      ]
     },
     "execution_count": 8,
     "metadata": {},
     "output_type": "execute_result"
    }
   ],
   "source": [
    "ob"
   ]
  },
  {
   "cell_type": "code",
   "execution_count": 50,
   "metadata": {},
   "outputs": [],
   "source": [
    "ob.append(0.1)"
   ]
  },
  {
   "cell_type": "code",
   "execution_count": 51,
   "metadata": {},
   "outputs": [
    {
     "data": {
      "text/plain": [
       "[1.0, 2.0, 0.1]"
      ]
     },
     "execution_count": 51,
     "metadata": {},
     "output_type": "execute_result"
    }
   ],
   "source": [
    "ob"
   ]
  },
  {
   "cell_type": "code",
   "execution_count": 52,
   "metadata": {},
   "outputs": [],
   "source": [
    "linedata.frequency = [1,2, 3]"
   ]
  },
  {
   "cell_type": "code",
   "execution_count": 75,
   "metadata": {},
   "outputs": [
    {
     "data": {
      "text/plain": [
       "[1.0, 2.0, 3.0]"
      ]
     },
     "execution_count": 75,
     "metadata": {},
     "output_type": "execute_result"
    }
   ],
   "source": [
    "linedata.frequency"
   ]
  },
  {
   "cell_type": "code",
   "execution_count": 60,
   "metadata": {},
   "outputs": [
    {
     "data": {
      "text/plain": [
       "[1.0, 2.0, 3.0]"
      ]
     },
     "execution_count": 60,
     "metadata": {},
     "output_type": "execute_result"
    }
   ],
   "source": [
    "linedata.frequency"
   ]
  },
  {
   "cell_type": "code",
   "execution_count": 59,
   "metadata": {},
   "outputs": [
    {
     "data": {
      "text/plain": [
       "[1.0, 2.0, 3.0]"
      ]
     },
     "execution_count": 59,
     "metadata": {},
     "output_type": "execute_result"
    }
   ],
   "source": [
    "linedata.frequency"
   ]
  },
  {
   "cell_type": "code",
   "execution_count": 63,
   "metadata": {},
   "outputs": [],
   "source": [
    "class Test:\n",
    "    def __init__ (self):\n",
    "        self.array = []"
   ]
  },
  {
   "cell_type": "code",
   "execution_count": 64,
   "metadata": {},
   "outputs": [],
   "source": [
    "test = Test ()"
   ]
  },
  {
   "cell_type": "code",
   "execution_count": 66,
   "metadata": {},
   "outputs": [],
   "source": [
    "test.array.append(0.4)"
   ]
  },
  {
   "cell_type": "code",
   "execution_count": 68,
   "metadata": {},
   "outputs": [
    {
     "data": {
      "text/plain": [
       "[0.4]"
      ]
     },
     "execution_count": 68,
     "metadata": {},
     "output_type": "execute_result"
    }
   ],
   "source": [
    "test.array"
   ]
  },
  {
   "cell_type": "code",
   "execution_count": 71,
   "metadata": {},
   "outputs": [],
   "source": [
    "model.cells.x.append(0.5)"
   ]
  },
  {
   "cell_type": "code",
   "execution_count": 72,
   "metadata": {},
   "outputs": [
    {
     "data": {
      "text/plain": [
       "[0.1, 0.2, 0.3]"
      ]
     },
     "execution_count": 72,
     "metadata": {},
     "output_type": "execute_result"
    }
   ],
   "source": [
    "model.cells.x"
   ]
  },
  {
   "cell_type": "code",
   "execution_count": 74,
   "metadata": {},
   "outputs": [
    {
     "ename": "TypeError",
     "evalue": "(): incompatible function arguments. The following argument types are supported:\n    1. (self: pyMagritte.Cells, arg0: int) -> None\n\nInvoked with: <pyMagritte.Cells object at 0x7eff64705500>, []",
     "output_type": "error",
     "traceback": [
      "\u001b[0;31m---------------------------------------------------------------------------\u001b[0m",
      "\u001b[0;31mTypeError\u001b[0m                                 Traceback (most recent call last)",
      "\u001b[0;32m<ipython-input-74-79d167ee2587>\u001b[0m in \u001b[0;36m<module>\u001b[0;34m\u001b[0m\n\u001b[0;32m----> 1\u001b[0;31m \u001b[0mmodel\u001b[0m\u001b[0;34m.\u001b[0m\u001b[0mcells\u001b[0m\u001b[0;34m.\u001b[0m\u001b[0mncells\u001b[0m \u001b[0;34m=\u001b[0m \u001b[0;34m[\u001b[0m\u001b[0;34m]\u001b[0m\u001b[0;34m\u001b[0m\u001b[0;34m\u001b[0m\u001b[0m\n\u001b[0m",
      "\u001b[0;31mTypeError\u001b[0m: (): incompatible function arguments. The following argument types are supported:\n    1. (self: pyMagritte.Cells, arg0: int) -> None\n\nInvoked with: <pyMagritte.Cells object at 0x7eff64705500>, []"
     ]
    }
   ],
   "source": [
    "model.cells.ncells = []"
   ]
  },
  {
   "cell_type": "code",
   "execution_count": 5,
   "metadata": {},
   "outputs": [
    {
     "data": {
      "text/plain": [
       "[0.0]"
      ]
     },
     "execution_count": 5,
     "metadata": {},
     "output_type": "execute_result"
    }
   ],
   "source": [
    "linedata.frequency"
   ]
  },
  {
   "cell_type": "code",
   "execution_count": 6,
   "metadata": {},
   "outputs": [],
   "source": [
    "linedata.frequency[0] = 1.0"
   ]
  },
  {
   "cell_type": "code",
   "execution_count": 11,
   "metadata": {},
   "outputs": [],
   "source": [
    "linedata.frequency = [1, 2, 3]"
   ]
  },
  {
   "cell_type": "code",
   "execution_count": 12,
   "metadata": {},
   "outputs": [
    {
     "data": {
      "text/plain": [
       "[1.0, 2.0, 3.0]"
      ]
     },
     "execution_count": 12,
     "metadata": {},
     "output_type": "execute_result"
    }
   ],
   "source": [
    "linedata.frequency"
   ]
  },
  {
   "cell_type": "code",
   "execution_count": 12,
   "metadata": {},
   "outputs": [
    {
     "data": {
      "text/plain": [
       "Double1[5]"
      ]
     },
     "execution_count": 12,
     "metadata": {},
     "output_type": "execute_result"
    }
   ],
   "source": [
    "Double1()"
   ]
  },
  {
   "cell_type": "code",
   "execution_count": 8,
   "metadata": {},
   "outputs": [],
   "source": [
    "def check (statement):\n",
    "    assert (statement)"
   ]
  },
  {
   "cell_type": "code",
   "execution_count": 10,
   "metadata": {},
   "outputs": [
    {
     "ename": "AssertionError",
     "evalue": "",
     "output_type": "error",
     "traceback": [
      "\u001b[0;31m---------------------------------------------------------------------------\u001b[0m",
      "\u001b[0;31mAssertionError\u001b[0m                            Traceback (most recent call last)",
      "\u001b[0;32m<ipython-input-10-9b6e436d5bd6>\u001b[0m in \u001b[0;36m<module>\u001b[0;34m\u001b[0m\n\u001b[0;32m----> 1\u001b[0;31m \u001b[0mcheck\u001b[0m\u001b[0;34m(\u001b[0m\u001b[0;32mFalse\u001b[0m\u001b[0;34m)\u001b[0m\u001b[0;34m\u001b[0m\u001b[0;34m\u001b[0m\u001b[0m\n\u001b[0m",
      "\u001b[0;32m<ipython-input-8-d9f5b41c7af4>\u001b[0m in \u001b[0;36mcheck\u001b[0;34m(statement)\u001b[0m\n\u001b[1;32m      1\u001b[0m \u001b[0;32mdef\u001b[0m \u001b[0mcheck\u001b[0m \u001b[0;34m(\u001b[0m\u001b[0mstatement\u001b[0m\u001b[0;34m)\u001b[0m\u001b[0;34m:\u001b[0m\u001b[0;34m\u001b[0m\u001b[0;34m\u001b[0m\u001b[0m\n\u001b[0;32m----> 2\u001b[0;31m     \u001b[0;32massert\u001b[0m \u001b[0;34m(\u001b[0m\u001b[0mstatement\u001b[0m\u001b[0;34m)\u001b[0m\u001b[0;34m\u001b[0m\u001b[0;34m\u001b[0m\u001b[0m\n\u001b[0m",
      "\u001b[0;31mAssertionError\u001b[0m: "
     ]
    }
   ],
   "source": [
    "check(False)"
   ]
  },
  {
   "cell_type": "code",
   "execution_count": 5,
   "metadata": {},
   "outputs": [],
   "source": [
    "import h5py  as hp\n",
    "import numpy as np"
   ]
  },
  {
   "cell_type": "code",
   "execution_count": 6,
   "metadata": {},
   "outputs": [],
   "source": [
    "file = hp.File ('test.hdf5')"
   ]
  },
  {
   "cell_type": "code",
   "execution_count": 10,
   "metadata": {},
   "outputs": [],
   "source": [
    "syms = np.array (['Pieter', 'Jan'], dtype='S10')"
   ]
  },
  {
   "cell_type": "code",
   "execution_count": 11,
   "metadata": {},
   "outputs": [
    {
     "data": {
      "text/plain": [
       "<HDF5 dataset \"sym\": shape (2,), type \"|S10\">"
      ]
     },
     "execution_count": 11,
     "metadata": {},
     "output_type": "execute_result"
    }
   ],
   "source": [
    "file.create_dataset(name='sym', data=syms)"
   ]
  },
  {
   "cell_type": "code",
   "execution_count": 15,
   "metadata": {},
   "outputs": [
    {
     "data": {
      "text/plain": [
       "b'Pieter'"
      ]
     },
     "execution_count": 15,
     "metadata": {},
     "output_type": "execute_result"
    }
   ],
   "source": [
    "np.array(file.get('sym'))[0]"
   ]
  },
  {
   "cell_type": "code",
   "execution_count": null,
   "metadata": {},
   "outputs": [],
   "source": []
  }
 ],
 "metadata": {
  "kernelspec": {
   "display_name": "Python 3",
   "language": "python",
   "name": "python3"
  },
  "language_info": {
   "codemirror_mode": {
    "name": "ipython",
    "version": 3
   },
   "file_extension": ".py",
   "mimetype": "text/x-python",
   "name": "python",
   "nbconvert_exporter": "python",
   "pygments_lexer": "ipython3",
   "version": "3.6.7"
  }
 },
 "nbformat": 4,
 "nbformat_minor": 2
}

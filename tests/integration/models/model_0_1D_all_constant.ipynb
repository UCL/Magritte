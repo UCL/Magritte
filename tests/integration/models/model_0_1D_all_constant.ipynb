{
 "cells": [
  {
   "cell_type": "markdown",
   "metadata": {},
   "source": [
    "# 0) Analytical Model: 1D all constant\n",
    "---"
   ]
  },
  {
   "cell_type": "code",
   "execution_count": 1,
   "metadata": {},
   "outputs": [],
   "source": [
    "import os, inspect\n",
    "thisFolder     = os.path.dirname(os.path.abspath(inspect.getfile(inspect.currentframe())))\n",
    "magritteFolder = f'{thisFolder}/../../../'"
   ]
  },
  {
   "cell_type": "markdown",
   "metadata": {},
   "source": [
    "## 0) Setup\n",
    "---"
   ]
  },
  {
   "cell_type": "markdown",
   "metadata": {},
   "source": [
    "Add Magritte's `/setup/` and `/bin/` directories to the Python path."
   ]
  },
  {
   "cell_type": "code",
   "execution_count": 2,
   "metadata": {},
   "outputs": [],
   "source": [
    "from sys import path as sysPath\n",
    "sysPath.insert (0, f'{magritteFolder}setup/')\n",
    "sysPath.insert (0, f'{magritteFolder}bin/')"
   ]
  },
  {
   "cell_type": "markdown",
   "metadata": {},
   "source": [
    "Import Magritte's Python modules and setup."
   ]
  },
  {
   "cell_type": "code",
   "execution_count": 3,
   "metadata": {},
   "outputs": [],
   "source": [
    "from magritte import Model, Long1, Long2, Double1, Double2, String1\n",
    "from setup    import Setup, linedata_from_LAMDA_file"
   ]
  },
  {
   "cell_type": "markdown",
   "metadata": {},
   "source": [
    "## 1) Define model\n",
    "---"
   ]
  },
  {
   "cell_type": "markdown",
   "metadata": {},
   "source": [
    "Define helper quantities for the model."
   ]
  },
  {
   "cell_type": "code",
   "execution_count": 4,
   "metadata": {},
   "outputs": [],
   "source": [
    "dimension = 1\n",
    "ncells    = 50\n",
    "nrays     = 2\n",
    "nspecs    = 5\n",
    "nlspecs   = 1\n",
    "nquads    = 39"
   ]
  },
  {
   "cell_type": "code",
   "execution_count": 5,
   "metadata": {},
   "outputs": [],
   "source": [
    "dens = 1.0E+12   # [m^-3]\n",
    "abun = 1.0E+06   # [m^-3]\n",
    "temp = 2.5E+02   # [K]\n",
    "turb = 2.5E+02   # [m/s]\n",
    "dx   = 1.0E+04   # [m]"
   ]
  },
  {
   "cell_type": "code",
   "execution_count": 6,
   "metadata": {},
   "outputs": [],
   "source": [
    "setup = Setup (dimension = dimension)"
   ]
  },
  {
   "cell_type": "markdown",
   "metadata": {},
   "source": [
    "Create a Magritte model object."
   ]
  },
  {
   "cell_type": "code",
   "execution_count": 7,
   "metadata": {},
   "outputs": [],
   "source": [
    "model = Model ()"
   ]
  },
  {
   "cell_type": "markdown",
   "metadata": {},
   "source": [
    "Define model parameters."
   ]
  },
  {
   "cell_type": "code",
   "execution_count": 8,
   "metadata": {},
   "outputs": [],
   "source": [
    "model.parameters.set_ncells  (ncells)\n",
    "model.parameters.set_nrays   (nrays)\n",
    "model.parameters.set_nspecs  (nspecs)\n",
    "model.parameters.set_nlspecs (nlspecs)\n",
    "model.parameters.set_nquads  (nquads)"
   ]
  },
  {
   "cell_type": "markdown",
   "metadata": {},
   "source": [
    "Define geometry. First define cells."
   ]
  },
  {
   "cell_type": "code",
   "execution_count": 9,
   "metadata": {},
   "outputs": [],
   "source": [
    "model.geometry.cells.x  = Double1 ([i*dx for i in range(ncells)])\n",
    "model.geometry.cells.y  = Double1 ([0.0  for _ in range(ncells)])\n",
    "model.geometry.cells.z  = Double1 ([0.0  for _ in range(ncells)])\n",
    "\n",
    "model.geometry.cells.vx = Double1 ([0.0  for _ in range(ncells)])\n",
    "model.geometry.cells.vy = Double1 ([0.0  for _ in range(ncells)])\n",
    "model.geometry.cells.vz = Double1 ([0.0  for _ in range(ncells)])\n",
    "\n",
    "# Note that the points need to be specified before neighbors can be found\n",
    "model.geometry.cells = setup.neighborLists (model.geometry.cells)"
   ]
  },
  {
   "cell_type": "markdown",
   "metadata": {},
   "source": [
    "Then define the boundary of the geometry."
   ]
  },
  {
   "cell_type": "code",
   "execution_count": 10,
   "metadata": {},
   "outputs": [],
   "source": [
    "model.geometry.boundary.boundary2cell_nr = Long1 ([0, ncells-1])"
   ]
  },
  {
   "cell_type": "markdown",
   "metadata": {},
   "source": [
    "Finally, define the rays for the geometry."
   ]
  },
  {
   "cell_type": "code",
   "execution_count": 11,
   "metadata": {},
   "outputs": [],
   "source": [
    "model.geometry.rays = setup.rays (nrays=nrays, cells=model.geometry.cells)"
   ]
  },
  {
   "cell_type": "markdown",
   "metadata": {},
   "source": [
    "Define thermodynamics."
   ]
  },
  {
   "cell_type": "code",
   "execution_count": 12,
   "metadata": {},
   "outputs": [],
   "source": [
    "model.thermodynamics.temperature.gas   = Double1 ([temp for _ in range(ncells)])\n",
    "model.thermodynamics.turbulence.vturb2 = Double1 ([turb for _ in range(ncells)])"
   ]
  },
  {
   "cell_type": "markdown",
   "metadata": {},
   "source": [
    "Define the chemical species involved."
   ]
  },
  {
   "cell_type": "code",
   "execution_count": 13,
   "metadata": {},
   "outputs": [],
   "source": [
    "model.chemistry.species.abundance = Double2 ([ Double1 ([0.0, abun, dens, 0.0, 1.0]) for _ in range(ncells)])\n",
    "model.chemistry.species.sym       = String1 (['dummy0', 'test', 'H2', 'e-', 'dummy1'])"
   ]
  },
  {
   "cell_type": "markdown",
   "metadata": {},
   "source": [
    "Define the folder containing the linedata."
   ]
  },
  {
   "cell_type": "code",
   "execution_count": 14,
   "metadata": {},
   "outputs": [],
   "source": [
    "linedataFolder = f'{thisFolder}/data/Linedata/test.txt'"
   ]
  },
  {
   "cell_type": "markdown",
   "metadata": {},
   "source": [
    "Define the linedata."
   ]
  },
  {
   "cell_type": "code",
   "execution_count": 15,
   "metadata": {},
   "outputs": [],
   "source": [
    "model.lines.lineProducingSpecies.append (linedata_from_LAMDA_file (linedataFolder, model.chemistry.species))"
   ]
  },
  {
   "cell_type": "markdown",
   "metadata": {},
   "source": [
    "Define the quadrature roots and weights."
   ]
  },
  {
   "cell_type": "code",
   "execution_count": 16,
   "metadata": {},
   "outputs": [],
   "source": [
    "import quadrature\n",
    "\n",
    "model.lines.lineProducingSpecies[0].quadrature.roots   = Double1 (quadrature.H_roots   (nquads))\n",
    "model.lines.lineProducingSpecies[0].quadrature.weights = Double1 (quadrature.H_weights (nquads))"
   ]
  },
  {
   "cell_type": "markdown",
   "metadata": {},
   "source": [
    "## 2) Write input file\n",
    "---"
   ]
  },
  {
   "cell_type": "code",
   "execution_count": 17,
   "metadata": {},
   "outputs": [],
   "source": [
    "#from ioMagritte import IoPython\n",
    "from ioMagritte import IoText\n",
    "#from os         import remove\n",
    "from setup      import make_file_structure\n",
    "from shutil     import rmtree"
   ]
  },
  {
   "cell_type": "code",
   "execution_count": 2,
   "metadata": {},
   "outputs": [
    {
     "ename": "NameError",
     "evalue": "name 'thisFolder' is not defined",
     "output_type": "error",
     "traceback": [
      "\u001b[0;31m---------------------------------------------------------------------------\u001b[0m",
      "\u001b[0;31mNameError\u001b[0m                                 Traceback (most recent call last)",
      "\u001b[0;32m<ipython-input-2-82dd8b7f0082>\u001b[0m in \u001b[0;36m<module>\u001b[0;34m\u001b[0m\n\u001b[0;32m----> 1\u001b[0;31m \u001b[0mmodelName\u001b[0m \u001b[0;34m=\u001b[0m \u001b[0;34mf'{thisFolder}/model_0_1D_all_constant/'\u001b[0m\u001b[0;34m\u001b[0m\u001b[0;34m\u001b[0m\u001b[0m\n\u001b[0m",
      "\u001b[0;31mNameError\u001b[0m: name 'thisFolder' is not defined"
     ]
    }
   ],
   "source": [
    "modelName = f'{thisFolder}/model_0_1D_all_constant/'"
   ]
  },
  {
   "cell_type": "markdown",
   "metadata": {},
   "source": [
    "Define an io object to handle input and output. (In this case via Python using HDF5.)"
   ]
  },
  {
   "cell_type": "code",
   "execution_count": 19,
   "metadata": {},
   "outputs": [],
   "source": [
    "io = IoText (modelName)"
   ]
  },
  {
   "cell_type": "code",
   "execution_count": 1,
   "metadata": {},
   "outputs": [],
   "source": [
    "#remove(modelName)\n",
    "try:\n",
    "    rmtree(modelName)\n",
    "except:\n",
    "    pass"
   ]
  },
  {
   "cell_type": "code",
   "execution_count": 21,
   "metadata": {},
   "outputs": [],
   "source": [
    "make_file_structure (modelName)"
   ]
  },
  {
   "cell_type": "code",
   "execution_count": 22,
   "metadata": {},
   "outputs": [
    {
     "data": {
      "text/plain": [
       "0"
      ]
     },
     "execution_count": 22,
     "metadata": {},
     "output_type": "execute_result"
    }
   ],
   "source": [
    "model.write (io)"
   ]
  },
  {
   "cell_type": "code",
   "execution_count": null,
   "metadata": {},
   "outputs": [],
   "source": []
  }
 ],
 "metadata": {
  "kernelspec": {
   "display_name": "Python 3",
   "language": "python",
   "name": "python3"
  },
  "language_info": {
   "codemirror_mode": {
    "name": "ipython",
    "version": 3
   },
   "file_extension": ".py",
   "mimetype": "text/x-python",
   "name": "python",
   "nbconvert_exporter": "python",
   "pygments_lexer": "ipython3",
   "version": "3.7.3"
  }
 },
 "nbformat": 4,
 "nbformat_minor": 2
}

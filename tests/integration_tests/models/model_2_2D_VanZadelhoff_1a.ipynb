{
 "cells": [
  {
   "cell_type": "markdown",
   "metadata": {},
   "source": [
    "# van Zadelhoff et al. (2002) benchmark problem 1a\n",
    "---"
   ]
  },
  {
   "cell_type": "markdown",
   "metadata": {},
   "source": [
    "## 0) Setup\n",
    "---"
   ]
  },
  {
   "cell_type": "markdown",
   "metadata": {},
   "source": [
    "Add Magritte's `/setup/` and `/bin/` directories to the Python path."
   ]
  },
  {
   "cell_type": "code",
   "execution_count": 1,
   "metadata": {},
   "outputs": [],
   "source": [
    "from sys import path\n",
    "path.insert (0, '../../../setup/')\n",
    "path.insert (0, '../../../bin/')"
   ]
  },
  {
   "cell_type": "markdown",
   "metadata": {},
   "source": [
    "Import Magritte's Python modules and setup."
   ]
  },
  {
   "cell_type": "code",
   "execution_count": 2,
   "metadata": {},
   "outputs": [],
   "source": [
    "from magritte import Model, Long1, Long2, Double1, Double2, String1\n",
    "\n",
    "from setup import Setup, linedata_from_LAMDA_file"
   ]
  },
  {
   "cell_type": "markdown",
   "metadata": {},
   "source": [
    "## 1) Define model\n",
    "---"
   ]
  },
  {
   "cell_type": "markdown",
   "metadata": {},
   "source": [
    "Problem 1a in the van Zadelhoff et al. (2002) benchmark considers a model with a ficticious 2-level species in a spherically symmetric geometry where only the density varies with the radius and all other quantities are constant."
   ]
  },
  {
   "cell_type": "markdown",
   "metadata": {},
   "source": [
    "\\begin{align}\n",
    "\\rho(r)  \\ &= \\ \\rho_{\\text{in}} \\ \\left(\\frac{r_{\\text{in}}}{r}\\right)^{2} \\\\\n",
    "n_{i}(r) \\ &= \\ X_{\\text{mol}} \\ \\rho(r)                                    \\\\\n",
    "\\end{align}"
   ]
  },
  {
   "cell_type": "markdown",
   "metadata": {},
   "source": [
    "All constants are given by"
   ]
  },
  {
   "cell_type": "markdown",
   "metadata": {},
   "source": [
    "\\begin{align}\n",
    "r_{\\text{in}}    \\ &= \\ 1.0 \\times 10^{13} \\ \\text{m}      \\\\\n",
    "r_{\\text{out}}   \\ &= \\ 7.8 \\times 10^{16} \\ \\text{m}      \\\\\n",
    "\\rho_{\\text{in}} \\ &= \\ 2.0 \\times 10^{13} \\ \\text{m}^{-3} \\\\\n",
    "X_{\\text{mol}}   \\ &= \\ 10^{-8}                            \\\\\n",
    "T(r)             \\ &= \\ 20 \\ \\text{K} \\\\\n",
    "\\end{align}"
   ]
  },
  {
   "cell_type": "markdown",
   "metadata": {},
   "source": [
    "Define helper quantities for the model."
   ]
  },
  {
   "cell_type": "code",
   "execution_count": 3,
   "metadata": {},
   "outputs": [],
   "source": [
    "r_in   = 1.0E13   # [m]\n",
    "r_out  = 7.8E16   # [m]\n",
    "\n",
    "rho_in = 2.0E13    # [m^-3]\n",
    "X_mol  = 1.0E-8   # [.]\n",
    "\n",
    "T      = 20.0     # [K]\n",
    "\n",
    "turb   = 150.0    # [m/s]"
   ]
  },
  {
   "cell_type": "code",
   "execution_count": 4,
   "metadata": {},
   "outputs": [],
   "source": [
    "def rho (r):\n",
    "    if (r >= r_in):\n",
    "        return rho_in * np.power(r_in/r,     2.0)\n",
    "    else:\n",
    "        return rho_in * np.power(r_in/r_out, 2.0)\n",
    "\n",
    "def abn (r):\n",
    "    return X_mol * rho(r)"
   ]
  },
  {
   "cell_type": "code",
   "execution_count": 5,
   "metadata": {},
   "outputs": [],
   "source": [
    "dimension = 1\n",
    "ncells    = 25\n",
    "nrays     = 2\n",
    "nspecs    = 5\n",
    "nlspecs   = 1\n",
    "nquads    = 21"
   ]
  },
  {
   "cell_type": "code",
   "execution_count": 6,
   "metadata": {},
   "outputs": [],
   "source": [
    "import numpy as np\n",
    "\n",
    "base = 10\n",
    "\n",
    "log_r_in  = np.log(r_in)       / np.log(base)\n",
    "log_r_out = np.log(r_out)      / np.log(base)\n",
    "\n",
    "grid = np.logspace (log_r_in, log_r_out, ncells, base=base, endpoint=True)\n",
    "# grid = np.linspace (r_in, r_out, ncells, endpoint=True)"
   ]
  },
  {
   "cell_type": "code",
   "execution_count": 7,
   "metadata": {},
   "outputs": [],
   "source": [
    "setup = Setup (dimension = dimension)"
   ]
  },
  {
   "cell_type": "markdown",
   "metadata": {},
   "source": [
    "Create a Magritte model object."
   ]
  },
  {
   "cell_type": "code",
   "execution_count": 8,
   "metadata": {},
   "outputs": [],
   "source": [
    "model1D = Model ()"
   ]
  },
  {
   "cell_type": "markdown",
   "metadata": {},
   "source": [
    "Define model parameters."
   ]
  },
  {
   "cell_type": "code",
   "execution_count": 9,
   "metadata": {},
   "outputs": [],
   "source": [
    "model1D.parameters.set_ncells  (ncells)\n",
    "model1D.parameters.set_nrays   (nrays)\n",
    "model1D.parameters.set_nspecs  (nspecs)\n",
    "model1D.parameters.set_nlspecs (nlspecs)\n",
    "model1D.parameters.set_nquads  (nquads)"
   ]
  },
  {
   "cell_type": "markdown",
   "metadata": {},
   "source": [
    "Define geometry. First define cells."
   ]
  },
  {
   "cell_type": "code",
   "execution_count": 10,
   "metadata": {},
   "outputs": [],
   "source": [
    "model1D.geometry.cells.x  = Double1 (grid)\n",
    "model1D.geometry.cells.y  = Double1 ([0.0 for i in range(ncells)])\n",
    "model1D.geometry.cells.z  = Double1 ([0.0 for i in range(ncells)])\n",
    "\n",
    "model1D.geometry.cells.vx = Double1 ([0.0 for i in range(ncells)])\n",
    "model1D.geometry.cells.vy = Double1 ([0.0 for i in range(ncells)])\n",
    "model1D.geometry.cells.vz = Double1 ([0.0 for i in range(ncells)])\n",
    "\n",
    "# Note that the points need to be specified before neighbors can be found\n",
    "model1D.geometry.cells = setup.neighborLists (model1D.geometry.cells)"
   ]
  },
  {
   "cell_type": "markdown",
   "metadata": {},
   "source": [
    "Then define the boundary of the geometry."
   ]
  },
  {
   "cell_type": "code",
   "execution_count": 11,
   "metadata": {},
   "outputs": [],
   "source": [
    "model1D.geometry.boundary.boundary2cell_nr = Long1 ([0, ncells-1])"
   ]
  },
  {
   "cell_type": "markdown",
   "metadata": {},
   "source": [
    "Finally, define the rays for the geometry."
   ]
  },
  {
   "cell_type": "code",
   "execution_count": 12,
   "metadata": {},
   "outputs": [],
   "source": [
    "model1D.geometry.rays = setup.rays (nrays=nrays, cells=model1D.geometry.cells)"
   ]
  },
  {
   "cell_type": "markdown",
   "metadata": {},
   "source": [
    "Define thermodynamics."
   ]
  },
  {
   "cell_type": "code",
   "execution_count": 13,
   "metadata": {},
   "outputs": [],
   "source": [
    "model1D.thermodynamics.temperature.gas   = Double1 ([T    for i in range(ncells)])\n",
    "model1D.thermodynamics.turbulence.vturb2 = Double1 ([turb for i in range(ncells)])"
   ]
  },
  {
   "cell_type": "markdown",
   "metadata": {},
   "source": [
    "Define the chemical species involved."
   ]
  },
  {
   "cell_type": "code",
   "execution_count": 14,
   "metadata": {},
   "outputs": [],
   "source": [
    "model1D.chemistry.species.abundance = Double2 ([ Double1 ([0.0, abn(r), rho(r), 0.0, 1.0]) for r in grid])\n",
    "model1D.chemistry.species.sym       = String1 (['dummy0', 'test', 'H2', 'e-', 'dummy1'])"
   ]
  },
  {
   "cell_type": "markdown",
   "metadata": {},
   "source": [
    "Define the folder containing the linedata."
   ]
  },
  {
   "cell_type": "code",
   "execution_count": 15,
   "metadata": {},
   "outputs": [],
   "source": [
    "linedataFolder = 'data/Linedata/test.txt'"
   ]
  },
  {
   "cell_type": "markdown",
   "metadata": {},
   "source": [
    "Define the linedata."
   ]
  },
  {
   "cell_type": "code",
   "execution_count": 16,
   "metadata": {},
   "outputs": [],
   "source": [
    "model1D.lines.lineProducingSpecies.append (linedata_from_LAMDA_file (linedataFolder, model1D.chemistry.species))"
   ]
  },
  {
   "cell_type": "markdown",
   "metadata": {},
   "source": [
    "Define the quadrature roots and weights."
   ]
  },
  {
   "cell_type": "code",
   "execution_count": 17,
   "metadata": {},
   "outputs": [],
   "source": [
    "import quadrature\n",
    "\n",
    "model1D.lines.lineProducingSpecies[0].quadrature.roots   = Double1 (quadrature.H_roots   (nquads))\n",
    "model1D.lines.lineProducingSpecies[0].quadrature.weights = Double1 (quadrature.H_weights (nquads))"
   ]
  },
  {
   "cell_type": "markdown",
   "metadata": {},
   "source": [
    "## 1.2) Map to 2D\n",
    "---"
   ]
  },
  {
   "cell_type": "code",
   "execution_count": 18,
   "metadata": {},
   "outputs": [],
   "source": [
    "dimension = 2\n",
    "nrays     = 1500"
   ]
  },
  {
   "cell_type": "code",
   "execution_count": 19,
   "metadata": {},
   "outputs": [],
   "source": [
    "def number_of_points_in_shell (s):\n",
    "    return int(6+2.0*np.pi*np.log(s+1))"
   ]
  },
  {
   "cell_type": "code",
   "execution_count": 20,
   "metadata": {},
   "outputs": [],
   "source": [
    "cellsInShell = []\n",
    "index        = 0\n",
    "\n",
    "for s in range (ncells):\n",
    "    cellsInShell.append ([])\n",
    "    for _ in range (number_of_points_in_shell(s)):\n",
    "        cellsInShell[s].append (index)\n",
    "        index += 1"
   ]
  },
  {
   "cell_type": "code",
   "execution_count": 21,
   "metadata": {},
   "outputs": [],
   "source": [
    "from mapModel import mapToXD\n",
    "\n",
    "model = mapToXD (model1D=model1D, dimension=dimension, nrays=nrays, cellsInShell=cellsInShell)"
   ]
  },
  {
   "cell_type": "code",
   "execution_count": 22,
   "metadata": {},
   "outputs": [
    {
     "name": "stdout",
     "output_type": "stream",
     "text": [
      "ncells = 504\n"
     ]
    }
   ],
   "source": [
    "print('ncells =', model.parameters.ncells())"
   ]
  },
  {
   "cell_type": "markdown",
   "metadata": {},
   "source": [
    "## 2) Write model file\n",
    "---"
   ]
  },
  {
   "cell_type": "code",
   "execution_count": 23,
   "metadata": {},
   "outputs": [],
   "source": [
    "#from ioMagritte import IoPython\n",
    "from ioMagritte import IoText\n",
    "#from os         import remove\n",
    "from setup      import make_file_structure\n",
    "from shutil     import rmtree"
   ]
  },
  {
   "cell_type": "code",
   "execution_count": 24,
   "metadata": {},
   "outputs": [],
   "source": [
    "#modelName = f'{ProjectFolder}model_problem_1a.hdf5'\n",
    "modelName = 'model_2_2D_VanZadelhoff_1a/'"
   ]
  },
  {
   "cell_type": "markdown",
   "metadata": {},
   "source": [
    "Remove old model."
   ]
  },
  {
   "cell_type": "code",
   "execution_count": 25,
   "metadata": {},
   "outputs": [],
   "source": [
    "#remove(modelName)\n",
    "rmtree(modelName)"
   ]
  },
  {
   "cell_type": "markdown",
   "metadata": {},
   "source": [
    "Define an io object to handle input and output. (In this case via Python using HDF5.)"
   ]
  },
  {
   "cell_type": "code",
   "execution_count": 26,
   "metadata": {},
   "outputs": [],
   "source": [
    "#io = IoPython (\"hdf5\", modelName)\n",
    "io = IoText (modelName)"
   ]
  },
  {
   "cell_type": "code",
   "execution_count": 27,
   "metadata": {},
   "outputs": [],
   "source": [
    "make_file_structure (modelName)"
   ]
  },
  {
   "cell_type": "code",
   "execution_count": 28,
   "metadata": {},
   "outputs": [
    {
     "data": {
      "text/plain": [
       "0"
      ]
     },
     "execution_count": 28,
     "metadata": {},
     "output_type": "execute_result"
    }
   ],
   "source": [
    "model.write (io)"
   ]
  },
  {
   "cell_type": "code",
   "execution_count": null,
   "metadata": {},
   "outputs": [],
   "source": []
  }
 ],
 "metadata": {
  "kernelspec": {
   "display_name": "Python 3",
   "language": "python",
   "name": "python3"
  },
  "language_info": {
   "codemirror_mode": {
    "name": "ipython",
    "version": 3
   },
   "file_extension": ".py",
   "mimetype": "text/x-python",
   "name": "python",
   "nbconvert_exporter": "python",
   "pygments_lexer": "ipython3",
   "version": "3.7.3"
  }
 },
 "nbformat": 4,
 "nbformat_minor": 2
}

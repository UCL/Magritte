{
 "cells": [
  {
   "cell_type": "markdown",
   "metadata": {},
   "source": [
    "# Tests for `RayPair`\n",
    "---\n",
    "---\n",
    "---"
   ]
  },
  {
   "cell_type": "markdown",
   "metadata": {},
   "source": [
    "**Note:** For these tests the Magritte python bindings should be compiled without Grid-SIMD vectoriztion."
   ]
  },
  {
   "cell_type": "code",
   "execution_count": 1,
   "metadata": {},
   "outputs": [],
   "source": [
    "import numpy             as np\n",
    "import matplotlib.pyplot as plt"
   ]
  },
  {
   "cell_type": "markdown",
   "metadata": {},
   "source": [
    "Load the relevant Magritte modules"
   ]
  },
  {
   "cell_type": "code",
   "execution_count": 2,
   "metadata": {},
   "outputs": [],
   "source": [
    "from sys import path\n",
    "path.insert (0, '../../bin/')"
   ]
  },
  {
   "cell_type": "code",
   "execution_count": 3,
   "metadata": {},
   "outputs": [],
   "source": [
    "from magritte import RayPair, vreal"
   ]
  },
  {
   "cell_type": "markdown",
   "metadata": {},
   "source": [
    "## Tests for `RayPair :: solve`\n",
    "---\n",
    "---"
   ]
  },
  {
   "cell_type": "code",
   "execution_count": 4,
   "metadata": {},
   "outputs": [],
   "source": [
    "def eta (z):\n",
    "    return 1.0"
   ]
  },
  {
   "cell_type": "code",
   "execution_count": 5,
   "metadata": {},
   "outputs": [],
   "source": [
    "def chi (z):\n",
    "    return 0.3"
   ]
  },
  {
   "cell_type": "code",
   "execution_count": 6,
   "metadata": {},
   "outputs": [],
   "source": [
    "def dZ (d):\n",
    "    return 0.1"
   ]
  },
  {
   "cell_type": "markdown",
   "metadata": {},
   "source": [
    "---"
   ]
  },
  {
   "cell_type": "code",
   "execution_count": 7,
   "metadata": {},
   "outputs": [],
   "source": [
    "def Z (d):\n",
    "    Z = 0\n",
    "    for i in range(d):\n",
    "        Z += dZ(d)\n",
    "    return Z"
   ]
  },
  {
   "cell_type": "markdown",
   "metadata": {},
   "source": [
    "---"
   ]
  },
  {
   "cell_type": "markdown",
   "metadata": {},
   "source": [
    "### Setup"
   ]
  },
  {
   "cell_type": "code",
   "execution_count": 8,
   "metadata": {},
   "outputs": [],
   "source": [
    "n_r  = 4\n",
    "n_ar = 4"
   ]
  },
  {
   "cell_type": "code",
   "execution_count": 9,
   "metadata": {},
   "outputs": [],
   "source": [
    "n = n_r + n_ar + 1   # number of points on the ray. (= rayPair.ndep)"
   ]
  },
  {
   "cell_type": "code",
   "execution_count": 10,
   "metadata": {},
   "outputs": [],
   "source": [
    "n_off_diag = 3"
   ]
  },
  {
   "cell_type": "code",
   "execution_count": 11,
   "metadata": {},
   "outputs": [],
   "source": [
    "rayPair = RayPair (n, n_off_diag)"
   ]
  },
  {
   "cell_type": "code",
   "execution_count": 12,
   "metadata": {},
   "outputs": [],
   "source": [
    "rayPair.initialize (n_r, n_ar)"
   ]
  },
  {
   "cell_type": "code",
   "execution_count": 13,
   "metadata": {},
   "outputs": [
    {
     "ename": "TypeError",
     "evalue": "set_term1_and_term2(): incompatible function arguments. The following argument types are supported:\n    1. (self: magritte.RayPair, arg0: Grid::Grid_simd<double, double __vector(4)>, arg1: Grid::Grid_simd<double, double __vector(4)>, arg2: int) -> None\n\nInvoked with: <magritte.RayPair object at 0x7f03d3c8cc30>, 1.0, 0.3, 0",
     "output_type": "error",
     "traceback": [
      "\u001b[0;31m---------------------------------------------------------------------------\u001b[0m",
      "\u001b[0;31mTypeError\u001b[0m                                 Traceback (most recent call last)",
      "\u001b[0;32m<ipython-input-13-b0d6ebbdbaa1>\u001b[0m in \u001b[0;36m<module>\u001b[0;34m\u001b[0m\n\u001b[1;32m      1\u001b[0m \u001b[0;32mfor\u001b[0m \u001b[0md\u001b[0m \u001b[0;32min\u001b[0m \u001b[0mrange\u001b[0m\u001b[0;34m(\u001b[0m\u001b[0;36m0\u001b[0m\u001b[0;34m,\u001b[0m \u001b[0mn\u001b[0m\u001b[0;34m)\u001b[0m\u001b[0;34m:\u001b[0m\u001b[0;34m\u001b[0m\u001b[0;34m\u001b[0m\u001b[0m\n\u001b[0;32m----> 2\u001b[0;31m     \u001b[0mrayPair\u001b[0m\u001b[0;34m.\u001b[0m\u001b[0mset_term1_and_term2\u001b[0m \u001b[0;34m(\u001b[0m\u001b[0meta\u001b[0m\u001b[0;34m(\u001b[0m\u001b[0mZ\u001b[0m\u001b[0;34m(\u001b[0m\u001b[0md\u001b[0m\u001b[0;34m)\u001b[0m\u001b[0;34m)\u001b[0m\u001b[0;34m,\u001b[0m \u001b[0mchi\u001b[0m\u001b[0;34m(\u001b[0m\u001b[0mZ\u001b[0m\u001b[0;34m(\u001b[0m\u001b[0md\u001b[0m\u001b[0;34m)\u001b[0m\u001b[0;34m)\u001b[0m\u001b[0;34m,\u001b[0m \u001b[0md\u001b[0m\u001b[0;34m)\u001b[0m\u001b[0;34m\u001b[0m\u001b[0;34m\u001b[0m\u001b[0m\n\u001b[0m",
      "\u001b[0;31mTypeError\u001b[0m: set_term1_and_term2(): incompatible function arguments. The following argument types are supported:\n    1. (self: magritte.RayPair, arg0: Grid::Grid_simd<double, double __vector(4)>, arg1: Grid::Grid_simd<double, double __vector(4)>, arg2: int) -> None\n\nInvoked with: <magritte.RayPair object at 0x7f03d3c8cc30>, 1.0, 0.3, 0"
     ]
    }
   ],
   "source": [
    "for d in range(0, n):\n",
    "    rayPair.set_term1_and_term2 (eta(Z(d)), chi(Z(d)), d)"
   ]
  },
  {
   "cell_type": "code",
   "execution_count": 14,
   "metadata": {},
   "outputs": [
    {
     "ename": "TypeError",
     "evalue": "set_term1_and_term2(): incompatible function arguments. The following argument types are supported:\n    1. (self: magritte.RayPair, arg0: Grid::Grid_simd<double, double __vector(4)>, arg1: Grid::Grid_simd<double, double __vector(4)>, arg2: int) -> None\n\nInvoked with: <magritte.RayPair object at 0x7f03d3c8cc30>, 0.1, 0.1, 0",
     "output_type": "error",
     "traceback": [
      "\u001b[0;31m---------------------------------------------------------------------------\u001b[0m",
      "\u001b[0;31mTypeError\u001b[0m                                 Traceback (most recent call last)",
      "\u001b[0;32m<ipython-input-14-cf03382d4dc6>\u001b[0m in \u001b[0;36m<module>\u001b[0;34m\u001b[0m\n\u001b[1;32m      1\u001b[0m \u001b[0;32mfor\u001b[0m \u001b[0md\u001b[0m \u001b[0;32min\u001b[0m \u001b[0mrange\u001b[0m\u001b[0;34m(\u001b[0m\u001b[0;36m0\u001b[0m\u001b[0;34m,\u001b[0m \u001b[0mn\u001b[0m\u001b[0;34m)\u001b[0m\u001b[0;34m:\u001b[0m\u001b[0;34m\u001b[0m\u001b[0;34m\u001b[0m\u001b[0m\n\u001b[0;32m----> 2\u001b[0;31m     \u001b[0mrayPair\u001b[0m\u001b[0;34m.\u001b[0m\u001b[0mset_term1_and_term2\u001b[0m \u001b[0;34m(\u001b[0m\u001b[0;36m0.1\u001b[0m\u001b[0;34m,\u001b[0m \u001b[0;36m0.1\u001b[0m\u001b[0;34m,\u001b[0m \u001b[0md\u001b[0m\u001b[0;34m)\u001b[0m\u001b[0;34m\u001b[0m\u001b[0;34m\u001b[0m\u001b[0m\n\u001b[0m",
      "\u001b[0;31mTypeError\u001b[0m: set_term1_and_term2(): incompatible function arguments. The following argument types are supported:\n    1. (self: magritte.RayPair, arg0: Grid::Grid_simd<double, double __vector(4)>, arg1: Grid::Grid_simd<double, double __vector(4)>, arg2: int) -> None\n\nInvoked with: <magritte.RayPair object at 0x7f03d3c8cc30>, 0.1, 0.1, 0"
     ]
    }
   ],
   "source": [
    "for d in range(0, n):\n",
    "    rayPair.set_term1_and_term2 (0.1, 0.1, d)"
   ]
  },
  {
   "cell_type": "code",
   "execution_count": 25,
   "metadata": {},
   "outputs": [],
   "source": [
    "for d in range(1, n):\n",
    "    rayPair.set_dtau (chi(Z(d)), chi(Z(d-1)), dZ(d), d-1)"
   ]
  },
  {
   "cell_type": "code",
   "execution_count": 26,
   "metadata": {},
   "outputs": [],
   "source": [
    "rayPair.I_bdy_0 = 0.0\n",
    "rayPair.I_bdy_n = 0.0"
   ]
  },
  {
   "cell_type": "markdown",
   "metadata": {},
   "source": [
    "### Solve"
   ]
  },
  {
   "cell_type": "code",
   "execution_count": 27,
   "metadata": {},
   "outputs": [],
   "source": [
    "rayPair.solve()"
   ]
  },
  {
   "cell_type": "markdown",
   "metadata": {},
   "source": [
    "### Tests"
   ]
  },
  {
   "cell_type": "markdown",
   "metadata": {},
   "source": [
    "Construct `T`-matrix (defined in Fautrier's equation $\\text{T} u = S$) from information in RayPair."
   ]
  },
  {
   "cell_type": "code",
   "execution_count": 28,
   "metadata": {},
   "outputs": [
    {
     "name": "stdout",
     "output_type": "stream",
     "text": [
      "[[0.00749989 0.01455652 0.01412637 0.01370893 0.01330382 0.00645535]\n",
      " [0.00727826 0.01499977 0.01455652 0.01412636 0.01370892 0.00665191]\n",
      " [0.00706318 0.01455652 0.01499977 0.01455651 0.01412636 0.00685446]\n",
      " [0.00685446 0.01412636 0.01455651 0.01499977 0.01455652 0.00706318]\n",
      " [0.00665191 0.01370892 0.01412636 0.01455652 0.01499977 0.00727826]\n",
      " [0.00645535 0.01330382 0.01370893 0.01412637 0.01455652 0.00749989]]\n"
     ]
    }
   ],
   "source": [
    "T = np.zeros((n, n))\n",
    "\n",
    "for d in range(1, n):\n",
    "    T[d,d-1] = -rayPair.A[d  ]\n",
    "    T[d-1,d] = -rayPair.C[d-1]\n",
    "    \n",
    "for d in range(1, n-1):\n",
    "    T[d,d] = 1.0 + rayPair.A[d] + rayPair.C[d]\n",
    "    \n",
    "T[  0,   0] = 1.0 + 2.0 / rayPair.dtau[  0] + 2.0 / rayPair.dtau[  0] / rayPair.dtau[  0]\n",
    "T[n-1, n-1] = 1.0 + 2.0 / rayPair.dtau[n-2] + 2.0 / rayPair.dtau[n-2] / rayPair.dtau[n-2]\n",
    "\n",
    "print(np.linalg.inv(T))"
   ]
  },
  {
   "cell_type": "code",
   "execution_count": 29,
   "metadata": {},
   "outputs": [
    {
     "name": "stdout",
     "output_type": "stream",
     "text": [
      "[[0.00749989 0.01455652 0.01412637 0.01370893 0.         0.        ]\n",
      " [0.00727826 0.01499977 0.01455652 0.01412636 0.01370892 0.        ]\n",
      " [0.00706318 0.01455652 0.01499977 0.01455651 0.01412636 0.00685446]\n",
      " [0.00685446 0.01412636 0.01455651 0.01499977 0.01455652 0.00706318]\n",
      " [0.         0.01370892 0.01412636 0.01455652 0.01499977 0.00727826]\n",
      " [0.         0.         0.01370893 0.01412637 0.01455652 0.00749989]]\n"
     ]
    }
   ],
   "source": [
    "L = np.zeros((n, n))\n",
    "\n",
    "for d in range(n):\n",
    "    L[d,d] = rayPair.L_diag[d]\n",
    "    \n",
    "for m in range(n_off_diag):\n",
    "    for d in range(n-m-1):\n",
    "        L[d,m+1+d] = rayPair.L_upper[m][d]\n",
    "        L[m+1+d,d] = rayPair.L_lower[m][d]\n",
    "\n",
    "print(L)"
   ]
  },
  {
   "cell_type": "code",
   "execution_count": 30,
   "metadata": {},
   "outputs": [
    {
     "data": {
      "text/plain": [
       "[<matplotlib.lines.Line2D at 0x7fac8373b850>]"
      ]
     },
     "execution_count": 30,
     "metadata": {},
     "output_type": "execute_result"
    },
    {
     "data": {
      "image/png": "[encoded data removed]",
      "text/plain": [
       "<Figure size 432x288 with 1 Axes>"
      ]
     },
     "metadata": {
      "needs_background": "light"
     },
     "output_type": "display_data"
    }
   ],
   "source": [
    "plt.plot(rayPair.Su)"
   ]
  },
  {
   "cell_type": "code",
   "execution_count": null,
   "metadata": {},
   "outputs": [],
   "source": []
  },
  {
   "cell_type": "code",
   "execution_count": null,
   "metadata": {},
   "outputs": [],
   "source": []
  },
  {
   "cell_type": "code",
   "execution_count": null,
   "metadata": {},
   "outputs": [],
   "source": []
  },
  {
   "cell_type": "code",
   "execution_count": null,
   "metadata": {},
   "outputs": [],
   "source": []
  },
  {
   "cell_type": "code",
   "execution_count": null,
   "metadata": {},
   "outputs": [],
   "source": []
  }
 ],
 "metadata": {
  "kernelspec": {
   "display_name": "Python 3",
   "language": "python",
   "name": "python3"
  },
  "language_info": {
   "codemirror_mode": {
    "name": "ipython",
    "version": 3
   },
   "file_extension": ".py",
   "mimetype": "text/x-python",
   "name": "python",
   "nbconvert_exporter": "python",
   "pygments_lexer": "ipython3",
   "version": "3.7.3"
  }
 },
 "nbformat": 4,
 "nbformat_minor": 4
}

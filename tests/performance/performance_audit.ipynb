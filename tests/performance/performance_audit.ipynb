{
 "cells": [
  {
   "cell_type": "markdown",
   "metadata": {},
   "source": [
    "# Magritte Performance audit\n",
    "---"
   ]
  },
  {
   "cell_type": "code",
   "execution_count": 1,
   "metadata": {},
   "outputs": [],
   "source": [
    "import os, inspect\n",
    "thisFolder     = os.path.dirname(os.path.abspath(inspect.getfile(inspect.currentframe())))\n",
    "magritteFolder = f'{thisFolder}/../../'"
   ]
  },
  {
   "cell_type": "markdown",
   "metadata": {},
   "source": [
    "Instrument Magritte using Score-P. This requires recompiling (rebuilding). First make sure the build directory is clean."
   ]
  },
  {
   "cell_type": "code",
   "execution_count": 2,
   "metadata": {},
   "outputs": [
    {
     "name": "stdout",
     "output_type": "stream",
     "text": [
      "Removing entire build directory...\n",
      "Done.\n"
     ]
    }
   ],
   "source": [
    "! bash ../../build.sh clean"
   ]
  },
  {
   "cell_type": "markdown",
   "metadata": {},
   "source": [
    "Now Magritte can be build in `performance_audit` mode."
   ]
  },
  {
   "cell_type": "code",
   "execution_count": 3,
   "metadata": {},
   "outputs": [],
   "source": [
    "SCOREP_FOLDER = f'{magritteFolder}/dependencies/scorep/installed/bin/'"
   ]
  },
  {
   "cell_type": "code",
   "execution_count": 4,
   "metadata": {},
   "outputs": [],
   "source": [
    "! mkdir build\n",
    "! cd build"
   ]
  },
  {
   "cell_type": "code",
   "execution_count": 5,
   "metadata": {},
   "outputs": [
    {
     "name": "stdout",
     "output_type": "stream",
     "text": [
      "/bin/sh: 1: build/cmake: not found\n"
     ]
    }
   ],
   "source": [
    "! SCOREP_WRAPPER=off                                \\\n",
    "  cmake                                             \\\n",
    "    -DPERF_ANALYSIS=ON                              \\\n",
    "    -DCMAKE_C_COMPILER=$SCOREP_FOLDER/scorep-gcc    \\\n",
    "    -DCMAKE_CXX_COMPILER=$SCOREP_FOLDER/scorep-g++  \\\n",
    "    -DOMP_PARALLEL=OFF                              \\\n",
    "    -DMPI_PARALLEL=OFF                              \\\n",
    "    -DGRID_SIMD=OFF                                 \\\n",
    "    $magritteFolder"
   ]
  },
  {
   "cell_type": "code",
   "execution_count": null,
   "metadata": {},
   "outputs": [],
   "source": [
    "! make"
   ]
  },
  {
   "cell_type": "code",
   "execution_count": 3,
   "metadata": {},
   "outputs": [
    {
     "name": "stdout",
     "output_type": "stream",
     "text": [
      "Building Magritte with Score-P instrumentation...\n",
      "-------------------------------------------------\n",
      "mkdir: cannot create directory ‘build’: File exists\n",
      "-- Configuring done\n",
      "-- Generating done\n",
      "-- Build files have been written to: /home/frederik/Dropbox/Astro/Magritte/tests/performance/build\n",
      "[ 79%] Built target _Magritte\n",
      "[ 86%] Built target TestMain\n",
      "[ 93%] Built target example_1.exe\n",
      "[100%] Built target example_2.exe\n",
      "-----\n",
      "Done.\n"
     ]
    }
   ],
   "source": [
    "! bash ../../build.sh performance_audit"
   ]
  },
  {
   "cell_type": "markdown",
   "metadata": {},
   "source": [
    "Magritte example executable"
   ]
  },
  {
   "cell_type": "code",
   "execution_count": 15,
   "metadata": {},
   "outputs": [],
   "source": [
    "EXECUTABLE = \"../../bin/tests/performance/examples/example_2.exe\""
   ]
  },
  {
   "cell_type": "code",
   "execution_count": 18,
   "metadata": {},
   "outputs": [
    {
     "name": "stdout",
     "output_type": "stream",
     "text": [
      "\tlinux-vdso.so.1 (0x00007ffc70359000)\n",
      "\tlibdl.so.2 => /lib/x86_64-linux-gnu/libdl.so.2 (0x00007f511b826000)\n",
      "\tlibz.so.1 => /lib/x86_64-linux-gnu/libz.so.1 (0x00007f511b609000)\n",
      "\tlibstdc++.so.6 => /usr/lib/x86_64-linux-gnu/libstdc++.so.6 (0x00007f511b280000)\n",
      "\tlibm.so.6 => /lib/x86_64-linux-gnu/libm.so.6 (0x00007f511aee2000)\n",
      "\tlibgcc_s.so.1 => /lib/x86_64-linux-gnu/libgcc_s.so.1 (0x00007f511acca000)\n",
      "\tlibc.so.6 => /lib/x86_64-linux-gnu/libc.so.6 (0x00007f511a8d9000)\n",
      "\t/lib64/ld-linux-x86-64.so.2 (0x00005584ca632000)\n"
     ]
    }
   ],
   "source": [
    "! ldd $EXECUTABLE"
   ]
  },
  {
   "cell_type": "code",
   "execution_count": 8,
   "metadata": {},
   "outputs": [],
   "source": [
    "MODEL_FILE = f'{curdir}/models/model_2_2D_VanZadelhoff_1a/'\n",
    "\n",
    "# Number of processes and threads\n",
    "N_PROCS = 1\n",
    "N_THRDS = 1\n",
    "\n",
    "# Flag for shared memory systems\n",
    "FLAGS = \"-env I_MPI_SHM_LMT shm\"\n",
    "\n",
    "# Path to Magritte executable\n",
    "EXECUTABLE = \"../../bin/tests/performance/examples/example_2.exe\""
   ]
  },
  {
   "cell_type": "markdown",
   "metadata": {},
   "source": [
    "Set number of threads"
   ]
  },
  {
   "cell_type": "code",
   "execution_count": 12,
   "metadata": {},
   "outputs": [],
   "source": [
    "! export OMP_NUM_THREADS=$N_THRDS"
   ]
  },
  {
   "cell_type": "code",
   "execution_count": 13,
   "metadata": {},
   "outputs": [
    {
     "name": "stdout",
     "output_type": "stream",
     "text": [
      "\n"
     ]
    }
   ],
   "source": [
    "! echo $OMP_NUM_THREADS"
   ]
  },
  {
   "cell_type": "code",
   "execution_count": 14,
   "metadata": {},
   "outputs": [
    {
     "name": "stdout",
     "output_type": "stream",
     "text": [
      "Running model: /home/frederik/Dropbox/Astro/Magritte/tests/performance/models/model_2_2D_VanZadelhoff_1a/\n",
      "Reading Model\n",
      "Reading geometry\n",
      "Reading cells\n",
      "Reading rays\n",
      "Reading boundary\n",
      "Reading thermodynamics\n",
      "Reading temperature\n",
      "Reading turbulence\n",
      "Reading chemistry\n",
      "Reading species\n",
      "Reading lines\n",
      "Reading lineProducingSpecies\n",
      "Reading linedata\n",
      "Reading collisionPartner\n",
      "Reading quadrature\n",
      "Reading radiation\n",
      "Reading frequencies\n",
      "-----------------\n",
      "Model parameters:\n",
      "-----------------\n",
      "ncells     = 504\n",
      "nrays      = 80\n",
      "nrays_red  = 40\n",
      "nboundary  = 504\n",
      "nfreqs     = 21\n",
      "nfreqs_red = 21\n",
      "nspecs     = 5\n",
      "nlspecs    = 1\n",
      "nlines     = 1\n",
      "nquads     = 21\n",
      "-----------------\n",
      "Starting iteration 1\n",
      "ray = 0\n",
      "ray = 1\n",
      "ray = 2\n",
      "ray = 3\n",
      "ray = 4\n",
      "ray = 5\n",
      "ray = 6\n",
      "ray = 7\n",
      "ray = 8\n",
      "ray = 9\n",
      "ray = 10\n",
      "ray = 11\n",
      "ray = 12\n",
      "ray = 13\n",
      "ray = 14\n",
      "ray = 15\n",
      "ray = 16\n",
      "ray = 17\n",
      "ray = 18\n",
      "ray = 19\n",
      "ray = 20\n",
      "ray = 21\n",
      "ray = 22\n",
      "ray = 23\n",
      "ray = 24\n",
      "ray = 25\n",
      "ray = 26\n",
      "ray = 27\n",
      "ray = 28\n",
      "ray = 29\n",
      "ray = 30\n",
      "ray = 31\n",
      "ray = 32\n",
      "ray = 33\n",
      "ray = 34\n",
      "ray = 35\n",
      "ray = 36\n",
      "ray = 37\n",
      "ray = 38\n",
      "ray = 39\n",
      "Already 100 % converged\n",
      "Converged after 1 iterations\n",
      "Writing Model\n",
      "Writing geometry\n",
      "Writing cells\n",
      "Writing rays\n",
      "Writing boundary\n",
      "Writing thermodynamics\n",
      "Writing temperature\n",
      "Writing turbulence\n",
      "Writing chemistry\n",
      "Writing species\n",
      "Writing lines\n",
      "Writing lineProducingSpecies\n",
      "Writing linedata\n",
      "Writing collisionPartner\n",
      "Writing quadrature\n",
      "Writing radiation\n",
      "Writing frequencies\n",
      "Done.\n"
     ]
    }
   ],
   "source": [
    "! mpirun -np $N_PROCS $FLAGS $EXECUTABLE $MODEL"
   ]
  },
  {
   "cell_type": "code",
   "execution_count": null,
   "metadata": {},
   "outputs": [],
   "source": []
  }
 ],
 "metadata": {
  "kernelspec": {
   "display_name": "Python 3",
   "language": "python",
   "name": "python3"
  },
  "language_info": {
   "codemirror_mode": {
    "name": "ipython",
    "version": 3
   },
   "file_extension": ".py",
   "mimetype": "text/x-python",
   "name": "python",
   "nbconvert_exporter": "python",
   "pygments_lexer": "ipython3",
   "version": "3.7.3"
  }
 },
 "nbformat": 4,
 "nbformat_minor": 2
}

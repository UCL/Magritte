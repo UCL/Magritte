{
 "cells": [
  {
   "cell_type": "code",
   "execution_count": 1,
   "metadata": {
    "collapsed": true
   },
   "outputs": [],
   "source": [
    "import numpy as np                                # NumPy\n",
    "import vtk                                        # VTK module\n",
    "from vtk.util.numpy_support import vtk_to_numpy   # VTK/NumPy interface\n",
    "\n",
    "import vtkMagritte as mvtk                        # Magritte IO module"
   ]
  },
  {
   "cell_type": "code",
   "execution_count": 2,
   "metadata": {
    "collapsed": true
   },
   "outputs": [],
   "source": [
    "fileName = 'Aori_0001.vtu'\n",
    "\n",
    "reader = vtk.vtkXMLUnstructuredGridReader()   # .vtu reader\n",
    "reader.SetFileName(fileName)\n",
    "reader.Update()\n",
    "\n",
    "grid = reader.GetOutput()\n",
    "\n",
    "ncells   = grid.GetNumberOfCells()   # Number of grid points\n",
    "cellData = grid.GetCellData()        # Dara associated with cells"
   ]
  },
  {
   "cell_type": "code",
   "execution_count": 4,
   "metadata": {
    "collapsed": false
   },
   "outputs": [
    {
     "name": "stdout",
     "output_type": "stream",
     "text": [
      "98400\n"
     ]
    }
   ],
   "source": [
    "print(ncells)"
   ]
  },
  {
   "cell_type": "code",
   "execution_count": 5,
   "metadata": {
    "collapsed": false
   },
   "outputs": [
    {
     "name": "stdout",
     "output_type": "stream",
     "text": [
      "[1, 20, 21]\n"
     ]
    }
   ],
   "source": [
    "print(mvtk.get_neighbors(grid,0))"
   ]
  },
  {
   "cell_type": "code",
   "execution_count": 7,
   "metadata": {
    "collapsed": false
   },
   "outputs": [],
   "source": [
    "a     = [0 for _ in range(ncells)]\n",
    "a[0]  = 1\n",
    "a[1]  = 2\n",
    "a[20] = 2\n",
    "a[21] = 2"
   ]
  },
  {
   "cell_type": "code",
   "execution_count": 9,
   "metadata": {
    "collapsed": false
   },
   "outputs": [
    {
     "data": {
      "text/plain": [
       "1"
      ]
     },
     "execution_count": 9,
     "metadata": {},
     "output_type": "execute_result"
    }
   ],
   "source": [
    "# array = vtk.vtkIntArray()\n",
    "# array.SetNumberOfComponents(1)\n",
    "# array.SetNumberOfTuples(ncells)\n",
    "# array.SetName('test')\n",
    "\n",
    "# for p in range(ncells):\n",
    "#     array.InsertValue(p,0)\n",
    "\n",
    "# cellData.AddArray(array)\n",
    "\n",
    "writer = vtk.vtkXMLUnstructuredGridWriter()\n",
    "writer.SetFileName('magrid.vtu')\n",
    "writer.SetInputData(grid)\n",
    "writer.Write()"
   ]
  },
  {
   "cell_type": "code",
   "execution_count": null,
   "metadata": {
    "collapsed": true
   },
   "outputs": [],
   "source": []
  }
 ],
 "metadata": {
  "kernelspec": {
   "display_name": "Python 3",
   "language": "python",
   "name": "python3"
  },
  "language_info": {
   "codemirror_mode": {
    "name": "ipython",
    "version": 3
   },
   "file_extension": ".py",
   "mimetype": "text/x-python",
   "name": "python",
   "nbconvert_exporter": "python",
   "pygments_lexer": "ipython3",
   "version": "3.6.3"
  }
 },
 "nbformat": 4,
 "nbformat_minor": 2
}

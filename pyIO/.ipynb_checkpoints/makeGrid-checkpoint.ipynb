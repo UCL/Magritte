{
 "cells": [
  {
   "cell_type": "markdown",
   "metadata": {},
   "source": [
    "# Setup Magritte (`magrid.vtu`) input"
   ]
  },
  {
   "cell_type": "code",
   "execution_count": 1,
   "metadata": {
    "collapsed": true
   },
   "outputs": [],
   "source": [
    "import numpy as np                                # NumPy\n",
    "import vtk                                        # VTK module\n",
    "from vtk.util.numpy_support import vtk_to_numpy   # VTK/NumPy interface\n",
    "\n",
    "import MagritteIO as mio                          # Magritte IO module"
   ]
  },
  {
   "cell_type": "markdown",
   "metadata": {},
   "source": [
    "Specify the input file to be converted."
   ]
  },
  {
   "cell_type": "code",
   "execution_count": 2,
   "metadata": {
    "collapsed": true
   },
   "outputs": [],
   "source": [
    "fileName      = 'input/files/grid_log3.vtu'   # relative path\n",
    "projectFolder = '/home/frederik//Dropbox/Astro/MagritteProjects/Lime_1/'"
   ]
  },
  {
   "cell_type": "code",
   "execution_count": 10,
   "metadata": {
    "collapsed": true
   },
   "outputs": [],
   "source": [
    "fileName = 'magrid.vtu'   # relative path"
   ]
  },
  {
   "cell_type": "code",
   "execution_count": 3,
   "metadata": {
    "collapsed": true
   },
   "outputs": [],
   "source": [
    "fileName = projectFolder + fileName"
   ]
  },
  {
   "cell_type": "code",
   "execution_count": 11,
   "metadata": {
    "collapsed": false
   },
   "outputs": [],
   "source": [
    "reader = vtk.vtkXMLUnstructuredGridReader()\n",
    "reader.SetFileName(fileName)\n",
    "reader.Update()\n",
    "grid = reader.GetOutput()"
   ]
  },
  {
   "cell_type": "markdown",
   "metadata": {
    "collapsed": true
   },
   "source": [
    "For point-based input"
   ]
  },
  {
   "cell_type": "code",
   "execution_count": 12,
   "metadata": {
    "collapsed": false
   },
   "outputs": [
    {
     "name": "stdout",
     "output_type": "stream",
     "text": [
      "1500\n"
     ]
    }
   ],
   "source": [
    "npoints   = grid.GetNumberOfPoints()   # Number of grid points\n",
    "pointData = grid.GetPointData()        # Data associated with points\n",
    "\n",
    "x = [grid.GetPoint(p)[0] for p in range(npoints)]\n",
    "y = [grid.GetPoint(p)[1] for p in range(npoints)]\n",
    "z = [grid.GetPoint(p)[2] for p in range(npoints)]\n",
    "\n",
    "print(npoints)"
   ]
  },
  {
   "cell_type": "code",
   "execution_count": 13,
   "metadata": {
    "collapsed": false
   },
   "outputs": [],
   "source": [
    "nArrays = pointData.GetNumberOfArrays()\n",
    "\n",
    "for i in range(nArrays):\n",
    "    array  = pointData.GetArray(i)\n",
    "    name   = array.GetName()\n",
    "    values = vtk_to_numpy(array)"
   ]
  },
  {
   "cell_type": "code",
   "execution_count": 14,
   "metadata": {
    "collapsed": false
   },
   "outputs": [],
   "source": [
    "nspec     = 1\n",
    "abundance = [0.0 for _ in range(nspec)]"
   ]
  },
  {
   "cell_type": "code",
   "execution_count": 15,
   "metadata": {
    "collapsed": false
   },
   "outputs": [
    {
     "name": "stdout",
     "output_type": "stream",
     "text": [
      "test\n"
     ]
    }
   ],
   "source": [
    "nArrays = pointData.GetNumberOfArrays()\n",
    "\n",
    "for i in range(nArrays):\n",
    "    array  = pointData.GetArray(i)\n",
    "    name   = array.GetName()\n",
    "    if name == 'H2_density':\n",
    "        density         = vtk_to_numpy(array)\n",
    "    if name == 'Mol_density':\n",
    "        abundance[0]    = vtk_to_numpy(array)\n",
    "    if name == 'Gas_temperature':\n",
    "        temperature_gas = vtk_to_numpy(array)\n",
    "    if name == 'velocity':\n",
    "        vx, vy, vz      = vtk_to_numpy(array).T\n",
    "    print(name)"
   ]
  },
  {
   "cell_type": "markdown",
   "metadata": {},
   "source": [
    "Write point-based `magrid.vtu` file"
   ]
  },
  {
   "cell_type": "code",
   "execution_count": 16,
   "metadata": {
    "collapsed": false
   },
   "outputs": [
    {
     "data": {
      "text/plain": [
       "1"
      ]
     },
     "execution_count": 16,
     "metadata": {},
     "output_type": "execute_result"
    }
   ],
   "source": [
    "ncells = npoints\n",
    "\n",
    "magrid = vtk.vtkUnstructuredGrid()\n",
    "\n",
    "vtkPoints = vtk.vtkPoints()\n",
    "for p in range(ncells):\n",
    "    vtkPoints.InsertNextPoint((x[p],y[p],z[p]))\n",
    "magrid.SetPoints(vtkPoints)\n",
    "\n",
    "array = vtk.vtkDoubleArray()\n",
    "array.SetNumberOfComponents(1)\n",
    "array.SetNumberOfTuples(ncells)\n",
    "array.SetName('test')\n",
    "\n",
    "for p in range(ncells):\n",
    "    array.InsertValue(p,2.0*p)\n",
    "\n",
    "magrid.GetPointData().AddArray(array)\n",
    "\n",
    "writer = vtk.vtkXMLUnstructuredGridWriter()\n",
    "writer.SetFileName('magrid.vtu')\n",
    "writer.SetInputData(magrid)\n",
    "writer.Write()"
   ]
  },
  {
   "cell_type": "code",
   "execution_count": 9,
   "metadata": {
    "collapsed": false
   },
   "outputs": [
    {
     "name": "stdout",
     "output_type": "stream",
     "text": [
      "CheckLineData.ipynb  magrid.vtu      makeGrid.ipynb    test.h5\r\n",
      "HandlingHDF5.ipynb   MagritteIO.py   \u001b[0m\u001b[01;34m__pycache__\u001b[0m/\r\n",
      "HandlingVTK.ipynb    MagritteIO.pyc  quickPlots.ipynb\r\n"
     ]
    }
   ],
   "source": [
    "ls"
   ]
  },
  {
   "cell_type": "code",
   "execution_count": null,
   "metadata": {
    "collapsed": true
   },
   "outputs": [],
   "source": []
  }
 ],
 "metadata": {
  "kernelspec": {
   "display_name": "Python 3",
   "language": "python",
   "name": "python3"
  },
  "language_info": {
   "codemirror_mode": {
    "name": "ipython",
    "version": 3
   },
   "file_extension": ".py",
   "mimetype": "text/x-python",
   "name": "python",
   "nbconvert_exporter": "python",
   "pygments_lexer": "ipython3",
   "version": "3.6.3"
  }
 },
 "nbformat": 4,
 "nbformat_minor": 2
}

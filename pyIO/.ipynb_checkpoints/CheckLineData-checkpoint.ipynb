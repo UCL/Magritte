{
 "cells": [
  {
   "cell_type": "markdown",
   "metadata": {},
   "source": [
    "# `Magritte` test line data\n",
    "---"
   ]
  },
  {
   "cell_type": "code",
   "execution_count": 1,
   "metadata": {},
   "outputs": [
    {
     "name": "stdout",
     "output_type": "stream",
     "text": [
      "number of outputs = 2\n",
      "number of cells   = 50\n"
     ]
    }
   ],
   "source": [
    "import MagritteIO as mio\n",
    "import numpy as np\n",
    "import matplotlib.pyplot as plt\n",
    "\n",
    "% matplotlib inline\n",
    "\n",
    "\n",
    "outputDirectory = mio.outputDirectory()           # current output directory\n",
    "nOutputs        = mio.nOutputs(outputDirectory)   # number of outputs\n",
    "\n",
    "\n",
    "tags  = range(nOutputs)\n",
    "cells = [mio.cell(outputDirectory, str(tag)) for tag in tags]\n",
    "\n",
    "ncells= cells[0].ncells\n",
    "\n",
    "print('number of outputs = {}'.format(nOutputs))\n",
    "print('number of cells   = {}'.format())"
   ]
  },
  {
   "cell_type": "code",
   "execution_count": 2,
   "metadata": {},
   "outputs": [
    {
     "name": "stdout",
     "output_type": "stream",
     "text": [
      "6.78196366626e+46\n"
     ]
    }
   ],
   "source": [
    "c = 2.99792458e+10   # speed of light in cgs\n",
    "h = 6.62606896E-27   # Planck's constant in cgs\n",
    "\n",
    "cte = c**2 / (2*h)\n",
    "\n",
    "print cte"
   ]
  },
  {
   "cell_type": "code",
   "execution_count": 3,
   "metadata": {
    "scrolled": true
   },
   "outputs": [],
   "source": [
    "A    = np.loadtxt(outputDirectory+'Einstein_A.txt')\n",
    "B    = np.loadtxt(outputDirectory+'Einstein_B.txt')\n",
    "freq = np.loadtxt(outputDirectory+'frequency.txt')"
   ]
  },
  {
   "cell_type": "code",
   "execution_count": 4,
   "metadata": {
    "scrolled": false
   },
   "outputs": [
    {
     "name": "stdout",
     "output_type": "stream",
     "text": [
      "5900003325.96\n",
      "5900004000.0\n",
      "1.780927e+12\n"
     ]
    }
   ],
   "source": [
    "print A[20][19] * cte / freq[20][19]**3\n",
    "print B[20][19]\n",
    "print freq[20][19]"
   ]
  },
  {
   "cell_type": "code",
   "execution_count": 5,
   "metadata": {},
   "outputs": [
    {
     "name": "stdout",
     "output_type": "stream",
     "text": [
      "50\n"
     ]
    }
   ],
   "source": [
    "print len(cells[0].pop[0])\n"
   ]
  },
  {
   "cell_type": "code",
   "execution_count": 6,
   "metadata": {
    "collapsed": true
   },
   "outputs": [],
   "source": [
    "pop_LTE = np.loadtxt(outputDirectory+'level_populations_LTE.txt')"
   ]
  },
  {
   "cell_type": "code",
   "execution_count": 7,
   "metadata": {},
   "outputs": [
    {
     "name": "stdout",
     "output_type": "stream",
     "text": [
      "[ 0.00126106  0.          0.         ...,  0.          0.          0.        ]\n"
     ]
    }
   ],
   "source": [
    "print pop_LTE"
   ]
  },
  {
   "cell_type": "code",
   "execution_count": 8,
   "metadata": {
    "collapsed": true
   },
   "outputs": [],
   "source": [
    "a = []"
   ]
  },
  {
   "cell_type": "code",
   "execution_count": 9,
   "metadata": {
    "collapsed": true
   },
   "outputs": [],
   "source": [
    "a.append([])"
   ]
  },
  {
   "cell_type": "code",
   "execution_count": 10,
   "metadata": {},
   "outputs": [
    {
     "name": "stdout",
     "output_type": "stream",
     "text": [
      "[0.0012610620000000001, 1.0842019999999999e-19, 1.0842019999999999e-19, 2.7105049999999999e-20, 4.065758e-20, 6.7762640000000006e-21, 2.032879e-20, 8.6397359999999998e-20, 8.4703289999999995e-21, 1.7787690000000001e-20, 1.2705489999999999e-20, 1.185846e-20, 0.0, 6.352747e-21, 3.2399010000000001e-20, 9.2750109999999997e-20, 2.4775710000000001e-20, 0.0, 0.0, 0.0, 0.0, 0.001725571, 0.0, 1.0842019999999999e-19, 0.0, 0.0, 0.0, 0.0, 0.0, 6.4374499999999998e-20, 0.0, 0.0, 0.0, 0.0, 0.0, 0.0, 0.0, 0.0, 0.0, 0.0, 0.0, 1.101143e-20, 0.0022373369999999998, 0.0001217807, 4.0964250000000003e-06, 4.6296360000000002e-08, 1.393171e-10, 1.025659e-13, 1.6134279999999999e-17, 0.0]\n"
     ]
    }
   ],
   "source": [
    "print cells[1].pop[0]"
   ]
  },
  {
   "cell_type": "code",
   "execution_count": 11,
   "metadata": {
    "collapsed": true
   },
   "outputs": [],
   "source": [
    "nlev = len(cells[1].pop)"
   ]
  },
  {
   "cell_type": "code",
   "execution_count": 14,
   "metadata": {},
   "outputs": [
    {
     "data": {
      "text/plain": [
       "<matplotlib.legend.Legend at 0x7f81456df090>"
      ]
     },
     "execution_count": 14,
     "metadata": {},
     "output_type": "execute_result"
    },
    {
     "data": {
      "image/png": "[encoded data removed]",
      "text/plain": [
       "<matplotlib.figure.Figure at 0x7f81457f0610>"
      ]
     },
     "metadata": {},
     "output_type": "display_data"
    }
   ],
   "source": [
    "fig = plt.figure()\n",
    "ax1 = fig.add_subplot(111)\n",
    "\n",
    "for i in range(3,4):# (nlev):\n",
    "    ax1.plot(cells[1].pop[i], label=i)\n",
    "ax1.legend()"
   ]
  },
  {
   "cell_type": "code",
   "execution_count": 13,
   "metadata": {},
   "outputs": [
    {
     "name": "stdout",
     "output_type": "stream",
     "text": [
      "[3.0493190000000001e-20, 7.1150770000000001e-20, 8.3009230000000006e-20, 0.0, 0.0, 0.0, 0.0, 0.0, 0.0, 0.0, 0.0, 0.0, 0.0, 0.0032366529999999999, 2.1684039999999999e-19, 0.0, 0.0, 2.7105049999999999e-20, 2.7105049999999999e-20, 0.0, 0.0, 0.0, 0.0, 0.0, 0.0, 0.0, 2.3716920000000001e-20, 1.304431e-19, 3.405072e-19, 3.5744790000000001e-19, 1.406075e-19, 0.0, 0.0, 0.0, 0.0044324569999999999, 0.0, 0.0, 1.6263030000000001e-19, 0.0, 0.0, 5.4210109999999999e-20, 0.0, 0.0, 0.0, 0.0, 0.0, 0.0, 0.0, 0.0, 0.0]\n"
     ]
    }
   ],
   "source": [
    "print cells[1].pop[1]"
   ]
  },
  {
   "cell_type": "code",
   "execution_count": 17,
   "metadata": {},
   "outputs": [
    {
     "name": "stdout",
     "output_type": "stream",
     "text": [
      "[[1, 2, 3], [1, 2, 3]]\n"
     ]
    }
   ],
   "source": [
    "print mio.deVectorize([1,1,2,2,3,3],2)"
   ]
  },
  {
   "cell_type": "code",
   "execution_count": 16,
   "metadata": {},
   "outputs": [
    {
     "ename": "NameError",
     "evalue": "name 'ncells' is not defined",
     "output_type": "error",
     "traceback": [
      "\u001b[0;31m---------------------------------------------------------------------------\u001b[0m",
      "\u001b[0;31mNameError\u001b[0m                                 Traceback (most recent call last)",
      "\u001b[0;32m<ipython-input-16-0f545e483d20>\u001b[0m in \u001b[0;36m<module>\u001b[0;34m()\u001b[0m\n\u001b[0;32m----> 1\u001b[0;31m \u001b[0mpop_LTE\u001b[0m \u001b[0;34m=\u001b[0m \u001b[0mmio\u001b[0m\u001b[0;34m.\u001b[0m\u001b[0mtrans\u001b[0m\u001b[0;34m(\u001b[0m\u001b[0mmio\u001b[0m\u001b[0;34m.\u001b[0m\u001b[0mdeVectorize\u001b[0m\u001b[0;34m(\u001b[0m\u001b[0mpop_LTE\u001b[0m\u001b[0;34m,\u001b[0m \u001b[0mncells\u001b[0m\u001b[0;34m)\u001b[0m\u001b[0;34m)\u001b[0m\u001b[0;34m\u001b[0m\u001b[0m\n\u001b[0m",
      "\u001b[0;31mNameError\u001b[0m: name 'ncells' is not defined"
     ]
    }
   ],
   "source": [
    "pop_LTE = mio.trans(mio.deVectorize(pop_LTE, ncells))"
   ]
  },
  {
   "cell_type": "code",
   "execution_count": null,
   "metadata": {
    "collapsed": true
   },
   "outputs": [],
   "source": []
  }
 ],
 "metadata": {
  "kernelspec": {
   "display_name": "Python 2",
   "language": "python",
   "name": "python2"
  },
  "language_info": {
   "codemirror_mode": {
    "name": "ipython",
    "version": 2
   },
   "file_extension": ".py",
   "mimetype": "text/x-python",
   "name": "python",
   "nbconvert_exporter": "python",
   "pygments_lexer": "ipython2",
   "version": "2.7.13"
  }
 },
 "nbformat": 4,
 "nbformat_minor": 2
}

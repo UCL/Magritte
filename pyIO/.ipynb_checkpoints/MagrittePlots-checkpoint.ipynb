{
 "cells": [
  {
   "cell_type": "markdown",
   "metadata": {},
   "source": [
    "# `Magritte` quick plots"
   ]
  },
  {
   "cell_type": "markdown",
   "metadata": {},
   "source": [
    "#### An example notebook for making plots of the most recent `Magritte` output\n",
    "---"
   ]
  },
  {
   "cell_type": "markdown",
   "metadata": {},
   "source": [
    "## Loading `Magritte` output"
   ]
  },
  {
   "cell_type": "markdown",
   "metadata": {},
   "source": [
    "Import the `MagritteIO` module for handling the `Magritte` input and output."
   ]
  },
  {
   "cell_type": "code",
   "execution_count": 2,
   "metadata": {
    "collapsed": true
   },
   "outputs": [],
   "source": [
    "import MagritteIO as mio"
   ]
  },
  {
   "cell_type": "markdown",
   "metadata": {},
   "source": [
    "Get the current (i.e. most recent) output directory and the number of outputs it contains."
   ]
  },
  {
   "cell_type": "code",
   "execution_count": 24,
   "metadata": {},
   "outputs": [
    {
     "name": "stdout",
     "output_type": "stream",
     "text": [
      "/home/frederik/Dropbox/Astro/Magritte/Projects/3DPDR/output/files/18-03-21_20:48_output/\n",
      "15\n"
     ]
    }
   ],
   "source": [
    "outputDirectory = mio.outputDirectory()           # current output directory\n",
    "nOutputs        = mio.nOutputs(outputDirectory)   # number of outputs\n",
    "\n",
    "print outputDirectory\n",
    "print nOutputs"
   ]
  },
  {
   "cell_type": "markdown",
   "metadata": {},
   "source": [
    "Read the `Magritte` output from the `outputDirectory` into the cell structure. Each output has its own cell structure. `cells` is the array of cell structures for all outputs."
   ]
  },
  {
   "cell_type": "code",
   "execution_count": 39,
   "metadata": {
    "scrolled": true
   },
   "outputs": [],
   "source": [
    "tags  = range(nOutputs)\n",
    "cells = [mio.cell(outputDirectory, str(tag)) for tag in tags]"
   ]
  },
  {
   "cell_type": "code",
   "execution_count": 40,
   "metadata": {},
   "outputs": [
    {
     "name": "stdout",
     "output_type": "stream",
     "text": [
      "[ 371.4418  371.439   371.4387  371.4383  371.4379  371.4374  371.4369\n",
      "  371.4363  371.4356  371.4349  371.4341  371.4331  371.4321  371.4309\n",
      "  371.4296  371.4281  371.4264  371.4245  371.4224  371.4201  371.4174\n",
      "  371.4144  371.4111  371.4074  371.4032  371.3985  371.3932  371.3872\n",
      "  371.3806  371.3731  371.3648  371.3554  371.3448  371.333   371.3197\n",
      "  371.3048  371.2881  371.2694  371.2484  371.2248  371.1983  371.1686\n",
      "  371.1353  371.098   371.056   371.009   370.9563  370.8971  370.8307\n",
      "  370.7562  370.6727  370.579   370.4739  370.3561  370.2239  370.0757\n",
      "  369.9095  369.7231  369.5141  369.2798  369.0172  368.7229  368.393\n",
      "  368.0233  367.6092  367.1453  366.6257  366.0439  365.3927  364.6639\n",
      "  363.8485  362.9367  361.9173  360.7783  359.5061  358.0861  356.5022\n",
      "  354.7365  352.7698  350.5812  348.1482  345.4463  342.4498  339.1312\n",
      "  335.4617  331.4115  326.9499  322.0463  316.6704  310.7932  304.3886\n",
      "  297.4338  289.9117  281.8125  273.1355  263.8917  254.1063  243.8207\n",
      "  233.0951  222.01    210.6677  199.1917  187.7261  176.4316  165.4807\n",
      "  155.0503  145.3118  136.4205  128.504   121.6509  115.9029  111.2493\n",
      "  107.6283  104.9334  103.0253  101.7478  100.9443  100.4733  100.218\n",
      "  100.0914  100.0344  100.0115]\n"
     ]
    }
   ],
   "source": [
    "print cells[0].temperatureGas"
   ]
  },
  {
   "cell_type": "code",
   "execution_count": 15,
   "metadata": {},
   "outputs": [
    {
     "name": "stdout",
     "output_type": "stream",
     "text": [
      "122\n"
     ]
    }
   ],
   "source": [
    "print cells[0].ncells"
   ]
  },
  {
   "cell_type": "markdown",
   "metadata": {},
   "source": [
    "## Plotting output"
   ]
  },
  {
   "cell_type": "markdown",
   "metadata": {},
   "source": [
    "Import `matplotlib.pyplot` for plotting."
   ]
  },
  {
   "cell_type": "code",
   "execution_count": 42,
   "metadata": {
    "collapsed": true
   },
   "outputs": [],
   "source": [
    "import matplotlib.pyplot as plt\n",
    "%matplotlib inline"
   ]
  },
  {
   "cell_type": "code",
   "execution_count": 48,
   "metadata": {},
   "outputs": [
    {
     "data": {
      "text/plain": [
       "<function matplotlib.pyplot.show>"
      ]
     },
     "execution_count": 48,
     "metadata": {},
     "output_type": "execute_result"
    },
    {
     "data": {
      "image/png": "[encoded data removed]",
      "text/plain": [
       "<matplotlib.figure.Figure at 0x7fbc52507ad0>"
      ]
     },
     "metadata": {},
     "output_type": "display_data"
    }
   ],
   "source": [
    "fig = plt.figure()\n",
    "ax1 = fig.add_subplot(111)\n",
    "\n",
    "for i in range(6):#range(nOutputs):\n",
    "    ax1.plot(cells[i].temperatureGas, label=i)\n",
    "\n",
    "ax1.legend()\n",
    "plt.show\n"
   ]
  },
  {
   "cell_type": "code",
   "execution_count": null,
   "metadata": {
    "collapsed": true
   },
   "outputs": [],
   "source": []
  }
 ],
 "metadata": {
  "kernelspec": {
   "display_name": "Python 2",
   "language": "python",
   "name": "python2"
  },
  "language_info": {
   "codemirror_mode": {
    "name": "ipython",
    "version": 2
   },
   "file_extension": ".py",
   "mimetype": "text/x-python",
   "name": "python",
   "nbconvert_exporter": "python",
   "pygments_lexer": "ipython2",
   "version": "2.7.13"
  }
 },
 "nbformat": 4,
 "nbformat_minor": 2
}

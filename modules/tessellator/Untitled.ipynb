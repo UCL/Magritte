{
 "cells": [
  {
   "cell_type": "markdown",
   "metadata": {},
   "source": [
    "# Delauney tessellations and\n",
    "# conformal transformations"
   ]
  },
  {
   "cell_type": "markdown",
   "metadata": {},
   "source": [
    "*** Goal: define a grid such that the optical depth is well-sampled. ***\n",
    "\n",
    "The optical depth is defined as:\n",
    "\n",
    "\\begin{align}\n",
    "d\\tau \\ = \\ \\chi(x) \\ \\textbf{n} \\cdot d \\textbf{x}\n",
    "\\end{align}"
   ]
  },
  {
   "cell_type": "markdown",
   "metadata": {},
   "source": [
    "Conformal transformations modify the metric as\n",
    "\n",
    "\\begin{align}\n",
    "ds^{2} \\ = \\ \\Omega^{2}(x) \\ d \\textbf{x}^{2}\n",
    "\\end{align}\n",
    "\n",
    "and hence preserve angels."
   ]
  },
  {
   "cell_type": "markdown",
   "metadata": {},
   "source": [
    "A well-sampled grid in the optical depth would be (approximately) equally spaced in optical depth.\n",
    "\n",
    "*** Strategy: Define grid in terms ***"
   ]
  },
  {
   "cell_type": "code",
   "execution_count": null,
   "metadata": {},
   "outputs": [],
   "source": []
  }
 ],
 "metadata": {
  "kernelspec": {
   "display_name": "Python 3",
   "language": "python",
   "name": "python3"
  },
  "language_info": {
   "codemirror_mode": {
    "name": "ipython",
    "version": 3
   },
   "file_extension": ".py",
   "mimetype": "text/x-python",
   "name": "python",
   "nbconvert_exporter": "python",
   "pygments_lexer": "ipython3",
   "version": "3.7.0"
  }
 },
 "nbformat": 4,
 "nbformat_minor": 2
}

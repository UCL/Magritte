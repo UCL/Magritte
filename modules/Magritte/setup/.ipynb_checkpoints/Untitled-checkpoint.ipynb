{
 "cells": [
  {
   "cell_type": "code",
   "execution_count": 1,
   "metadata": {},
   "outputs": [],
   "source": [
    "from sys import path as syspath\n",
    "from os  import path as  ospath\n",
    "\n",
    "# Define directory containing Magritte\n",
    "MagritteFolder = ospath.dirname(ospath.realpath('__file__')) + '/../'\n",
    "\n",
    "# Add Magritte's bin directory to the Python path\n",
    "syspath.insert(0, f'{MagritteFolder}bin/')"
   ]
  },
  {
   "cell_type": "code",
   "execution_count": 2,
   "metadata": {},
   "outputs": [],
   "source": [
    "from pyMagritte import IoText as Io\n",
    "from pyMagritte import Model"
   ]
  },
  {
   "cell_type": "code",
   "execution_count": 3,
   "metadata": {},
   "outputs": [],
   "source": [
    "dataFolder = f'{MagritteFolder}tests/testData/'"
   ]
  },
  {
   "cell_type": "code",
   "execution_count": 4,
   "metadata": {},
   "outputs": [],
   "source": [
    "import numpy as np"
   ]
  },
  {
   "cell_type": "code",
   "execution_count": 9,
   "metadata": {},
   "outputs": [],
   "source": [
    "x,y,z, vx, vy, vz = np.loadtxt (f'{dataFolder}cells.txt', unpack=True)"
   ]
  },
  {
   "cell_type": "code",
   "execution_count": 16,
   "metadata": {},
   "outputs": [],
   "source": [
    "with open(f'{dataFolder}velocities.txt', 'w') as file:\n",
    "    for i in range(len(x)):\n",
    "        file.write(f'{vx[i]}\\t{vy[i]}\\t{vz[i]}\\n')"
   ]
  },
  {
   "cell_type": "code",
   "execution_count": null,
   "metadata": {},
   "outputs": [],
   "source": [
    "io    = Io (f'{MagritteFolder}tests/testData/')\n",
    "model = Model (io)"
   ]
  },
  {
   "cell_type": "code",
   "execution_count": 4,
   "metadata": {},
   "outputs": [],
   "source": [
    "model.cells"
   ]
  },
  {
   "cell_type": "code",
   "execution_count": null,
   "metadata": {},
   "outputs": [],
   "source": [
    "model.cells.vx"
   ]
  },
  {
   "cell_type": "code",
   "execution_count": 12,
   "metadata": {},
   "outputs": [
    {
     "ename": "SyntaxError",
     "evalue": "invalid syntax (setup.py, line 10)",
     "output_type": "error",
     "traceback": [
      "\u001b[0;36m  File \u001b[0;32m\"/home/frederik/Dropbox/Astro/Magritte/modules/Magritte/setup/setup.py\"\u001b[0;36m, line \u001b[0;32m10\u001b[0m\n\u001b[0;31m    MagritteFolder = f'{os.path.dirname(os.path.realpath('__file__'))}/../'\u001b[0m\n\u001b[0m                                                                 ^\u001b[0m\n\u001b[0;31mSyntaxError\u001b[0m\u001b[0;31m:\u001b[0m invalid syntax\n"
     ]
    }
   ],
   "source": [
    "%run setup.py"
   ]
  },
  {
   "cell_type": "code",
   "execution_count": 70,
   "metadata": {},
   "outputs": [
    {
     "data": {
      "text/plain": [
       "['/home/frederik/Dropbox/Astro/Magritte/modules/Magritte/setup/../bin/',\n",
       " '/home/frederik/Dropbox/Astro/Magritte/modules/Magritte/setup/../bin/',\n",
       " '/home/frederik/Dropbox/Astro/Magritte/modules/Magritte/setup/../bin/',\n",
       " '/home/frederik/Dropbox/Astro/Magritte/modules/Magritte/setup/../bin/',\n",
       " '/home/frederik/Dropbox/Astro/Magritte/modules/Magritte/setup/../bin/',\n",
       " '/home/frederik/Dropbox/Astro/Magritte/modules/Magritte/setup/../bin/',\n",
       " '/home/frederik/Dropbox/Astro/Magritte/modules/Magritte/setup/../bin/',\n",
       " '/home/frederik/Dropbox/Astro/Magritte/modules/Magritte/setup/../bin/',\n",
       " '/home/frederik/Dropbox/Astro/Magritte/modules/Magritte/setup/../bin/',\n",
       " '/home/frederik/Dropbox/Astro/Magritte/modules/Magritte/setup/../bin/',\n",
       " '/home/frederik/Dropbox/Astro/Magritte/modules/Magritte/setup/../bin/',\n",
       " '/home/frederik/Dropbox/Astro/Magritte/modules/Magritte/setup/../bin/',\n",
       " '/home/frederik/Dropbox/Astro/Magritte/modules/Magritte/setup/../bin/',\n",
       " '/home/frederik/Dropbox/Astro/Magritte/modules/Magritte/setup/../bin/',\n",
       " '/home/frederik/Dropbox/Astro/Magritte/modules/Magritte/setup/../bin/',\n",
       " '/home/frederik/Dropbox/Astro/Magritte/modules/Magritte/setup/../bin/',\n",
       " '/home/frederik/Dropbox/Astro/Magritte/modules/Magritte/setup/../bin/',\n",
       " '/home/frederik/Dropbox/Astro/Magritte/modules/Magritte/setup/../bin/',\n",
       " '/home/frederik/Dropbox/Astro/Magritte/modules/Magritte/setup/../bin/',\n",
       " '/home/frederik/Dropbox/Astro/Magritte/modules/Magritte/setup/../bin/',\n",
       " '/home/frederik/Dropbox/Astro/Magritte/modules/Magritte/setup/../bin/',\n",
       " '/home/frederik/Dropbox/Astro/Magritte/modules/Magritte/setup/../bin/',\n",
       " '/home/frederik/Dropbox/Astro/Magritte/modules/Magritte/setup/../bin/',\n",
       " '/home/frederik/Dropbox/Astro/Magritte/modules/Magritte/setup/../bin/',\n",
       " '/home/frederik/Dropbox/Astro/Magritte/modules/Magritte/setup/../bin/',\n",
       " '/home/frederik/Dropbox/Astro/Magritte/modules/Magritte/setup/../bin/',\n",
       " '/home/frederik/Dropbox/Astro/Magritte/modules/Magritte/setup/../bin/',\n",
       " '/home/frederik/Dropbox/Astro/Magritte/modules/Magritte/setup/../bin',\n",
       " '/home/frederik/Dropbox/Astro/Magritte/modules/Magritte/setup/../bin/',\n",
       " '/home/frederik/Dropbox/Astro/Magritte/modules/Magritte/setup/../bin',\n",
       " '/home/frederik/Dropbox/Astro/Magritte/modules/Magritte/setup/../bin/',\n",
       " '/home/frederik/Dropbox/Astro/Magritte/modules/Magritte/setup/../bin',\n",
       " '/home/frederik/Dropbox/Astro/Magritte/modules/Magritte/setup/../bin/',\n",
       " '/home/frederik/Dropbox/Astro/Magritte/modules/Magritte/setup/../bin',\n",
       " '',\n",
       " '/home/frederik/Dropbox/Astro/Magritte/modules/Magritte/setup',\n",
       " '/home/frederik/software/anaconda3/envs/magritte/lib/python36.zip',\n",
       " '/home/frederik/software/anaconda3/envs/magritte/lib/python3.6',\n",
       " '/home/frederik/software/anaconda3/envs/magritte/lib/python3.6/lib-dynload',\n",
       " '/home/frederik/.local/lib/python3.6/site-packages',\n",
       " '/home/frederik/software/anaconda3/envs/magritte/lib/python3.6/site-packages',\n",
       " '/home/frederik/software/anaconda3/envs/magritte/lib/python3.6/site-packages/IPython/extensions',\n",
       " '/home/frederik/.ipython']"
      ]
     },
     "execution_count": 70,
     "metadata": {},
     "output_type": "execute_result"
    }
   ],
   "source": [
    "sys.path"
   ]
  },
  {
   "cell_type": "code",
   "execution_count": null,
   "metadata": {},
   "outputs": [],
   "source": []
  }
 ],
 "metadata": {
  "kernelspec": {
   "display_name": "Python 3",
   "language": "python",
   "name": "python3"
  },
  "language_info": {
   "codemirror_mode": {
    "name": "ipython",
    "version": 3
   },
   "file_extension": ".py",
   "mimetype": "text/x-python",
   "name": "python",
   "nbconvert_exporter": "python",
   "pygments_lexer": "ipython3",
   "version": "3.6.6"
  }
 },
 "nbformat": 4,
 "nbformat_minor": 2
}

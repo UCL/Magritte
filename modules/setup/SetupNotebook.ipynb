{
 "cells": [
  {
   "cell_type": "code",
   "execution_count": 16,
   "metadata": {
    "collapsed": false
   },
   "outputs": [],
   "source": [
    "import os\n",
    "import time\n",
    "import numpy as np\n",
    "\n",
    "from setupFunctions import numberOfLines\n",
    "from subprocess     import call"
   ]
  },
  {
   "cell_type": "markdown",
   "metadata": {},
   "source": [
    "# Setup input files"
   ]
  },
  {
   "cell_type": "code",
   "execution_count": 17,
   "metadata": {
    "collapsed": false
   },
   "outputs": [
    {
     "name": "stdout",
     "output_type": "stream",
     "text": [
      "Project folder already exists!\n"
     ]
    }
   ],
   "source": [
    "projectFolder = '/home/frederik/Dropbox/Astro/MagritteProjects/Ratran/'\n",
    "if not os.path.isdir(projectFolder):\n",
    "    os.mkdir(projectFolder)\n",
    "else:\n",
    "    print('Project folder already exists!')\n",
    "\n",
    "dateStamp = time.strftime(\"%y-%m-%d_%H:%M:%S\", time.gmtime())\n",
    "\n",
    "test = True\n",
    "\n",
    "if test:\n",
    "    runFolder = projectFolder + 'test_' + dateStamp + '/'\n",
    "else:\n",
    "    runFolder = projectFolder + dateStamp + '/'\n",
    "os.mkdir(runFolder)\n",
    "\n",
    "inputFolder = runFolder + 'input/'\n",
    "#os.mkdir(inputFolder)\n",
    "call(['python ' + projectFolder +'createInput.py ' + inputFolder], shell=True)\n",
    "\n",
    "outputFolder = runFolder + 'output/'\n",
    "os.mkdir(outputFolder)\n",
    "\n",
    "MagritteFolder = os.getcwd() + '/../RadiativeTransfer/'\n",
    "\n",
    "dimension = 3\n",
    "\n",
    "cellsFile = inputFolder + 'cells.txt'\n",
    "ncells    = numberOfLines(cellsFile)\n",
    "\n",
    "nrays     = 12\n",
    "nspec     = 5\n"
   ]
  },
  {
   "cell_type": "code",
   "execution_count": 18,
   "metadata": {
    "collapsed": false,
    "scrolled": true
   },
   "outputs": [
    {
     "data": {
      "text/plain": [
       "0"
      ]
     },
     "execution_count": 18,
     "metadata": {},
     "output_type": "execute_result"
    }
   ],
   "source": [
    "# Write linedata_configure.hpp file\n",
    "call(['python {}../setup/setup.py {}'.format(MagritteFolder, projectFolder)], shell=True)"
   ]
  },
  {
   "cell_type": "code",
   "execution_count": null,
   "metadata": {
    "collapsed": true
   },
   "outputs": [],
   "source": []
  }
 ],
 "metadata": {
  "kernelspec": {
   "display_name": "Python 3",
   "language": "python",
   "name": "python3"
  },
  "language_info": {
   "codemirror_mode": {
    "name": "ipython",
    "version": 3
   },
   "file_extension": ".py",
   "mimetype": "text/x-python",
   "name": "python",
   "nbconvert_exporter": "python",
   "pygments_lexer": "ipython3",
   "version": "3.6.3"
  }
 },
 "nbformat": 4,
 "nbformat_minor": 2
}

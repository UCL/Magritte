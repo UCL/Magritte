{
 "cells": [
  {
   "cell_type": "code",
   "execution_count": 18,
   "metadata": {
    "collapsed": false
   },
   "outputs": [],
   "source": [
    "import tqdm  # Progress bar tool\n",
    "\n",
    "import time\n",
    "import os\n",
    "import setup"
   ]
  },
  {
   "cell_type": "code",
   "execution_count": 44,
   "metadata": {
    "collapsed": false
   },
   "outputs": [],
   "source": [
    "projectFolder = 'testSetup/'\n",
    "if not os.path.isdir(projectFolder):\n",
    "    os.mkdir(projectFolder)\n",
    "\n",
    "dateStamp = time.strftime(\"%y-%m-%d_%H:%M:%S\", time.gmtime())\n",
    "runFolder = projectFolder + dateStamp + '/'\n",
    "os.mkdir(runFolder)\n",
    "\n",
    "inputFolder = runFolder + 'input/'\n",
    "os.mkdir(inputFolder)\n",
    "\n",
    "outputFolder = runFolder + 'output/'\n",
    "os.mkdir(outputFolder)\n",
    "\n",
    "MagritteFolder = '/home/frederik/Dropbox/Astro/Magritte/modules/RadiativeTransfer/'\n",
    "\n",
    "dimension = 3\n",
    "ncells = 5**3\n",
    "nrays = 12\n",
    "nspec = 5"
   ]
  },
  {
   "cell_type": "code",
   "execution_count": 43,
   "metadata": {
    "collapsed": false
   },
   "outputs": [],
   "source": [
    "# Write configure.hpp file\n",
    "with open(MagritteFolder + 'src/configure.hpp', 'w') as configFile:\n",
    "    configFile.write('#include <string>\\n')\n",
    "    configFile.write('using namespace std;\\n')\n",
    "    configFile.write('\\n')\n",
    "    configFile.write('const string Magritte_folder = \\\"' + str(MagritteFolder)  + '\\\";\\n')\n",
    "    configFile.write('\\n')\n",
    "    configFile.write('const string  input_folder = \\\"'   + str(inputFolder)  + '\\\";\\n')\n",
    "    configFile.write('const string output_folder = \\\"'   + str(outputFolder) + '\\\";\\n')\n",
    "    configFile.write('\\n')\n",
    "    configFile.write('const int  Dimension = '           + str(dimension)    + ';\\n')\n",
    "    configFile.write('const long     Nrays = '           + str(nrays)        + ';\\n')\n",
    "    configFile.write('const long    ncells = '           + str(ncells)       + ';\\n')\n",
    "    configFile.write('const int      nspec = '           + str(nspec)        + ';\\n')"
   ]
  },
  {
   "cell_type": "code",
   "execution_count": 10,
   "metadata": {
    "collapsed": false
   },
   "outputs": [
    {
     "name": "stdout",
     "output_type": "stream",
     "text": [
      "lineData.py   \u001b[0m\u001b[01;34m__pycache__\u001b[0m/       setupFunctions.pyc   setup.py\r\n",
      "lineData.pyc  setupFunctions.py  SetupNotebook.ipynb  \u001b[01;34mtestSetup\u001b[0m/\r\n"
     ]
    }
   ],
   "source": []
  },
  {
   "cell_type": "code",
   "execution_count": 12,
   "metadata": {
    "collapsed": true
   },
   "outputs": [],
   "source": [
    "mkdir testSetup/output"
   ]
  },
  {
   "cell_type": "code",
   "execution_count": null,
   "metadata": {
    "collapsed": true
   },
   "outputs": [],
   "source": []
  }
 ],
 "metadata": {
  "kernelspec": {
   "display_name": "Python 3",
   "language": "python",
   "name": "python3"
  },
  "language_info": {
   "codemirror_mode": {
    "name": "ipython",
    "version": 3
   },
   "file_extension": ".py",
   "mimetype": "text/x-python",
   "name": "python",
   "nbconvert_exporter": "python",
   "pygments_lexer": "ipython3",
   "version": "3.6.3"
  }
 },
 "nbformat": 4,
 "nbformat_minor": 2
}

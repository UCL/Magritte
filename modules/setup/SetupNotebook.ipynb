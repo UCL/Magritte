{
 "cells": [
  {
   "cell_type": "code",
   "execution_count": 108,
   "metadata": {
    "collapsed": false
   },
   "outputs": [],
   "source": [
    "import os\n",
    "import time\n",
    "import shutil\n",
    "import setup\n",
    "import subprocess"
   ]
  },
  {
   "cell_type": "code",
   "execution_count": 109,
   "metadata": {
    "collapsed": true
   },
   "outputs": [],
   "source": [
    "def create_input (inputFolder):\n",
    "    sourceFolder = '/home/frederik/Dropbox/Astro/MagritteProjects/test1/test_grid/'\n",
    "    shutil.copytree(sourceFolder, inputFolder)"
   ]
  },
  {
   "cell_type": "code",
   "execution_count": 110,
   "metadata": {
    "collapsed": false
   },
   "outputs": [
    {
     "name": "stdout",
     "output_type": "stream",
     "text": [
      "Project folder already exists!\n"
     ]
    }
   ],
   "source": [
    "projectFolder = '/home/frederik/Dropbox/Astro/MagritteProjects/test1/'\n",
    "if not os.path.isdir(projectFolder):\n",
    "    os.mkdir(projectFolder)\n",
    "else:\n",
    "    print('Project folder already exists!')\n",
    "\n",
    "dateStamp = time.strftime(\"%y-%m-%d_%H:%M:%S\", time.gmtime())\n",
    "\n",
    "test = True\n",
    "\n",
    "if test:\n",
    "    runFolder = projectFolder + 'test_' + dateStamp + '/'\n",
    "else:\n",
    "    runFolder = projectFolder + dateStamp + '/'\n",
    "os.mkdir(runFolder)\n",
    "\n",
    "inputFolder = runFolder + 'input/'\n",
    "#os.mkdir(inputFolder)\n",
    "create_input(inputFolder)\n",
    "\n",
    "outputFolder = runFolder + 'output/'\n",
    "os.mkdir(outputFolder)\n",
    "\n",
    "MagritteFolder = os.getcwd() + '/../RadiativeTransfer/'\n",
    "\n",
    "dimension = 3\n",
    "ncells    = 5**3\n",
    "nrays     = 12\n",
    "nspec     = 5\n",
    "\n",
    "dataFormat = 'LAMDA'"
   ]
  },
  {
   "cell_type": "code",
   "execution_count": 112,
   "metadata": {
    "collapsed": false
   },
   "outputs": [
    {
     "data": {
      "text/plain": [
       "0"
      ]
     },
     "execution_count": 112,
     "metadata": {},
     "output_type": "execute_result"
    }
   ],
   "source": [
    "# Write configure.hpp file\n",
    "with open(MagritteFolder + 'src/configure.hpp', 'w') as configFile:\n",
    "    configFile.write('#include <string>\\n')\n",
    "    configFile.write('using namespace std;\\n')\n",
    "    configFile.write('\\n')\n",
    "    configFile.write('const string Magritte_folder = \\\"' + str(MagritteFolder)  + '\\\";\\n')\n",
    "    configFile.write('\\n')\n",
    "    configFile.write('const string  input_folder = \\\"'   + str(inputFolder)  + '\\\";\\n')\n",
    "    configFile.write('const string output_folder = \\\"'   + str(outputFolder) + '\\\";\\n')\n",
    "    configFile.write('\\n')\n",
    "    configFile.write('const int  Dimension = '           + str(dimension)    + ';\\n')\n",
    "    configFile.write('const long     Nrays = '           + str(nrays)        + ';\\n')\n",
    "    configFile.write('const long    Ncells = '           + str(ncells)       + ';\\n')\n",
    "    configFile.write('const int      Nspec = '           + str(nspec)        + ';\\n')\n",
    "\n",
    "    \n",
    "# Write linedata_configure.hpp file\n",
    "subprocess.call(['python ' + MagritteFolder + '../setup/setup.py ' + inputFolder], shell=True)"
   ]
  },
  {
   "cell_type": "code",
   "execution_count": 10,
   "metadata": {
    "collapsed": false
   },
   "outputs": [
    {
     "name": "stdout",
     "output_type": "stream",
     "text": [
      "lineData.py   \u001b[0m\u001b[01;34m__pycache__\u001b[0m/       setupFunctions.pyc   setup.py\r\n",
      "lineData.pyc  setupFunctions.py  SetupNotebook.ipynb  \u001b[01;34mtestSetup\u001b[0m/\r\n"
     ]
    }
   ],
   "source": []
  },
  {
   "cell_type": "code",
   "execution_count": 12,
   "metadata": {
    "collapsed": true
   },
   "outputs": [],
   "source": [
    "mkdir testSetup/output"
   ]
  },
  {
   "cell_type": "code",
   "execution_count": 84,
   "metadata": {
    "collapsed": false
   },
   "outputs": [
    {
     "name": "stdout",
     "output_type": "stream",
     "text": [
      "['16O.txt']\n"
     ]
    }
   ],
   "source": [
    "lineDataFolder = inputFolder + 'linedata/'\n",
    "print(os.listdir(lineDataFolder))"
   ]
  },
  {
   "cell_type": "code",
   "execution_count": null,
   "metadata": {
    "collapsed": true
   },
   "outputs": [],
   "source": []
  }
 ],
 "metadata": {
  "kernelspec": {
   "display_name": "Python 3",
   "language": "python",
   "name": "python3"
  },
  "language_info": {
   "codemirror_mode": {
    "name": "ipython",
    "version": 3
   },
   "file_extension": ".py",
   "mimetype": "text/x-python",
   "name": "python",
   "nbconvert_exporter": "python",
   "pygments_lexer": "ipython3",
   "version": "3.6.3"
  }
 },
 "nbformat": 4,
 "nbformat_minor": 2
}

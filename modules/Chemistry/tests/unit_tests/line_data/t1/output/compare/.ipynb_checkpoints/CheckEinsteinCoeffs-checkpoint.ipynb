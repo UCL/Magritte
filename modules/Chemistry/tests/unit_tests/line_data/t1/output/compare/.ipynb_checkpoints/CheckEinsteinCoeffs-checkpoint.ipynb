{
 "cells": [
  {
   "cell_type": "markdown",
   "metadata": {},
   "source": [
    "Add Magritte folder to python path."
   ]
  },
  {
   "cell_type": "code",
   "execution_count": 1,
   "metadata": {},
   "outputs": [],
   "source": [
    "import sys\n",
    "sys.path.insert(0, '/home/frederik/Dropbox/Astro/Magritte/pyIO')"
   ]
  },
  {
   "cell_type": "markdown",
   "metadata": {},
   "source": [
    "Import modules and use `MagritteIO` as you would in `piIO`."
   ]
  },
  {
   "cell_type": "code",
   "execution_count": 2,
   "metadata": {},
   "outputs": [],
   "source": [
    "import numpy as np\n",
    "import pylab as plt\n",
    "import MagritteIO as mio\n",
    "\n",
    "% matplotlib inline"
   ]
  },
  {
   "cell_type": "code",
   "execution_count": 3,
   "metadata": {
    "collapsed": true
   },
   "outputs": [],
   "source": [
    "outputDirectory = mio.outputDirectory()   # current output directory"
   ]
  },
  {
   "cell_type": "code",
   "execution_count": 11,
   "metadata": {},
   "outputs": [],
   "source": [
    "C_CO_ref = np.loadtxt('Einstein_C_CO_3D-PDR.txt')\n",
    "B_CO_ref = np.loadtxt('Einstein_B_CO_3D-PDR.txt')\n",
    "A_CO_ref = np.loadtxt('Einstein_A_CO_3D-PDR.txt')"
   ]
  },
  {
   "cell_type": "code",
   "execution_count": 5,
   "metadata": {},
   "outputs": [],
   "source": [
    "C_CO = np.loadtxt(outputDirectory+'Einstein_C_CO.txt')\n",
    "B_CO = np.loadtxt(outputDirectory+'Einstein_B_CO.txt')\n",
    "C_CO = np.loadtxt(outputDirectory+'Einstein_A_CO.txt')"
   ]
  },
  {
   "cell_type": "code",
   "execution_count": 6,
   "metadata": {},
   "outputs": [
    {
     "data": {
      "text/plain": [
       "array([[  0.00000000e+00,   1.58859200e-11,   1.92778300e-11, ...,\n",
       "          7.09473700e-66,   1.78205700e-68,   3.85008800e-71],\n",
       "       [  6.15942000e-12,   0.00000000e+00,   1.38548600e-11, ...,\n",
       "          1.25462500e-65,   3.14597700e-68,   6.78362600e-71],\n",
       "       [  6.06170400e-12,   1.12485100e-11,   0.00000000e+00, ...,\n",
       "          3.23569200e-65,   8.09792300e-68,   1.74146700e-70],\n",
       "       ..., \n",
       "       [  2.45297200e-23,   1.13295100e-22,   3.69229400e-22, ...,\n",
       "          0.00000000e+00,   9.26415700e-14,   9.00310600e-17],\n",
       "       [  1.25119600e-23,   5.76943300e-23,   1.87656200e-22, ...,\n",
       "          2.45514000e-11,   0.00000000e+00,   7.94966700e-14],\n",
       "       [  6.30676900e-24,   2.90214600e-23,   9.41489300e-23, ...,\n",
       "          5.85715000e-12,   2.41631200e-11,   0.00000000e+00]])"
      ]
     },
     "execution_count": 6,
     "metadata": {},
     "output_type": "execute_result"
    }
   ],
   "source": [
    "C_CO"
   ]
  },
  {
   "cell_type": "code",
   "execution_count": 7,
   "metadata": {},
   "outputs": [
    {
     "name": "stdout",
     "output_type": "stream",
     "text": [
      "[[  0.00000000e+00  -1.10317314e-18  -4.41326289e-19 ...,   3.72601499e-73\n",
      "    2.64161997e-75  -1.99227787e-79]\n",
      " [  1.81905120e-19   0.00000000e+00  -2.11223571e-18 ...,  -4.75099106e-72\n",
      "   -4.54589249e-75  -4.57464230e-78]\n",
      " [ -4.38316198e-19  -2.50632732e-18   0.00000000e+00 ...,   2.66103492e-72\n",
      "    6.21895244e-76  -9.65169500e-78]\n",
      " ..., \n",
      " [ -1.52186053e-30  -8.46329580e-30   3.27133369e-29 ...,   0.00000000e+00\n",
      "    2.29387650e-21  -4.81319760e-24]\n",
      " [  2.42616420e-31   1.63513499e-30   2.81783992e-29 ...,  -4.73879552e-18\n",
      "    0.00000000e+00   4.67437259e-21]\n",
      " [ -2.26560844e-31  -3.68285486e-30   4.73413590e-30 ...,  -1.68212507e-19\n",
      "   -5.68283243e-19   0.00000000e+00]]\n"
     ]
    }
   ],
   "source": [
    "print C_CO - C_CO_ref"
   ]
  },
  {
   "cell_type": "code",
   "execution_count": 8,
   "metadata": {},
   "outputs": [
    {
     "name": "stderr",
     "output_type": "stream",
     "text": [
      "/usr/lib/anaconda2/lib/python2.7/site-packages/ipykernel_launcher.py:1: RuntimeWarning: invalid value encountered in divide\n",
      "  \"\"\"Entry point for launching an IPython kernel.\n"
     ]
    },
    {
     "data": {
      "text/plain": [
       "array([[             nan,   3.47217253e-08,   1.14464720e-08, ...,\n",
       "         -2.62590078e-08,  -7.41171625e-08,   2.58731472e-09],\n",
       "       [ -1.47664165e-08,              nan,   7.62272426e-08, ...,\n",
       "          1.89339052e-07,   7.22492911e-08,   3.37182662e-08],\n",
       "       [  3.61545352e-08,   1.11407068e-07,              nan, ...,\n",
       "         -4.11200298e-08,  -3.83984416e-09,   2.77113914e-08],\n",
       "       ..., \n",
       "       [  3.10207471e-08,   3.73506687e-08,  -4.42994766e-08, ...,\n",
       "                     nan,  -1.23803846e-08,   2.67307609e-08],\n",
       "       [ -9.69538034e-09,  -1.41706734e-08,  -7.50798570e-08, ...,\n",
       "          9.65076342e-08,              nan,  -2.93998021e-08],\n",
       "       [  1.79617202e-08,   6.34505402e-08,  -2.51417409e-08, ...,\n",
       "          1.43595866e-08,   1.17593100e-08,              nan]])"
      ]
     },
     "execution_count": 8,
     "metadata": {},
     "output_type": "execute_result"
    }
   ],
   "source": [
    "(C_CO_ref-C_CO)/(C_CO_ref+C_CO)"
   ]
  },
  {
   "cell_type": "code",
   "execution_count": 9,
   "metadata": {},
   "outputs": [
    {
     "name": "stderr",
     "output_type": "stream",
     "text": [
      "/usr/lib/anaconda2/lib/python2.7/site-packages/ipykernel_launcher.py:1: RuntimeWarning: invalid value encountered in divide\n",
      "  \"\"\"Entry point for launching an IPython kernel.\n"
     ]
    },
    {
     "data": {
      "text/plain": [
       "<matplotlib.colorbar.Colorbar at 0x7f2ccc8b9510>"
      ]
     },
     "execution_count": 9,
     "metadata": {},
     "output_type": "execute_result"
    },
    {
     "data": {
      "image/png": "[encoded data removed]",
      "text/plain": [
       "<matplotlib.figure.Figure at 0x7f2ccfce6350>"
      ]
     },
     "metadata": {},
     "output_type": "display_data"
    }
   ],
   "source": [
    "plt.imshow((C_CO_ref-C_CO)/(C_CO_ref+C_CO))\n",
    "plt.colorbar()"
   ]
  },
  {
   "cell_type": "code",
   "execution_count": 10,
   "metadata": {},
   "outputs": [
    {
     "data": {
      "text/plain": [
       "<matplotlib.colorbar.Colorbar at 0x7f2ccc6b8a90>"
      ]
     },
     "execution_count": 10,
     "metadata": {},
     "output_type": "execute_result"
    },
    {
     "data": {
      "image/png": "[encoded data removed]",
      "text/plain": [
       "<matplotlib.figure.Figure at 0x7f2ccc872490>"
      ]
     },
     "metadata": {},
     "output_type": "display_data"
    }
   ],
   "source": [
    "plt.imshow(C_CO)\n",
    "plt.colorbar()"
   ]
  },
  {
   "cell_type": "code",
   "execution_count": null,
   "metadata": {
    "collapsed": true
   },
   "outputs": [],
   "source": []
  }
 ],
 "metadata": {
  "kernelspec": {
   "display_name": "Python 2",
   "language": "python",
   "name": "python2"
  },
  "language_info": {
   "codemirror_mode": {
    "name": "ipython",
    "version": 2
   },
   "file_extension": ".py",
   "mimetype": "text/x-python",
   "name": "python",
   "nbconvert_exporter": "python",
   "pygments_lexer": "ipython2",
   "version": "2.7.13"
  }
 },
 "nbformat": 4,
 "nbformat_minor": 2
}

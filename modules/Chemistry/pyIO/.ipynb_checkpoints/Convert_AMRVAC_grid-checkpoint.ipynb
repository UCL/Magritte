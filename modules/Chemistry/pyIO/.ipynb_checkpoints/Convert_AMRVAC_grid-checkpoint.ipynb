{
 "cells": [
  {
   "cell_type": "code",
   "execution_count": 1,
   "metadata": {
    "collapsed": true
   },
   "outputs": [],
   "source": [
    "import vtk\n",
    "import numpy as np\n",
    "\n",
    "from vtk.util.numpy_support import vtk_to_numpy\n",
    "from scipy.spatial          import Delaunay"
   ]
  },
  {
   "cell_type": "code",
   "execution_count": 2,
   "metadata": {
    "collapsed": true
   },
   "outputs": [],
   "source": [
    "# ! First convert to .vtu\n",
    "fileName = 'Aori_0001.vtu'"
   ]
  },
  {
   "cell_type": "code",
   "execution_count": 3,
   "metadata": {
    "collapsed": false
   },
   "outputs": [],
   "source": [
    "# Extract the grid data\n",
    "\n",
    "reader = vtk.vtkXMLUnstructuredGridReader()\n",
    "reader.SetFileName(fileName)\n",
    "reader.Update()\n",
    "grid = reader.GetOutput()\n",
    "\n",
    "ncells    = grid.GetNumberOfCells()   # Number of grid points\n",
    "pointData = grid.GetPointData()\n",
    "cellData  = grid.GetCellData()\n",
    "\n",
    "x = [grid.GetPoint(p)[0] for p in range(ncells)]\n",
    "y = [grid.GetPoint(p)[1] for p in range(ncells)]\n",
    "z = [grid.GetPoint(p)[2] for p in range(ncells)]\n",
    "\n",
    "nArrays = cellData.GetNumberOfArrays()\n",
    "\n",
    "for i in range(nArrays):\n",
    "    array  = cellData.GetArray(i)\n",
    "    name   = array.GetName()\n",
    "    if name == 'H2_density':\n",
    "        density         = vtk_to_numpy(array)\n",
    "    if name == 'Mol_density':\n",
    "        abundance       = vtk_to_numpy(array)\n",
    "    if name == 'Gas_temperature':\n",
    "        temperature_gas = vtk_to_numpy(array)\n",
    "    if name == 'velocity':\n",
    "        vx, vy, vz      = vtk_to_numpy(array).T\n",
    "    print(name)"
   ]
  },
  {
   "cell_type": "code",
   "execution_count": 32,
   "metadata": {
    "collapsed": false
   },
   "outputs": [
    {
     "name": "stdout",
     "output_type": "stream",
     "text": [
      "26\n"
     ]
    }
   ],
   "source": [
    "# Create nearest neighbors list\n",
    "\n",
    "points = [[x[i], y[i], z[i]] for i in range(ncells)]\n",
    "\n",
    "# Lime points are Voronoi cell centers = Delaunay vertices\n",
    "# Neighboring Delaunay vertices = neighboring Voronoi cells\n",
    "\n",
    "delaunay = Delaunay(points)\n",
    "(indptr,indices) = delaunay.vertex_neighbor_vertices\n",
    "\n",
    "neighbors  = [indices[indptr[k]:indptr[k+1]] for k in range(ncells)]\n",
    "nNeighbors = [len(neighbors[i]) for i in range(ncells)]\n",
    "\n",
    "maxNneighbors = max(nNeighbors)\n",
    "\n",
    "\n",
    "\n",
    "print(maxNneighbors)"
   ]
  },
  {
   "cell_type": "code",
   "execution_count": 54,
   "metadata": {
    "collapsed": false
   },
   "outputs": [],
   "source": [
    "# Write the new grid data\n",
    "\n",
    "zeros = np.zeros(ncells)\n",
    "ones  = np.ones(ncells)\n",
    "\n",
    "txtgrid = np.stack((x, y, z, vx, vy, vz),                        axis=1)\n",
    "txtabun = np.stack((zeros, abundance, density, abundance, ones), axis=1)\n",
    "\n",
    "np.savetxt('grid.txt',        txtgrid,         fmt='%lE\\t%lE\\t%lE\\t%lE\\t%lE\\t%lE')\n",
    "np.savetxt('neighbor.txt',    neighbors)\n",
    "np.savetxt('abundance.txt',   txtabun,         fmt='%lE\\t%lE\\t%lE\\t%lE\\t%lE')\n",
    "np.savetxt('temperature.txt', temperature_gas, fmt='%lE')"
   ]
  },
  {
   "cell_type": "code",
   "execution_count": 56,
   "metadata": {
    "collapsed": false
   },
   "outputs": [],
   "source": []
  }
 ],
 "metadata": {
  "kernelspec": {
   "display_name": "Python 3",
   "language": "python",
   "name": "python3"
  },
  "language_info": {
   "codemirror_mode": {
    "name": "ipython",
    "version": 3
   },
   "file_extension": ".py",
   "mimetype": "text/x-python",
   "name": "python",
   "nbconvert_exporter": "python",
   "pygments_lexer": "ipython3",
   "version": "3.6.3"
  }
 },
 "nbformat": 4,
 "nbformat_minor": 2
}

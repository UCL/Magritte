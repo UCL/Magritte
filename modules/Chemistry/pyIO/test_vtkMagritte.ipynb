{
 "cells": [
  {
   "cell_type": "code",
   "execution_count": 1,
   "metadata": {
    "collapsed": true
   },
   "outputs": [],
   "source": [
    "import vtkMagritte as vtkm   # Magritte vtk IO module"
   ]
  },
  {
   "cell_type": "code",
   "execution_count": 2,
   "metadata": {
    "collapsed": false
   },
   "outputs": [],
   "source": [
    "grid = vtkm.read_grid('Aori_0001.vtu')"
   ]
  },
  {
   "cell_type": "code",
   "execution_count": 3,
   "metadata": {
    "collapsed": false
   },
   "outputs": [],
   "source": [
    "vtkm.add_neighbor_data(grid)"
   ]
  },
  {
   "cell_type": "code",
   "execution_count": 4,
   "metadata": {
    "collapsed": true
   },
   "outputs": [],
   "source": [
    "vtkm.write_grid(grid)"
   ]
  },
  {
   "cell_type": "code",
   "execution_count": 6,
   "metadata": {
    "collapsed": false
   },
   "outputs": [
    {
     "data": {
      "text/plain": [
       "[0, 1, 2, 40, 41, 42, 20, 22]"
      ]
     },
     "execution_count": 6,
     "metadata": {},
     "output_type": "execute_result"
    }
   ],
   "source": [
    "vtkm.get_neighbors(grid,21)"
   ]
  },
  {
   "cell_type": "code",
   "execution_count": 7,
   "metadata": {
    "collapsed": true
   },
   "outputs": [],
   "source": [
    "import vtk"
   ]
  },
  {
   "cell_type": "code",
   "execution_count": 16,
   "metadata": {
    "collapsed": true
   },
   "outputs": [],
   "source": [
    "fileName = 'Aori_0001.vtu'\n",
    "reader = vtk.vtkXMLUnstructuredGridReader()\n",
    "reader.SetFileName(fileName)\n",
    "reader.Update()\n",
    "grid = reader.GetOutput()\n",
    "\n",
    "pointData = grid.GetPointData()"
   ]
  },
  {
   "cell_type": "code",
   "execution_count": 15,
   "metadata": {
    "collapsed": false
   },
   "outputs": [
    {
     "name": "stdout",
     "output_type": "stream",
     "text": [
      "19\n",
      "other cells 18\n",
      "20\n",
      "40\n",
      "other cells 18\n",
      "other cells 38\n",
      "other cells 39\n",
      "41\n",
      "other cells 39\n",
      "[18, 18, 38, 39, 39]\n"
     ]
    }
   ],
   "source": [
    "cellNr = 19\n",
    "neighbors = []\n",
    "# Get the points surrounding the cell with nr cellNr\n",
    "surroundingPoints = vtk.vtkIdList()\n",
    "grid.GetCellPoints(cellNr, surroundingPoints)\n",
    "# For each of the surrounding points\n",
    "for p in range(surroundingPoints.GetNumberOfIds()):\n",
    "    # Extract one of the surrounding points (and put in vtkIdList)\n",
    "    oneSurroundingPoint = vtk.vtkIdList()\n",
    "    oneSurroundingPoint.SetNumberOfIds(1)\n",
    "    oneSurroundingPoint.SetId(0,surroundingPoints.GetId(p))\n",
    "    print(surroundingPoints.GetId(p))\n",
    "    # Find other cells surrounding that one point\n",
    "    otherCellsAroundPoint = vtk.vtkIdList()\n",
    "    grid.GetCellNeighbors(cellNr, oneSurroundingPoint, otherCellsAroundPoint)\n",
    "    nOtherCells = otherCellsAroundPoint.GetNumberOfIds()\n",
    "    # Put the Id's of these cells in the neighbors list\n",
    "    for n in range(nOtherCells):\n",
    "        neighbors.append(otherCellsAroundPoint.GetId(n))\n",
    "        print('other cells ' + str(otherCellsAroundPoint.GetId(n)))\n",
    "# Remove duplicates\n",
    "# neighbors = list(set(neighbors))\n",
    "# print(surroundingPoints)\n",
    "print(neighbors)"
   ]
  },
  {
   "cell_type": "code",
   "execution_count": 19,
   "metadata": {
    "collapsed": false
   },
   "outputs": [],
   "source": [
    "a = grid.GetPoint(20)\n",
    "b = grid.GetPoint(441)"
   ]
  },
  {
   "cell_type": "code",
   "execution_count": 21,
   "metadata": {
    "collapsed": false
   },
   "outputs": [
    {
     "data": {
      "text/plain": [
       "True"
      ]
     },
     "execution_count": 21,
     "metadata": {},
     "output_type": "execute_result"
    }
   ],
   "source": [
    "a == b"
   ]
  },
  {
   "cell_type": "code",
   "execution_count": null,
   "metadata": {
    "collapsed": false
   },
   "outputs": [],
   "source": [
    "# npoints = grid.GetNumberOfPoints()\n",
    "\n",
    "# duplicates = [ [] for _ in range(npoints) ]\n",
    "\n",
    "# for p in range(npoints):\n",
    "#     for q in range(npoints):\n",
    "#         if grid.GetPoint(p) == grid.GetPoint(q):\n",
    "#             duplicates[p].append(q)"
   ]
  },
  {
   "cell_type": "code",
   "execution_count": null,
   "metadata": {
    "collapsed": true
   },
   "outputs": [],
   "source": []
  }
 ],
 "metadata": {
  "kernelspec": {
   "display_name": "Python 3",
   "language": "python",
   "name": "python3"
  },
  "language_info": {
   "codemirror_mode": {
    "name": "ipython",
    "version": 3
   },
   "file_extension": ".py",
   "mimetype": "text/x-python",
   "name": "python",
   "nbconvert_exporter": "python",
   "pygments_lexer": "ipython3",
   "version": "3.6.3"
  }
 },
 "nbformat": 4,
 "nbformat_minor": 2
}
